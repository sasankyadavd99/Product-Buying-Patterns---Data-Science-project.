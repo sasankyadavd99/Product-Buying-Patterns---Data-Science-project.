{
 "cells": [
  {
   "cell_type": "code",
   "execution_count": 1,
   "id": "0f8137a8",
   "metadata": {},
   "outputs": [],
   "source": [
    "import pandas as pd\n",
    "import numpy as np\n",
    "import matplotlib.pyplot as plt\n",
    "import matplotlib.dates as mdates\n",
    "import seaborn as sns\n",
    "import statsmodels.api as smf\n",
    "\n",
    "from sklearn.model_selection import train_test_split, cross_val_score\n",
    "from sklearn.preprocessing import LabelEncoder, StandardScaler\n",
    "from sklearn.metrics import classification_report, confusion_matrix, accuracy_score, silhouette_score, mean_squared_error, r2_score\n",
    "\n",
    "from sklearn import datasets, linear_model\n",
    "from sklearn.linear_model import LogisticRegression\n",
    "from sklearn.neighbors import KNeighborsClassifier\n",
    "from sklearn.tree import DecisionTreeClassifier, DecisionTreeRegressor\n",
    "from sklearn.ensemble import GradientBoostingClassifier, RandomForestClassifier\n",
    "from sklearn import svm\n",
    "from sklearn.neural_network import MLPClassifier"
   ]
  },
  {
   "cell_type": "code",
   "execution_count": 37,
   "id": "87323328",
   "metadata": {},
   "outputs": [
    {
     "name": "stderr",
     "output_type": "stream",
     "text": [
      "C:\\Users\\rsaga\\AppData\\Local\\Temp\\ipykernel_107260\\1552782323.py:1: DtypeWarning:\n",
      "\n",
      "Columns (9) have mixed types. Specify dtype option on import or set low_memory=False.\n",
      "\n"
     ]
    }
   ],
   "source": [
    "eShop2022 = pd.read_csv('D:/Rahul/NEU-MPS_Analytics/6] Spring24/Capstone/Sponsor Data/2022_eShop.csv')\n",
    "eShop2023 = pd.read_csv('D:/Rahul/NEU-MPS_Analytics/6] Spring24/Capstone/Sponsor Data/2023_eShop.csv')\n",
    "eShop2024 = pd.read_csv('D:/Rahul/NEU-MPS_Analytics/6] Spring24/Capstone/Sponsor Data/2024_eShop.csv')\n",
    "\n",
    "Non_eShop2022 = pd.read_csv('D:/Rahul/NEU-MPS_Analytics/6] Spring24/Capstone/Sponsor Data/2022_non-eShop.csv')\n",
    "Non_eShop2023 = pd.read_csv('D:/Rahul/NEU-MPS_Analytics/6] Spring24/Capstone/Sponsor Data/2023_non-eShop.csv')\n",
    "Non_eShop2024 = pd.read_csv('D:/Rahul/NEU-MPS_Analytics/6] Spring24/Capstone/Sponsor Data/2024_non-eShop.csv')"
   ]
  },
  {
   "cell_type": "code",
   "execution_count": 47,
   "id": "31bbe6af",
   "metadata": {},
   "outputs": [
    {
     "data": {
      "text/html": [
       "<div>\n",
       "<style scoped>\n",
       "    .dataframe tbody tr th:only-of-type {\n",
       "        vertical-align: middle;\n",
       "    }\n",
       "\n",
       "    .dataframe tbody tr th {\n",
       "        vertical-align: top;\n",
       "    }\n",
       "\n",
       "    .dataframe thead th {\n",
       "        text-align: right;\n",
       "    }\n",
       "</style>\n",
       "<table border=\"1\" class=\"dataframe\">\n",
       "  <thead>\n",
       "    <tr style=\"text-align: right;\">\n",
       "      <th></th>\n",
       "      <th>order_date</th>\n",
       "      <th>order_number</th>\n",
       "      <th>material_number</th>\n",
       "      <th>order_material_net_value</th>\n",
       "      <th>sales_channel</th>\n",
       "      <th>PRH1</th>\n",
       "      <th>PRH4</th>\n",
       "      <th>customer_group</th>\n",
       "      <th>customer_number</th>\n",
       "      <th>region</th>\n",
       "      <th>DSO_Ind</th>\n",
       "    </tr>\n",
       "  </thead>\n",
       "  <tbody>\n",
       "    <tr>\n",
       "      <th>0</th>\n",
       "      <td>2022-05-12</td>\n",
       "      <td>112140438</td>\n",
       "      <td>034.053V4</td>\n",
       "      <td>40.30</td>\n",
       "      <td>eShop</td>\n",
       "      <td>Implant Solutions</td>\n",
       "      <td>Instruments, Cases + Others</td>\n",
       "      <td>University</td>\n",
       "      <td>30303430353030353632</td>\n",
       "      <td>NaN</td>\n",
       "      <td>Non-DSO</td>\n",
       "    </tr>\n",
       "    <tr>\n",
       "      <th>1</th>\n",
       "      <td>2022-11-28</td>\n",
       "      <td>112656875</td>\n",
       "      <td>109.945</td>\n",
       "      <td>1559.51</td>\n",
       "      <td>eShop</td>\n",
       "      <td>Implant Solutions</td>\n",
       "      <td>BLAT Ti Implants, standard</td>\n",
       "      <td>General dentist</td>\n",
       "      <td>30303430363032353236</td>\n",
       "      <td>NaN</td>\n",
       "      <td>DSO</td>\n",
       "    </tr>\n",
       "    <tr>\n",
       "      <th>2</th>\n",
       "      <td>2022-01-31</td>\n",
       "      <td>111858749</td>\n",
       "      <td>118.357</td>\n",
       "      <td>211.11</td>\n",
       "      <td>eShop</td>\n",
       "      <td>Restorative Solutions</td>\n",
       "      <td>Other Prosthetics</td>\n",
       "      <td>Laboratory</td>\n",
       "      <td>30303430353039373330</td>\n",
       "      <td>NaN</td>\n",
       "      <td>Non-DSO</td>\n",
       "    </tr>\n",
       "    <tr>\n",
       "      <th>3</th>\n",
       "      <td>2022-02-28</td>\n",
       "      <td>111935927</td>\n",
       "      <td>024.0008S</td>\n",
       "      <td>39.19</td>\n",
       "      <td>eShop</td>\n",
       "      <td>Implant Solutions</td>\n",
       "      <td>BL Healing Surgical</td>\n",
       "      <td>Periodontist</td>\n",
       "      <td>30303430353239323337</td>\n",
       "      <td>NaN</td>\n",
       "      <td>Non-DSO</td>\n",
       "    </tr>\n",
       "    <tr>\n",
       "      <th>4</th>\n",
       "      <td>2022-02-01</td>\n",
       "      <td>111861821</td>\n",
       "      <td>025.2205</td>\n",
       "      <td>58.21</td>\n",
       "      <td>eShop</td>\n",
       "      <td>Restorative Solutions</td>\n",
       "      <td>Other Prosthetics</td>\n",
       "      <td>General dentist</td>\n",
       "      <td>30303430363233343333</td>\n",
       "      <td>NaN</td>\n",
       "      <td>Non-DSO</td>\n",
       "    </tr>\n",
       "  </tbody>\n",
       "</table>\n",
       "</div>"
      ],
      "text/plain": [
       "   order_date  order_number material_number  order_material_net_value  \\\n",
       "0  2022-05-12     112140438       034.053V4                     40.30   \n",
       "1  2022-11-28     112656875         109.945                   1559.51   \n",
       "2  2022-01-31     111858749         118.357                    211.11   \n",
       "3  2022-02-28     111935927       024.0008S                     39.19   \n",
       "4  2022-02-01     111861821        025.2205                     58.21   \n",
       "\n",
       "  sales_channel                   PRH1                         PRH4  \\\n",
       "0         eShop      Implant Solutions  Instruments, Cases + Others   \n",
       "1         eShop      Implant Solutions   BLAT Ti Implants, standard   \n",
       "2         eShop  Restorative Solutions            Other Prosthetics   \n",
       "3         eShop      Implant Solutions          BL Healing Surgical   \n",
       "4         eShop  Restorative Solutions            Other Prosthetics   \n",
       "\n",
       "    customer_group       customer_number region  DSO_Ind  \n",
       "0       University  30303430353030353632    NaN  Non-DSO  \n",
       "1  General dentist  30303430363032353236    NaN      DSO  \n",
       "2       Laboratory  30303430353039373330    NaN  Non-DSO  \n",
       "3     Periodontist  30303430353239323337    NaN  Non-DSO  \n",
       "4  General dentist  30303430363233343333    NaN  Non-DSO  "
      ]
     },
     "execution_count": 47,
     "metadata": {},
     "output_type": "execute_result"
    }
   ],
   "source": [
    "# Concat the 'df1', 'df2' and 'df3' dataframes and create single dataframe named as 'df'\n",
    "df = pd.concat([eShop2022,eShop2023,eShop2024,Non_eShop2022,Non_eShop2023,Non_eShop2024])\n",
    "df.head()"
   ]
  },
  {
   "cell_type": "markdown",
   "id": "216e144c",
   "metadata": {},
   "source": [
    "# Data Cleaning and Pre Processing:"
   ]
  },
  {
   "cell_type": "code",
   "execution_count": 48,
   "id": "d186cedc",
   "metadata": {},
   "outputs": [
    {
     "data": {
      "text/plain": [
       "order_date                   object\n",
       "order_number                  int64\n",
       "material_number              object\n",
       "order_material_net_value    float64\n",
       "sales_channel                object\n",
       "PRH1                         object\n",
       "PRH4                         object\n",
       "customer_group               object\n",
       "customer_number              object\n",
       "region                       object\n",
       "DSO_Ind                      object\n",
       "dtype: object"
      ]
     },
     "execution_count": 48,
     "metadata": {},
     "output_type": "execute_result"
    }
   ],
   "source": [
    "# Check for data types:\n",
    "df.dtypes"
   ]
  },
  {
   "cell_type": "code",
   "execution_count": 49,
   "id": "d78e3ce2",
   "metadata": {},
   "outputs": [
    {
     "name": "stdout",
     "output_type": "stream",
     "text": [
      "datetime64[ns]\n"
     ]
    }
   ],
   "source": [
    "# Correct Date Format:\n",
    "df['order_date'] = pd.to_datetime(df['order_date'], format='%Y-%m-%d')\n",
    "print(df['order_date'].dtype)"
   ]
  },
  {
   "cell_type": "code",
   "execution_count": 50,
   "id": "befa733c",
   "metadata": {},
   "outputs": [
    {
     "data": {
      "text/plain": [
       "order_date                        0\n",
       "order_number                      0\n",
       "material_number                   0\n",
       "order_material_net_value          0\n",
       "sales_channel                     0\n",
       "PRH1                              0\n",
       "PRH4                            219\n",
       "customer_group                21563\n",
       "customer_number                   0\n",
       "region                      1504522\n",
       "DSO_Ind                           0\n",
       "dtype: int64"
      ]
     },
     "execution_count": 50,
     "metadata": {},
     "output_type": "execute_result"
    }
   ],
   "source": [
    "# Detecting Missing Values\n",
    "df.isnull().sum()"
   ]
  },
  {
   "cell_type": "code",
   "execution_count": 51,
   "id": "c634370f",
   "metadata": {},
   "outputs": [],
   "source": [
    "# Drop Missing Values:\n",
    "df = df.dropna()"
   ]
  },
  {
   "cell_type": "markdown",
   "id": "0005452f",
   "metadata": {},
   "source": [
    "# Dashboard"
   ]
  },
  {
   "cell_type": "code",
   "execution_count": 57,
   "id": "590684fc",
   "metadata": {},
   "outputs": [
    {
     "data": {
      "text/html": [
       "\n",
       "        <iframe\n",
       "            width=\"100%\"\n",
       "            height=\"650\"\n",
       "            src=\"http://127.0.0.1:8050/\"\n",
       "            frameborder=\"0\"\n",
       "            allowfullscreen\n",
       "            \n",
       "        ></iframe>\n",
       "        "
      ],
      "text/plain": [
       "<IPython.lib.display.IFrame at 0x1b235997990>"
      ]
     },
     "metadata": {},
     "output_type": "display_data"
    }
   ],
   "source": [
    "import dash\n",
    "from dash import dcc, html\n",
    "import plotly.express as px\n",
    "import plotly.graph_objects as go\n",
    "\n",
    "# Top 10 Product Categories in PRH1 by Sales Channel\n",
    "top_prh1_categories = df['PRH1'].value_counts().nlargest(10).index\n",
    "filtered_df_prh1 = df[df['PRH1'].isin(top_prh1_categories)]\n",
    "grouped_data_prh1 = filtered_df_prh1.groupby(['sales_channel', 'PRH1']).size().reset_index(name='Frequency')\n",
    "grouped_data_prh1 = grouped_data_prh1.pivot(index='PRH1', columns='sales_channel', values='Frequency').fillna(0)\n",
    "grouped_data_prh1 = grouped_data_prh1.stack().reset_index(name='Frequency')\n",
    "\n",
    "category_comparison_fig = px.bar(grouped_data_prh1, x='PRH1', y='Frequency', color='sales_channel', barmode='group',\n",
    "                                 title='Comparison of Top 10 Product Categories in PRH1 by Sales Channel',\n",
    "                                 labels={'PRH1': 'Product Category', 'Frequency': 'Count'},\n",
    "                                 color_continuous_scale='Viridis')\n",
    "\n",
    "# Top 10 Product Sub-Categories in PRH4 by Sales Channel\n",
    "top_prh4_subcategories = df['PRH4'].value_counts().nlargest(10).index\n",
    "filtered_df_prh4 = df[df['PRH4'].isin(top_prh4_subcategories)]\n",
    "grouped_data_prh4 = filtered_df_prh4.groupby(['sales_channel', 'PRH4']).size().reset_index(name='Frequency')\n",
    "grouped_data_prh4 = grouped_data_prh4.pivot(index='PRH4', columns='sales_channel', values='Frequency').fillna(0)\n",
    "grouped_data_prh4 = grouped_data_prh4.stack().reset_index(name='Frequency')\n",
    "\n",
    "subcategory_comparison_fig = px.bar(grouped_data_prh4, x='PRH4', y='Frequency', color='sales_channel', barmode='group',\n",
    "                                    title='Comparison of Top 10 Product Sub-Categories in PRH4 by Sales Channel',\n",
    "                                    labels={'PRH4': 'Product Sub-Category', 'Frequency': 'Count'},\n",
    "                                    color_continuous_scale='Viridis')\n",
    "\n",
    "# Customer Group to Product Category (PRH1) Flow\n",
    "subset_df_prh1 = df[['customer_group', 'PRH1', 'order_material_net_value']]\n",
    "grouped_df_prh1 = subset_df_prh1.groupby(['customer_group', 'PRH1']).sum().reset_index()\n",
    "customer_groups_prh1 = grouped_df_prh1['customer_group'].unique().tolist()\n",
    "product_categories_prh1 = grouped_df_prh1['PRH1'].unique().tolist()\n",
    "labels_prh1 = customer_groups_prh1 + product_categories_prh1\n",
    "source_indices_prh1 = [labels_prh1.index(group) for group in grouped_df_prh1['customer_group']]\n",
    "target_indices_prh1 = [labels_prh1.index(category) for category in grouped_df_prh1['PRH1']]\n",
    "\n",
    "customer_category_sankey_fig = go.Figure(data=[go.Sankey(\n",
    "    node=dict(\n",
    "        pad=15,\n",
    "        thickness=20,\n",
    "        line=dict(color=\"black\", width=0.5),\n",
    "        label=labels_prh1,\n",
    "        color=\"blue\"\n",
    "    ),\n",
    "    link=dict(\n",
    "        source=source_indices_prh1,\n",
    "        target=target_indices_prh1,\n",
    "        value=grouped_df_prh1['order_material_net_value']\n",
    "    )\n",
    ")])\n",
    "\n",
    "customer_category_sankey_fig.update_layout(title_text=\"Customer Group to Product Category Flow\", font_size=10)\n",
    "\n",
    "# Customer Group to Product Sub-Category (PRH4) Flow\n",
    "subset_df_prh4 = df[['customer_group', 'PRH4', 'order_material_net_value']]\n",
    "grouped_df_prh4 = subset_df_prh4.groupby(['customer_group', 'PRH4']).sum().reset_index()\n",
    "customer_groups_prh4 = grouped_df_prh4['customer_group'].unique().tolist()\n",
    "product_categories_prh4 = grouped_df_prh4['PRH4'].unique().tolist()\n",
    "labels_prh4 = customer_groups_prh4 + product_categories_prh4\n",
    "source_indices_prh4 = [labels_prh4.index(group) for group in grouped_df_prh4['customer_group']]\n",
    "target_indices_prh4 = [labels_prh4.index(category) for category in grouped_df_prh4['PRH4']]\n",
    "\n",
    "customer_subcategory_sankey_fig = go.Figure(data=[go.Sankey(\n",
    "    node=dict(\n",
    "        pad=15,\n",
    "        thickness=20,\n",
    "        line=dict(color=\"black\", width=0.5),\n",
    "        label=labels_prh4,\n",
    "        color=\"blue\"\n",
    "    ),\n",
    "    link=dict(\n",
    "        source=source_indices_prh4,\n",
    "        target=target_indices_prh4,\n",
    "        value=grouped_df_prh4['order_material_net_value']\n",
    "    )\n",
    ")])\n",
    "\n",
    "customer_subcategory_sankey_fig.update_layout(title_text=\"Customer Group to Product Sub-Category Flow\", font_size=10)\n",
    "\n",
    "# Bubble Chart of Sales by Region and Product Category\n",
    "bubble_chart_data = df.groupby(['region', 'PRH1']).agg({'order_material_net_value': 'sum'}).reset_index()\n",
    "bubble_chart_fig = px.scatter(bubble_chart_data, x='PRH1', y='region', size='order_material_net_value', color='region',\n",
    "                              title='Sales by Region and Product Category',\n",
    "                              labels={'PRH1': 'Product Category', 'region': 'Region', 'order_material_net_value': 'Sales'})\n",
    "\n",
    "# Complex Pie Chart of Customer Groups\n",
    "top_customer_groups = df['customer_group'].value_counts().nlargest(5)\n",
    "other_groups = df['customer_group'].value_counts()[5:].sum()\n",
    "top_customer_groups['Other'] = other_groups\n",
    "pie_chart_fig = px.pie(values=top_customer_groups.values, names=top_customer_groups.index, title='Distribution of Top Customer Groups',\n",
    "                       color_discrete_sequence=px.colors.sequential.Viridis)\n",
    "\n",
    "app = dash.Dash(__name__)\n",
    "\n",
    "app.layout = html.Div([\n",
    "    html.Div([\n",
    "        dcc.Graph(figure=category_comparison_fig, id='category-comparison-graph'),\n",
    "        dcc.Graph(figure=subcategory_comparison_fig, id='subcategory-comparison-graph')\n",
    "    ], style={'display': 'flex', 'width': '100%'}),\n",
    "    html.Div([\n",
    "        dcc.Graph(figure=customer_category_sankey_fig, id='customer-category-sankey'),\n",
    "        dcc.Graph(figure=customer_subcategory_sankey_fig, id='customer-subcategory-sankey')\n",
    "    ], style={'display': 'flex', 'width': '100%'}),\n",
    "    html.Div([\n",
    "        dcc.Graph(figure=bubble_chart_fig, id='bubble-chart-graph'),\n",
    "        dcc.Graph(figure=pie_chart_fig, id='pie-chart-graph')\n",
    "    ], style={'display': 'flex', 'width': '100%'})\n",
    "])\n",
    "\n",
    "if __name__ == '__main__':\n",
    "    app.run_server(debug=True)\n"
   ]
  }
 ],
 "metadata": {
  "kernelspec": {
   "display_name": "Python 3 (ipykernel)",
   "language": "python",
   "name": "python3"
  },
  "language_info": {
   "codemirror_mode": {
    "name": "ipython",
    "version": 3
   },
   "file_extension": ".py",
   "mimetype": "text/x-python",
   "name": "python",
   "nbconvert_exporter": "python",
   "pygments_lexer": "ipython3",
   "version": "3.11.5"
  }
 },
 "nbformat": 4,
 "nbformat_minor": 5
}
