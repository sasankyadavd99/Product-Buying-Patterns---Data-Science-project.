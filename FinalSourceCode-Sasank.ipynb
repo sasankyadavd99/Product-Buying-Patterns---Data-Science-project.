{
 "cells": [
  {
   "cell_type": "code",
   "execution_count": 2,
   "metadata": {},
   "outputs": [
    {
     "name": "stdout",
     "output_type": "stream",
     "text": [
      "Combined DataFrame shape: (3167194, 13)\n",
      "  order_date  order_number material_number  order_material_net_value  \\\n",
      "0 2022-05-12     112140438       034.053V4                     40.30   \n",
      "1 2022-11-28     112656875         109.945                   1559.51   \n",
      "2 2022-01-31     111858749         118.357                    211.11   \n",
      "3 2022-02-28     111935927       024.0008S                     39.19   \n",
      "4 2022-02-01     111861821        025.2205                     58.21   \n",
      "\n",
      "  sales_channel                   PRH1                         PRH4  \\\n",
      "0         eShop      Implant Solutions  Instruments, Cases + Others   \n",
      "1         eShop      Implant Solutions   BLAT Ti Implants, standard   \n",
      "2         eShop  Restorative Solutions            Other Prosthetics   \n",
      "3         eShop      Implant Solutions          BL Healing Surgical   \n",
      "4         eShop  Restorative Solutions            Other Prosthetics   \n",
      "\n",
      "    customer_group       customer_number region  DSO_Ind  Year Sales_Channel  \n",
      "0       University  30303430353030353632    NaN  Non-DSO  2022         eShop  \n",
      "1  General dentist  30303430363032353236    NaN      DSO  2022         eShop  \n",
      "2       Laboratory  30303430353039373330    NaN  Non-DSO  2022         eShop  \n",
      "3     Periodontist  30303430353239323337    NaN  Non-DSO  2022         eShop  \n",
      "4  General dentist  30303430363233343333    NaN  Non-DSO  2022         eShop  \n",
      "Null counts in each column:\n",
      " order_date                        0\n",
      "order_number                      0\n",
      "material_number                   0\n",
      "order_material_net_value          0\n",
      "sales_channel                     0\n",
      "PRH1                              0\n",
      "PRH4                            219\n",
      "customer_group                21563\n",
      "customer_number                   0\n",
      "region                      1504522\n",
      "DSO_Ind                           0\n",
      "Year                              0\n",
      "Sales_Channel                     0\n",
      "dtype: int64\n"
     ]
    }
   ],
   "source": [
    "import pandas as pd\n",
    "\n",
    "# List of file paths and their attributes\n",
    "file_info = [\n",
    "    ('/Users/SASANKYADAV1/Desktop/CAPSTONE PROJECT/Sponsor Data/2022_eShop.csv','eShop'),\n",
    "    ('/Users/SASANKYADAV1/Desktop/CAPSTONE PROJECT/Sponsor Data/2022_non-eShop.csv', 'non-eShop'),\n",
    "    ('/Users/SASANKYADAV1/Desktop/CAPSTONE PROJECT/Sponsor Data/2023_eShop.csv', 'eShop'),\n",
    "    ('/Users/SASANKYADAV1/Desktop/CAPSTONE PROJECT/Sponsor Data/2023_non-eShop.csv', 'non-eShop'),\n",
    "    ('/Users/SASANKYADAV1/Desktop/CAPSTONE PROJECT/Sponsor Data/2024_eShop.csv', 'eShop'),\n",
    "    ('/Users/SASANKYADAV1/Desktop/CAPSTONE PROJECT/Sponsor Data/2024_non-eShop.csv', 'non-eShop')\n",
    "]\n",
    "\n",
    "# Initialize an empty list to store dataframes\n",
    "dataframes = []\n",
    "\n",
    "# Load each file, extract year from date, assign sales channel, and append to the list\n",
    "for path, channel in file_info:\n",
    "    df = pd.read_csv(path, low_memory=False)  # Use low_memory=False to handle large data\n",
    "    df['order_date'] = pd.to_datetime(df['order_date'])  # Convert date to datetime format\n",
    "    df['Year'] = df['order_date'].dt.year  # Extract year from the date\n",
    "    df['Sales_Channel'] = channel\n",
    "    dataframes.append(df)\n",
    "\n",
    "# Combine all DataFrames into one\n",
    "combined_df = pd.concat(dataframes, ignore_index=True)\n",
    "\n",
    "# Display the shape of the DataFrame and first few rows to verify\n",
    "print(\"Combined DataFrame shape:\", combined_df.shape)\n",
    "print(combined_df.head())\n",
    "\n",
    "# Check for null values in the DataFrame\n",
    "null_counts = combined_df.isnull().sum()\n",
    "print(\"Null counts in each column:\\n\", null_counts)\n"
   ]
  },
  {
   "cell_type": "code",
   "execution_count": 3,
   "metadata": {},
   "outputs": [
    {
     "name": "stdout",
     "output_type": "stream",
     "text": [
      "                          order_date  order_number  order_material_net_value  \\\n",
      "count                        3167194  3.167194e+06              3.167194e+06   \n",
      "mean   2023-03-13 08:12:31.791268352  1.994159e+09              4.188962e+02   \n",
      "min              2022-01-01 00:00:00  1.117802e+08             -1.251000e+01   \n",
      "25%              2022-08-17 00:00:00  1.133769e+08              7.389000e+01   \n",
      "50%              2023-03-20 00:00:00  3.022276e+09              1.924400e+02   \n",
      "75%              2023-10-10 00:00:00  3.025996e+09              4.420000e+02   \n",
      "max              2024-04-28 00:00:00  3.029658e+09              2.102800e+05   \n",
      "std                              NaN  1.392496e+09              9.907860e+02   \n",
      "\n",
      "               Year  \n",
      "count  3.167194e+06  \n",
      "mean   2.022753e+03  \n",
      "min    2.022000e+03  \n",
      "25%    2.022000e+03  \n",
      "50%    2.023000e+03  \n",
      "75%    2.023000e+03  \n",
      "max    2.024000e+03  \n",
      "std    7.048645e-01  \n"
     ]
    }
   ],
   "source": [
    "print(combined_df.describe())\n"
   ]
  },
  {
   "cell_type": "code",
   "execution_count": 4,
   "metadata": {},
   "outputs": [
    {
     "name": "stdout",
     "output_type": "stream",
     "text": [
      "customer_group\n",
      "General dentist         1583441\n",
      "Surgeon (gen./oral)      567844\n",
      "Periodontist             401009\n",
      "Laboratory               293920\n",
      "University               127829\n",
      "Prosthodontist            61644\n",
      "NOT MAPPED                37844\n",
      "Maxillofacial surg        22215\n",
      "Orthodontist              16105\n",
      "Hospital/Clinic           15173\n",
      "In-house Laboratory        8729\n",
      "Others                     7034\n",
      "Government/Military        1430\n",
      "Distributor/Reseller        621\n",
      "Staff                       604\n",
      "Denturist                    89\n",
      "Central services             54\n",
      "Institution                  38\n",
      "Employee                      8\n",
      "Name: count, dtype: int64\n"
     ]
    }
   ],
   "source": [
    "# as my first business question/prediction I want to know the count of customer groups.\n",
    "print(combined_df['customer_group'].value_counts())"
   ]
  },
  {
   "cell_type": "code",
   "execution_count": 5,
   "metadata": {},
   "outputs": [
    {
     "data": {
      "image/png": "[encoded data removed]",
      "text/plain": [
       "<Figure size 640x480 with 1 Axes>"
      ]
     },
     "metadata": {},
     "output_type": "display_data"
    }
   ],
   "source": [
    "import matplotlib.pyplot as plt\n",
    "\n",
    "# Calculate value counts for customer_group\n",
    "customer_group_counts = combined_df['customer_group'].value_counts()\n",
    "\n",
    "# Focus on the top 6 categories\n",
    "top_customer_groups = customer_group_counts.head(6)\n",
    "\n",
    "# Create a pie chart for the top 6 categories\n",
    "top_customer_groups.plot(kind='pie', autopct='%1.1f%%', startangle=90)\n",
    "plt.title('Proportion of Top 6 Customer Groups')\n",
    "plt.ylabel('')  # This removes the 'customer_group' label on the side\n",
    "plt.show()\n"
   ]
  },
  {
   "cell_type": "code",
   "execution_count": 6,
   "metadata": {},
   "outputs": [
    {
     "data": {
      "image/png": "[encoded data removed]",
      "text/plain": [
       "<Figure size 600x600 with 6 Axes>"
      ]
     },
     "metadata": {},
     "output_type": "display_data"
    }
   ],
   "source": [
    "import seaborn as sns\n",
    "# Select a subset of columns if the dataset is very large, or use all numerical columns for smaller datasets\n",
    "numerical_columns = combined_df.select_dtypes(include=['float64', 'int64']).columns\n",
    "\n",
    "# Create a pair plot\n",
    "sns.pairplot(combined_df[numerical_columns], diag_kind='kde', plot_kws={'alpha': 0.6, 's': 80, 'edgecolor': 'k'}, height=3)\n",
    "plt.suptitle('Pairwise Relationships Among Numerical Variables', size=16, y=1.02)\n",
    "plt.show()\n"
   ]
  },
  {
   "cell_type": "code",
   "execution_count": 7,
   "metadata": {},
   "outputs": [
    {
     "data": {
      "application/vnd.plotly.v1+json": {
       "config": {
        "plotlyServerURL": "https://plot.ly"
       },
       "data": [
        {
         "alignmentgroup": "True",
         "hovertemplate": "Customer Group: %{y}<br>Total Order Material Net Value: $%{x}<extra></extra>",
         "legendgroup": "General dentist",
         "marker": {
          "color": "#636efa",
          "pattern": {
           "shape": ""
          }
         },
         "name": "General dentist",
         "offsetgroup": "General dentist",
         "orientation": "h",
         "showlegend": true,
         "text": [
          545478567.73
         ],
         "textposition": "auto",
         "type": "bar",
         "x": [
          545478567.73
         ],
         "xaxis": "x",
         "y": [
          "General dentist"
         ],
         "yaxis": "y"
        },
        {
         "alignmentgroup": "True",
         "hovertemplate": "Customer Group: %{y}<br>Total Order Material Net Value: $%{x}<extra></extra>",
         "legendgroup": "Surgeon (gen./oral)",
         "marker": {
          "color": "#EF553B",
          "pattern": {
           "shape": ""
          }
         },
         "name": "Surgeon (gen./oral)",
         "offsetgroup": "Surgeon (gen./oral)",
         "orientation": "h",
         "showlegend": true,
         "text": [
          328177916.74
         ],
         "textposition": "auto",
         "type": "bar",
         "x": [
          328177916.74
         ],
         "xaxis": "x",
         "y": [
          "Surgeon (gen./oral)"
         ],
         "yaxis": "y"
        },
        {
         "alignmentgroup": "True",
         "hovertemplate": "Customer Group: %{y}<br>Total Order Material Net Value: $%{x}<extra></extra>",
         "legendgroup": "Periodontist",
         "marker": {
          "color": "#00cc96",
          "pattern": {
           "shape": ""
          }
         },
         "name": "Periodontist",
         "offsetgroup": "Periodontist",
         "orientation": "h",
         "showlegend": true,
         "text": [
          235687839.84
         ],
         "textposition": "auto",
         "type": "bar",
         "x": [
          235687839.84
         ],
         "xaxis": "x",
         "y": [
          "Periodontist"
         ],
         "yaxis": "y"
        },
        {
         "alignmentgroup": "True",
         "hovertemplate": "Customer Group: %{y}<br>Total Order Material Net Value: $%{x}<extra></extra>",
         "legendgroup": "Laboratory",
         "marker": {
          "color": "#ab63fa",
          "pattern": {
           "shape": ""
          }
         },
         "name": "Laboratory",
         "offsetgroup": "Laboratory",
         "orientation": "h",
         "showlegend": true,
         "text": [
          98507240.77
         ],
         "textposition": "auto",
         "type": "bar",
         "x": [
          98507240.77
         ],
         "xaxis": "x",
         "y": [
          "Laboratory"
         ],
         "yaxis": "y"
        },
        {
         "alignmentgroup": "True",
         "hovertemplate": "Customer Group: %{y}<br>Total Order Material Net Value: $%{x}<extra></extra>",
         "legendgroup": "University",
         "marker": {
          "color": "#FFA15A",
          "pattern": {
           "shape": ""
          }
         },
         "name": "University",
         "offsetgroup": "University",
         "orientation": "h",
         "showlegend": true,
         "text": [
          43799552.9
         ],
         "textposition": "auto",
         "type": "bar",
         "x": [
          43799552.9
         ],
         "xaxis": "x",
         "y": [
          "University"
         ],
         "yaxis": "y"
        },
        {
         "alignmentgroup": "True",
         "hovertemplate": "Customer Group: %{y}<br>Total Order Material Net Value: $%{x}<extra></extra>",
         "legendgroup": "Prosthodontist",
         "marker": {
          "color": "#19d3f3",
          "pattern": {
           "shape": ""
          }
         },
         "name": "Prosthodontist",
         "offsetgroup": "Prosthodontist",
         "orientation": "h",
         "showlegend": true,
         "text": [
          23860883.27
         ],
         "textposition": "auto",
         "type": "bar",
         "x": [
          23860883.27
         ],
         "xaxis": "x",
         "y": [
          "Prosthodontist"
         ],
         "yaxis": "y"
        },
        {
         "alignmentgroup": "True",
         "hovertemplate": "Customer Group: %{y}<br>Total Order Material Net Value: $%{x}<extra></extra>",
         "legendgroup": "Maxillofacial surg",
         "marker": {
          "color": "#FF6692",
          "pattern": {
           "shape": ""
          }
         },
         "name": "Maxillofacial surg",
         "offsetgroup": "Maxillofacial surg",
         "orientation": "h",
         "showlegend": true,
         "text": [
          12509303.15
         ],
         "textposition": "auto",
         "type": "bar",
         "x": [
          12509303.15
         ],
         "xaxis": "x",
         "y": [
          "Maxillofacial surg"
         ],
         "yaxis": "y"
        },
        {
         "alignmentgroup": "True",
         "hovertemplate": "Customer Group: %{y}<br>Total Order Material Net Value: $%{x}<extra></extra>",
         "legendgroup": "NOT MAPPED",
         "marker": {
          "color": "#B6E880",
          "pattern": {
           "shape": ""
          }
         },
         "name": "NOT MAPPED",
         "offsetgroup": "NOT MAPPED",
         "orientation": "h",
         "showlegend": true,
         "text": [
          8901524.65
         ],
         "textposition": "auto",
         "type": "bar",
         "x": [
          8901524.65
         ],
         "xaxis": "x",
         "y": [
          "NOT MAPPED"
         ],
         "yaxis": "y"
        },
        {
         "alignmentgroup": "True",
         "hovertemplate": "Customer Group: %{y}<br>Total Order Material Net Value: $%{x}<extra></extra>",
         "legendgroup": "Orthodontist",
         "marker": {
          "color": "#FF97FF",
          "pattern": {
           "shape": ""
          }
         },
         "name": "Orthodontist",
         "offsetgroup": "Orthodontist",
         "orientation": "h",
         "showlegend": true,
         "text": [
          7308739.08
         ],
         "textposition": "auto",
         "type": "bar",
         "x": [
          7308739.08
         ],
         "xaxis": "x",
         "y": [
          "Orthodontist"
         ],
         "yaxis": "y"
        },
        {
         "alignmentgroup": "True",
         "hovertemplate": "Customer Group: %{y}<br>Total Order Material Net Value: $%{x}<extra></extra>",
         "legendgroup": "Hospital/Clinic",
         "marker": {
          "color": "#FECB52",
          "pattern": {
           "shape": ""
          }
         },
         "name": "Hospital/Clinic",
         "offsetgroup": "Hospital/Clinic",
         "orientation": "h",
         "showlegend": true,
         "text": [
          6334245.78
         ],
         "textposition": "auto",
         "type": "bar",
         "x": [
          6334245.78
         ],
         "xaxis": "x",
         "y": [
          "Hospital/Clinic"
         ],
         "yaxis": "y"
        }
       ],
       "layout": {
        "barmode": "relative",
        "coloraxis": {
         "showscale": false
        },
        "height": 500,
        "legend": {
         "title": {
          "text": "Customer Group"
         },
         "tracegroupgap": 0
        },
        "template": {
         "data": {
          "bar": [
           {
            "error_x": {
             "color": "#2a3f5f"
            },
            "error_y": {
             "color": "#2a3f5f"
            },
            "marker": {
             "line": {
              "color": "#E5ECF6",
              "width": 0.5
             },
             "pattern": {
              "fillmode": "overlay",
              "size": 10,
              "solidity": 0.2
             }
            },
            "type": "bar"
           }
          ],
          "barpolar": [
           {
            "marker": {
             "line": {
              "color": "#E5ECF6",
              "width": 0.5
             },
             "pattern": {
              "fillmode": "overlay",
              "size": 10,
              "solidity": 0.2
             }
            },
            "type": "barpolar"
           }
          ],
          "carpet": [
           {
            "aaxis": {
             "endlinecolor": "#2a3f5f",
             "gridcolor": "white",
             "linecolor": "white",
             "minorgridcolor": "white",
             "startlinecolor": "#2a3f5f"
            },
            "baxis": {
             "endlinecolor": "#2a3f5f",
             "gridcolor": "white",
             "linecolor": "white",
             "minorgridcolor": "white",
             "startlinecolor": "#2a3f5f"
            },
            "type": "carpet"
           }
          ],
          "choropleth": [
           {
            "colorbar": {
             "outlinewidth": 0,
             "ticks": ""
            },
            "type": "choropleth"
           }
          ],
          "contour": [
           {
            "colorbar": {
             "outlinewidth": 0,
             "ticks": ""
            },
            "colorscale": [
             [
              0,
              "#0d0887"
             ],
             [
              0.1111111111111111,
              "#46039f"
             ],
             [
              0.2222222222222222,
              "#7201a8"
             ],
             [
              0.3333333333333333,
              "#9c179e"
             ],
             [
              0.4444444444444444,
              "#bd3786"
             ],
             [
              0.5555555555555556,
              "#d8576b"
             ],
             [
              0.6666666666666666,
              "#ed7953"
             ],
             [
              0.7777777777777778,
              "#fb9f3a"
             ],
             [
              0.8888888888888888,
              "#fdca26"
             ],
             [
              1,
              "#f0f921"
             ]
            ],
            "type": "contour"
           }
          ],
          "contourcarpet": [
           {
            "colorbar": {
             "outlinewidth": 0,
             "ticks": ""
            },
            "type": "contourcarpet"
           }
          ],
          "heatmap": [
           {
            "colorbar": {
             "outlinewidth": 0,
             "ticks": ""
            },
            "colorscale": [
             [
              0,
              "#0d0887"
             ],
             [
              0.1111111111111111,
              "#46039f"
             ],
             [
              0.2222222222222222,
              "#7201a8"
             ],
             [
              0.3333333333333333,
              "#9c179e"
             ],
             [
              0.4444444444444444,
              "#bd3786"
             ],
             [
              0.5555555555555556,
              "#d8576b"
             ],
             [
              0.6666666666666666,
              "#ed7953"
             ],
             [
              0.7777777777777778,
              "#fb9f3a"
             ],
             [
              0.8888888888888888,
              "#fdca26"
             ],
             [
              1,
              "#f0f921"
             ]
            ],
            "type": "heatmap"
           }
          ],
          "heatmapgl": [
           {
            "colorbar": {
             "outlinewidth": 0,
             "ticks": ""
            },
            "colorscale": [
             [
              0,
              "#0d0887"
             ],
             [
              0.1111111111111111,
              "#46039f"
             ],
             [
              0.2222222222222222,
              "#7201a8"
             ],
             [
              0.3333333333333333,
              "#9c179e"
             ],
             [
              0.4444444444444444,
              "#bd3786"
             ],
             [
              0.5555555555555556,
              "#d8576b"
             ],
             [
              0.6666666666666666,
              "#ed7953"
             ],
             [
              0.7777777777777778,
              "#fb9f3a"
             ],
             [
              0.8888888888888888,
              "#fdca26"
             ],
             [
              1,
              "#f0f921"
             ]
            ],
            "type": "heatmapgl"
           }
          ],
          "histogram": [
           {
            "marker": {
             "pattern": {
              "fillmode": "overlay",
              "size": 10,
              "solidity": 0.2
             }
            },
            "type": "histogram"
           }
          ],
          "histogram2d": [
           {
            "colorbar": {
             "outlinewidth": 0,
             "ticks": ""
            },
            "colorscale": [
             [
              0,
              "#0d0887"
             ],
             [
              0.1111111111111111,
              "#46039f"
             ],
             [
              0.2222222222222222,
              "#7201a8"
             ],
             [
              0.3333333333333333,
              "#9c179e"
             ],
             [
              0.4444444444444444,
              "#bd3786"
             ],
             [
              0.5555555555555556,
              "#d8576b"
             ],
             [
              0.6666666666666666,
              "#ed7953"
             ],
             [
              0.7777777777777778,
              "#fb9f3a"
             ],
             [
              0.8888888888888888,
              "#fdca26"
             ],
             [
              1,
              "#f0f921"
             ]
            ],
            "type": "histogram2d"
           }
          ],
          "histogram2dcontour": [
           {
            "colorbar": {
             "outlinewidth": 0,
             "ticks": ""
            },
            "colorscale": [
             [
              0,
              "#0d0887"
             ],
             [
              0.1111111111111111,
              "#46039f"
             ],
             [
              0.2222222222222222,
              "#7201a8"
             ],
             [
              0.3333333333333333,
              "#9c179e"
             ],
             [
              0.4444444444444444,
              "#bd3786"
             ],
             [
              0.5555555555555556,
              "#d8576b"
             ],
             [
              0.6666666666666666,
              "#ed7953"
             ],
             [
              0.7777777777777778,
              "#fb9f3a"
             ],
             [
              0.8888888888888888,
              "#fdca26"
             ],
             [
              1,
              "#f0f921"
             ]
            ],
            "type": "histogram2dcontour"
           }
          ],
          "mesh3d": [
           {
            "colorbar": {
             "outlinewidth": 0,
             "ticks": ""
            },
            "type": "mesh3d"
           }
          ],
          "parcoords": [
           {
            "line": {
             "colorbar": {
              "outlinewidth": 0,
              "ticks": ""
             }
            },
            "type": "parcoords"
           }
          ],
          "pie": [
           {
            "automargin": true,
            "type": "pie"
           }
          ],
          "scatter": [
           {
            "fillpattern": {
             "fillmode": "overlay",
             "size": 10,
             "solidity": 0.2
            },
            "type": "scatter"
           }
          ],
          "scatter3d": [
           {
            "line": {
             "colorbar": {
              "outlinewidth": 0,
              "ticks": ""
             }
            },
            "marker": {
             "colorbar": {
              "outlinewidth": 0,
              "ticks": ""
             }
            },
            "type": "scatter3d"
           }
          ],
          "scattercarpet": [
           {
            "marker": {
             "colorbar": {
              "outlinewidth": 0,
              "ticks": ""
             }
            },
            "type": "scattercarpet"
           }
          ],
          "scattergeo": [
           {
            "marker": {
             "colorbar": {
              "outlinewidth": 0,
              "ticks": ""
             }
            },
            "type": "scattergeo"
           }
          ],
          "scattergl": [
           {
            "marker": {
             "colorbar": {
              "outlinewidth": 0,
              "ticks": ""
             }
            },
            "type": "scattergl"
           }
          ],
          "scattermapbox": [
           {
            "marker": {
             "colorbar": {
              "outlinewidth": 0,
              "ticks": ""
             }
            },
            "type": "scattermapbox"
           }
          ],
          "scatterpolar": [
           {
            "marker": {
             "colorbar": {
              "outlinewidth": 0,
              "ticks": ""
             }
            },
            "type": "scatterpolar"
           }
          ],
          "scatterpolargl": [
           {
            "marker": {
             "colorbar": {
              "outlinewidth": 0,
              "ticks": ""
             }
            },
            "type": "scatterpolargl"
           }
          ],
          "scatterternary": [
           {
            "marker": {
             "colorbar": {
              "outlinewidth": 0,
              "ticks": ""
             }
            },
            "type": "scatterternary"
           }
          ],
          "surface": [
           {
            "colorbar": {
             "outlinewidth": 0,
             "ticks": ""
            },
            "colorscale": [
             [
              0,
              "#0d0887"
             ],
             [
              0.1111111111111111,
              "#46039f"
             ],
             [
              0.2222222222222222,
              "#7201a8"
             ],
             [
              0.3333333333333333,
              "#9c179e"
             ],
             [
              0.4444444444444444,
              "#bd3786"
             ],
             [
              0.5555555555555556,
              "#d8576b"
             ],
             [
              0.6666666666666666,
              "#ed7953"
             ],
             [
              0.7777777777777778,
              "#fb9f3a"
             ],
             [
              0.8888888888888888,
              "#fdca26"
             ],
             [
              1,
              "#f0f921"
             ]
            ],
            "type": "surface"
           }
          ],
          "table": [
           {
            "cells": {
             "fill": {
              "color": "#EBF0F8"
             },
             "line": {
              "color": "white"
             }
            },
            "header": {
             "fill": {
              "color": "#C8D4E3"
             },
             "line": {
              "color": "white"
             }
            },
            "type": "table"
           }
          ]
         },
         "layout": {
          "annotationdefaults": {
           "arrowcolor": "#2a3f5f",
           "arrowhead": 0,
           "arrowwidth": 1
          },
          "autotypenumbers": "strict",
          "coloraxis": {
           "colorbar": {
            "outlinewidth": 0,
            "ticks": ""
           }
          },
          "colorscale": {
           "diverging": [
            [
             0,
             "#8e0152"
            ],
            [
             0.1,
             "#c51b7d"
            ],
            [
             0.2,
             "#de77ae"
            ],
            [
             0.3,
             "#f1b6da"
            ],
            [
             0.4,
             "#fde0ef"
            ],
            [
             0.5,
             "#f7f7f7"
            ],
            [
             0.6,
             "#e6f5d0"
            ],
            [
             0.7,
             "#b8e186"
            ],
            [
             0.8,
             "#7fbc41"
            ],
            [
             0.9,
             "#4d9221"
            ],
            [
             1,
             "#276419"
            ]
           ],
           "sequential": [
            [
             0,
             "#0d0887"
            ],
            [
             0.1111111111111111,
             "#46039f"
            ],
            [
             0.2222222222222222,
             "#7201a8"
            ],
            [
             0.3333333333333333,
             "#9c179e"
            ],
            [
             0.4444444444444444,
             "#bd3786"
            ],
            [
             0.5555555555555556,
             "#d8576b"
            ],
            [
             0.6666666666666666,
             "#ed7953"
            ],
            [
             0.7777777777777778,
             "#fb9f3a"
            ],
            [
             0.8888888888888888,
             "#fdca26"
            ],
            [
             1,
             "#f0f921"
            ]
           ],
           "sequentialminus": [
            [
             0,
             "#0d0887"
            ],
            [
             0.1111111111111111,
             "#46039f"
            ],
            [
             0.2222222222222222,
             "#7201a8"
            ],
            [
             0.3333333333333333,
             "#9c179e"
            ],
            [
             0.4444444444444444,
             "#bd3786"
            ],
            [
             0.5555555555555556,
             "#d8576b"
            ],
            [
             0.6666666666666666,
             "#ed7953"
            ],
            [
             0.7777777777777778,
             "#fb9f3a"
            ],
            [
             0.8888888888888888,
             "#fdca26"
            ],
            [
             1,
             "#f0f921"
            ]
           ]
          },
          "colorway": [
           "#636efa",
           "#EF553B",
           "#00cc96",
           "#ab63fa",
           "#FFA15A",
           "#19d3f3",
           "#FF6692",
           "#B6E880",
           "#FF97FF",
           "#FECB52"
          ],
          "font": {
           "color": "#2a3f5f"
          },
          "geo": {
           "bgcolor": "white",
           "lakecolor": "white",
           "landcolor": "#E5ECF6",
           "showlakes": true,
           "showland": true,
           "subunitcolor": "white"
          },
          "hoverlabel": {
           "align": "left"
          },
          "hovermode": "closest",
          "mapbox": {
           "style": "light"
          },
          "paper_bgcolor": "white",
          "plot_bgcolor": "#E5ECF6",
          "polar": {
           "angularaxis": {
            "gridcolor": "white",
            "linecolor": "white",
            "ticks": ""
           },
           "bgcolor": "#E5ECF6",
           "radialaxis": {
            "gridcolor": "white",
            "linecolor": "white",
            "ticks": ""
           }
          },
          "scene": {
           "xaxis": {
            "backgroundcolor": "#E5ECF6",
            "gridcolor": "white",
            "gridwidth": 2,
            "linecolor": "white",
            "showbackground": true,
            "ticks": "",
            "zerolinecolor": "white"
           },
           "yaxis": {
            "backgroundcolor": "#E5ECF6",
            "gridcolor": "white",
            "gridwidth": 2,
            "linecolor": "white",
            "showbackground": true,
            "ticks": "",
            "zerolinecolor": "white"
           },
           "zaxis": {
            "backgroundcolor": "#E5ECF6",
            "gridcolor": "white",
            "gridwidth": 2,
            "linecolor": "white",
            "showbackground": true,
            "ticks": "",
            "zerolinecolor": "white"
           }
          },
          "shapedefaults": {
           "line": {
            "color": "#2a3f5f"
           }
          },
          "ternary": {
           "aaxis": {
            "gridcolor": "white",
            "linecolor": "white",
            "ticks": ""
           },
           "baxis": {
            "gridcolor": "white",
            "linecolor": "white",
            "ticks": ""
           },
           "bgcolor": "#E5ECF6",
           "caxis": {
            "gridcolor": "white",
            "linecolor": "white",
            "ticks": ""
           }
          },
          "title": {
           "x": 0.05
          },
          "xaxis": {
           "automargin": true,
           "gridcolor": "white",
           "linecolor": "white",
           "ticks": "",
           "title": {
            "standoff": 15
           },
           "zerolinecolor": "white",
           "zerolinewidth": 2
          },
          "yaxis": {
           "automargin": true,
           "gridcolor": "white",
           "linecolor": "white",
           "ticks": "",
           "title": {
            "standoff": 15
           },
           "zerolinecolor": "white",
           "zerolinewidth": 2
          }
         }
        },
        "title": {
         "text": "Top 10 Customer Groups by Total Order Material Net Value"
        },
        "xaxis": {
         "anchor": "y",
         "domain": [
          0,
          1
         ],
         "title": {
          "text": "Total Order Material Net Value ($)"
         }
        },
        "yaxis": {
         "anchor": "x",
         "categoryarray": [
          "Hospital/Clinic",
          "Orthodontist",
          "NOT MAPPED",
          "Maxillofacial surg",
          "Prosthodontist",
          "University",
          "Laboratory",
          "Periodontist",
          "Surgeon (gen./oral)",
          "General dentist"
         ],
         "categoryorder": "array",
         "domain": [
          0,
          1
         ],
         "title": {
          "text": "Customer Group"
         }
        }
       }
      }
     },
     "metadata": {},
     "output_type": "display_data"
    }
   ],
   "source": [
    "#business question 1:which cust group contributed the most to our revenue and how can we tailor our marketing strat to better engage these segments.\n",
    "\n",
    "import plotly.express as px\n",
    "# Calculate total 'order_material_net_value' for each customer group\n",
    "group_totals = combined_df.groupby('customer_group')['order_material_net_value'].sum().sort_values(ascending=False)\n",
    "\n",
    "# Select the top 10 customer groups\n",
    "top_groups = group_totals.head(10)\n",
    "\n",
    "# Create a DataFrame for the plot\n",
    "top_groups_df = top_groups.reset_index()\n",
    "top_groups_df.columns = ['Customer Group', 'Total Order Material Net Value']\n",
    "\n",
    "# Create an interactive horizontal bar chart\n",
    "fig = px.bar(top_groups_df, x='Total Order Material Net Value', y='Customer Group',\n",
    "             title='Top 10 Customer Groups by Total Order Material Net Value',\n",
    "             labels={'Total Order Material Net Value': 'Total Order Material Net Value', 'Customer Group': 'Customer Group'},\n",
    "             orientation='h', color='Customer Group',  # Color by customer group\n",
    "             height=500, text='Total Order Material Net Value')  # Display values on bars\n",
    "\n",
    "# Customize hover data\n",
    "fig.update_traces(hovertemplate='Customer Group: %{y}<br>Total Order Material Net Value: $%{x}<extra></extra>')\n",
    "\n",
    "# Adjust layout for readability\n",
    "fig.update_layout(xaxis_title='Total Order Material Net Value ($)',\n",
    "                  yaxis_title='Customer Group',\n",
    "                  coloraxis_showscale=False)  # Hide color scale if not needed\n",
    "\n",
    "fig.show()\n"
   ]
  },
  {
   "cell_type": "code",
   "execution_count": 8,
   "metadata": {},
   "outputs": [
    {
     "data": {
      "application/vnd.plotly.v1+json": {
       "config": {
        "plotlyServerURL": "https://plot.ly"
       },
       "data": [
        {
         "hovertemplate": "<b>%{hovertext}</b><br><br>PRH4=%{y}<br>customer_group=%{x}<br>counts=%{marker.size}<extra></extra>",
         "hovertext": [
          "Central services",
          "Denturist",
          "General dentist",
          "Government/Military",
          "Hospital/Clinic",
          "In-house Laboratory",
          "Institution",
          "Laboratory",
          "Maxillofacial surg",
          "NOT MAPPED",
          "Orthodontist",
          "Others",
          "Periodontist",
          "Prosthodontist",
          "Staff",
          "Surgeon (gen./oral)",
          "University"
         ],
         "legendgroup": "Abutments, SRA",
         "marker": {
          "color": "#636efa",
          "size": [
           2,
           3,
           68851,
           20,
           748,
           111,
           4,
           8051,
           753,
           508,
           850,
           457,
           9507,
           5944,
           2,
           17047,
           5513
          ],
          "sizemode": "area",
          "sizeref": 117.78222222222222,
          "symbol": "circle"
         },
         "mode": "markers",
         "name": "Abutments, SRA",
         "orientation": "v",
         "showlegend": true,
         "type": "scatter",
         "x": [
          "Central services",
          "Denturist",
          "General dentist",
          "Government/Military",
          "Hospital/Clinic",
          "In-house Laboratory",
          "Institution",
          "Laboratory",
          "Maxillofacial surg",
          "NOT MAPPED",
          "Orthodontist",
          "Others",
          "Periodontist",
          "Prosthodontist",
          "Staff",
          "Surgeon (gen./oral)",
          "University"
         ],
         "xaxis": "x",
         "y": [
          "Abutments, SRA",
          "Abutments, SRA",
          "Abutments, SRA",
          "Abutments, SRA",
          "Abutments, SRA",
          "Abutments, SRA",
          "Abutments, SRA",
          "Abutments, SRA",
          "Abutments, SRA",
          "Abutments, SRA",
          "Abutments, SRA",
          "Abutments, SRA",
          "Abutments, SRA",
          "Abutments, SRA",
          "Abutments, SRA",
          "Abutments, SRA",
          "Abutments, SRA"
         ],
         "yaxis": "y"
        },
        {
         "hovertemplate": "<b>%{hovertext}</b><br><br>PRH4=%{y}<br>customer_group=%{x}<br>counts=%{marker.size}<extra></extra>",
         "hovertext": [
          "Denturist",
          "Distributor/Reseller",
          "General dentist",
          "Government/Military",
          "Hospital/Clinic",
          "In-house Laboratory",
          "Laboratory",
          "Maxillofacial surg",
          "NOT MAPPED",
          "Orthodontist",
          "Others",
          "Periodontist",
          "Prosthodontist",
          "Staff",
          "Surgeon (gen./oral)",
          "University"
         ],
         "legendgroup": "Abutments, Ti Base",
         "marker": {
          "color": "#EF553B",
          "size": [
           1,
           1,
           36868,
           11,
           38,
           1821,
           93136,
           35,
           334,
           458,
           259,
           3222,
           2699,
           3,
           1849,
           5573
          ],
          "sizemode": "area",
          "sizeref": 117.78222222222222,
          "symbol": "circle"
         },
         "mode": "markers",
         "name": "Abutments, Ti Base",
         "orientation": "v",
         "showlegend": true,
         "type": "scatter",
         "x": [
          "Denturist",
          "Distributor/Reseller",
          "General dentist",
          "Government/Military",
          "Hospital/Clinic",
          "In-house Laboratory",
          "Laboratory",
          "Maxillofacial surg",
          "NOT MAPPED",
          "Orthodontist",
          "Others",
          "Periodontist",
          "Prosthodontist",
          "Staff",
          "Surgeon (gen./oral)",
          "University"
         ],
         "xaxis": "x",
         "y": [
          "Abutments, Ti Base",
          "Abutments, Ti Base",
          "Abutments, Ti Base",
          "Abutments, Ti Base",
          "Abutments, Ti Base",
          "Abutments, Ti Base",
          "Abutments, Ti Base",
          "Abutments, Ti Base",
          "Abutments, Ti Base",
          "Abutments, Ti Base",
          "Abutments, Ti Base",
          "Abutments, Ti Base",
          "Abutments, Ti Base",
          "Abutments, Ti Base",
          "Abutments, Ti Base",
          "Abutments, Ti Base"
         ],
         "yaxis": "y"
        },
        {
         "hovertemplate": "<b>%{hovertext}</b><br><br>PRH4=%{y}<br>customer_group=%{x}<br>counts=%{marker.size}<extra></extra>",
         "hovertext": [
          "Central services",
          "General dentist",
          "Government/Military",
          "Hospital/Clinic",
          "In-house Laboratory",
          "Institution",
          "Laboratory",
          "Maxillofacial surg",
          "NOT MAPPED",
          "Orthodontist",
          "Others",
          "Periodontist",
          "Prosthodontist",
          "Staff",
          "Surgeon (gen./oral)",
          "University"
         ],
         "legendgroup": "BL Healing Surgical",
         "marker": {
          "color": "#00cc96",
          "size": [
           2,
           148767,
           170,
           2859,
           17,
           1,
           1188,
           4955,
           6910,
           1198,
           622,
           74619,
           3336,
           3,
           125720,
           22339
          ],
          "sizemode": "area",
          "sizeref": 117.78222222222222,
          "symbol": "circle"
         },
         "mode": "markers",
         "name": "BL Healing Surgical",
         "orientation": "v",
         "showlegend": true,
         "type": "scatter",
         "x": [
          "Central services",
          "General dentist",
          "Government/Military",
          "Hospital/Clinic",
          "In-house Laboratory",
          "Institution",
          "Laboratory",
          "Maxillofacial surg",
          "NOT MAPPED",
          "Orthodontist",
          "Others",
          "Periodontist",
          "Prosthodontist",
          "Staff",
          "Surgeon (gen./oral)",
          "University"
         ],
         "xaxis": "x",
         "y": [
          "BL Healing Surgical",
          "BL Healing Surgical",
          "BL Healing Surgical",
          "BL Healing Surgical",
          "BL Healing Surgical",
          "BL Healing Surgical",
          "BL Healing Surgical",
          "BL Healing Surgical",
          "BL Healing Surgical",
          "BL Healing Surgical",
          "BL Healing Surgical",
          "BL Healing Surgical",
          "BL Healing Surgical",
          "BL Healing Surgical",
          "BL Healing Surgical",
          "BL Healing Surgical"
         ],
         "yaxis": "y"
        },
        {
         "hovertemplate": "<b>%{hovertext}</b><br><br>PRH4=%{y}<br>customer_group=%{x}<br>counts=%{marker.size}<extra></extra>",
         "hovertext": [
          "General dentist",
          "Hospital/Clinic",
          "In-house Laboratory",
          "Laboratory",
          "Maxillofacial surg",
          "NOT MAPPED",
          "Orthodontist",
          "Others",
          "Periodontist",
          "Prosthodontist",
          "Staff",
          "Surgeon (gen./oral)",
          "University"
         ],
         "legendgroup": "BLAT Ti Implants, hydrophilic",
         "marker": {
          "color": "#ab63fa",
          "size": [
           88565,
           218,
           60,
           965,
           787,
           93,
           1518,
           297,
           3495,
           1329,
           9,
           6268,
           61
          ],
          "sizemode": "area",
          "sizeref": 117.78222222222222,
          "symbol": "circle"
         },
         "mode": "markers",
         "name": "BLAT Ti Implants, hydrophilic",
         "orientation": "v",
         "showlegend": true,
         "type": "scatter",
         "x": [
          "General dentist",
          "Hospital/Clinic",
          "In-house Laboratory",
          "Laboratory",
          "Maxillofacial surg",
          "NOT MAPPED",
          "Orthodontist",
          "Others",
          "Periodontist",
          "Prosthodontist",
          "Staff",
          "Surgeon (gen./oral)",
          "University"
         ],
         "xaxis": "x",
         "y": [
          "BLAT Ti Implants, hydrophilic",
          "BLAT Ti Implants, hydrophilic",
          "BLAT Ti Implants, hydrophilic",
          "BLAT Ti Implants, hydrophilic",
          "BLAT Ti Implants, hydrophilic",
          "BLAT Ti Implants, hydrophilic",
          "BLAT Ti Implants, hydrophilic",
          "BLAT Ti Implants, hydrophilic",
          "BLAT Ti Implants, hydrophilic",
          "BLAT Ti Implants, hydrophilic",
          "BLAT Ti Implants, hydrophilic",
          "BLAT Ti Implants, hydrophilic",
          "BLAT Ti Implants, hydrophilic"
         ],
         "yaxis": "y"
        },
        {
         "hovertemplate": "<b>%{hovertext}</b><br><br>PRH4=%{y}<br>customer_group=%{x}<br>counts=%{marker.size}<extra></extra>",
         "hovertext": [
          "Denturist",
          "General dentist",
          "Hospital/Clinic",
          "In-house Laboratory",
          "Institution",
          "Laboratory",
          "Maxillofacial surg",
          "NOT MAPPED",
          "Orthodontist",
          "Others",
          "Periodontist",
          "Prosthodontist",
          "Staff",
          "Surgeon (gen./oral)",
          "University"
         ],
         "legendgroup": "BLAT Ti Implants, standard",
         "marker": {
          "color": "#FFA15A",
          "size": [
           1,
           144203,
           125,
           69,
           1,
           1673,
           503,
           307,
           1647,
           1251,
           9417,
           2634,
           2,
           13585,
           518
          ],
          "sizemode": "area",
          "sizeref": 117.78222222222222,
          "symbol": "circle"
         },
         "mode": "markers",
         "name": "BLAT Ti Implants, standard",
         "orientation": "v",
         "showlegend": true,
         "type": "scatter",
         "x": [
          "Denturist",
          "General dentist",
          "Hospital/Clinic",
          "In-house Laboratory",
          "Institution",
          "Laboratory",
          "Maxillofacial surg",
          "NOT MAPPED",
          "Orthodontist",
          "Others",
          "Periodontist",
          "Prosthodontist",
          "Staff",
          "Surgeon (gen./oral)",
          "University"
         ],
         "xaxis": "x",
         "y": [
          "BLAT Ti Implants, standard",
          "BLAT Ti Implants, standard",
          "BLAT Ti Implants, standard",
          "BLAT Ti Implants, standard",
          "BLAT Ti Implants, standard",
          "BLAT Ti Implants, standard",
          "BLAT Ti Implants, standard",
          "BLAT Ti Implants, standard",
          "BLAT Ti Implants, standard",
          "BLAT Ti Implants, standard",
          "BLAT Ti Implants, standard",
          "BLAT Ti Implants, standard",
          "BLAT Ti Implants, standard",
          "BLAT Ti Implants, standard",
          "BLAT Ti Implants, standard"
         ],
         "yaxis": "y"
        },
        {
         "hovertemplate": "<b>%{hovertext}</b><br><br>PRH4=%{y}<br>customer_group=%{x}<br>counts=%{marker.size}<extra></extra>",
         "hovertext": [
          "Central services",
          "General dentist",
          "Government/Military",
          "Hospital/Clinic",
          "In-house Laboratory",
          "Laboratory",
          "Maxillofacial surg",
          "NOT MAPPED",
          "Orthodontist",
          "Others",
          "Periodontist",
          "Prosthodontist",
          "Staff",
          "Surgeon (gen./oral)",
          "University"
         ],
         "legendgroup": "BLAT TiZr Implants, hydrophilic",
         "marker": {
          "color": "#19d3f3",
          "size": [
           5,
           46301,
           111,
           1738,
           6,
           272,
           2693,
           4528,
           184,
           154,
           53181,
           2548,
           4,
           65729,
           12098
          ],
          "sizemode": "area",
          "sizeref": 117.78222222222222,
          "symbol": "circle"
         },
         "mode": "markers",
         "name": "BLAT TiZr Implants, hydrophilic",
         "orientation": "v",
         "showlegend": true,
         "type": "scatter",
         "x": [
          "Central services",
          "General dentist",
          "Government/Military",
          "Hospital/Clinic",
          "In-house Laboratory",
          "Laboratory",
          "Maxillofacial surg",
          "NOT MAPPED",
          "Orthodontist",
          "Others",
          "Periodontist",
          "Prosthodontist",
          "Staff",
          "Surgeon (gen./oral)",
          "University"
         ],
         "xaxis": "x",
         "y": [
          "BLAT TiZr Implants, hydrophilic",
          "BLAT TiZr Implants, hydrophilic",
          "BLAT TiZr Implants, hydrophilic",
          "BLAT TiZr Implants, hydrophilic",
          "BLAT TiZr Implants, hydrophilic",
          "BLAT TiZr Implants, hydrophilic",
          "BLAT TiZr Implants, hydrophilic",
          "BLAT TiZr Implants, hydrophilic",
          "BLAT TiZr Implants, hydrophilic",
          "BLAT TiZr Implants, hydrophilic",
          "BLAT TiZr Implants, hydrophilic",
          "BLAT TiZr Implants, hydrophilic",
          "BLAT TiZr Implants, hydrophilic",
          "BLAT TiZr Implants, hydrophilic",
          "BLAT TiZr Implants, hydrophilic"
         ],
         "yaxis": "y"
        },
        {
         "hovertemplate": "<b>%{hovertext}</b><br><br>PRH4=%{y}<br>customer_group=%{x}<br>counts=%{marker.size}<extra></extra>",
         "hovertext": [
          "General dentist",
          "Government/Military",
          "Hospital/Clinic",
          "In-house Laboratory",
          "Laboratory",
          "Maxillofacial surg",
          "NOT MAPPED",
          "Orthodontist",
          "Others",
          "Periodontist",
          "Prosthodontist",
          "Surgeon (gen./oral)",
          "University"
         ],
         "legendgroup": "BLAT TiZr Implants, standard",
         "marker": {
          "color": "#FF6692",
          "size": [
           39664,
           64,
           551,
           10,
           154,
           1623,
           308,
           212,
           135,
           33787,
           1713,
           40317,
           4622
          ],
          "sizemode": "area",
          "sizeref": 117.78222222222222,
          "symbol": "circle"
         },
         "mode": "markers",
         "name": "BLAT TiZr Implants, standard",
         "orientation": "v",
         "showlegend": true,
         "type": "scatter",
         "x": [
          "General dentist",
          "Government/Military",
          "Hospital/Clinic",
          "In-house Laboratory",
          "Laboratory",
          "Maxillofacial surg",
          "NOT MAPPED",
          "Orthodontist",
          "Others",
          "Periodontist",
          "Prosthodontist",
          "Surgeon (gen./oral)",
          "University"
         ],
         "xaxis": "x",
         "y": [
          "BLAT TiZr Implants, standard",
          "BLAT TiZr Implants, standard",
          "BLAT TiZr Implants, standard",
          "BLAT TiZr Implants, standard",
          "BLAT TiZr Implants, standard",
          "BLAT TiZr Implants, standard",
          "BLAT TiZr Implants, standard",
          "BLAT TiZr Implants, standard",
          "BLAT TiZr Implants, standard",
          "BLAT TiZr Implants, standard",
          "BLAT TiZr Implants, standard",
          "BLAT TiZr Implants, standard",
          "BLAT TiZr Implants, standard"
         ],
         "yaxis": "y"
        },
        {
         "hovertemplate": "<b>%{hovertext}</b><br><br>PRH4=%{y}<br>customer_group=%{x}<br>counts=%{marker.size}<extra></extra>",
         "hovertext": [
          "Central services",
          "Denturist",
          "Employee",
          "General dentist",
          "Government/Military",
          "Hospital/Clinic",
          "In-house Laboratory",
          "Institution",
          "Laboratory",
          "Maxillofacial surg",
          "NOT MAPPED",
          "Orthodontist",
          "Others",
          "Periodontist",
          "Prosthodontist",
          "Staff",
          "Surgeon (gen./oral)",
          "University"
         ],
         "legendgroup": "Instruments, Cases + Others",
         "marker": {
          "color": "#B6E880",
          "size": [
           10,
           1,
           2,
           101148,
           116,
           1581,
           294,
           15,
           12551,
           971,
           1615,
           1141,
           470,
           10155,
           2890,
           264,
           19065,
           8147
          ],
          "sizemode": "area",
          "sizeref": 117.78222222222222,
          "symbol": "circle"
         },
         "mode": "markers",
         "name": "Instruments, Cases + Others",
         "orientation": "v",
         "showlegend": true,
         "type": "scatter",
         "x": [
          "Central services",
          "Denturist",
          "Employee",
          "General dentist",
          "Government/Military",
          "Hospital/Clinic",
          "In-house Laboratory",
          "Institution",
          "Laboratory",
          "Maxillofacial surg",
          "NOT MAPPED",
          "Orthodontist",
          "Others",
          "Periodontist",
          "Prosthodontist",
          "Staff",
          "Surgeon (gen./oral)",
          "University"
         ],
         "xaxis": "x",
         "y": [
          "Instruments, Cases + Others",
          "Instruments, Cases + Others",
          "Instruments, Cases + Others",
          "Instruments, Cases + Others",
          "Instruments, Cases + Others",
          "Instruments, Cases + Others",
          "Instruments, Cases + Others",
          "Instruments, Cases + Others",
          "Instruments, Cases + Others",
          "Instruments, Cases + Others",
          "Instruments, Cases + Others",
          "Instruments, Cases + Others",
          "Instruments, Cases + Others",
          "Instruments, Cases + Others",
          "Instruments, Cases + Others",
          "Instruments, Cases + Others",
          "Instruments, Cases + Others",
          "Instruments, Cases + Others"
         ],
         "yaxis": "y"
        },
        {
         "hovertemplate": "<b>%{hovertext}</b><br><br>PRH4=%{y}<br>customer_group=%{x}<br>counts=%{marker.size}<extra></extra>",
         "hovertext": [
          "Central services",
          "General dentist",
          "Government/Military",
          "Hospital/Clinic",
          "In-house Laboratory",
          "Institution",
          "Laboratory",
          "Maxillofacial surg",
          "NOT MAPPED",
          "Orthodontist",
          "Others",
          "Periodontist",
          "Prosthodontist",
          "Staff",
          "Surgeon (gen./oral)",
          "University"
         ],
         "legendgroup": "Instruments, Drills + Taps",
         "marker": {
          "color": "#FF97FF",
          "size": [
           18,
           67014,
           142,
           1553,
           20,
           5,
           646,
           1414,
           4869,
           479,
           326,
           28650,
           1422,
           176,
           39762,
           8928
          ],
          "sizemode": "area",
          "sizeref": 117.78222222222222,
          "symbol": "circle"
         },
         "mode": "markers",
         "name": "Instruments, Drills + Taps",
         "orientation": "v",
         "showlegend": true,
         "type": "scatter",
         "x": [
          "Central services",
          "General dentist",
          "Government/Military",
          "Hospital/Clinic",
          "In-house Laboratory",
          "Institution",
          "Laboratory",
          "Maxillofacial surg",
          "NOT MAPPED",
          "Orthodontist",
          "Others",
          "Periodontist",
          "Prosthodontist",
          "Staff",
          "Surgeon (gen./oral)",
          "University"
         ],
         "xaxis": "x",
         "y": [
          "Instruments, Drills + Taps",
          "Instruments, Drills + Taps",
          "Instruments, Drills + Taps",
          "Instruments, Drills + Taps",
          "Instruments, Drills + Taps",
          "Instruments, Drills + Taps",
          "Instruments, Drills + Taps",
          "Instruments, Drills + Taps",
          "Instruments, Drills + Taps",
          "Instruments, Drills + Taps",
          "Instruments, Drills + Taps",
          "Instruments, Drills + Taps",
          "Instruments, Drills + Taps",
          "Instruments, Drills + Taps",
          "Instruments, Drills + Taps",
          "Instruments, Drills + Taps"
         ],
         "yaxis": "y"
        },
        {
         "hovertemplate": "<b>%{hovertext}</b><br><br>PRH4=%{y}<br>customer_group=%{x}<br>counts=%{marker.size}<extra></extra>",
         "hovertext": [
          "Central services",
          "Denturist",
          "General dentist",
          "Government/Military",
          "Hospital/Clinic",
          "In-house Laboratory",
          "Institution",
          "Laboratory",
          "Maxillofacial surg",
          "NOT MAPPED",
          "Orthodontist",
          "Others",
          "Periodontist",
          "Prosthodontist",
          "Staff",
          "Surgeon (gen./oral)",
          "University"
         ],
         "legendgroup": "Other Prosthetics",
         "marker": {
          "color": "#FECB52",
          "size": [
           15,
           9,
           424016,
           321,
           2274,
           1197,
           2,
           121187,
           2518,
           8510,
           4364,
           1094,
           57982,
           19616,
           96,
           72987,
           31593
          ],
          "sizemode": "area",
          "sizeref": 117.78222222222222,
          "symbol": "circle"
         },
         "mode": "markers",
         "name": "Other Prosthetics",
         "orientation": "v",
         "showlegend": true,
         "type": "scatter",
         "x": [
          "Central services",
          "Denturist",
          "General dentist",
          "Government/Military",
          "Hospital/Clinic",
          "In-house Laboratory",
          "Institution",
          "Laboratory",
          "Maxillofacial surg",
          "NOT MAPPED",
          "Orthodontist",
          "Others",
          "Periodontist",
          "Prosthodontist",
          "Staff",
          "Surgeon (gen./oral)",
          "University"
         ],
         "xaxis": "x",
         "y": [
          "Other Prosthetics",
          "Other Prosthetics",
          "Other Prosthetics",
          "Other Prosthetics",
          "Other Prosthetics",
          "Other Prosthetics",
          "Other Prosthetics",
          "Other Prosthetics",
          "Other Prosthetics",
          "Other Prosthetics",
          "Other Prosthetics",
          "Other Prosthetics",
          "Other Prosthetics",
          "Other Prosthetics",
          "Other Prosthetics",
          "Other Prosthetics",
          "Other Prosthetics"
         ],
         "yaxis": "y"
        }
       ],
       "layout": {
        "legend": {
         "itemsizing": "constant",
         "title": {
          "text": "PRH4"
         },
         "tracegroupgap": 0
        },
        "template": {
         "data": {
          "bar": [
           {
            "error_x": {
             "color": "#2a3f5f"
            },
            "error_y": {
             "color": "#2a3f5f"
            },
            "marker": {
             "line": {
              "color": "#E5ECF6",
              "width": 0.5
             },
             "pattern": {
              "fillmode": "overlay",
              "size": 10,
              "solidity": 0.2
             }
            },
            "type": "bar"
           }
          ],
          "barpolar": [
           {
            "marker": {
             "line": {
              "color": "#E5ECF6",
              "width": 0.5
             },
             "pattern": {
              "fillmode": "overlay",
              "size": 10,
              "solidity": 0.2
             }
            },
            "type": "barpolar"
           }
          ],
          "carpet": [
           {
            "aaxis": {
             "endlinecolor": "#2a3f5f",
             "gridcolor": "white",
             "linecolor": "white",
             "minorgridcolor": "white",
             "startlinecolor": "#2a3f5f"
            },
            "baxis": {
             "endlinecolor": "#2a3f5f",
             "gridcolor": "white",
             "linecolor": "white",
             "minorgridcolor": "white",
             "startlinecolor": "#2a3f5f"
            },
            "type": "carpet"
           }
          ],
          "choropleth": [
           {
            "colorbar": {
             "outlinewidth": 0,
             "ticks": ""
            },
            "type": "choropleth"
           }
          ],
          "contour": [
           {
            "colorbar": {
             "outlinewidth": 0,
             "ticks": ""
            },
            "colorscale": [
             [
              0,
              "#0d0887"
             ],
             [
              0.1111111111111111,
              "#46039f"
             ],
             [
              0.2222222222222222,
              "#7201a8"
             ],
             [
              0.3333333333333333,
              "#9c179e"
             ],
             [
              0.4444444444444444,
              "#bd3786"
             ],
             [
              0.5555555555555556,
              "#d8576b"
             ],
             [
              0.6666666666666666,
              "#ed7953"
             ],
             [
              0.7777777777777778,
              "#fb9f3a"
             ],
             [
              0.8888888888888888,
              "#fdca26"
             ],
             [
              1,
              "#f0f921"
             ]
            ],
            "type": "contour"
           }
          ],
          "contourcarpet": [
           {
            "colorbar": {
             "outlinewidth": 0,
             "ticks": ""
            },
            "type": "contourcarpet"
           }
          ],
          "heatmap": [
           {
            "colorbar": {
             "outlinewidth": 0,
             "ticks": ""
            },
            "colorscale": [
             [
              0,
              "#0d0887"
             ],
             [
              0.1111111111111111,
              "#46039f"
             ],
             [
              0.2222222222222222,
              "#7201a8"
             ],
             [
              0.3333333333333333,
              "#9c179e"
             ],
             [
              0.4444444444444444,
              "#bd3786"
             ],
             [
              0.5555555555555556,
              "#d8576b"
             ],
             [
              0.6666666666666666,
              "#ed7953"
             ],
             [
              0.7777777777777778,
              "#fb9f3a"
             ],
             [
              0.8888888888888888,
              "#fdca26"
             ],
             [
              1,
              "#f0f921"
             ]
            ],
            "type": "heatmap"
           }
          ],
          "heatmapgl": [
           {
            "colorbar": {
             "outlinewidth": 0,
             "ticks": ""
            },
            "colorscale": [
             [
              0,
              "#0d0887"
             ],
             [
              0.1111111111111111,
              "#46039f"
             ],
             [
              0.2222222222222222,
              "#7201a8"
             ],
             [
              0.3333333333333333,
              "#9c179e"
             ],
             [
              0.4444444444444444,
              "#bd3786"
             ],
             [
              0.5555555555555556,
              "#d8576b"
             ],
             [
              0.6666666666666666,
              "#ed7953"
             ],
             [
              0.7777777777777778,
              "#fb9f3a"
             ],
             [
              0.8888888888888888,
              "#fdca26"
             ],
             [
              1,
              "#f0f921"
             ]
            ],
            "type": "heatmapgl"
           }
          ],
          "histogram": [
           {
            "marker": {
             "pattern": {
              "fillmode": "overlay",
              "size": 10,
              "solidity": 0.2
             }
            },
            "type": "histogram"
           }
          ],
          "histogram2d": [
           {
            "colorbar": {
             "outlinewidth": 0,
             "ticks": ""
            },
            "colorscale": [
             [
              0,
              "#0d0887"
             ],
             [
              0.1111111111111111,
              "#46039f"
             ],
             [
              0.2222222222222222,
              "#7201a8"
             ],
             [
              0.3333333333333333,
              "#9c179e"
             ],
             [
              0.4444444444444444,
              "#bd3786"
             ],
             [
              0.5555555555555556,
              "#d8576b"
             ],
             [
              0.6666666666666666,
              "#ed7953"
             ],
             [
              0.7777777777777778,
              "#fb9f3a"
             ],
             [
              0.8888888888888888,
              "#fdca26"
             ],
             [
              1,
              "#f0f921"
             ]
            ],
            "type": "histogram2d"
           }
          ],
          "histogram2dcontour": [
           {
            "colorbar": {
             "outlinewidth": 0,
             "ticks": ""
            },
            "colorscale": [
             [
              0,
              "#0d0887"
             ],
             [
              0.1111111111111111,
              "#46039f"
             ],
             [
              0.2222222222222222,
              "#7201a8"
             ],
             [
              0.3333333333333333,
              "#9c179e"
             ],
             [
              0.4444444444444444,
              "#bd3786"
             ],
             [
              0.5555555555555556,
              "#d8576b"
             ],
             [
              0.6666666666666666,
              "#ed7953"
             ],
             [
              0.7777777777777778,
              "#fb9f3a"
             ],
             [
              0.8888888888888888,
              "#fdca26"
             ],
             [
              1,
              "#f0f921"
             ]
            ],
            "type": "histogram2dcontour"
           }
          ],
          "mesh3d": [
           {
            "colorbar": {
             "outlinewidth": 0,
             "ticks": ""
            },
            "type": "mesh3d"
           }
          ],
          "parcoords": [
           {
            "line": {
             "colorbar": {
              "outlinewidth": 0,
              "ticks": ""
             }
            },
            "type": "parcoords"
           }
          ],
          "pie": [
           {
            "automargin": true,
            "type": "pie"
           }
          ],
          "scatter": [
           {
            "fillpattern": {
             "fillmode": "overlay",
             "size": 10,
             "solidity": 0.2
            },
            "type": "scatter"
           }
          ],
          "scatter3d": [
           {
            "line": {
             "colorbar": {
              "outlinewidth": 0,
              "ticks": ""
             }
            },
            "marker": {
             "colorbar": {
              "outlinewidth": 0,
              "ticks": ""
             }
            },
            "type": "scatter3d"
           }
          ],
          "scattercarpet": [
           {
            "marker": {
             "colorbar": {
              "outlinewidth": 0,
              "ticks": ""
             }
            },
            "type": "scattercarpet"
           }
          ],
          "scattergeo": [
           {
            "marker": {
             "colorbar": {
              "outlinewidth": 0,
              "ticks": ""
             }
            },
            "type": "scattergeo"
           }
          ],
          "scattergl": [
           {
            "marker": {
             "colorbar": {
              "outlinewidth": 0,
              "ticks": ""
             }
            },
            "type": "scattergl"
           }
          ],
          "scattermapbox": [
           {
            "marker": {
             "colorbar": {
              "outlinewidth": 0,
              "ticks": ""
             }
            },
            "type": "scattermapbox"
           }
          ],
          "scatterpolar": [
           {
            "marker": {
             "colorbar": {
              "outlinewidth": 0,
              "ticks": ""
             }
            },
            "type": "scatterpolar"
           }
          ],
          "scatterpolargl": [
           {
            "marker": {
             "colorbar": {
              "outlinewidth": 0,
              "ticks": ""
             }
            },
            "type": "scatterpolargl"
           }
          ],
          "scatterternary": [
           {
            "marker": {
             "colorbar": {
              "outlinewidth": 0,
              "ticks": ""
             }
            },
            "type": "scatterternary"
           }
          ],
          "surface": [
           {
            "colorbar": {
             "outlinewidth": 0,
             "ticks": ""
            },
            "colorscale": [
             [
              0,
              "#0d0887"
             ],
             [
              0.1111111111111111,
              "#46039f"
             ],
             [
              0.2222222222222222,
              "#7201a8"
             ],
             [
              0.3333333333333333,
              "#9c179e"
             ],
             [
              0.4444444444444444,
              "#bd3786"
             ],
             [
              0.5555555555555556,
              "#d8576b"
             ],
             [
              0.6666666666666666,
              "#ed7953"
             ],
             [
              0.7777777777777778,
              "#fb9f3a"
             ],
             [
              0.8888888888888888,
              "#fdca26"
             ],
             [
              1,
              "#f0f921"
             ]
            ],
            "type": "surface"
           }
          ],
          "table": [
           {
            "cells": {
             "fill": {
              "color": "#EBF0F8"
             },
             "line": {
              "color": "white"
             }
            },
            "header": {
             "fill": {
              "color": "#C8D4E3"
             },
             "line": {
              "color": "white"
             }
            },
            "type": "table"
           }
          ]
         },
         "layout": {
          "annotationdefaults": {
           "arrowcolor": "#2a3f5f",
           "arrowhead": 0,
           "arrowwidth": 1
          },
          "autotypenumbers": "strict",
          "coloraxis": {
           "colorbar": {
            "outlinewidth": 0,
            "ticks": ""
           }
          },
          "colorscale": {
           "diverging": [
            [
             0,
             "#8e0152"
            ],
            [
             0.1,
             "#c51b7d"
            ],
            [
             0.2,
             "#de77ae"
            ],
            [
             0.3,
             "#f1b6da"
            ],
            [
             0.4,
             "#fde0ef"
            ],
            [
             0.5,
             "#f7f7f7"
            ],
            [
             0.6,
             "#e6f5d0"
            ],
            [
             0.7,
             "#b8e186"
            ],
            [
             0.8,
             "#7fbc41"
            ],
            [
             0.9,
             "#4d9221"
            ],
            [
             1,
             "#276419"
            ]
           ],
           "sequential": [
            [
             0,
             "#0d0887"
            ],
            [
             0.1111111111111111,
             "#46039f"
            ],
            [
             0.2222222222222222,
             "#7201a8"
            ],
            [
             0.3333333333333333,
             "#9c179e"
            ],
            [
             0.4444444444444444,
             "#bd3786"
            ],
            [
             0.5555555555555556,
             "#d8576b"
            ],
            [
             0.6666666666666666,
             "#ed7953"
            ],
            [
             0.7777777777777778,
             "#fb9f3a"
            ],
            [
             0.8888888888888888,
             "#fdca26"
            ],
            [
             1,
             "#f0f921"
            ]
           ],
           "sequentialminus": [
            [
             0,
             "#0d0887"
            ],
            [
             0.1111111111111111,
             "#46039f"
            ],
            [
             0.2222222222222222,
             "#7201a8"
            ],
            [
             0.3333333333333333,
             "#9c179e"
            ],
            [
             0.4444444444444444,
             "#bd3786"
            ],
            [
             0.5555555555555556,
             "#d8576b"
            ],
            [
             0.6666666666666666,
             "#ed7953"
            ],
            [
             0.7777777777777778,
             "#fb9f3a"
            ],
            [
             0.8888888888888888,
             "#fdca26"
            ],
            [
             1,
             "#f0f921"
            ]
           ]
          },
          "colorway": [
           "#636efa",
           "#EF553B",
           "#00cc96",
           "#ab63fa",
           "#FFA15A",
           "#19d3f3",
           "#FF6692",
           "#B6E880",
           "#FF97FF",
           "#FECB52"
          ],
          "font": {
           "color": "#2a3f5f"
          },
          "geo": {
           "bgcolor": "white",
           "lakecolor": "white",
           "landcolor": "#E5ECF6",
           "showlakes": true,
           "showland": true,
           "subunitcolor": "white"
          },
          "hoverlabel": {
           "align": "left"
          },
          "hovermode": "closest",
          "mapbox": {
           "style": "light"
          },
          "paper_bgcolor": "white",
          "plot_bgcolor": "#E5ECF6",
          "polar": {
           "angularaxis": {
            "gridcolor": "white",
            "linecolor": "white",
            "ticks": ""
           },
           "bgcolor": "#E5ECF6",
           "radialaxis": {
            "gridcolor": "white",
            "linecolor": "white",
            "ticks": ""
           }
          },
          "scene": {
           "xaxis": {
            "backgroundcolor": "#E5ECF6",
            "gridcolor": "white",
            "gridwidth": 2,
            "linecolor": "white",
            "showbackground": true,
            "ticks": "",
            "zerolinecolor": "white"
           },
           "yaxis": {
            "backgroundcolor": "#E5ECF6",
            "gridcolor": "white",
            "gridwidth": 2,
            "linecolor": "white",
            "showbackground": true,
            "ticks": "",
            "zerolinecolor": "white"
           },
           "zaxis": {
            "backgroundcolor": "#E5ECF6",
            "gridcolor": "white",
            "gridwidth": 2,
            "linecolor": "white",
            "showbackground": true,
            "ticks": "",
            "zerolinecolor": "white"
           }
          },
          "shapedefaults": {
           "line": {
            "color": "#2a3f5f"
           }
          },
          "ternary": {
           "aaxis": {
            "gridcolor": "white",
            "linecolor": "white",
            "ticks": ""
           },
           "baxis": {
            "gridcolor": "white",
            "linecolor": "white",
            "ticks": ""
           },
           "bgcolor": "#E5ECF6",
           "caxis": {
            "gridcolor": "white",
            "linecolor": "white",
            "ticks": ""
           }
          },
          "title": {
           "x": 0.05
          },
          "xaxis": {
           "automargin": true,
           "gridcolor": "white",
           "linecolor": "white",
           "ticks": "",
           "title": {
            "standoff": 15
           },
           "zerolinecolor": "white",
           "zerolinewidth": 2
          },
          "yaxis": {
           "automargin": true,
           "gridcolor": "white",
           "linecolor": "white",
           "ticks": "",
           "title": {
            "standoff": 15
           },
           "zerolinecolor": "white",
           "zerolinewidth": 2
          }
         }
        },
        "title": {
         "text": "Top 10 PRH4 Categories Among All Customer Groups"
        },
        "xaxis": {
         "anchor": "y",
         "domain": [
          0,
          1
         ],
         "title": {
          "text": "Customer Group"
         }
        },
        "yaxis": {
         "anchor": "x",
         "categoryarray": [
          "Other Prosthetics",
          "Instruments, Drills + Taps",
          "Instruments, Cases + Others",
          "BLAT TiZr Implants, standard",
          "BLAT TiZr Implants, hydrophilic",
          "BLAT Ti Implants, standard",
          "BLAT Ti Implants, hydrophilic",
          "BL Healing Surgical",
          "Abutments, Ti Base",
          "Abutments, SRA"
         ],
         "categoryorder": "array",
         "domain": [
          0,
          1
         ],
         "title": {
          "text": "Product Hierarchy 4 (PRH4)"
         }
        }
       }
      }
     },
     "metadata": {},
     "output_type": "display_data"
    }
   ],
   "source": [
    "#Business question-2 :if you know which cust_group refers which product (combinations(prh4)), you can design more effective marketing campaigns that are directly relavant to needs and interest of groups.\n",
    "\n",
    "import plotly.express as px\n",
    "\n",
    "# Summarize data\n",
    "bubble_data = combined_df.groupby(['PRH4', 'customer_group']).size().reset_index(name='counts')\n",
    "top_10_prh4 = bubble_data.groupby('PRH4')['counts'].sum().nlargest(10).index\n",
    "\n",
    "# Filter for top 10 PRH4 categories\n",
    "top_10_data = bubble_data[bubble_data['PRH4'].isin(top_10_prh4)]\n",
    "\n",
    "# Create the bubble chart\n",
    "fig = px.scatter(top_10_data, x='customer_group', y='PRH4', size='counts', color='PRH4',\n",
    "                 hover_name='customer_group', size_max=60, title=\"Top 10 PRH4 Categories Among All Customer Groups\")\n",
    "fig.update_layout(xaxis_title=\"Customer Group\", yaxis_title=\"Product Hierarchy 4 (PRH4)\")\n",
    "fig.show()\n"
   ]
  },
  {
   "cell_type": "markdown",
   "metadata": {},
   "source": []
  },
  {
   "cell_type": "markdown",
   "metadata": {},
   "source": []
  },
  {
   "cell_type": "code",
   "execution_count": 9,
   "metadata": {},
   "outputs": [
    {
     "data": {
      "application/vnd.plotly.v1+json": {
       "config": {
        "plotlyServerURL": "https://plot.ly"
       },
       "data": [
        {
         "alignmentgroup": "True",
         "hovertemplate": "Product (PRH4): %{y}<br>Total Order Material Net Value: $%{x}<extra></extra>",
         "legendgroup": "BLAT TiZr Implants, hydrophilic",
         "marker": {
          "color": "#636efa",
          "pattern": {
           "shape": ""
          }
         },
         "name": "BLAT TiZr Implants, hydrophilic",
         "offsetgroup": "BLAT TiZr Implants, hydrophilic",
         "orientation": "h",
         "showlegend": true,
         "text": [
          192160267.29
         ],
         "textposition": "auto",
         "type": "bar",
         "x": [
          192160267.29
         ],
         "xaxis": "x",
         "y": [
          "BLAT TiZr Implants, hydrophilic"
         ],
         "yaxis": "y"
        },
        {
         "alignmentgroup": "True",
         "hovertemplate": "Product (PRH4): %{y}<br>Total Order Material Net Value: $%{x}<extra></extra>",
         "legendgroup": "BLAT TiZr Implants, standard",
         "marker": {
          "color": "#EF553B",
          "pattern": {
           "shape": ""
          }
         },
         "name": "BLAT TiZr Implants, standard",
         "offsetgroup": "BLAT TiZr Implants, standard",
         "orientation": "h",
         "showlegend": true,
         "text": [
          122698562.83
         ],
         "textposition": "auto",
         "type": "bar",
         "x": [
          122698562.83
         ],
         "xaxis": "x",
         "y": [
          "BLAT TiZr Implants, standard"
         ],
         "yaxis": "y"
        },
        {
         "alignmentgroup": "True",
         "hovertemplate": "Product (PRH4): %{y}<br>Total Order Material Net Value: $%{x}<extra></extra>",
         "legendgroup": "Other Prosthetics",
         "marker": {
          "color": "#00cc96",
          "pattern": {
           "shape": ""
          }
         },
         "name": "Other Prosthetics",
         "offsetgroup": "Other Prosthetics",
         "orientation": "h",
         "showlegend": true,
         "text": [
          98479648.28
         ],
         "textposition": "auto",
         "type": "bar",
         "x": [
          98479648.28
         ],
         "xaxis": "x",
         "y": [
          "Other Prosthetics"
         ],
         "yaxis": "y"
        },
        {
         "alignmentgroup": "True",
         "hovertemplate": "Product (PRH4): %{y}<br>Total Order Material Net Value: $%{x}<extra></extra>",
         "legendgroup": "BLAT Ti Implants, standard",
         "marker": {
          "color": "#ab63fa",
          "pattern": {
           "shape": ""
          }
         },
         "name": "BLAT Ti Implants, standard",
         "offsetgroup": "BLAT Ti Implants, standard",
         "orientation": "h",
         "showlegend": true,
         "text": [
          97565568.68
         ],
         "textposition": "auto",
         "type": "bar",
         "x": [
          97565568.68
         ],
         "xaxis": "x",
         "y": [
          "BLAT Ti Implants, standard"
         ],
         "yaxis": "y"
        },
        {
         "alignmentgroup": "True",
         "hovertemplate": "Product (PRH4): %{y}<br>Total Order Material Net Value: $%{x}<extra></extra>",
         "legendgroup": "BLFT TiZr Implants, hydrophilic TF",
         "marker": {
          "color": "#FFA15A",
          "pattern": {
           "shape": ""
          }
         },
         "name": "BLFT TiZr Implants, hydrophilic TF",
         "offsetgroup": "BLFT TiZr Implants, hydrophilic TF",
         "orientation": "h",
         "showlegend": true,
         "text": [
          83344723.52
         ],
         "textposition": "auto",
         "type": "bar",
         "x": [
          83344723.52
         ],
         "xaxis": "x",
         "y": [
          "BLFT TiZr Implants, hydrophilic TF"
         ],
         "yaxis": "y"
        },
        {
         "alignmentgroup": "True",
         "hovertemplate": "Product (PRH4): %{y}<br>Total Order Material Net Value: $%{x}<extra></extra>",
         "legendgroup": "BL Healing Surgical",
         "marker": {
          "color": "#19d3f3",
          "pattern": {
           "shape": ""
          }
         },
         "name": "BL Healing Surgical",
         "offsetgroup": "BL Healing Surgical",
         "orientation": "h",
         "showlegend": true,
         "text": [
          68193740.15
         ],
         "textposition": "auto",
         "type": "bar",
         "x": [
          68193740.15
         ],
         "xaxis": "x",
         "y": [
          "BL Healing Surgical"
         ],
         "yaxis": "y"
        },
        {
         "alignmentgroup": "True",
         "hovertemplate": "Product (PRH4): %{y}<br>Total Order Material Net Value: $%{x}<extra></extra>",
         "legendgroup": "Abutments, SRA",
         "marker": {
          "color": "#FF6692",
          "pattern": {
           "shape": ""
          }
         },
         "name": "Abutments, SRA",
         "offsetgroup": "Abutments, SRA",
         "orientation": "h",
         "showlegend": true,
         "text": [
          64860592.18
         ],
         "textposition": "auto",
         "type": "bar",
         "x": [
          64860592.18
         ],
         "xaxis": "x",
         "y": [
          "Abutments, SRA"
         ],
         "yaxis": "y"
        },
        {
         "alignmentgroup": "True",
         "hovertemplate": "Product (PRH4): %{y}<br>Total Order Material Net Value: $%{x}<extra></extra>",
         "legendgroup": "BLAT Ti Implants, hydrophilic",
         "marker": {
          "color": "#B6E880",
          "pattern": {
           "shape": ""
          }
         },
         "name": "BLAT Ti Implants, hydrophilic",
         "offsetgroup": "BLAT Ti Implants, hydrophilic",
         "orientation": "h",
         "showlegend": true,
         "text": [
          59028487.18
         ],
         "textposition": "auto",
         "type": "bar",
         "x": [
          59028487.18
         ],
         "xaxis": "x",
         "y": [
          "BLAT Ti Implants, hydrophilic"
         ],
         "yaxis": "y"
        },
        {
         "alignmentgroup": "True",
         "hovertemplate": "Product (PRH4): %{y}<br>Total Order Material Net Value: $%{x}<extra></extra>",
         "legendgroup": "IntraOral Hardware",
         "marker": {
          "color": "#FF97FF",
          "pattern": {
           "shape": ""
          }
         },
         "name": "IntraOral Hardware",
         "offsetgroup": "IntraOral Hardware",
         "orientation": "h",
         "showlegend": true,
         "text": [
          52340954.15
         ],
         "textposition": "auto",
         "type": "bar",
         "x": [
          52340954.15
         ],
         "xaxis": "x",
         "y": [
          "IntraOral Hardware"
         ],
         "yaxis": "y"
        },
        {
         "alignmentgroup": "True",
         "hovertemplate": "Product (PRH4): %{y}<br>Total Order Material Net Value: $%{x}<extra></extra>",
         "legendgroup": "BLPW TiZr Implants, hydrophilic",
         "marker": {
          "color": "#FECB52",
          "pattern": {
           "shape": ""
          }
         },
         "name": "BLPW TiZr Implants, hydrophilic",
         "offsetgroup": "BLPW TiZr Implants, hydrophilic",
         "orientation": "h",
         "showlegend": true,
         "text": [
          49768277.53
         ],
         "textposition": "auto",
         "type": "bar",
         "x": [
          49768277.53
         ],
         "xaxis": "x",
         "y": [
          "BLPW TiZr Implants, hydrophilic"
         ],
         "yaxis": "y"
        }
       ],
       "layout": {
        "barmode": "relative",
        "coloraxis": {
         "showscale": false
        },
        "height": 500,
        "legend": {
         "title": {
          "text": "Product (PRH4)"
         },
         "tracegroupgap": 0
        },
        "template": {
         "data": {
          "bar": [
           {
            "error_x": {
             "color": "#2a3f5f"
            },
            "error_y": {
             "color": "#2a3f5f"
            },
            "marker": {
             "line": {
              "color": "#E5ECF6",
              "width": 0.5
             },
             "pattern": {
              "fillmode": "overlay",
              "size": 10,
              "solidity": 0.2
             }
            },
            "type": "bar"
           }
          ],
          "barpolar": [
           {
            "marker": {
             "line": {
              "color": "#E5ECF6",
              "width": 0.5
             },
             "pattern": {
              "fillmode": "overlay",
              "size": 10,
              "solidity": 0.2
             }
            },
            "type": "barpolar"
           }
          ],
          "carpet": [
           {
            "aaxis": {
             "endlinecolor": "#2a3f5f",
             "gridcolor": "white",
             "linecolor": "white",
             "minorgridcolor": "white",
             "startlinecolor": "#2a3f5f"
            },
            "baxis": {
             "endlinecolor": "#2a3f5f",
             "gridcolor": "white",
             "linecolor": "white",
             "minorgridcolor": "white",
             "startlinecolor": "#2a3f5f"
            },
            "type": "carpet"
           }
          ],
          "choropleth": [
           {
            "colorbar": {
             "outlinewidth": 0,
             "ticks": ""
            },
            "type": "choropleth"
           }
          ],
          "contour": [
           {
            "colorbar": {
             "outlinewidth": 0,
             "ticks": ""
            },
            "colorscale": [
             [
              0,
              "#0d0887"
             ],
             [
              0.1111111111111111,
              "#46039f"
             ],
             [
              0.2222222222222222,
              "#7201a8"
             ],
             [
              0.3333333333333333,
              "#9c179e"
             ],
             [
              0.4444444444444444,
              "#bd3786"
             ],
             [
              0.5555555555555556,
              "#d8576b"
             ],
             [
              0.6666666666666666,
              "#ed7953"
             ],
             [
              0.7777777777777778,
              "#fb9f3a"
             ],
             [
              0.8888888888888888,
              "#fdca26"
             ],
             [
              1,
              "#f0f921"
             ]
            ],
            "type": "contour"
           }
          ],
          "contourcarpet": [
           {
            "colorbar": {
             "outlinewidth": 0,
             "ticks": ""
            },
            "type": "contourcarpet"
           }
          ],
          "heatmap": [
           {
            "colorbar": {
             "outlinewidth": 0,
             "ticks": ""
            },
            "colorscale": [
             [
              0,
              "#0d0887"
             ],
             [
              0.1111111111111111,
              "#46039f"
             ],
             [
              0.2222222222222222,
              "#7201a8"
             ],
             [
              0.3333333333333333,
              "#9c179e"
             ],
             [
              0.4444444444444444,
              "#bd3786"
             ],
             [
              0.5555555555555556,
              "#d8576b"
             ],
             [
              0.6666666666666666,
              "#ed7953"
             ],
             [
              0.7777777777777778,
              "#fb9f3a"
             ],
             [
              0.8888888888888888,
              "#fdca26"
             ],
             [
              1,
              "#f0f921"
             ]
            ],
            "type": "heatmap"
           }
          ],
          "heatmapgl": [
           {
            "colorbar": {
             "outlinewidth": 0,
             "ticks": ""
            },
            "colorscale": [
             [
              0,
              "#0d0887"
             ],
             [
              0.1111111111111111,
              "#46039f"
             ],
             [
              0.2222222222222222,
              "#7201a8"
             ],
             [
              0.3333333333333333,
              "#9c179e"
             ],
             [
              0.4444444444444444,
              "#bd3786"
             ],
             [
              0.5555555555555556,
              "#d8576b"
             ],
             [
              0.6666666666666666,
              "#ed7953"
             ],
             [
              0.7777777777777778,
              "#fb9f3a"
             ],
             [
              0.8888888888888888,
              "#fdca26"
             ],
             [
              1,
              "#f0f921"
             ]
            ],
            "type": "heatmapgl"
           }
          ],
          "histogram": [
           {
            "marker": {
             "pattern": {
              "fillmode": "overlay",
              "size": 10,
              "solidity": 0.2
             }
            },
            "type": "histogram"
           }
          ],
          "histogram2d": [
           {
            "colorbar": {
             "outlinewidth": 0,
             "ticks": ""
            },
            "colorscale": [
             [
              0,
              "#0d0887"
             ],
             [
              0.1111111111111111,
              "#46039f"
             ],
             [
              0.2222222222222222,
              "#7201a8"
             ],
             [
              0.3333333333333333,
              "#9c179e"
             ],
             [
              0.4444444444444444,
              "#bd3786"
             ],
             [
              0.5555555555555556,
              "#d8576b"
             ],
             [
              0.6666666666666666,
              "#ed7953"
             ],
             [
              0.7777777777777778,
              "#fb9f3a"
             ],
             [
              0.8888888888888888,
              "#fdca26"
             ],
             [
              1,
              "#f0f921"
             ]
            ],
            "type": "histogram2d"
           }
          ],
          "histogram2dcontour": [
           {
            "colorbar": {
             "outlinewidth": 0,
             "ticks": ""
            },
            "colorscale": [
             [
              0,
              "#0d0887"
             ],
             [
              0.1111111111111111,
              "#46039f"
             ],
             [
              0.2222222222222222,
              "#7201a8"
             ],
             [
              0.3333333333333333,
              "#9c179e"
             ],
             [
              0.4444444444444444,
              "#bd3786"
             ],
             [
              0.5555555555555556,
              "#d8576b"
             ],
             [
              0.6666666666666666,
              "#ed7953"
             ],
             [
              0.7777777777777778,
              "#fb9f3a"
             ],
             [
              0.8888888888888888,
              "#fdca26"
             ],
             [
              1,
              "#f0f921"
             ]
            ],
            "type": "histogram2dcontour"
           }
          ],
          "mesh3d": [
           {
            "colorbar": {
             "outlinewidth": 0,
             "ticks": ""
            },
            "type": "mesh3d"
           }
          ],
          "parcoords": [
           {
            "line": {
             "colorbar": {
              "outlinewidth": 0,
              "ticks": ""
             }
            },
            "type": "parcoords"
           }
          ],
          "pie": [
           {
            "automargin": true,
            "type": "pie"
           }
          ],
          "scatter": [
           {
            "fillpattern": {
             "fillmode": "overlay",
             "size": 10,
             "solidity": 0.2
            },
            "type": "scatter"
           }
          ],
          "scatter3d": [
           {
            "line": {
             "colorbar": {
              "outlinewidth": 0,
              "ticks": ""
             }
            },
            "marker": {
             "colorbar": {
              "outlinewidth": 0,
              "ticks": ""
             }
            },
            "type": "scatter3d"
           }
          ],
          "scattercarpet": [
           {
            "marker": {
             "colorbar": {
              "outlinewidth": 0,
              "ticks": ""
             }
            },
            "type": "scattercarpet"
           }
          ],
          "scattergeo": [
           {
            "marker": {
             "colorbar": {
              "outlinewidth": 0,
              "ticks": ""
             }
            },
            "type": "scattergeo"
           }
          ],
          "scattergl": [
           {
            "marker": {
             "colorbar": {
              "outlinewidth": 0,
              "ticks": ""
             }
            },
            "type": "scattergl"
           }
          ],
          "scattermapbox": [
           {
            "marker": {
             "colorbar": {
              "outlinewidth": 0,
              "ticks": ""
             }
            },
            "type": "scattermapbox"
           }
          ],
          "scatterpolar": [
           {
            "marker": {
             "colorbar": {
              "outlinewidth": 0,
              "ticks": ""
             }
            },
            "type": "scatterpolar"
           }
          ],
          "scatterpolargl": [
           {
            "marker": {
             "colorbar": {
              "outlinewidth": 0,
              "ticks": ""
             }
            },
            "type": "scatterpolargl"
           }
          ],
          "scatterternary": [
           {
            "marker": {
             "colorbar": {
              "outlinewidth": 0,
              "ticks": ""
             }
            },
            "type": "scatterternary"
           }
          ],
          "surface": [
           {
            "colorbar": {
             "outlinewidth": 0,
             "ticks": ""
            },
            "colorscale": [
             [
              0,
              "#0d0887"
             ],
             [
              0.1111111111111111,
              "#46039f"
             ],
             [
              0.2222222222222222,
              "#7201a8"
             ],
             [
              0.3333333333333333,
              "#9c179e"
             ],
             [
              0.4444444444444444,
              "#bd3786"
             ],
             [
              0.5555555555555556,
              "#d8576b"
             ],
             [
              0.6666666666666666,
              "#ed7953"
             ],
             [
              0.7777777777777778,
              "#fb9f3a"
             ],
             [
              0.8888888888888888,
              "#fdca26"
             ],
             [
              1,
              "#f0f921"
             ]
            ],
            "type": "surface"
           }
          ],
          "table": [
           {
            "cells": {
             "fill": {
              "color": "#EBF0F8"
             },
             "line": {
              "color": "white"
             }
            },
            "header": {
             "fill": {
              "color": "#C8D4E3"
             },
             "line": {
              "color": "white"
             }
            },
            "type": "table"
           }
          ]
         },
         "layout": {
          "annotationdefaults": {
           "arrowcolor": "#2a3f5f",
           "arrowhead": 0,
           "arrowwidth": 1
          },
          "autotypenumbers": "strict",
          "coloraxis": {
           "colorbar": {
            "outlinewidth": 0,
            "ticks": ""
           }
          },
          "colorscale": {
           "diverging": [
            [
             0,
             "#8e0152"
            ],
            [
             0.1,
             "#c51b7d"
            ],
            [
             0.2,
             "#de77ae"
            ],
            [
             0.3,
             "#f1b6da"
            ],
            [
             0.4,
             "#fde0ef"
            ],
            [
             0.5,
             "#f7f7f7"
            ],
            [
             0.6,
             "#e6f5d0"
            ],
            [
             0.7,
             "#b8e186"
            ],
            [
             0.8,
             "#7fbc41"
            ],
            [
             0.9,
             "#4d9221"
            ],
            [
             1,
             "#276419"
            ]
           ],
           "sequential": [
            [
             0,
             "#0d0887"
            ],
            [
             0.1111111111111111,
             "#46039f"
            ],
            [
             0.2222222222222222,
             "#7201a8"
            ],
            [
             0.3333333333333333,
             "#9c179e"
            ],
            [
             0.4444444444444444,
             "#bd3786"
            ],
            [
             0.5555555555555556,
             "#d8576b"
            ],
            [
             0.6666666666666666,
             "#ed7953"
            ],
            [
             0.7777777777777778,
             "#fb9f3a"
            ],
            [
             0.8888888888888888,
             "#fdca26"
            ],
            [
             1,
             "#f0f921"
            ]
           ],
           "sequentialminus": [
            [
             0,
             "#0d0887"
            ],
            [
             0.1111111111111111,
             "#46039f"
            ],
            [
             0.2222222222222222,
             "#7201a8"
            ],
            [
             0.3333333333333333,
             "#9c179e"
            ],
            [
             0.4444444444444444,
             "#bd3786"
            ],
            [
             0.5555555555555556,
             "#d8576b"
            ],
            [
             0.6666666666666666,
             "#ed7953"
            ],
            [
             0.7777777777777778,
             "#fb9f3a"
            ],
            [
             0.8888888888888888,
             "#fdca26"
            ],
            [
             1,
             "#f0f921"
            ]
           ]
          },
          "colorway": [
           "#636efa",
           "#EF553B",
           "#00cc96",
           "#ab63fa",
           "#FFA15A",
           "#19d3f3",
           "#FF6692",
           "#B6E880",
           "#FF97FF",
           "#FECB52"
          ],
          "font": {
           "color": "#2a3f5f"
          },
          "geo": {
           "bgcolor": "white",
           "lakecolor": "white",
           "landcolor": "#E5ECF6",
           "showlakes": true,
           "showland": true,
           "subunitcolor": "white"
          },
          "hoverlabel": {
           "align": "left"
          },
          "hovermode": "closest",
          "mapbox": {
           "style": "light"
          },
          "paper_bgcolor": "white",
          "plot_bgcolor": "#E5ECF6",
          "polar": {
           "angularaxis": {
            "gridcolor": "white",
            "linecolor": "white",
            "ticks": ""
           },
           "bgcolor": "#E5ECF6",
           "radialaxis": {
            "gridcolor": "white",
            "linecolor": "white",
            "ticks": ""
           }
          },
          "scene": {
           "xaxis": {
            "backgroundcolor": "#E5ECF6",
            "gridcolor": "white",
            "gridwidth": 2,
            "linecolor": "white",
            "showbackground": true,
            "ticks": "",
            "zerolinecolor": "white"
           },
           "yaxis": {
            "backgroundcolor": "#E5ECF6",
            "gridcolor": "white",
            "gridwidth": 2,
            "linecolor": "white",
            "showbackground": true,
            "ticks": "",
            "zerolinecolor": "white"
           },
           "zaxis": {
            "backgroundcolor": "#E5ECF6",
            "gridcolor": "white",
            "gridwidth": 2,
            "linecolor": "white",
            "showbackground": true,
            "ticks": "",
            "zerolinecolor": "white"
           }
          },
          "shapedefaults": {
           "line": {
            "color": "#2a3f5f"
           }
          },
          "ternary": {
           "aaxis": {
            "gridcolor": "white",
            "linecolor": "white",
            "ticks": ""
           },
           "baxis": {
            "gridcolor": "white",
            "linecolor": "white",
            "ticks": ""
           },
           "bgcolor": "#E5ECF6",
           "caxis": {
            "gridcolor": "white",
            "linecolor": "white",
            "ticks": ""
           }
          },
          "title": {
           "x": 0.05
          },
          "xaxis": {
           "automargin": true,
           "gridcolor": "white",
           "linecolor": "white",
           "ticks": "",
           "title": {
            "standoff": 15
           },
           "zerolinecolor": "white",
           "zerolinewidth": 2
          },
          "yaxis": {
           "automargin": true,
           "gridcolor": "white",
           "linecolor": "white",
           "ticks": "",
           "title": {
            "standoff": 15
           },
           "zerolinecolor": "white",
           "zerolinewidth": 2
          }
         }
        },
        "title": {
         "text": "Top 10 Products by Total Order Material Net Value"
        },
        "xaxis": {
         "anchor": "y",
         "domain": [
          0,
          1
         ],
         "title": {
          "text": "Total Order Material Net Value ($)"
         }
        },
        "yaxis": {
         "anchor": "x",
         "categoryarray": [
          "BLPW TiZr Implants, hydrophilic",
          "IntraOral Hardware",
          "BLAT Ti Implants, hydrophilic",
          "Abutments, SRA",
          "BL Healing Surgical",
          "BLFT TiZr Implants, hydrophilic TF",
          "BLAT Ti Implants, standard",
          "Other Prosthetics",
          "BLAT TiZr Implants, standard",
          "BLAT TiZr Implants, hydrophilic"
         ],
         "categoryorder": "array",
         "domain": [
          0,
          1
         ],
         "title": {
          "text": "Product (PRH4)"
         }
        }
       }
      }
     },
     "metadata": {},
     "output_type": "display_data"
    }
   ],
   "source": [
    "import plotly.express as px\n",
    "\n",
    "# Calculate total 'order_material_net_value' for each product (PRH4)\n",
    "product_totals = combined_df.groupby('PRH4')['order_material_net_value'].sum().sort_values(ascending=False)\n",
    "\n",
    "# Select the top 10 products\n",
    "top_products = product_totals.head(10)\n",
    "\n",
    "# Create a DataFrame for the plot\n",
    "top_products_df = top_products.reset_index()\n",
    "top_products_df.columns = ['Product (PRH4)', 'Total Order Material Net Value']\n",
    "\n",
    "# Create an interactive horizontal bar chart\n",
    "fig = px.bar(top_products_df, x='Total Order Material Net Value', y='Product (PRH4)',\n",
    "             title='Top 10 Products by Total Order Material Net Value',\n",
    "             labels={'Total Order Material Net Value': 'Total Order Material Net Value', 'Product (PRH4)': 'Product (PRH4)'},\n",
    "             orientation='h', color='Product (PRH4)',  # Color by product\n",
    "             height=500, text='Total Order Material Net Value')  # Display values on bars\n",
    "\n",
    "# Customize hover data\n",
    "fig.update_traces(hovertemplate='Product (PRH4): %{y}<br>Total Order Material Net Value: $%{x}<extra></extra>')\n",
    "\n",
    "# Adjust layout for readability\n",
    "fig.update_layout(xaxis_title='Total Order Material Net Value ($)',\n",
    "                  yaxis_title='Product (PRH4)',\n",
    "                  coloraxis_showscale=False)  # Hide color scale if not needed\n",
    "\n",
    "fig.show()\n"
   ]
  },
  {
   "cell_type": "markdown",
   "metadata": {},
   "source": [
    "We can say that the cusomer group who bought BLAT TiZr Implants has high chance they bought hydrophilic andhydrophilicTF. So these can be one combination."
   ]
  },
  {
   "cell_type": "markdown",
   "metadata": {},
   "source": []
  },
  {
   "cell_type": "code",
   "execution_count": 10,
   "metadata": {},
   "outputs": [
    {
     "name": "stdout",
     "output_type": "stream",
     "text": [
      "Index(['PRH1', 'PRH4', 'order_material_net_value_x', 'order_date',\n",
      "       'order_number', 'material_number', 'order_material_net_value_y',\n",
      "       'sales_channel', 'customer_group', 'customer_number', 'region',\n",
      "       'DSO_Ind', 'Year', 'Sales_Channel'],\n",
      "      dtype='object')\n"
     ]
    },
    {
     "data": {
      "application/vnd.plotly.v1+json": {
       "config": {
        "plotlyServerURL": "https://plot.ly"
       },
       "data": [
        {
         "branchvalues": "total",
         "domain": {
          "x": [
           0,
           1
          ],
          "y": [
           0,
           1
          ]
         },
         "hovertemplate": "<b>%{label}</b><br>Revenue: $%{value}<extra></extra>",
         "ids": [
          "Restorative Solutions/Other Prosthetics/Denturist/eShop",
          "Restorative Solutions/Abutments, SRA/General dentist/eShop",
          "Implant Solutions/BL Healing Surgical/General dentist/eShop",
          "Implant Solutions/BLAT Ti Implants, hydrophilic/General dentist/eShop",
          "Implant Solutions/BLAT Ti Implants, standard/General dentist/eShop",
          "Implant Solutions/BLAT TiZr Implants, hydrophilic/General dentist/eShop",
          "Implant Solutions/BLAT TiZr Implants, standard/General dentist/eShop",
          "Implant Solutions/BLFT TiZr Implants, hydrophilic TF/General dentist/eShop",
          "Implant Solutions/BLPW TiZr Implants, hydrophilic/General dentist/eShop",
          "Restorative Solutions/Other Prosthetics/General dentist/eShop",
          "Restorative Solutions/Abutments, SRA/Government/Military/eShop",
          "Implant Solutions/BL Healing Surgical/Government/Military/eShop",
          "Implant Solutions/BLAT TiZr Implants, hydrophilic/Government/Military/eShop",
          "Implant Solutions/BLAT TiZr Implants, standard/Government/Military/eShop",
          "Implant Solutions/BLPW TiZr Implants, hydrophilic/Government/Military/eShop",
          "Restorative Solutions/Other Prosthetics/Government/Military/eShop",
          "Restorative Solutions/Abutments, SRA/Hospital/Clinic/eShop",
          "Implant Solutions/BL Healing Surgical/Hospital/Clinic/eShop",
          "Implant Solutions/BLAT Ti Implants, hydrophilic/Hospital/Clinic/eShop",
          "Implant Solutions/BLAT Ti Implants, standard/Hospital/Clinic/eShop",
          "Implant Solutions/BLAT TiZr Implants, hydrophilic/Hospital/Clinic/eShop",
          "Implant Solutions/BLAT TiZr Implants, standard/Hospital/Clinic/eShop",
          "Implant Solutions/BLFT TiZr Implants, hydrophilic TF/Hospital/Clinic/eShop",
          "Implant Solutions/BLPW TiZr Implants, hydrophilic/Hospital/Clinic/eShop",
          "Restorative Solutions/Other Prosthetics/Hospital/Clinic/eShop",
          "Restorative Solutions/Abutments, SRA/In-house Laboratory/eShop",
          "Implant Solutions/BL Healing Surgical/In-house Laboratory/eShop",
          "Implant Solutions/BLAT Ti Implants, hydrophilic/In-house Laboratory/eShop",
          "Restorative Solutions/Other Prosthetics/In-house Laboratory/eShop",
          "Restorative Solutions/Abutments, SRA/Laboratory/eShop",
          "Implant Solutions/BL Healing Surgical/Laboratory/eShop",
          "Implant Solutions/BLAT Ti Implants, hydrophilic/Laboratory/eShop",
          "Implant Solutions/BLAT Ti Implants, standard/Laboratory/eShop",
          "Implant Solutions/BLAT TiZr Implants, hydrophilic/Laboratory/eShop",
          "Implant Solutions/BLAT TiZr Implants, standard/Laboratory/eShop",
          "Implant Solutions/BLFT TiZr Implants, hydrophilic TF/Laboratory/eShop",
          "Implant Solutions/BLPW TiZr Implants, hydrophilic/Laboratory/eShop",
          "Restorative Solutions/Other Prosthetics/Laboratory/eShop",
          "Restorative Solutions/Abutments, SRA/Maxillofacial surg/eShop",
          "Implant Solutions/BL Healing Surgical/Maxillofacial surg/eShop",
          "Implant Solutions/BLAT Ti Implants, hydrophilic/Maxillofacial surg/eShop",
          "Implant Solutions/BLAT Ti Implants, standard/Maxillofacial surg/eShop",
          "Implant Solutions/BLAT TiZr Implants, hydrophilic/Maxillofacial surg/eShop",
          "Implant Solutions/BLAT TiZr Implants, standard/Maxillofacial surg/eShop",
          "Implant Solutions/BLFT TiZr Implants, hydrophilic TF/Maxillofacial surg/eShop",
          "Implant Solutions/BLPW TiZr Implants, hydrophilic/Maxillofacial surg/eShop",
          "Restorative Solutions/Other Prosthetics/Maxillofacial surg/eShop",
          "Restorative Solutions/Abutments, SRA/NOT MAPPED/eShop",
          "Implant Solutions/BL Healing Surgical/NOT MAPPED/eShop",
          "Implant Solutions/BLAT Ti Implants, hydrophilic/NOT MAPPED/eShop",
          "Implant Solutions/BLAT Ti Implants, standard/NOT MAPPED/eShop",
          "Implant Solutions/BLAT TiZr Implants, hydrophilic/NOT MAPPED/eShop",
          "Implant Solutions/BLAT TiZr Implants, standard/NOT MAPPED/eShop",
          "Implant Solutions/BLFT TiZr Implants, hydrophilic TF/NOT MAPPED/eShop",
          "Implant Solutions/BLPW TiZr Implants, hydrophilic/NOT MAPPED/eShop",
          "Restorative Solutions/Other Prosthetics/NOT MAPPED/eShop",
          "Restorative Solutions/Abutments, SRA/Orthodontist/eShop",
          "Implant Solutions/BL Healing Surgical/Orthodontist/eShop",
          "Implant Solutions/BLAT Ti Implants, hydrophilic/Orthodontist/eShop",
          "Implant Solutions/BLAT Ti Implants, standard/Orthodontist/eShop",
          "Implant Solutions/BLAT TiZr Implants, hydrophilic/Orthodontist/eShop",
          "Implant Solutions/BLAT TiZr Implants, standard/Orthodontist/eShop",
          "Implant Solutions/BLFT TiZr Implants, hydrophilic TF/Orthodontist/eShop",
          "Implant Solutions/BLPW TiZr Implants, hydrophilic/Orthodontist/eShop",
          "Restorative Solutions/Other Prosthetics/Orthodontist/eShop",
          "Restorative Solutions/Abutments, SRA/Others/eShop",
          "Implant Solutions/BL Healing Surgical/Others/eShop",
          "Implant Solutions/BLAT Ti Implants, hydrophilic/Others/eShop",
          "Implant Solutions/BLAT Ti Implants, standard/Others/eShop",
          "Implant Solutions/BLAT TiZr Implants, hydrophilic/Others/eShop",
          "Implant Solutions/BLAT TiZr Implants, standard/Others/eShop",
          "Implant Solutions/BLFT TiZr Implants, hydrophilic TF/Others/eShop",
          "Restorative Solutions/Other Prosthetics/Others/eShop",
          "Restorative Solutions/Abutments, SRA/Periodontist/eShop",
          "Implant Solutions/BL Healing Surgical/Periodontist/eShop",
          "Implant Solutions/BLAT Ti Implants, hydrophilic/Periodontist/eShop",
          "Implant Solutions/BLAT Ti Implants, standard/Periodontist/eShop",
          "Implant Solutions/BLAT TiZr Implants, hydrophilic/Periodontist/eShop",
          "Implant Solutions/BLAT TiZr Implants, standard/Periodontist/eShop",
          "Implant Solutions/BLFT TiZr Implants, hydrophilic TF/Periodontist/eShop",
          "Implant Solutions/BLPW TiZr Implants, hydrophilic/Periodontist/eShop",
          "Restorative Solutions/Other Prosthetics/Periodontist/eShop",
          "Restorative Solutions/Abutments, SRA/Prosthodontist/eShop",
          "Implant Solutions/BL Healing Surgical/Prosthodontist/eShop",
          "Implant Solutions/BLAT Ti Implants, hydrophilic/Prosthodontist/eShop",
          "Implant Solutions/BLAT Ti Implants, standard/Prosthodontist/eShop",
          "Implant Solutions/BLAT TiZr Implants, hydrophilic/Prosthodontist/eShop",
          "Implant Solutions/BLAT TiZr Implants, standard/Prosthodontist/eShop",
          "Implant Solutions/BLFT TiZr Implants, hydrophilic TF/Prosthodontist/eShop",
          "Implant Solutions/BLPW TiZr Implants, hydrophilic/Prosthodontist/eShop",
          "Restorative Solutions/Other Prosthetics/Prosthodontist/eShop",
          "Implant Solutions/BLAT Ti Implants, standard/Staff/eShop",
          "Implant Solutions/BLAT TiZr Implants, hydrophilic/Staff/eShop",
          "Restorative Solutions/Other Prosthetics/Staff/eShop",
          "Restorative Solutions/Abutments, SRA/Surgeon (gen./oral)/eShop",
          "Implant Solutions/BL Healing Surgical/Surgeon (gen./oral)/eShop",
          "Implant Solutions/BLAT Ti Implants, hydrophilic/Surgeon (gen./oral)/eShop",
          "Implant Solutions/BLAT Ti Implants, standard/Surgeon (gen./oral)/eShop",
          "Implant Solutions/BLAT TiZr Implants, hydrophilic/Surgeon (gen./oral)/eShop",
          "Implant Solutions/BLAT TiZr Implants, standard/Surgeon (gen./oral)/eShop",
          "Implant Solutions/BLFT TiZr Implants, hydrophilic TF/Surgeon (gen./oral)/eShop",
          "Implant Solutions/BLPW TiZr Implants, hydrophilic/Surgeon (gen./oral)/eShop",
          "Restorative Solutions/Other Prosthetics/Surgeon (gen./oral)/eShop",
          "Restorative Solutions/Abutments, SRA/University/eShop",
          "Implant Solutions/BL Healing Surgical/University/eShop",
          "Implant Solutions/BLAT Ti Implants, hydrophilic/University/eShop",
          "Implant Solutions/BLAT Ti Implants, standard/University/eShop",
          "Implant Solutions/BLAT TiZr Implants, hydrophilic/University/eShop",
          "Implant Solutions/BLAT TiZr Implants, standard/University/eShop",
          "Implant Solutions/BLFT TiZr Implants, hydrophilic TF/University/eShop",
          "Implant Solutions/BLPW TiZr Implants, hydrophilic/University/eShop",
          "Restorative Solutions/Other Prosthetics/University/eShop",
          "Restorative Solutions/Abutments, SRA/Central services/non-eShop",
          "Implant Solutions/BL Healing Surgical/Central services/non-eShop",
          "Implant Solutions/BLAT TiZr Implants, hydrophilic/Central services/non-eShop",
          "Restorative Solutions/Other Prosthetics/Central services/non-eShop",
          "Restorative Solutions/Abutments, SRA/Denturist/non-eShop",
          "Implant Solutions/BLAT Ti Implants, standard/Denturist/non-eShop",
          "Restorative Solutions/Other Prosthetics/Denturist/non-eShop",
          "Digital Enablers/IntraOral Hardware/Distributor/Reseller/non-eShop",
          "Restorative Solutions/Abutments, SRA/General dentist/non-eShop",
          "Implant Solutions/BL Healing Surgical/General dentist/non-eShop",
          "Implant Solutions/BLAT Ti Implants, hydrophilic/General dentist/non-eShop",
          "Implant Solutions/BLAT Ti Implants, standard/General dentist/non-eShop",
          "Implant Solutions/BLAT TiZr Implants, hydrophilic/General dentist/non-eShop",
          "Implant Solutions/BLAT TiZr Implants, standard/General dentist/non-eShop",
          "Implant Solutions/BLFT TiZr Implants, hydrophilic TF/General dentist/non-eShop",
          "Implant Solutions/BLPW TiZr Implants, hydrophilic/General dentist/non-eShop",
          "Digital Enablers/IntraOral Hardware/General dentist/non-eShop",
          "Restorative Solutions/Other Prosthetics/General dentist/non-eShop",
          "Restorative Solutions/Abutments, SRA/Government/Military/non-eShop",
          "Implant Solutions/BL Healing Surgical/Government/Military/non-eShop",
          "Implant Solutions/BLAT TiZr Implants, hydrophilic/Government/Military/non-eShop",
          "Implant Solutions/BLAT TiZr Implants, standard/Government/Military/non-eShop",
          "Implant Solutions/BLPW TiZr Implants, hydrophilic/Government/Military/non-eShop",
          "Restorative Solutions/Other Prosthetics/Government/Military/non-eShop",
          "Restorative Solutions/Abutments, SRA/Hospital/Clinic/non-eShop",
          "Implant Solutions/BL Healing Surgical/Hospital/Clinic/non-eShop",
          "Implant Solutions/BLAT Ti Implants, hydrophilic/Hospital/Clinic/non-eShop",
          "Implant Solutions/BLAT Ti Implants, standard/Hospital/Clinic/non-eShop",
          "Implant Solutions/BLAT TiZr Implants, hydrophilic/Hospital/Clinic/non-eShop",
          "Implant Solutions/BLAT TiZr Implants, standard/Hospital/Clinic/non-eShop",
          "Implant Solutions/BLFT TiZr Implants, hydrophilic TF/Hospital/Clinic/non-eShop",
          "Implant Solutions/BLPW TiZr Implants, hydrophilic/Hospital/Clinic/non-eShop",
          "Digital Enablers/IntraOral Hardware/Hospital/Clinic/non-eShop",
          "Restorative Solutions/Other Prosthetics/Hospital/Clinic/non-eShop",
          "Restorative Solutions/Abutments, SRA/In-house Laboratory/non-eShop",
          "Implant Solutions/BL Healing Surgical/In-house Laboratory/non-eShop",
          "Implant Solutions/BLAT Ti Implants, hydrophilic/In-house Laboratory/non-eShop",
          "Implant Solutions/BLAT Ti Implants, standard/In-house Laboratory/non-eShop",
          "Implant Solutions/BLAT TiZr Implants, hydrophilic/In-house Laboratory/non-eShop",
          "Implant Solutions/BLAT TiZr Implants, standard/In-house Laboratory/non-eShop",
          "Implant Solutions/BLFT TiZr Implants, hydrophilic TF/In-house Laboratory/non-eShop",
          "Digital Enablers/IntraOral Hardware/In-house Laboratory/non-eShop",
          "Restorative Solutions/Other Prosthetics/In-house Laboratory/non-eShop",
          "Restorative Solutions/Abutments, SRA/Institution/non-eShop",
          "Implant Solutions/BL Healing Surgical/Institution/non-eShop",
          "Implant Solutions/BLAT Ti Implants, standard/Institution/non-eShop",
          "Restorative Solutions/Other Prosthetics/Institution/non-eShop",
          "Restorative Solutions/Abutments, SRA/Laboratory/non-eShop",
          "Implant Solutions/BL Healing Surgical/Laboratory/non-eShop",
          "Implant Solutions/BLAT Ti Implants, hydrophilic/Laboratory/non-eShop",
          "Implant Solutions/BLAT Ti Implants, standard/Laboratory/non-eShop",
          "Implant Solutions/BLAT TiZr Implants, hydrophilic/Laboratory/non-eShop",
          "Implant Solutions/BLAT TiZr Implants, standard/Laboratory/non-eShop",
          "Implant Solutions/BLFT TiZr Implants, hydrophilic TF/Laboratory/non-eShop",
          "Implant Solutions/BLPW TiZr Implants, hydrophilic/Laboratory/non-eShop",
          "Digital Enablers/IntraOral Hardware/Laboratory/non-eShop",
          "Restorative Solutions/Other Prosthetics/Laboratory/non-eShop",
          "Restorative Solutions/Abutments, SRA/Maxillofacial surg/non-eShop",
          "Implant Solutions/BL Healing Surgical/Maxillofacial surg/non-eShop",
          "Implant Solutions/BLAT Ti Implants, hydrophilic/Maxillofacial surg/non-eShop",
          "Implant Solutions/BLAT Ti Implants, standard/Maxillofacial surg/non-eShop",
          "Implant Solutions/BLAT TiZr Implants, hydrophilic/Maxillofacial surg/non-eShop",
          "Implant Solutions/BLAT TiZr Implants, standard/Maxillofacial surg/non-eShop",
          "Implant Solutions/BLFT TiZr Implants, hydrophilic TF/Maxillofacial surg/non-eShop",
          "Implant Solutions/BLPW TiZr Implants, hydrophilic/Maxillofacial surg/non-eShop",
          "Digital Enablers/IntraOral Hardware/Maxillofacial surg/non-eShop",
          "Restorative Solutions/Other Prosthetics/Maxillofacial surg/non-eShop",
          "Restorative Solutions/Abutments, SRA/NOT MAPPED/non-eShop",
          "Implant Solutions/BL Healing Surgical/NOT MAPPED/non-eShop",
          "Implant Solutions/BLAT Ti Implants, hydrophilic/NOT MAPPED/non-eShop",
          "Implant Solutions/BLAT Ti Implants, standard/NOT MAPPED/non-eShop",
          "Implant Solutions/BLAT TiZr Implants, hydrophilic/NOT MAPPED/non-eShop",
          "Implant Solutions/BLAT TiZr Implants, standard/NOT MAPPED/non-eShop",
          "Implant Solutions/BLFT TiZr Implants, hydrophilic TF/NOT MAPPED/non-eShop",
          "Implant Solutions/BLPW TiZr Implants, hydrophilic/NOT MAPPED/non-eShop",
          "Restorative Solutions/Other Prosthetics/NOT MAPPED/non-eShop",
          "Restorative Solutions/Abutments, SRA/Orthodontist/non-eShop",
          "Implant Solutions/BL Healing Surgical/Orthodontist/non-eShop",
          "Implant Solutions/BLAT Ti Implants, hydrophilic/Orthodontist/non-eShop",
          "Implant Solutions/BLAT Ti Implants, standard/Orthodontist/non-eShop",
          "Implant Solutions/BLAT TiZr Implants, hydrophilic/Orthodontist/non-eShop",
          "Implant Solutions/BLAT TiZr Implants, standard/Orthodontist/non-eShop",
          "Implant Solutions/BLFT TiZr Implants, hydrophilic TF/Orthodontist/non-eShop",
          "Implant Solutions/BLPW TiZr Implants, hydrophilic/Orthodontist/non-eShop",
          "Digital Enablers/IntraOral Hardware/Orthodontist/non-eShop",
          "Restorative Solutions/Other Prosthetics/Orthodontist/non-eShop",
          "Restorative Solutions/Abutments, SRA/Others/non-eShop",
          "Implant Solutions/BL Healing Surgical/Others/non-eShop",
          "Implant Solutions/BLAT Ti Implants, hydrophilic/Others/non-eShop",
          "Implant Solutions/BLAT Ti Implants, standard/Others/non-eShop",
          "Implant Solutions/BLAT TiZr Implants, hydrophilic/Others/non-eShop",
          "Implant Solutions/BLAT TiZr Implants, standard/Others/non-eShop",
          "Implant Solutions/BLFT TiZr Implants, hydrophilic TF/Others/non-eShop",
          "Implant Solutions/BLPW TiZr Implants, hydrophilic/Others/non-eShop",
          "Digital Enablers/IntraOral Hardware/Others/non-eShop",
          "Restorative Solutions/Other Prosthetics/Others/non-eShop",
          "Restorative Solutions/Abutments, SRA/Periodontist/non-eShop",
          "Implant Solutions/BL Healing Surgical/Periodontist/non-eShop",
          "Implant Solutions/BLAT Ti Implants, hydrophilic/Periodontist/non-eShop",
          "Implant Solutions/BLAT Ti Implants, standard/Periodontist/non-eShop",
          "Implant Solutions/BLAT TiZr Implants, hydrophilic/Periodontist/non-eShop",
          "Implant Solutions/BLAT TiZr Implants, standard/Periodontist/non-eShop",
          "Implant Solutions/BLFT TiZr Implants, hydrophilic TF/Periodontist/non-eShop",
          "Implant Solutions/BLPW TiZr Implants, hydrophilic/Periodontist/non-eShop",
          "Digital Enablers/IntraOral Hardware/Periodontist/non-eShop",
          "Restorative Solutions/Other Prosthetics/Periodontist/non-eShop",
          "Restorative Solutions/Abutments, SRA/Prosthodontist/non-eShop",
          "Implant Solutions/BL Healing Surgical/Prosthodontist/non-eShop",
          "Implant Solutions/BLAT Ti Implants, hydrophilic/Prosthodontist/non-eShop",
          "Implant Solutions/BLAT Ti Implants, standard/Prosthodontist/non-eShop",
          "Implant Solutions/BLAT TiZr Implants, hydrophilic/Prosthodontist/non-eShop",
          "Implant Solutions/BLAT TiZr Implants, standard/Prosthodontist/non-eShop",
          "Implant Solutions/BLFT TiZr Implants, hydrophilic TF/Prosthodontist/non-eShop",
          "Implant Solutions/BLPW TiZr Implants, hydrophilic/Prosthodontist/non-eShop",
          "Digital Enablers/IntraOral Hardware/Prosthodontist/non-eShop",
          "Restorative Solutions/Other Prosthetics/Prosthodontist/non-eShop",
          "Restorative Solutions/Abutments, SRA/Staff/non-eShop",
          "Implant Solutions/BL Healing Surgical/Staff/non-eShop",
          "Implant Solutions/BLAT Ti Implants, hydrophilic/Staff/non-eShop",
          "Implant Solutions/BLAT TiZr Implants, hydrophilic/Staff/non-eShop",
          "Implant Solutions/BLFT TiZr Implants, hydrophilic TF/Staff/non-eShop",
          "Restorative Solutions/Other Prosthetics/Staff/non-eShop",
          "Restorative Solutions/Abutments, SRA/Surgeon (gen./oral)/non-eShop",
          "Implant Solutions/BL Healing Surgical/Surgeon (gen./oral)/non-eShop",
          "Implant Solutions/BLAT Ti Implants, hydrophilic/Surgeon (gen./oral)/non-eShop",
          "Implant Solutions/BLAT Ti Implants, standard/Surgeon (gen./oral)/non-eShop",
          "Implant Solutions/BLAT TiZr Implants, hydrophilic/Surgeon (gen./oral)/non-eShop",
          "Implant Solutions/BLAT TiZr Implants, standard/Surgeon (gen./oral)/non-eShop",
          "Implant Solutions/BLFT TiZr Implants, hydrophilic TF/Surgeon (gen./oral)/non-eShop",
          "Implant Solutions/BLPW TiZr Implants, hydrophilic/Surgeon (gen./oral)/non-eShop",
          "Digital Enablers/IntraOral Hardware/Surgeon (gen./oral)/non-eShop",
          "Restorative Solutions/Other Prosthetics/Surgeon (gen./oral)/non-eShop",
          "Restorative Solutions/Abutments, SRA/University/non-eShop",
          "Implant Solutions/BL Healing Surgical/University/non-eShop",
          "Implant Solutions/BLAT Ti Implants, hydrophilic/University/non-eShop",
          "Implant Solutions/BLAT Ti Implants, standard/University/non-eShop",
          "Implant Solutions/BLAT TiZr Implants, hydrophilic/University/non-eShop",
          "Implant Solutions/BLAT TiZr Implants, standard/University/non-eShop",
          "Implant Solutions/BLFT TiZr Implants, hydrophilic TF/University/non-eShop",
          "Implant Solutions/BLPW TiZr Implants, hydrophilic/University/non-eShop",
          "Digital Enablers/IntraOral Hardware/University/non-eShop",
          "Restorative Solutions/Other Prosthetics/University/non-eShop",
          "Restorative Solutions/Abutments, SRA/Central services",
          "Implant Solutions/BL Healing Surgical/Central services",
          "Implant Solutions/BLAT TiZr Implants, hydrophilic/Central services",
          "Restorative Solutions/Other Prosthetics/Central services",
          "Restorative Solutions/Abutments, SRA/Denturist",
          "Implant Solutions/BLAT Ti Implants, standard/Denturist",
          "Restorative Solutions/Other Prosthetics/Denturist",
          "Digital Enablers/IntraOral Hardware/Distributor/Reseller",
          "Restorative Solutions/Abutments, SRA/General dentist",
          "Implant Solutions/BL Healing Surgical/General dentist",
          "Implant Solutions/BLAT Ti Implants, hydrophilic/General dentist",
          "Implant Solutions/BLAT Ti Implants, standard/General dentist",
          "Implant Solutions/BLAT TiZr Implants, hydrophilic/General dentist",
          "Implant Solutions/BLAT TiZr Implants, standard/General dentist",
          "Implant Solutions/BLFT TiZr Implants, hydrophilic TF/General dentist",
          "Implant Solutions/BLPW TiZr Implants, hydrophilic/General dentist",
          "Digital Enablers/IntraOral Hardware/General dentist",
          "Restorative Solutions/Other Prosthetics/General dentist",
          "Restorative Solutions/Abutments, SRA/Government/Military",
          "Implant Solutions/BL Healing Surgical/Government/Military",
          "Implant Solutions/BLAT TiZr Implants, hydrophilic/Government/Military",
          "Implant Solutions/BLAT TiZr Implants, standard/Government/Military",
          "Implant Solutions/BLPW TiZr Implants, hydrophilic/Government/Military",
          "Restorative Solutions/Other Prosthetics/Government/Military",
          "Restorative Solutions/Abutments, SRA/Hospital/Clinic",
          "Implant Solutions/BL Healing Surgical/Hospital/Clinic",
          "Implant Solutions/BLAT Ti Implants, hydrophilic/Hospital/Clinic",
          "Implant Solutions/BLAT Ti Implants, standard/Hospital/Clinic",
          "Implant Solutions/BLAT TiZr Implants, hydrophilic/Hospital/Clinic",
          "Implant Solutions/BLAT TiZr Implants, standard/Hospital/Clinic",
          "Implant Solutions/BLFT TiZr Implants, hydrophilic TF/Hospital/Clinic",
          "Implant Solutions/BLPW TiZr Implants, hydrophilic/Hospital/Clinic",
          "Digital Enablers/IntraOral Hardware/Hospital/Clinic",
          "Restorative Solutions/Other Prosthetics/Hospital/Clinic",
          "Restorative Solutions/Abutments, SRA/In-house Laboratory",
          "Implant Solutions/BL Healing Surgical/In-house Laboratory",
          "Implant Solutions/BLAT Ti Implants, hydrophilic/In-house Laboratory",
          "Implant Solutions/BLAT Ti Implants, standard/In-house Laboratory",
          "Implant Solutions/BLAT TiZr Implants, hydrophilic/In-house Laboratory",
          "Implant Solutions/BLAT TiZr Implants, standard/In-house Laboratory",
          "Implant Solutions/BLFT TiZr Implants, hydrophilic TF/In-house Laboratory",
          "Digital Enablers/IntraOral Hardware/In-house Laboratory",
          "Restorative Solutions/Other Prosthetics/In-house Laboratory",
          "Restorative Solutions/Abutments, SRA/Institution",
          "Implant Solutions/BL Healing Surgical/Institution",
          "Implant Solutions/BLAT Ti Implants, standard/Institution",
          "Restorative Solutions/Other Prosthetics/Institution",
          "Restorative Solutions/Abutments, SRA/Laboratory",
          "Implant Solutions/BL Healing Surgical/Laboratory",
          "Implant Solutions/BLAT Ti Implants, hydrophilic/Laboratory",
          "Implant Solutions/BLAT Ti Implants, standard/Laboratory",
          "Implant Solutions/BLAT TiZr Implants, hydrophilic/Laboratory",
          "Implant Solutions/BLAT TiZr Implants, standard/Laboratory",
          "Implant Solutions/BLFT TiZr Implants, hydrophilic TF/Laboratory",
          "Implant Solutions/BLPW TiZr Implants, hydrophilic/Laboratory",
          "Digital Enablers/IntraOral Hardware/Laboratory",
          "Restorative Solutions/Other Prosthetics/Laboratory",
          "Restorative Solutions/Abutments, SRA/Maxillofacial surg",
          "Implant Solutions/BL Healing Surgical/Maxillofacial surg",
          "Implant Solutions/BLAT Ti Implants, hydrophilic/Maxillofacial surg",
          "Implant Solutions/BLAT Ti Implants, standard/Maxillofacial surg",
          "Implant Solutions/BLAT TiZr Implants, hydrophilic/Maxillofacial surg",
          "Implant Solutions/BLAT TiZr Implants, standard/Maxillofacial surg",
          "Implant Solutions/BLFT TiZr Implants, hydrophilic TF/Maxillofacial surg",
          "Implant Solutions/BLPW TiZr Implants, hydrophilic/Maxillofacial surg",
          "Digital Enablers/IntraOral Hardware/Maxillofacial surg",
          "Restorative Solutions/Other Prosthetics/Maxillofacial surg",
          "Restorative Solutions/Abutments, SRA/NOT MAPPED",
          "Implant Solutions/BL Healing Surgical/NOT MAPPED",
          "Implant Solutions/BLAT Ti Implants, hydrophilic/NOT MAPPED",
          "Implant Solutions/BLAT Ti Implants, standard/NOT MAPPED",
          "Implant Solutions/BLAT TiZr Implants, hydrophilic/NOT MAPPED",
          "Implant Solutions/BLAT TiZr Implants, standard/NOT MAPPED",
          "Implant Solutions/BLFT TiZr Implants, hydrophilic TF/NOT MAPPED",
          "Implant Solutions/BLPW TiZr Implants, hydrophilic/NOT MAPPED",
          "Restorative Solutions/Other Prosthetics/NOT MAPPED",
          "Restorative Solutions/Abutments, SRA/Orthodontist",
          "Implant Solutions/BL Healing Surgical/Orthodontist",
          "Implant Solutions/BLAT Ti Implants, hydrophilic/Orthodontist",
          "Implant Solutions/BLAT Ti Implants, standard/Orthodontist",
          "Implant Solutions/BLAT TiZr Implants, hydrophilic/Orthodontist",
          "Implant Solutions/BLAT TiZr Implants, standard/Orthodontist",
          "Implant Solutions/BLFT TiZr Implants, hydrophilic TF/Orthodontist",
          "Implant Solutions/BLPW TiZr Implants, hydrophilic/Orthodontist",
          "Digital Enablers/IntraOral Hardware/Orthodontist",
          "Restorative Solutions/Other Prosthetics/Orthodontist",
          "Restorative Solutions/Abutments, SRA/Others",
          "Implant Solutions/BL Healing Surgical/Others",
          "Implant Solutions/BLAT Ti Implants, hydrophilic/Others",
          "Implant Solutions/BLAT Ti Implants, standard/Others",
          "Implant Solutions/BLAT TiZr Implants, hydrophilic/Others",
          "Implant Solutions/BLAT TiZr Implants, standard/Others",
          "Implant Solutions/BLFT TiZr Implants, hydrophilic TF/Others",
          "Implant Solutions/BLPW TiZr Implants, hydrophilic/Others",
          "Digital Enablers/IntraOral Hardware/Others",
          "Restorative Solutions/Other Prosthetics/Others",
          "Restorative Solutions/Abutments, SRA/Periodontist",
          "Implant Solutions/BL Healing Surgical/Periodontist",
          "Implant Solutions/BLAT Ti Implants, hydrophilic/Periodontist",
          "Implant Solutions/BLAT Ti Implants, standard/Periodontist",
          "Implant Solutions/BLAT TiZr Implants, hydrophilic/Periodontist",
          "Implant Solutions/BLAT TiZr Implants, standard/Periodontist",
          "Implant Solutions/BLFT TiZr Implants, hydrophilic TF/Periodontist",
          "Implant Solutions/BLPW TiZr Implants, hydrophilic/Periodontist",
          "Digital Enablers/IntraOral Hardware/Periodontist",
          "Restorative Solutions/Other Prosthetics/Periodontist",
          "Restorative Solutions/Abutments, SRA/Prosthodontist",
          "Implant Solutions/BL Healing Surgical/Prosthodontist",
          "Implant Solutions/BLAT Ti Implants, hydrophilic/Prosthodontist",
          "Implant Solutions/BLAT Ti Implants, standard/Prosthodontist",
          "Implant Solutions/BLAT TiZr Implants, hydrophilic/Prosthodontist",
          "Implant Solutions/BLAT TiZr Implants, standard/Prosthodontist",
          "Implant Solutions/BLFT TiZr Implants, hydrophilic TF/Prosthodontist",
          "Implant Solutions/BLPW TiZr Implants, hydrophilic/Prosthodontist",
          "Digital Enablers/IntraOral Hardware/Prosthodontist",
          "Restorative Solutions/Other Prosthetics/Prosthodontist",
          "Restorative Solutions/Abutments, SRA/Staff",
          "Implant Solutions/BL Healing Surgical/Staff",
          "Implant Solutions/BLAT Ti Implants, hydrophilic/Staff",
          "Implant Solutions/BLAT Ti Implants, standard/Staff",
          "Implant Solutions/BLAT TiZr Implants, hydrophilic/Staff",
          "Implant Solutions/BLFT TiZr Implants, hydrophilic TF/Staff",
          "Restorative Solutions/Other Prosthetics/Staff",
          "Restorative Solutions/Abutments, SRA/Surgeon (gen./oral)",
          "Implant Solutions/BL Healing Surgical/Surgeon (gen./oral)",
          "Implant Solutions/BLAT Ti Implants, hydrophilic/Surgeon (gen./oral)",
          "Implant Solutions/BLAT Ti Implants, standard/Surgeon (gen./oral)",
          "Implant Solutions/BLAT TiZr Implants, hydrophilic/Surgeon (gen./oral)",
          "Implant Solutions/BLAT TiZr Implants, standard/Surgeon (gen./oral)",
          "Implant Solutions/BLFT TiZr Implants, hydrophilic TF/Surgeon (gen./oral)",
          "Implant Solutions/BLPW TiZr Implants, hydrophilic/Surgeon (gen./oral)",
          "Digital Enablers/IntraOral Hardware/Surgeon (gen./oral)",
          "Restorative Solutions/Other Prosthetics/Surgeon (gen./oral)",
          "Restorative Solutions/Abutments, SRA/University",
          "Implant Solutions/BL Healing Surgical/University",
          "Implant Solutions/BLAT Ti Implants, hydrophilic/University",
          "Implant Solutions/BLAT Ti Implants, standard/University",
          "Implant Solutions/BLAT TiZr Implants, hydrophilic/University",
          "Implant Solutions/BLAT TiZr Implants, standard/University",
          "Implant Solutions/BLFT TiZr Implants, hydrophilic TF/University",
          "Implant Solutions/BLPW TiZr Implants, hydrophilic/University",
          "Digital Enablers/IntraOral Hardware/University",
          "Restorative Solutions/Other Prosthetics/University",
          "Restorative Solutions/Abutments, SRA",
          "Implant Solutions/BL Healing Surgical",
          "Implant Solutions/BLAT Ti Implants, hydrophilic",
          "Implant Solutions/BLAT Ti Implants, standard",
          "Implant Solutions/BLAT TiZr Implants, hydrophilic",
          "Implant Solutions/BLAT TiZr Implants, standard",
          "Implant Solutions/BLFT TiZr Implants, hydrophilic TF",
          "Implant Solutions/BLPW TiZr Implants, hydrophilic",
          "Digital Enablers/IntraOral Hardware",
          "Restorative Solutions/Other Prosthetics",
          "Digital Enablers",
          "Implant Solutions",
          "Restorative Solutions"
         ],
         "labels": [
          "eShop",
          "eShop",
          "eShop",
          "eShop",
          "eShop",
          "eShop",
          "eShop",
          "eShop",
          "eShop",
          "eShop",
          "eShop",
          "eShop",
          "eShop",
          "eShop",
          "eShop",
          "eShop",
          "eShop",
          "eShop",
          "eShop",
          "eShop",
          "eShop",
          "eShop",
          "eShop",
          "eShop",
          "eShop",
          "eShop",
          "eShop",
          "eShop",
          "eShop",
          "eShop",
          "eShop",
          "eShop",
          "eShop",
          "eShop",
          "eShop",
          "eShop",
          "eShop",
          "eShop",
          "eShop",
          "eShop",
          "eShop",
          "eShop",
          "eShop",
          "eShop",
          "eShop",
          "eShop",
          "eShop",
          "eShop",
          "eShop",
          "eShop",
          "eShop",
          "eShop",
          "eShop",
          "eShop",
          "eShop",
          "eShop",
          "eShop",
          "eShop",
          "eShop",
          "eShop",
          "eShop",
          "eShop",
          "eShop",
          "eShop",
          "eShop",
          "eShop",
          "eShop",
          "eShop",
          "eShop",
          "eShop",
          "eShop",
          "eShop",
          "eShop",
          "eShop",
          "eShop",
          "eShop",
          "eShop",
          "eShop",
          "eShop",
          "eShop",
          "eShop",
          "eShop",
          "eShop",
          "eShop",
          "eShop",
          "eShop",
          "eShop",
          "eShop",
          "eShop",
          "eShop",
          "eShop",
          "eShop",
          "eShop",
          "eShop",
          "eShop",
          "eShop",
          "eShop",
          "eShop",
          "eShop",
          "eShop",
          "eShop",
          "eShop",
          "eShop",
          "eShop",
          "eShop",
          "eShop",
          "eShop",
          "eShop",
          "eShop",
          "eShop",
          "eShop",
          "eShop",
          "non-eShop",
          "non-eShop",
          "non-eShop",
          "non-eShop",
          "non-eShop",
          "non-eShop",
          "non-eShop",
          "non-eShop",
          "non-eShop",
          "non-eShop",
          "non-eShop",
          "non-eShop",
          "non-eShop",
          "non-eShop",
          "non-eShop",
          "non-eShop",
          "non-eShop",
          "non-eShop",
          "non-eShop",
          "non-eShop",
          "non-eShop",
          "non-eShop",
          "non-eShop",
          "non-eShop",
          "non-eShop",
          "non-eShop",
          "non-eShop",
          "non-eShop",
          "non-eShop",
          "non-eShop",
          "non-eShop",
          "non-eShop",
          "non-eShop",
          "non-eShop",
          "non-eShop",
          "non-eShop",
          "non-eShop",
          "non-eShop",
          "non-eShop",
          "non-eShop",
          "non-eShop",
          "non-eShop",
          "non-eShop",
          "non-eShop",
          "non-eShop",
          "non-eShop",
          "non-eShop",
          "non-eShop",
          "non-eShop",
          "non-eShop",
          "non-eShop",
          "non-eShop",
          "non-eShop",
          "non-eShop",
          "non-eShop",
          "non-eShop",
          "non-eShop",
          "non-eShop",
          "non-eShop",
          "non-eShop",
          "non-eShop",
          "non-eShop",
          "non-eShop",
          "non-eShop",
          "non-eShop",
          "non-eShop",
          "non-eShop",
          "non-eShop",
          "non-eShop",
          "non-eShop",
          "non-eShop",
          "non-eShop",
          "non-eShop",
          "non-eShop",
          "non-eShop",
          "non-eShop",
          "non-eShop",
          "non-eShop",
          "non-eShop",
          "non-eShop",
          "non-eShop",
          "non-eShop",
          "non-eShop",
          "non-eShop",
          "non-eShop",
          "non-eShop",
          "non-eShop",
          "non-eShop",
          "non-eShop",
          "non-eShop",
          "non-eShop",
          "non-eShop",
          "non-eShop",
          "non-eShop",
          "non-eShop",
          "non-eShop",
          "non-eShop",
          "non-eShop",
          "non-eShop",
          "non-eShop",
          "non-eShop",
          "non-eShop",
          "non-eShop",
          "non-eShop",
          "non-eShop",
          "non-eShop",
          "non-eShop",
          "non-eShop",
          "non-eShop",
          "non-eShop",
          "non-eShop",
          "non-eShop",
          "non-eShop",
          "non-eShop",
          "non-eShop",
          "non-eShop",
          "non-eShop",
          "non-eShop",
          "non-eShop",
          "non-eShop",
          "non-eShop",
          "non-eShop",
          "non-eShop",
          "non-eShop",
          "non-eShop",
          "non-eShop",
          "non-eShop",
          "non-eShop",
          "non-eShop",
          "non-eShop",
          "non-eShop",
          "non-eShop",
          "non-eShop",
          "non-eShop",
          "non-eShop",
          "non-eShop",
          "non-eShop",
          "non-eShop",
          "non-eShop",
          "non-eShop",
          "non-eShop",
          "non-eShop",
          "Central services",
          "Central services",
          "Central services",
          "Central services",
          "Denturist",
          "Denturist",
          "Denturist",
          "Distributor/Reseller",
          "General dentist",
          "General dentist",
          "General dentist",
          "General dentist",
          "General dentist",
          "General dentist",
          "General dentist",
          "General dentist",
          "General dentist",
          "General dentist",
          "Government/Military",
          "Government/Military",
          "Government/Military",
          "Government/Military",
          "Government/Military",
          "Government/Military",
          "Hospital/Clinic",
          "Hospital/Clinic",
          "Hospital/Clinic",
          "Hospital/Clinic",
          "Hospital/Clinic",
          "Hospital/Clinic",
          "Hospital/Clinic",
          "Hospital/Clinic",
          "Hospital/Clinic",
          "Hospital/Clinic",
          "In-house Laboratory",
          "In-house Laboratory",
          "In-house Laboratory",
          "In-house Laboratory",
          "In-house Laboratory",
          "In-house Laboratory",
          "In-house Laboratory",
          "In-house Laboratory",
          "In-house Laboratory",
          "Institution",
          "Institution",
          "Institution",
          "Institution",
          "Laboratory",
          "Laboratory",
          "Laboratory",
          "Laboratory",
          "Laboratory",
          "Laboratory",
          "Laboratory",
          "Laboratory",
          "Laboratory",
          "Laboratory",
          "Maxillofacial surg",
          "Maxillofacial surg",
          "Maxillofacial surg",
          "Maxillofacial surg",
          "Maxillofacial surg",
          "Maxillofacial surg",
          "Maxillofacial surg",
          "Maxillofacial surg",
          "Maxillofacial surg",
          "Maxillofacial surg",
          "NOT MAPPED",
          "NOT MAPPED",
          "NOT MAPPED",
          "NOT MAPPED",
          "NOT MAPPED",
          "NOT MAPPED",
          "NOT MAPPED",
          "NOT MAPPED",
          "NOT MAPPED",
          "Orthodontist",
          "Orthodontist",
          "Orthodontist",
          "Orthodontist",
          "Orthodontist",
          "Orthodontist",
          "Orthodontist",
          "Orthodontist",
          "Orthodontist",
          "Orthodontist",
          "Others",
          "Others",
          "Others",
          "Others",
          "Others",
          "Others",
          "Others",
          "Others",
          "Others",
          "Others",
          "Periodontist",
          "Periodontist",
          "Periodontist",
          "Periodontist",
          "Periodontist",
          "Periodontist",
          "Periodontist",
          "Periodontist",
          "Periodontist",
          "Periodontist",
          "Prosthodontist",
          "Prosthodontist",
          "Prosthodontist",
          "Prosthodontist",
          "Prosthodontist",
          "Prosthodontist",
          "Prosthodontist",
          "Prosthodontist",
          "Prosthodontist",
          "Prosthodontist",
          "Staff",
          "Staff",
          "Staff",
          "Staff",
          "Staff",
          "Staff",
          "Staff",
          "Surgeon (gen./oral)",
          "Surgeon (gen./oral)",
          "Surgeon (gen./oral)",
          "Surgeon (gen./oral)",
          "Surgeon (gen./oral)",
          "Surgeon (gen./oral)",
          "Surgeon (gen./oral)",
          "Surgeon (gen./oral)",
          "Surgeon (gen./oral)",
          "Surgeon (gen./oral)",
          "University",
          "University",
          "University",
          "University",
          "University",
          "University",
          "University",
          "University",
          "University",
          "University",
          "Abutments, SRA",
          "BL Healing Surgical",
          "BLAT Ti Implants, hydrophilic",
          "BLAT Ti Implants, standard",
          "BLAT TiZr Implants, hydrophilic",
          "BLAT TiZr Implants, standard",
          "BLFT TiZr Implants, hydrophilic TF",
          "BLPW TiZr Implants, hydrophilic",
          "IntraOral Hardware",
          "Other Prosthetics",
          "Digital Enablers",
          "Implant Solutions",
          "Restorative Solutions"
         ],
         "name": "",
         "parents": [
          "Restorative Solutions/Other Prosthetics/Denturist",
          "Restorative Solutions/Abutments, SRA/General dentist",
          "Implant Solutions/BL Healing Surgical/General dentist",
          "Implant Solutions/BLAT Ti Implants, hydrophilic/General dentist",
          "Implant Solutions/BLAT Ti Implants, standard/General dentist",
          "Implant Solutions/BLAT TiZr Implants, hydrophilic/General dentist",
          "Implant Solutions/BLAT TiZr Implants, standard/General dentist",
          "Implant Solutions/BLFT TiZr Implants, hydrophilic TF/General dentist",
          "Implant Solutions/BLPW TiZr Implants, hydrophilic/General dentist",
          "Restorative Solutions/Other Prosthetics/General dentist",
          "Restorative Solutions/Abutments, SRA/Government/Military",
          "Implant Solutions/BL Healing Surgical/Government/Military",
          "Implant Solutions/BLAT TiZr Implants, hydrophilic/Government/Military",
          "Implant Solutions/BLAT TiZr Implants, standard/Government/Military",
          "Implant Solutions/BLPW TiZr Implants, hydrophilic/Government/Military",
          "Restorative Solutions/Other Prosthetics/Government/Military",
          "Restorative Solutions/Abutments, SRA/Hospital/Clinic",
          "Implant Solutions/BL Healing Surgical/Hospital/Clinic",
          "Implant Solutions/BLAT Ti Implants, hydrophilic/Hospital/Clinic",
          "Implant Solutions/BLAT Ti Implants, standard/Hospital/Clinic",
          "Implant Solutions/BLAT TiZr Implants, hydrophilic/Hospital/Clinic",
          "Implant Solutions/BLAT TiZr Implants, standard/Hospital/Clinic",
          "Implant Solutions/BLFT TiZr Implants, hydrophilic TF/Hospital/Clinic",
          "Implant Solutions/BLPW TiZr Implants, hydrophilic/Hospital/Clinic",
          "Restorative Solutions/Other Prosthetics/Hospital/Clinic",
          "Restorative Solutions/Abutments, SRA/In-house Laboratory",
          "Implant Solutions/BL Healing Surgical/In-house Laboratory",
          "Implant Solutions/BLAT Ti Implants, hydrophilic/In-house Laboratory",
          "Restorative Solutions/Other Prosthetics/In-house Laboratory",
          "Restorative Solutions/Abutments, SRA/Laboratory",
          "Implant Solutions/BL Healing Surgical/Laboratory",
          "Implant Solutions/BLAT Ti Implants, hydrophilic/Laboratory",
          "Implant Solutions/BLAT Ti Implants, standard/Laboratory",
          "Implant Solutions/BLAT TiZr Implants, hydrophilic/Laboratory",
          "Implant Solutions/BLAT TiZr Implants, standard/Laboratory",
          "Implant Solutions/BLFT TiZr Implants, hydrophilic TF/Laboratory",
          "Implant Solutions/BLPW TiZr Implants, hydrophilic/Laboratory",
          "Restorative Solutions/Other Prosthetics/Laboratory",
          "Restorative Solutions/Abutments, SRA/Maxillofacial surg",
          "Implant Solutions/BL Healing Surgical/Maxillofacial surg",
          "Implant Solutions/BLAT Ti Implants, hydrophilic/Maxillofacial surg",
          "Implant Solutions/BLAT Ti Implants, standard/Maxillofacial surg",
          "Implant Solutions/BLAT TiZr Implants, hydrophilic/Maxillofacial surg",
          "Implant Solutions/BLAT TiZr Implants, standard/Maxillofacial surg",
          "Implant Solutions/BLFT TiZr Implants, hydrophilic TF/Maxillofacial surg",
          "Implant Solutions/BLPW TiZr Implants, hydrophilic/Maxillofacial surg",
          "Restorative Solutions/Other Prosthetics/Maxillofacial surg",
          "Restorative Solutions/Abutments, SRA/NOT MAPPED",
          "Implant Solutions/BL Healing Surgical/NOT MAPPED",
          "Implant Solutions/BLAT Ti Implants, hydrophilic/NOT MAPPED",
          "Implant Solutions/BLAT Ti Implants, standard/NOT MAPPED",
          "Implant Solutions/BLAT TiZr Implants, hydrophilic/NOT MAPPED",
          "Implant Solutions/BLAT TiZr Implants, standard/NOT MAPPED",
          "Implant Solutions/BLFT TiZr Implants, hydrophilic TF/NOT MAPPED",
          "Implant Solutions/BLPW TiZr Implants, hydrophilic/NOT MAPPED",
          "Restorative Solutions/Other Prosthetics/NOT MAPPED",
          "Restorative Solutions/Abutments, SRA/Orthodontist",
          "Implant Solutions/BL Healing Surgical/Orthodontist",
          "Implant Solutions/BLAT Ti Implants, hydrophilic/Orthodontist",
          "Implant Solutions/BLAT Ti Implants, standard/Orthodontist",
          "Implant Solutions/BLAT TiZr Implants, hydrophilic/Orthodontist",
          "Implant Solutions/BLAT TiZr Implants, standard/Orthodontist",
          "Implant Solutions/BLFT TiZr Implants, hydrophilic TF/Orthodontist",
          "Implant Solutions/BLPW TiZr Implants, hydrophilic/Orthodontist",
          "Restorative Solutions/Other Prosthetics/Orthodontist",
          "Restorative Solutions/Abutments, SRA/Others",
          "Implant Solutions/BL Healing Surgical/Others",
          "Implant Solutions/BLAT Ti Implants, hydrophilic/Others",
          "Implant Solutions/BLAT Ti Implants, standard/Others",
          "Implant Solutions/BLAT TiZr Implants, hydrophilic/Others",
          "Implant Solutions/BLAT TiZr Implants, standard/Others",
          "Implant Solutions/BLFT TiZr Implants, hydrophilic TF/Others",
          "Restorative Solutions/Other Prosthetics/Others",
          "Restorative Solutions/Abutments, SRA/Periodontist",
          "Implant Solutions/BL Healing Surgical/Periodontist",
          "Implant Solutions/BLAT Ti Implants, hydrophilic/Periodontist",
          "Implant Solutions/BLAT Ti Implants, standard/Periodontist",
          "Implant Solutions/BLAT TiZr Implants, hydrophilic/Periodontist",
          "Implant Solutions/BLAT TiZr Implants, standard/Periodontist",
          "Implant Solutions/BLFT TiZr Implants, hydrophilic TF/Periodontist",
          "Implant Solutions/BLPW TiZr Implants, hydrophilic/Periodontist",
          "Restorative Solutions/Other Prosthetics/Periodontist",
          "Restorative Solutions/Abutments, SRA/Prosthodontist",
          "Implant Solutions/BL Healing Surgical/Prosthodontist",
          "Implant Solutions/BLAT Ti Implants, hydrophilic/Prosthodontist",
          "Implant Solutions/BLAT Ti Implants, standard/Prosthodontist",
          "Implant Solutions/BLAT TiZr Implants, hydrophilic/Prosthodontist",
          "Implant Solutions/BLAT TiZr Implants, standard/Prosthodontist",
          "Implant Solutions/BLFT TiZr Implants, hydrophilic TF/Prosthodontist",
          "Implant Solutions/BLPW TiZr Implants, hydrophilic/Prosthodontist",
          "Restorative Solutions/Other Prosthetics/Prosthodontist",
          "Implant Solutions/BLAT Ti Implants, standard/Staff",
          "Implant Solutions/BLAT TiZr Implants, hydrophilic/Staff",
          "Restorative Solutions/Other Prosthetics/Staff",
          "Restorative Solutions/Abutments, SRA/Surgeon (gen./oral)",
          "Implant Solutions/BL Healing Surgical/Surgeon (gen./oral)",
          "Implant Solutions/BLAT Ti Implants, hydrophilic/Surgeon (gen./oral)",
          "Implant Solutions/BLAT Ti Implants, standard/Surgeon (gen./oral)",
          "Implant Solutions/BLAT TiZr Implants, hydrophilic/Surgeon (gen./oral)",
          "Implant Solutions/BLAT TiZr Implants, standard/Surgeon (gen./oral)",
          "Implant Solutions/BLFT TiZr Implants, hydrophilic TF/Surgeon (gen./oral)",
          "Implant Solutions/BLPW TiZr Implants, hydrophilic/Surgeon (gen./oral)",
          "Restorative Solutions/Other Prosthetics/Surgeon (gen./oral)",
          "Restorative Solutions/Abutments, SRA/University",
          "Implant Solutions/BL Healing Surgical/University",
          "Implant Solutions/BLAT Ti Implants, hydrophilic/University",
          "Implant Solutions/BLAT Ti Implants, standard/University",
          "Implant Solutions/BLAT TiZr Implants, hydrophilic/University",
          "Implant Solutions/BLAT TiZr Implants, standard/University",
          "Implant Solutions/BLFT TiZr Implants, hydrophilic TF/University",
          "Implant Solutions/BLPW TiZr Implants, hydrophilic/University",
          "Restorative Solutions/Other Prosthetics/University",
          "Restorative Solutions/Abutments, SRA/Central services",
          "Implant Solutions/BL Healing Surgical/Central services",
          "Implant Solutions/BLAT TiZr Implants, hydrophilic/Central services",
          "Restorative Solutions/Other Prosthetics/Central services",
          "Restorative Solutions/Abutments, SRA/Denturist",
          "Implant Solutions/BLAT Ti Implants, standard/Denturist",
          "Restorative Solutions/Other Prosthetics/Denturist",
          "Digital Enablers/IntraOral Hardware/Distributor/Reseller",
          "Restorative Solutions/Abutments, SRA/General dentist",
          "Implant Solutions/BL Healing Surgical/General dentist",
          "Implant Solutions/BLAT Ti Implants, hydrophilic/General dentist",
          "Implant Solutions/BLAT Ti Implants, standard/General dentist",
          "Implant Solutions/BLAT TiZr Implants, hydrophilic/General dentist",
          "Implant Solutions/BLAT TiZr Implants, standard/General dentist",
          "Implant Solutions/BLFT TiZr Implants, hydrophilic TF/General dentist",
          "Implant Solutions/BLPW TiZr Implants, hydrophilic/General dentist",
          "Digital Enablers/IntraOral Hardware/General dentist",
          "Restorative Solutions/Other Prosthetics/General dentist",
          "Restorative Solutions/Abutments, SRA/Government/Military",
          "Implant Solutions/BL Healing Surgical/Government/Military",
          "Implant Solutions/BLAT TiZr Implants, hydrophilic/Government/Military",
          "Implant Solutions/BLAT TiZr Implants, standard/Government/Military",
          "Implant Solutions/BLPW TiZr Implants, hydrophilic/Government/Military",
          "Restorative Solutions/Other Prosthetics/Government/Military",
          "Restorative Solutions/Abutments, SRA/Hospital/Clinic",
          "Implant Solutions/BL Healing Surgical/Hospital/Clinic",
          "Implant Solutions/BLAT Ti Implants, hydrophilic/Hospital/Clinic",
          "Implant Solutions/BLAT Ti Implants, standard/Hospital/Clinic",
          "Implant Solutions/BLAT TiZr Implants, hydrophilic/Hospital/Clinic",
          "Implant Solutions/BLAT TiZr Implants, standard/Hospital/Clinic",
          "Implant Solutions/BLFT TiZr Implants, hydrophilic TF/Hospital/Clinic",
          "Implant Solutions/BLPW TiZr Implants, hydrophilic/Hospital/Clinic",
          "Digital Enablers/IntraOral Hardware/Hospital/Clinic",
          "Restorative Solutions/Other Prosthetics/Hospital/Clinic",
          "Restorative Solutions/Abutments, SRA/In-house Laboratory",
          "Implant Solutions/BL Healing Surgical/In-house Laboratory",
          "Implant Solutions/BLAT Ti Implants, hydrophilic/In-house Laboratory",
          "Implant Solutions/BLAT Ti Implants, standard/In-house Laboratory",
          "Implant Solutions/BLAT TiZr Implants, hydrophilic/In-house Laboratory",
          "Implant Solutions/BLAT TiZr Implants, standard/In-house Laboratory",
          "Implant Solutions/BLFT TiZr Implants, hydrophilic TF/In-house Laboratory",
          "Digital Enablers/IntraOral Hardware/In-house Laboratory",
          "Restorative Solutions/Other Prosthetics/In-house Laboratory",
          "Restorative Solutions/Abutments, SRA/Institution",
          "Implant Solutions/BL Healing Surgical/Institution",
          "Implant Solutions/BLAT Ti Implants, standard/Institution",
          "Restorative Solutions/Other Prosthetics/Institution",
          "Restorative Solutions/Abutments, SRA/Laboratory",
          "Implant Solutions/BL Healing Surgical/Laboratory",
          "Implant Solutions/BLAT Ti Implants, hydrophilic/Laboratory",
          "Implant Solutions/BLAT Ti Implants, standard/Laboratory",
          "Implant Solutions/BLAT TiZr Implants, hydrophilic/Laboratory",
          "Implant Solutions/BLAT TiZr Implants, standard/Laboratory",
          "Implant Solutions/BLFT TiZr Implants, hydrophilic TF/Laboratory",
          "Implant Solutions/BLPW TiZr Implants, hydrophilic/Laboratory",
          "Digital Enablers/IntraOral Hardware/Laboratory",
          "Restorative Solutions/Other Prosthetics/Laboratory",
          "Restorative Solutions/Abutments, SRA/Maxillofacial surg",
          "Implant Solutions/BL Healing Surgical/Maxillofacial surg",
          "Implant Solutions/BLAT Ti Implants, hydrophilic/Maxillofacial surg",
          "Implant Solutions/BLAT Ti Implants, standard/Maxillofacial surg",
          "Implant Solutions/BLAT TiZr Implants, hydrophilic/Maxillofacial surg",
          "Implant Solutions/BLAT TiZr Implants, standard/Maxillofacial surg",
          "Implant Solutions/BLFT TiZr Implants, hydrophilic TF/Maxillofacial surg",
          "Implant Solutions/BLPW TiZr Implants, hydrophilic/Maxillofacial surg",
          "Digital Enablers/IntraOral Hardware/Maxillofacial surg",
          "Restorative Solutions/Other Prosthetics/Maxillofacial surg",
          "Restorative Solutions/Abutments, SRA/NOT MAPPED",
          "Implant Solutions/BL Healing Surgical/NOT MAPPED",
          "Implant Solutions/BLAT Ti Implants, hydrophilic/NOT MAPPED",
          "Implant Solutions/BLAT Ti Implants, standard/NOT MAPPED",
          "Implant Solutions/BLAT TiZr Implants, hydrophilic/NOT MAPPED",
          "Implant Solutions/BLAT TiZr Implants, standard/NOT MAPPED",
          "Implant Solutions/BLFT TiZr Implants, hydrophilic TF/NOT MAPPED",
          "Implant Solutions/BLPW TiZr Implants, hydrophilic/NOT MAPPED",
          "Restorative Solutions/Other Prosthetics/NOT MAPPED",
          "Restorative Solutions/Abutments, SRA/Orthodontist",
          "Implant Solutions/BL Healing Surgical/Orthodontist",
          "Implant Solutions/BLAT Ti Implants, hydrophilic/Orthodontist",
          "Implant Solutions/BLAT Ti Implants, standard/Orthodontist",
          "Implant Solutions/BLAT TiZr Implants, hydrophilic/Orthodontist",
          "Implant Solutions/BLAT TiZr Implants, standard/Orthodontist",
          "Implant Solutions/BLFT TiZr Implants, hydrophilic TF/Orthodontist",
          "Implant Solutions/BLPW TiZr Implants, hydrophilic/Orthodontist",
          "Digital Enablers/IntraOral Hardware/Orthodontist",
          "Restorative Solutions/Other Prosthetics/Orthodontist",
          "Restorative Solutions/Abutments, SRA/Others",
          "Implant Solutions/BL Healing Surgical/Others",
          "Implant Solutions/BLAT Ti Implants, hydrophilic/Others",
          "Implant Solutions/BLAT Ti Implants, standard/Others",
          "Implant Solutions/BLAT TiZr Implants, hydrophilic/Others",
          "Implant Solutions/BLAT TiZr Implants, standard/Others",
          "Implant Solutions/BLFT TiZr Implants, hydrophilic TF/Others",
          "Implant Solutions/BLPW TiZr Implants, hydrophilic/Others",
          "Digital Enablers/IntraOral Hardware/Others",
          "Restorative Solutions/Other Prosthetics/Others",
          "Restorative Solutions/Abutments, SRA/Periodontist",
          "Implant Solutions/BL Healing Surgical/Periodontist",
          "Implant Solutions/BLAT Ti Implants, hydrophilic/Periodontist",
          "Implant Solutions/BLAT Ti Implants, standard/Periodontist",
          "Implant Solutions/BLAT TiZr Implants, hydrophilic/Periodontist",
          "Implant Solutions/BLAT TiZr Implants, standard/Periodontist",
          "Implant Solutions/BLFT TiZr Implants, hydrophilic TF/Periodontist",
          "Implant Solutions/BLPW TiZr Implants, hydrophilic/Periodontist",
          "Digital Enablers/IntraOral Hardware/Periodontist",
          "Restorative Solutions/Other Prosthetics/Periodontist",
          "Restorative Solutions/Abutments, SRA/Prosthodontist",
          "Implant Solutions/BL Healing Surgical/Prosthodontist",
          "Implant Solutions/BLAT Ti Implants, hydrophilic/Prosthodontist",
          "Implant Solutions/BLAT Ti Implants, standard/Prosthodontist",
          "Implant Solutions/BLAT TiZr Implants, hydrophilic/Prosthodontist",
          "Implant Solutions/BLAT TiZr Implants, standard/Prosthodontist",
          "Implant Solutions/BLFT TiZr Implants, hydrophilic TF/Prosthodontist",
          "Implant Solutions/BLPW TiZr Implants, hydrophilic/Prosthodontist",
          "Digital Enablers/IntraOral Hardware/Prosthodontist",
          "Restorative Solutions/Other Prosthetics/Prosthodontist",
          "Restorative Solutions/Abutments, SRA/Staff",
          "Implant Solutions/BL Healing Surgical/Staff",
          "Implant Solutions/BLAT Ti Implants, hydrophilic/Staff",
          "Implant Solutions/BLAT TiZr Implants, hydrophilic/Staff",
          "Implant Solutions/BLFT TiZr Implants, hydrophilic TF/Staff",
          "Restorative Solutions/Other Prosthetics/Staff",
          "Restorative Solutions/Abutments, SRA/Surgeon (gen./oral)",
          "Implant Solutions/BL Healing Surgical/Surgeon (gen./oral)",
          "Implant Solutions/BLAT Ti Implants, hydrophilic/Surgeon (gen./oral)",
          "Implant Solutions/BLAT Ti Implants, standard/Surgeon (gen./oral)",
          "Implant Solutions/BLAT TiZr Implants, hydrophilic/Surgeon (gen./oral)",
          "Implant Solutions/BLAT TiZr Implants, standard/Surgeon (gen./oral)",
          "Implant Solutions/BLFT TiZr Implants, hydrophilic TF/Surgeon (gen./oral)",
          "Implant Solutions/BLPW TiZr Implants, hydrophilic/Surgeon (gen./oral)",
          "Digital Enablers/IntraOral Hardware/Surgeon (gen./oral)",
          "Restorative Solutions/Other Prosthetics/Surgeon (gen./oral)",
          "Restorative Solutions/Abutments, SRA/University",
          "Implant Solutions/BL Healing Surgical/University",
          "Implant Solutions/BLAT Ti Implants, hydrophilic/University",
          "Implant Solutions/BLAT Ti Implants, standard/University",
          "Implant Solutions/BLAT TiZr Implants, hydrophilic/University",
          "Implant Solutions/BLAT TiZr Implants, standard/University",
          "Implant Solutions/BLFT TiZr Implants, hydrophilic TF/University",
          "Implant Solutions/BLPW TiZr Implants, hydrophilic/University",
          "Digital Enablers/IntraOral Hardware/University",
          "Restorative Solutions/Other Prosthetics/University",
          "Restorative Solutions/Abutments, SRA",
          "Implant Solutions/BL Healing Surgical",
          "Implant Solutions/BLAT TiZr Implants, hydrophilic",
          "Restorative Solutions/Other Prosthetics",
          "Restorative Solutions/Abutments, SRA",
          "Implant Solutions/BLAT Ti Implants, standard",
          "Restorative Solutions/Other Prosthetics",
          "Digital Enablers/IntraOral Hardware",
          "Restorative Solutions/Abutments, SRA",
          "Implant Solutions/BL Healing Surgical",
          "Implant Solutions/BLAT Ti Implants, hydrophilic",
          "Implant Solutions/BLAT Ti Implants, standard",
          "Implant Solutions/BLAT TiZr Implants, hydrophilic",
          "Implant Solutions/BLAT TiZr Implants, standard",
          "Implant Solutions/BLFT TiZr Implants, hydrophilic TF",
          "Implant Solutions/BLPW TiZr Implants, hydrophilic",
          "Digital Enablers/IntraOral Hardware",
          "Restorative Solutions/Other Prosthetics",
          "Restorative Solutions/Abutments, SRA",
          "Implant Solutions/BL Healing Surgical",
          "Implant Solutions/BLAT TiZr Implants, hydrophilic",
          "Implant Solutions/BLAT TiZr Implants, standard",
          "Implant Solutions/BLPW TiZr Implants, hydrophilic",
          "Restorative Solutions/Other Prosthetics",
          "Restorative Solutions/Abutments, SRA",
          "Implant Solutions/BL Healing Surgical",
          "Implant Solutions/BLAT Ti Implants, hydrophilic",
          "Implant Solutions/BLAT Ti Implants, standard",
          "Implant Solutions/BLAT TiZr Implants, hydrophilic",
          "Implant Solutions/BLAT TiZr Implants, standard",
          "Implant Solutions/BLFT TiZr Implants, hydrophilic TF",
          "Implant Solutions/BLPW TiZr Implants, hydrophilic",
          "Digital Enablers/IntraOral Hardware",
          "Restorative Solutions/Other Prosthetics",
          "Restorative Solutions/Abutments, SRA",
          "Implant Solutions/BL Healing Surgical",
          "Implant Solutions/BLAT Ti Implants, hydrophilic",
          "Implant Solutions/BLAT Ti Implants, standard",
          "Implant Solutions/BLAT TiZr Implants, hydrophilic",
          "Implant Solutions/BLAT TiZr Implants, standard",
          "Implant Solutions/BLFT TiZr Implants, hydrophilic TF",
          "Digital Enablers/IntraOral Hardware",
          "Restorative Solutions/Other Prosthetics",
          "Restorative Solutions/Abutments, SRA",
          "Implant Solutions/BL Healing Surgical",
          "Implant Solutions/BLAT Ti Implants, standard",
          "Restorative Solutions/Other Prosthetics",
          "Restorative Solutions/Abutments, SRA",
          "Implant Solutions/BL Healing Surgical",
          "Implant Solutions/BLAT Ti Implants, hydrophilic",
          "Implant Solutions/BLAT Ti Implants, standard",
          "Implant Solutions/BLAT TiZr Implants, hydrophilic",
          "Implant Solutions/BLAT TiZr Implants, standard",
          "Implant Solutions/BLFT TiZr Implants, hydrophilic TF",
          "Implant Solutions/BLPW TiZr Implants, hydrophilic",
          "Digital Enablers/IntraOral Hardware",
          "Restorative Solutions/Other Prosthetics",
          "Restorative Solutions/Abutments, SRA",
          "Implant Solutions/BL Healing Surgical",
          "Implant Solutions/BLAT Ti Implants, hydrophilic",
          "Implant Solutions/BLAT Ti Implants, standard",
          "Implant Solutions/BLAT TiZr Implants, hydrophilic",
          "Implant Solutions/BLAT TiZr Implants, standard",
          "Implant Solutions/BLFT TiZr Implants, hydrophilic TF",
          "Implant Solutions/BLPW TiZr Implants, hydrophilic",
          "Digital Enablers/IntraOral Hardware",
          "Restorative Solutions/Other Prosthetics",
          "Restorative Solutions/Abutments, SRA",
          "Implant Solutions/BL Healing Surgical",
          "Implant Solutions/BLAT Ti Implants, hydrophilic",
          "Implant Solutions/BLAT Ti Implants, standard",
          "Implant Solutions/BLAT TiZr Implants, hydrophilic",
          "Implant Solutions/BLAT TiZr Implants, standard",
          "Implant Solutions/BLFT TiZr Implants, hydrophilic TF",
          "Implant Solutions/BLPW TiZr Implants, hydrophilic",
          "Restorative Solutions/Other Prosthetics",
          "Restorative Solutions/Abutments, SRA",
          "Implant Solutions/BL Healing Surgical",
          "Implant Solutions/BLAT Ti Implants, hydrophilic",
          "Implant Solutions/BLAT Ti Implants, standard",
          "Implant Solutions/BLAT TiZr Implants, hydrophilic",
          "Implant Solutions/BLAT TiZr Implants, standard",
          "Implant Solutions/BLFT TiZr Implants, hydrophilic TF",
          "Implant Solutions/BLPW TiZr Implants, hydrophilic",
          "Digital Enablers/IntraOral Hardware",
          "Restorative Solutions/Other Prosthetics",
          "Restorative Solutions/Abutments, SRA",
          "Implant Solutions/BL Healing Surgical",
          "Implant Solutions/BLAT Ti Implants, hydrophilic",
          "Implant Solutions/BLAT Ti Implants, standard",
          "Implant Solutions/BLAT TiZr Implants, hydrophilic",
          "Implant Solutions/BLAT TiZr Implants, standard",
          "Implant Solutions/BLFT TiZr Implants, hydrophilic TF",
          "Implant Solutions/BLPW TiZr Implants, hydrophilic",
          "Digital Enablers/IntraOral Hardware",
          "Restorative Solutions/Other Prosthetics",
          "Restorative Solutions/Abutments, SRA",
          "Implant Solutions/BL Healing Surgical",
          "Implant Solutions/BLAT Ti Implants, hydrophilic",
          "Implant Solutions/BLAT Ti Implants, standard",
          "Implant Solutions/BLAT TiZr Implants, hydrophilic",
          "Implant Solutions/BLAT TiZr Implants, standard",
          "Implant Solutions/BLFT TiZr Implants, hydrophilic TF",
          "Implant Solutions/BLPW TiZr Implants, hydrophilic",
          "Digital Enablers/IntraOral Hardware",
          "Restorative Solutions/Other Prosthetics",
          "Restorative Solutions/Abutments, SRA",
          "Implant Solutions/BL Healing Surgical",
          "Implant Solutions/BLAT Ti Implants, hydrophilic",
          "Implant Solutions/BLAT Ti Implants, standard",
          "Implant Solutions/BLAT TiZr Implants, hydrophilic",
          "Implant Solutions/BLAT TiZr Implants, standard",
          "Implant Solutions/BLFT TiZr Implants, hydrophilic TF",
          "Implant Solutions/BLPW TiZr Implants, hydrophilic",
          "Digital Enablers/IntraOral Hardware",
          "Restorative Solutions/Other Prosthetics",
          "Restorative Solutions/Abutments, SRA",
          "Implant Solutions/BL Healing Surgical",
          "Implant Solutions/BLAT Ti Implants, hydrophilic",
          "Implant Solutions/BLAT Ti Implants, standard",
          "Implant Solutions/BLAT TiZr Implants, hydrophilic",
          "Implant Solutions/BLFT TiZr Implants, hydrophilic TF",
          "Restorative Solutions/Other Prosthetics",
          "Restorative Solutions/Abutments, SRA",
          "Implant Solutions/BL Healing Surgical",
          "Implant Solutions/BLAT Ti Implants, hydrophilic",
          "Implant Solutions/BLAT Ti Implants, standard",
          "Implant Solutions/BLAT TiZr Implants, hydrophilic",
          "Implant Solutions/BLAT TiZr Implants, standard",
          "Implant Solutions/BLFT TiZr Implants, hydrophilic TF",
          "Implant Solutions/BLPW TiZr Implants, hydrophilic",
          "Digital Enablers/IntraOral Hardware",
          "Restorative Solutions/Other Prosthetics",
          "Restorative Solutions/Abutments, SRA",
          "Implant Solutions/BL Healing Surgical",
          "Implant Solutions/BLAT Ti Implants, hydrophilic",
          "Implant Solutions/BLAT Ti Implants, standard",
          "Implant Solutions/BLAT TiZr Implants, hydrophilic",
          "Implant Solutions/BLAT TiZr Implants, standard",
          "Implant Solutions/BLFT TiZr Implants, hydrophilic TF",
          "Implant Solutions/BLPW TiZr Implants, hydrophilic",
          "Digital Enablers/IntraOral Hardware",
          "Restorative Solutions/Other Prosthetics",
          "Restorative Solutions",
          "Implant Solutions",
          "Implant Solutions",
          "Implant Solutions",
          "Implant Solutions",
          "Implant Solutions",
          "Implant Solutions",
          "Implant Solutions",
          "Digital Enablers",
          "Restorative Solutions",
          "",
          "",
          ""
         ],
         "type": "treemap",
         "values": [
          196959296.56,
          978162590666.58,
          2485252666026.6,
          551916355133,
          3665148153032.8804,
          2647199842187.04,
          947969096424.58,
          609666652548.7999,
          182749115090.16,
          9167568938033.48,
          648605921.8,
          1295681062.8500001,
          6725609355.15,
          122698562.83,
          248841387.65,
          11029720607.36,
          1621514804.5,
          14320685431.500002,
          590284871.8,
          5561237414.76,
          15949302185.07,
          12515253408.66,
          500068341.12,
          2587950431.56,
          21271604028.48,
          1426933027.96,
          68193740.15,
          59028487.18,
          53277489719.48,
          312822636084.14,
          43166637514.950005,
          31639269128.48,
          56392898697.04,
          21906270471.059998,
          6257626704.33,
          1250170852.8,
          3434011149.57,
          8884242989931.92,
          12258651922.02,
          160118901872.2,
          9739700384.7,
          13951876321.240002,
          223098070323.69,
          39508937231.26,
          43672635124.479996,
          19459396514.23,
          133538403067.68001,
          7004943955.44,
          113133414908.85,
          118056974.36,
          1268352392.8400002,
          158532220514.25,
          16441607419.22,
          1166826129.28,
          7266168519.38,
          154711527447.88,
          5642871519.66,
          14661654132.250002,
          10507070718.039999,
          25464613425.480003,
          5956968285.99,
          490794251.32,
          750102511.68,
          248841387.65,
          80063954051.64,
          6486059218,
          12479454447.45,
          1239598230.78,
          22440080796.4,
          14604180314.039999,
          1595081316.79,
          9084574863.68,
          27475821870.12,
          175837065399.98,
          2909349536019.45,
          19184258333.5,
          406653290258.24005,
          5193131223512.25,
          1427106984275.73,
          445977615555.51996,
          385306004637.26,
          3525571408424,
          152616973399.54,
          94789298808.50002,
          12632096256.52,
          122152091987.36002,
          226556955134.91,
          45030372558.61,
          15835497468.8,
          10102960338.59,
          719984708575.08,
          195131137.36,
          576480801.87,
          3249828393.2400002,
          336691334006.38,
          4555546423240.45,
          71306412513.44,
          738668920476.28,
          6039020720122.83,
          1861827992382.42,
          1393190398360.3198,
          532719642681.12,
          3841100201513.12,
          124856639946.5,
          762610596097.4501,
          118056974.36,
          29269670604.000004,
          950232521749.0499,
          291286388158.42,
          114432305392.95999,
          54346959062.76,
          1452476332481.72,
          129721184.36,
          136387480.3,
          960801336.4499999,
          1477194724.2,
          194581776.54,
          97565568.68,
          689357537.96,
          157022862.45,
          3487554041518.6,
          7659725474868.45,
          4675941611963.7,
          10404099547329.16,
          6250012693607.25,
          3918746699664.54,
          2470004226238.7197,
          227241955201.98,
          91596669762.5,
          32589377607059,
          648605921.8,
          10297254762.650002,
          14604180314.039999,
          7730009458.29,
          348377942.71000004,
          20582246490.52,
          46894208146.14,
          180645217657.35,
          12277925333.44,
          6634458670.240001,
          318025242364.95,
          55091654710.67,
          48006560747.52,
          12392301104.970001,
          314045724.9,
          202671116160.24,
          5772592704.0199995,
          1091099842.4,
          3482680743.62,
          6732024238.92,
          1152961603.74,
          1226985628.3,
          416723617.59999996,
          418727633.2,
          64602649271.68,
          259442368.72,
          68193740.15,
          97565568.68,
          196959296.56,
          209369991557.04,
          37847525783.25,
          25323221000.22,
          106834297704.6,
          30361322231.82,
          12637951971.49,
          8917885416.64,
          1891194546.14,
          4606003965.2,
          3050210146176.44,
          36581373989.52,
          177781080571.05002,
          36715719025.96,
          35123604724.8,
          294389529488.27997,
          159630830241.83,
          76843835085.44,
          10650411391.42,
          942137174.6999999,
          114433351301.36,
          25944236872,
          358085329527.65,
          5371592333.38,
          28684277191.920002,
          711569469774.87,
          21349549932.42,
          2750375876.16,
          41158365517.31,
          683350279414.92,
          49488631833.34,
          67034446567.450005,
          79098172821.2,
          135225878190.48001,
          29400520895.37,
          25521301068.64,
          10084711545.92,
          1293975215.78,
          4134935377.85,
          349701231042.28,
          23155231408.26,
          29937051925.850002,
          16291862461.68,
          99614445622.28001,
          14988500848.619999,
          14969224665.26,
          2333652258.56,
          199073110.12,
          418727633.2,
          80260913348.2,
          440792584455.27997,
          2179199160233.4001,
          187120304360.6,
          512121670001.32,
          5026143951237.24,
          2718509358061.48,
          664507480624.96,
          228486162140.23,
          9316689838.699999,
          2184475558146.96,
          232914386518.38,
          132705018331.90001,
          65816763205.7,
          134835615915.76001,
          263067405920.00998,
          165152265569.18,
          91929230042.56,
          8858753400.34,
          4291958240.2999997,
          1211792072085.4,
          129721184.36,
          204581220.45000002,
          531256384.62,
          192160267.29,
          250034170.56,
          6204217841.64,
          768987180886.08,
          4017770588417.5503,
          298684145130.8,
          586759330041.52,
          6591481488581.58,
          3085009965234.69,
          2215802819502.7197,
          442838133461.94,
          11043941325.65,
          3346633887499.24,
          232719804741.84,
          760769365113.4,
          3482680743.62,
          21269293972.24,
          1374522391925.3699,
          275826369241.83997,
          160771971670.08,
          48225460926.57,
          2617047707.5,
          1658791195628.32,
          129721184.36,
          136387480.3,
          960801336.4499999,
          1477194724.2,
          194581776.54,
          97565568.68,
          886316834.52,
          157022862.45,
          4465716632185.18,
          10144978140895.05,
          5227857967096.7,
          14069247700362.041,
          8897212535794.29,
          4866715796089.12,
          3079670878787.5195,
          409991070292.14,
          91596669762.5,
          41756946545092.484,
          1297211843.6,
          11592935825.500002,
          21329789669.19,
          7852708021.12,
          597219330.36,
          31611967097.88,
          48515722950.64,
          194965903088.85,
          12868210205.24,
          12195696085,
          333974544550.02,
          67606908119.33,
          48506629088.64,
          14980251536.53,
          314045724.9,
          223942720188.72,
          7199525731.98,
          1159293582.5500002,
          3541709230.7999997,
          6732024238.92,
          1152961603.74,
          1226985628.3,
          416723617.59999996,
          418727633.2,
          117880138991.16,
          259442368.72,
          68193740.15,
          97565568.68,
          196959296.56,
          522192627641.18005,
          81014163298.20001,
          56962490128.7,
          163227196401.64,
          52267592702.88,
          18895578675.82,
          10168056269.439999,
          5325205695.71,
          4606003965.2,
          11934453136108.36,
          48840025911.53999,
          337899982443.25,
          46455419410.66,
          49075481046.04001,
          517487599811.97,
          199139767473.09,
          120516470209.92,
          30109807905.65,
          942137174.6999999,
          247971754369.04,
          32949180827.44,
          471218744436.5,
          5489649307.74,
          29952629584.760002,
          870101690289.12,
          37791157351.64,
          3917202005.4399996,
          48424534036.689995,
          838061806862.8,
          55131503353,
          81696100699.70001,
          89605243539.23999,
          160690491615.96002,
          35357489181.36,
          26012095319.96,
          10834814057.6,
          1542816603.43,
          4134935377.85,
          429765185093.92004,
          29641290626.26,
          42416506373.3,
          17531460692.46,
          122054526418.68002,
          29592681162.659996,
          16564305982.05,
          11418227122.24,
          199073110.12,
          418727633.2,
          107736735218.31999,
          616629649855.26,
          5088548696252.851,
          206304562694.1,
          918774960259.56,
          10219275174749.49,
          4145616342337.21,
          1110485096180.48,
          613792166777.49,
          9316689838.699999,
          5710046966570.96,
          385531359917.92004,
          227494317140.40002,
          78448859462.22,
          256987707903.12003,
          489624361054.92,
          210182638127.78998,
          107764727511.36,
          18961713738.93,
          4291958240.2999997,
          1931776780660.48,
          129721184.36,
          204581220.45000002,
          531256384.62,
          195131137.36,
          768641069.16,
          250034170.56,
          9454046234.880001,
          1105678514892.46,
          8573317011658,
          369990557644.24,
          1325428250517.8,
          12630502208704.41,
          4946837957617.109,
          3608993217863.0396,
          975557776143.06,
          11043941325.65,
          7187734089012.36,
          357576444688.33997,
          1523379961210.85,
          3600737717.98,
          50538964576.240005,
          2324754913674.42,
          567112757400.26,
          275204277063.04,
          102572419989.33,
          2617047707.5,
          3111267528110.04,
          7677613156938.78,
          26780090919345.902,
          6119188123514.7,
          17165295891284.48,
          36424362985354.08,
          15111554998142.8,
          8388146353946.879,
          2222054055159.44,
          129857907246.15,
          73641209870466.69,
          129857907246.15,
          112210693326748.28,
          81318823027405.47
         ]
        }
       ],
       "layout": {
        "legend": {
         "tracegroupgap": 0
        },
        "template": {
         "data": {
          "bar": [
           {
            "error_x": {
             "color": "#2a3f5f"
            },
            "error_y": {
             "color": "#2a3f5f"
            },
            "marker": {
             "line": {
              "color": "#E5ECF6",
              "width": 0.5
             },
             "pattern": {
              "fillmode": "overlay",
              "size": 10,
              "solidity": 0.2
             }
            },
            "type": "bar"
           }
          ],
          "barpolar": [
           {
            "marker": {
             "line": {
              "color": "#E5ECF6",
              "width": 0.5
             },
             "pattern": {
              "fillmode": "overlay",
              "size": 10,
              "solidity": 0.2
             }
            },
            "type": "barpolar"
           }
          ],
          "carpet": [
           {
            "aaxis": {
             "endlinecolor": "#2a3f5f",
             "gridcolor": "white",
             "linecolor": "white",
             "minorgridcolor": "white",
             "startlinecolor": "#2a3f5f"
            },
            "baxis": {
             "endlinecolor": "#2a3f5f",
             "gridcolor": "white",
             "linecolor": "white",
             "minorgridcolor": "white",
             "startlinecolor": "#2a3f5f"
            },
            "type": "carpet"
           }
          ],
          "choropleth": [
           {
            "colorbar": {
             "outlinewidth": 0,
             "ticks": ""
            },
            "type": "choropleth"
           }
          ],
          "contour": [
           {
            "colorbar": {
             "outlinewidth": 0,
             "ticks": ""
            },
            "colorscale": [
             [
              0,
              "#0d0887"
             ],
             [
              0.1111111111111111,
              "#46039f"
             ],
             [
              0.2222222222222222,
              "#7201a8"
             ],
             [
              0.3333333333333333,
              "#9c179e"
             ],
             [
              0.4444444444444444,
              "#bd3786"
             ],
             [
              0.5555555555555556,
              "#d8576b"
             ],
             [
              0.6666666666666666,
              "#ed7953"
             ],
             [
              0.7777777777777778,
              "#fb9f3a"
             ],
             [
              0.8888888888888888,
              "#fdca26"
             ],
             [
              1,
              "#f0f921"
             ]
            ],
            "type": "contour"
           }
          ],
          "contourcarpet": [
           {
            "colorbar": {
             "outlinewidth": 0,
             "ticks": ""
            },
            "type": "contourcarpet"
           }
          ],
          "heatmap": [
           {
            "colorbar": {
             "outlinewidth": 0,
             "ticks": ""
            },
            "colorscale": [
             [
              0,
              "#0d0887"
             ],
             [
              0.1111111111111111,
              "#46039f"
             ],
             [
              0.2222222222222222,
              "#7201a8"
             ],
             [
              0.3333333333333333,
              "#9c179e"
             ],
             [
              0.4444444444444444,
              "#bd3786"
             ],
             [
              0.5555555555555556,
              "#d8576b"
             ],
             [
              0.6666666666666666,
              "#ed7953"
             ],
             [
              0.7777777777777778,
              "#fb9f3a"
             ],
             [
              0.8888888888888888,
              "#fdca26"
             ],
             [
              1,
              "#f0f921"
             ]
            ],
            "type": "heatmap"
           }
          ],
          "heatmapgl": [
           {
            "colorbar": {
             "outlinewidth": 0,
             "ticks": ""
            },
            "colorscale": [
             [
              0,
              "#0d0887"
             ],
             [
              0.1111111111111111,
              "#46039f"
             ],
             [
              0.2222222222222222,
              "#7201a8"
             ],
             [
              0.3333333333333333,
              "#9c179e"
             ],
             [
              0.4444444444444444,
              "#bd3786"
             ],
             [
              0.5555555555555556,
              "#d8576b"
             ],
             [
              0.6666666666666666,
              "#ed7953"
             ],
             [
              0.7777777777777778,
              "#fb9f3a"
             ],
             [
              0.8888888888888888,
              "#fdca26"
             ],
             [
              1,
              "#f0f921"
             ]
            ],
            "type": "heatmapgl"
           }
          ],
          "histogram": [
           {
            "marker": {
             "pattern": {
              "fillmode": "overlay",
              "size": 10,
              "solidity": 0.2
             }
            },
            "type": "histogram"
           }
          ],
          "histogram2d": [
           {
            "colorbar": {
             "outlinewidth": 0,
             "ticks": ""
            },
            "colorscale": [
             [
              0,
              "#0d0887"
             ],
             [
              0.1111111111111111,
              "#46039f"
             ],
             [
              0.2222222222222222,
              "#7201a8"
             ],
             [
              0.3333333333333333,
              "#9c179e"
             ],
             [
              0.4444444444444444,
              "#bd3786"
             ],
             [
              0.5555555555555556,
              "#d8576b"
             ],
             [
              0.6666666666666666,
              "#ed7953"
             ],
             [
              0.7777777777777778,
              "#fb9f3a"
             ],
             [
              0.8888888888888888,
              "#fdca26"
             ],
             [
              1,
              "#f0f921"
             ]
            ],
            "type": "histogram2d"
           }
          ],
          "histogram2dcontour": [
           {
            "colorbar": {
             "outlinewidth": 0,
             "ticks": ""
            },
            "colorscale": [
             [
              0,
              "#0d0887"
             ],
             [
              0.1111111111111111,
              "#46039f"
             ],
             [
              0.2222222222222222,
              "#7201a8"
             ],
             [
              0.3333333333333333,
              "#9c179e"
             ],
             [
              0.4444444444444444,
              "#bd3786"
             ],
             [
              0.5555555555555556,
              "#d8576b"
             ],
             [
              0.6666666666666666,
              "#ed7953"
             ],
             [
              0.7777777777777778,
              "#fb9f3a"
             ],
             [
              0.8888888888888888,
              "#fdca26"
             ],
             [
              1,
              "#f0f921"
             ]
            ],
            "type": "histogram2dcontour"
           }
          ],
          "mesh3d": [
           {
            "colorbar": {
             "outlinewidth": 0,
             "ticks": ""
            },
            "type": "mesh3d"
           }
          ],
          "parcoords": [
           {
            "line": {
             "colorbar": {
              "outlinewidth": 0,
              "ticks": ""
             }
            },
            "type": "parcoords"
           }
          ],
          "pie": [
           {
            "automargin": true,
            "type": "pie"
           }
          ],
          "scatter": [
           {
            "fillpattern": {
             "fillmode": "overlay",
             "size": 10,
             "solidity": 0.2
            },
            "type": "scatter"
           }
          ],
          "scatter3d": [
           {
            "line": {
             "colorbar": {
              "outlinewidth": 0,
              "ticks": ""
             }
            },
            "marker": {
             "colorbar": {
              "outlinewidth": 0,
              "ticks": ""
             }
            },
            "type": "scatter3d"
           }
          ],
          "scattercarpet": [
           {
            "marker": {
             "colorbar": {
              "outlinewidth": 0,
              "ticks": ""
             }
            },
            "type": "scattercarpet"
           }
          ],
          "scattergeo": [
           {
            "marker": {
             "colorbar": {
              "outlinewidth": 0,
              "ticks": ""
             }
            },
            "type": "scattergeo"
           }
          ],
          "scattergl": [
           {
            "marker": {
             "colorbar": {
              "outlinewidth": 0,
              "ticks": ""
             }
            },
            "type": "scattergl"
           }
          ],
          "scattermapbox": [
           {
            "marker": {
             "colorbar": {
              "outlinewidth": 0,
              "ticks": ""
             }
            },
            "type": "scattermapbox"
           }
          ],
          "scatterpolar": [
           {
            "marker": {
             "colorbar": {
              "outlinewidth": 0,
              "ticks": ""
             }
            },
            "type": "scatterpolar"
           }
          ],
          "scatterpolargl": [
           {
            "marker": {
             "colorbar": {
              "outlinewidth": 0,
              "ticks": ""
             }
            },
            "type": "scatterpolargl"
           }
          ],
          "scatterternary": [
           {
            "marker": {
             "colorbar": {
              "outlinewidth": 0,
              "ticks": ""
             }
            },
            "type": "scatterternary"
           }
          ],
          "surface": [
           {
            "colorbar": {
             "outlinewidth": 0,
             "ticks": ""
            },
            "colorscale": [
             [
              0,
              "#0d0887"
             ],
             [
              0.1111111111111111,
              "#46039f"
             ],
             [
              0.2222222222222222,
              "#7201a8"
             ],
             [
              0.3333333333333333,
              "#9c179e"
             ],
             [
              0.4444444444444444,
              "#bd3786"
             ],
             [
              0.5555555555555556,
              "#d8576b"
             ],
             [
              0.6666666666666666,
              "#ed7953"
             ],
             [
              0.7777777777777778,
              "#fb9f3a"
             ],
             [
              0.8888888888888888,
              "#fdca26"
             ],
             [
              1,
              "#f0f921"
             ]
            ],
            "type": "surface"
           }
          ],
          "table": [
           {
            "cells": {
             "fill": {
              "color": "#EBF0F8"
             },
             "line": {
              "color": "white"
             }
            },
            "header": {
             "fill": {
              "color": "#C8D4E3"
             },
             "line": {
              "color": "white"
             }
            },
            "type": "table"
           }
          ]
         },
         "layout": {
          "annotationdefaults": {
           "arrowcolor": "#2a3f5f",
           "arrowhead": 0,
           "arrowwidth": 1
          },
          "autotypenumbers": "strict",
          "coloraxis": {
           "colorbar": {
            "outlinewidth": 0,
            "ticks": ""
           }
          },
          "colorscale": {
           "diverging": [
            [
             0,
             "#8e0152"
            ],
            [
             0.1,
             "#c51b7d"
            ],
            [
             0.2,
             "#de77ae"
            ],
            [
             0.3,
             "#f1b6da"
            ],
            [
             0.4,
             "#fde0ef"
            ],
            [
             0.5,
             "#f7f7f7"
            ],
            [
             0.6,
             "#e6f5d0"
            ],
            [
             0.7,
             "#b8e186"
            ],
            [
             0.8,
             "#7fbc41"
            ],
            [
             0.9,
             "#4d9221"
            ],
            [
             1,
             "#276419"
            ]
           ],
           "sequential": [
            [
             0,
             "#0d0887"
            ],
            [
             0.1111111111111111,
             "#46039f"
            ],
            [
             0.2222222222222222,
             "#7201a8"
            ],
            [
             0.3333333333333333,
             "#9c179e"
            ],
            [
             0.4444444444444444,
             "#bd3786"
            ],
            [
             0.5555555555555556,
             "#d8576b"
            ],
            [
             0.6666666666666666,
             "#ed7953"
            ],
            [
             0.7777777777777778,
             "#fb9f3a"
            ],
            [
             0.8888888888888888,
             "#fdca26"
            ],
            [
             1,
             "#f0f921"
            ]
           ],
           "sequentialminus": [
            [
             0,
             "#0d0887"
            ],
            [
             0.1111111111111111,
             "#46039f"
            ],
            [
             0.2222222222222222,
             "#7201a8"
            ],
            [
             0.3333333333333333,
             "#9c179e"
            ],
            [
             0.4444444444444444,
             "#bd3786"
            ],
            [
             0.5555555555555556,
             "#d8576b"
            ],
            [
             0.6666666666666666,
             "#ed7953"
            ],
            [
             0.7777777777777778,
             "#fb9f3a"
            ],
            [
             0.8888888888888888,
             "#fdca26"
            ],
            [
             1,
             "#f0f921"
            ]
           ]
          },
          "colorway": [
           "#636efa",
           "#EF553B",
           "#00cc96",
           "#ab63fa",
           "#FFA15A",
           "#19d3f3",
           "#FF6692",
           "#B6E880",
           "#FF97FF",
           "#FECB52"
          ],
          "font": {
           "color": "#2a3f5f"
          },
          "geo": {
           "bgcolor": "white",
           "lakecolor": "white",
           "landcolor": "#E5ECF6",
           "showlakes": true,
           "showland": true,
           "subunitcolor": "white"
          },
          "hoverlabel": {
           "align": "left"
          },
          "hovermode": "closest",
          "mapbox": {
           "style": "light"
          },
          "paper_bgcolor": "white",
          "plot_bgcolor": "#E5ECF6",
          "polar": {
           "angularaxis": {
            "gridcolor": "white",
            "linecolor": "white",
            "ticks": ""
           },
           "bgcolor": "#E5ECF6",
           "radialaxis": {
            "gridcolor": "white",
            "linecolor": "white",
            "ticks": ""
           }
          },
          "scene": {
           "xaxis": {
            "backgroundcolor": "#E5ECF6",
            "gridcolor": "white",
            "gridwidth": 2,
            "linecolor": "white",
            "showbackground": true,
            "ticks": "",
            "zerolinecolor": "white"
           },
           "yaxis": {
            "backgroundcolor": "#E5ECF6",
            "gridcolor": "white",
            "gridwidth": 2,
            "linecolor": "white",
            "showbackground": true,
            "ticks": "",
            "zerolinecolor": "white"
           },
           "zaxis": {
            "backgroundcolor": "#E5ECF6",
            "gridcolor": "white",
            "gridwidth": 2,
            "linecolor": "white",
            "showbackground": true,
            "ticks": "",
            "zerolinecolor": "white"
           }
          },
          "shapedefaults": {
           "line": {
            "color": "#2a3f5f"
           }
          },
          "ternary": {
           "aaxis": {
            "gridcolor": "white",
            "linecolor": "white",
            "ticks": ""
           },
           "baxis": {
            "gridcolor": "white",
            "linecolor": "white",
            "ticks": ""
           },
           "bgcolor": "#E5ECF6",
           "caxis": {
            "gridcolor": "white",
            "linecolor": "white",
            "ticks": ""
           }
          },
          "title": {
           "x": 0.05
          },
          "xaxis": {
           "automargin": true,
           "gridcolor": "white",
           "linecolor": "white",
           "ticks": "",
           "title": {
            "standoff": 15
           },
           "zerolinecolor": "white",
           "zerolinewidth": 2
          },
          "yaxis": {
           "automargin": true,
           "gridcolor": "white",
           "linecolor": "white",
           "ticks": "",
           "title": {
            "standoff": 15
           },
           "zerolinecolor": "white",
           "zerolinewidth": 2
          }
         }
        },
        "title": {
         "text": "Revenue Distribution Across Product Hierarchies, Customer Groups, and Sales Channels"
        }
       }
      }
     },
     "metadata": {},
     "output_type": "display_data"
    }
   ],
   "source": [
    "import pandas as pd\n",
    "\n",
    "# Assuming combined_df is already defined and contains the relevant data\n",
    "# Calculate total 'order_material_net_value' for each combination of PRH1 and PRH4\n",
    "product_hierarchy_totals = combined_df.groupby(['PRH1', 'PRH4'])['order_material_net_value'].sum().reset_index()\n",
    "\n",
    "# Select the top product hierarchies based on total revenue\n",
    "top_product_hierarchies = product_hierarchy_totals.sort_values(by='order_material_net_value', ascending=False).head(10)\n",
    "\n",
    "# Merge with customer group and sales channel data\n",
    "top_product_details = pd.merge(top_product_hierarchies, combined_df, on=['PRH1', 'PRH4'])\n",
    "\n",
    "# Check the columns of the merged DataFrame\n",
    "print(top_product_details.columns)\n",
    "\n",
    "# Calculate the contribution of customer groups and sales channels to these top product hierarchies\n",
    "group_channel_contribution = top_product_details.groupby(['PRH1', 'PRH4', 'customer_group', 'sales_channel'])['order_material_net_value_x'].sum().reset_index()\n",
    "\n",
    "# Create a treemap to display the revenue distribution\n",
    "fig = px.treemap(group_channel_contribution, path=['PRH1', 'PRH4', 'customer_group', 'sales_channel'], values='order_material_net_value_x',\n",
    "                 title='Revenue Distribution Across Product Hierarchies, Customer Groups, and Sales Channels',\n",
    "                 labels={'order_material_net_value_x': 'Total Order Material Net Value'})\n",
    "\n",
    "# Customize hover data\n",
    "fig.update_traces(hovertemplate='<b>%{label}</b><br>Revenue: $%{value}<extra></extra>')\n",
    "\n",
    "fig.show()\n"
   ]
  },
  {
   "cell_type": "markdown",
   "metadata": {},
   "source": [
    "Business Question: How can we identify the most profitable product hierarchies (PRH1 and PRH4) and optimize our sales strategy for these product categories?\n",
    "Steps and Implementation:\n",
    "Calculate Total Revenue for Each Product Hierarchy:\n",
    "\n",
    "We grouped the data by PRH1 and PRH4 to calculate the total order_material_net_value for each combination.\n",
    "This helps us understand the revenue contribution of different product categories.\n",
    "Identify Top Product Hierarchies:\n",
    "\n",
    "We sorted the product hierarchies based on total revenue and selected the top 10.\n",
    "This step identifies the top-performing product categories that generate the most revenue.\n",
    "Analyze Customer Groups and Sales Channels:\n",
    "\n",
    "We merged the top product hierarchies with the original dataset to include customer groups and sales channels.\n",
    "We then calculated the revenue contribution of different customer groups and sales channels to these top product hierarchies.\n",
    "Visualize the Results:\n",
    "\n",
    "We created a treemap to display the revenue distribution across different product hierarchies, customer groups, and sales channels.\n",
    "Expected Visualization:\n",
    "The treemap visualization provides a hierarchical view of the data, showing how revenue is distributed across different levels:\n",
    "\n",
    "Top Level: The PRH1 categories (broad product categories).\n",
    "Second Level: The PRH4 categories within each PRH1 (more specific product categories).\n",
    "Third Level: The customer groups within each PRH4 (who is buying these products).\n",
    "Fourth Level: The sales channels within each customer group (through which channels the sales are happening).\n",
    "Interpretation of the Treemap:\n",
    "Color and Size: Each rectangle in the treemap represents a product hierarchy, customer group,"
   ]
  },
  {
   "cell_type": "code",
   "execution_count": 37,
   "metadata": {},
   "outputs": [
    {
     "data": {
      "application/vnd.plotly.v1+json": {
       "config": {
        "plotlyServerURL": "https://plot.ly"
       },
       "data": [
        {
         "customdata": [
          [
           "Allogenic Bone Substitutes"
          ],
          [
           "Allogenic Bone Substitutes"
          ],
          [
           "Allogenic Bone Substitutes"
          ],
          [
           "Allogenic Bone Substitutes"
          ],
          [
           "Allogenic Bone Substitutes"
          ],
          [
           "Allogenic Bone Substitutes"
          ],
          [
           "Allogenic Bone Substitutes"
          ],
          [
           "Allogenic Bone Substitutes"
          ],
          [
           "Allogenic Bone Substitutes"
          ],
          [
           "Allogenic Bone Substitutes"
          ],
          [
           "Allogenic Bone Substitutes"
          ],
          [
           "Allogenic Bone Substitutes"
          ],
          [
           "Allogenic Bone Substitutes"
          ],
          [
           "Allogenic Bone Substitutes"
          ],
          [
           "Allogenic Bone Substitutes"
          ],
          [
           "Allogenic Bone Substitutes"
          ],
          [
           "Allogenic Bone Substitutes"
          ],
          [
           "Allogenic Bone Substitutes"
          ],
          [
           "Allogenic Bone Substitutes"
          ],
          [
           "Allogenic Bone Substitutes"
          ],
          [
           "Allogenic Bone Substitutes"
          ],
          [
           "Allogenic Bone Substitutes"
          ],
          [
           "Allogenic Bone Substitutes"
          ],
          [
           "Allogenic Bone Substitutes"
          ],
          [
           "Allogenic Bone Substitutes"
          ],
          [
           "Allogenic Bone Substitutes"
          ],
          [
           "Allogenic Bone Substitutes"
          ],
          [
           "Allogenic Bone Substitutes"
          ]
         ],
         "hovertemplate": "Month: %{x}<br>Total Order Material Net Value: $%{y}<br>Product Hierarchy 1: %{customdata[0]}<br>Product Hierarchy 4: %{customdata[1]}<extra></extra>",
         "legendgroup": "Biomaterials",
         "line": {
          "color": "#636efa",
          "dash": "solid"
         },
         "marker": {
          "symbol": "circle"
         },
         "mode": "lines",
         "name": "Biomaterials",
         "showlegend": true,
         "type": "scattergl",
         "x": [
          "2022-01",
          "2022-02",
          "2022-03",
          "2022-04",
          "2022-05",
          "2022-06",
          "2022-07",
          "2022-08",
          "2022-09",
          "2022-10",
          "2022-11",
          "2022-12",
          "2023-01",
          "2023-02",
          "2023-03",
          "2023-04",
          "2023-05",
          "2023-06",
          "2023-07",
          "2023-08",
          "2023-09",
          "2023-10",
          "2023-11",
          "2023-12",
          "2024-01",
          "2024-02",
          "2024-03",
          "2024-04"
         ],
         "xaxis": "x",
         "y": [
          1152234.28,
          1235676.1,
          1393162.31,
          1299051.73,
          1337833.94,
          1459952.38,
          1178965.87,
          1329633.93,
          1413751.99,
          1349289.85,
          1314605.82,
          1489912.2,
          1344601.16,
          1374126.14,
          1519089.1,
          1357594,
          1361766.98,
          1464434.57,
          1327753.65,
          1438748.35,
          1340250.4,
          1446198.36,
          1355212.5,
          1431901.85,
          1493773.17,
          1377592.44,
          1502443.95,
          1385436.76
         ],
         "yaxis": "y"
        },
        {
         "customdata": [
          [
           "Allogenic Soft Tissue Grafts"
          ],
          [
           "Allogenic Soft Tissue Grafts"
          ],
          [
           "Allogenic Soft Tissue Grafts"
          ],
          [
           "Allogenic Soft Tissue Grafts"
          ],
          [
           "Allogenic Soft Tissue Grafts"
          ],
          [
           "Allogenic Soft Tissue Grafts"
          ],
          [
           "Allogenic Soft Tissue Grafts"
          ],
          [
           "Allogenic Soft Tissue Grafts"
          ],
          [
           "Allogenic Soft Tissue Grafts"
          ],
          [
           "Allogenic Soft Tissue Grafts"
          ],
          [
           "Allogenic Soft Tissue Grafts"
          ],
          [
           "Allogenic Soft Tissue Grafts"
          ],
          [
           "Allogenic Soft Tissue Grafts"
          ],
          [
           "Allogenic Soft Tissue Grafts"
          ],
          [
           "Allogenic Soft Tissue Grafts"
          ],
          [
           "Allogenic Soft Tissue Grafts"
          ],
          [
           "Allogenic Soft Tissue Grafts"
          ],
          [
           "Allogenic Soft Tissue Grafts"
          ],
          [
           "Allogenic Soft Tissue Grafts"
          ],
          [
           "Allogenic Soft Tissue Grafts"
          ],
          [
           "Allogenic Soft Tissue Grafts"
          ],
          [
           "Allogenic Soft Tissue Grafts"
          ],
          [
           "Allogenic Soft Tissue Grafts"
          ],
          [
           "Allogenic Soft Tissue Grafts"
          ],
          [
           "Allogenic Soft Tissue Grafts"
          ],
          [
           "Allogenic Soft Tissue Grafts"
          ],
          [
           "Allogenic Soft Tissue Grafts"
          ],
          [
           "Allogenic Soft Tissue Grafts"
          ]
         ],
         "hovertemplate": "Month: %{x}<br>Total Order Material Net Value: $%{y}<br>Product Hierarchy 1: %{customdata[0]}<br>Product Hierarchy 4: %{customdata[1]}<extra></extra>",
         "legendgroup": "Biomaterials",
         "line": {
          "color": "#636efa",
          "dash": "solid"
         },
         "marker": {
          "symbol": "circle"
         },
         "mode": "lines",
         "name": "Biomaterials",
         "showlegend": false,
         "type": "scattergl",
         "x": [
          "2022-01",
          "2022-02",
          "2022-03",
          "2022-04",
          "2022-05",
          "2022-06",
          "2022-07",
          "2022-08",
          "2022-09",
          "2022-10",
          "2022-11",
          "2022-12",
          "2023-01",
          "2023-02",
          "2023-03",
          "2023-04",
          "2023-05",
          "2023-06",
          "2023-07",
          "2023-08",
          "2023-09",
          "2023-10",
          "2023-11",
          "2023-12",
          "2024-01",
          "2024-02",
          "2024-03",
          "2024-04"
         ],
         "xaxis": "x",
         "y": [
          35013.31,
          30848.78,
          38434.75,
          27425.77,
          31427.36,
          31325.4,
          15306.34,
          28787.58,
          19757.62,
          31469.46,
          38238.03,
          40659.78,
          34428.04,
          37176.54,
          33461.77,
          23715.19,
          29741.38,
          26956.38,
          28884.51,
          22995.95,
          38112.8,
          31667.57,
          18077.47,
          26443.59,
          25058.97,
          32085.91,
          25894.91,
          23573.59
         ],
         "yaxis": "y"
        },
        {
         "customdata": [
          [
           "Bovine Collagen Membranes"
          ],
          [
           "Bovine Collagen Membranes"
          ],
          [
           "Bovine Collagen Membranes"
          ],
          [
           "Bovine Collagen Membranes"
          ],
          [
           "Bovine Collagen Membranes"
          ],
          [
           "Bovine Collagen Membranes"
          ],
          [
           "Bovine Collagen Membranes"
          ],
          [
           "Bovine Collagen Membranes"
          ],
          [
           "Bovine Collagen Membranes"
          ],
          [
           "Bovine Collagen Membranes"
          ],
          [
           "Bovine Collagen Membranes"
          ],
          [
           "Bovine Collagen Membranes"
          ],
          [
           "Bovine Collagen Membranes"
          ],
          [
           "Bovine Collagen Membranes"
          ],
          [
           "Bovine Collagen Membranes"
          ],
          [
           "Bovine Collagen Membranes"
          ],
          [
           "Bovine Collagen Membranes"
          ],
          [
           "Bovine Collagen Membranes"
          ],
          [
           "Bovine Collagen Membranes"
          ],
          [
           "Bovine Collagen Membranes"
          ],
          [
           "Bovine Collagen Membranes"
          ],
          [
           "Bovine Collagen Membranes"
          ],
          [
           "Bovine Collagen Membranes"
          ],
          [
           "Bovine Collagen Membranes"
          ],
          [
           "Bovine Collagen Membranes"
          ],
          [
           "Bovine Collagen Membranes"
          ],
          [
           "Bovine Collagen Membranes"
          ],
          [
           "Bovine Collagen Membranes"
          ]
         ],
         "hovertemplate": "Month: %{x}<br>Total Order Material Net Value: $%{y}<br>Product Hierarchy 1: %{customdata[0]}<br>Product Hierarchy 4: %{customdata[1]}<extra></extra>",
         "legendgroup": "Biomaterials",
         "line": {
          "color": "#636efa",
          "dash": "solid"
         },
         "marker": {
          "symbol": "circle"
         },
         "mode": "lines",
         "name": "Biomaterials",
         "showlegend": false,
         "type": "scattergl",
         "x": [
          "2022-01",
          "2022-02",
          "2022-03",
          "2022-04",
          "2022-05",
          "2022-06",
          "2022-07",
          "2022-08",
          "2022-09",
          "2022-10",
          "2022-11",
          "2022-12",
          "2023-01",
          "2023-02",
          "2023-03",
          "2023-04",
          "2023-05",
          "2023-06",
          "2023-07",
          "2023-08",
          "2023-09",
          "2023-10",
          "2023-11",
          "2023-12",
          "2024-01",
          "2024-02",
          "2024-03",
          "2024-04"
         ],
         "xaxis": "x",
         "y": [
          54078.89,
          58781.03,
          71647.62,
          55675.69,
          59855.65,
          71869.68,
          41475.52,
          56900.34,
          65391.8,
          59332.69,
          74040.59,
          57907.72,
          65631.28,
          77987.89,
          67676.16,
          58905.58,
          76958.12,
          98256.46,
          54023.36,
          73208.89,
          66904.55,
          72857.88,
          68397.85,
          91477.81,
          68601.19,
          81859.17,
          71355.59,
          75397.17
         ],
         "yaxis": "y"
        },
        {
         "customdata": [
          [
           "Collagen Plugs"
          ],
          [
           "Collagen Plugs"
          ],
          [
           "Collagen Plugs"
          ],
          [
           "Collagen Plugs"
          ],
          [
           "Collagen Plugs"
          ],
          [
           "Collagen Plugs"
          ],
          [
           "Collagen Plugs"
          ],
          [
           "Collagen Plugs"
          ],
          [
           "Collagen Plugs"
          ],
          [
           "Collagen Plugs"
          ],
          [
           "Collagen Plugs"
          ],
          [
           "Collagen Plugs"
          ],
          [
           "Collagen Plugs"
          ],
          [
           "Collagen Plugs"
          ],
          [
           "Collagen Plugs"
          ],
          [
           "Collagen Plugs"
          ],
          [
           "Collagen Plugs"
          ],
          [
           "Collagen Plugs"
          ],
          [
           "Collagen Plugs"
          ],
          [
           "Collagen Plugs"
          ],
          [
           "Collagen Plugs"
          ],
          [
           "Collagen Plugs"
          ],
          [
           "Collagen Plugs"
          ],
          [
           "Collagen Plugs"
          ],
          [
           "Collagen Plugs"
          ],
          [
           "Collagen Plugs"
          ],
          [
           "Collagen Plugs"
          ],
          [
           "Collagen Plugs"
          ]
         ],
         "hovertemplate": "Month: %{x}<br>Total Order Material Net Value: $%{y}<br>Product Hierarchy 1: %{customdata[0]}<br>Product Hierarchy 4: %{customdata[1]}<extra></extra>",
         "legendgroup": "Biomaterials",
         "line": {
          "color": "#636efa",
          "dash": "solid"
         },
         "marker": {
          "symbol": "circle"
         },
         "mode": "lines",
         "name": "Biomaterials",
         "showlegend": false,
         "type": "scattergl",
         "x": [
          "2022-01",
          "2022-02",
          "2022-03",
          "2022-04",
          "2022-05",
          "2022-06",
          "2022-07",
          "2022-08",
          "2022-09",
          "2022-10",
          "2022-11",
          "2022-12",
          "2023-01",
          "2023-02",
          "2023-03",
          "2023-04",
          "2023-05",
          "2023-06",
          "2023-07",
          "2023-08",
          "2023-09",
          "2023-10",
          "2023-11",
          "2023-12",
          "2024-01",
          "2024-02",
          "2024-03",
          "2024-04"
         ],
         "xaxis": "x",
         "y": [
          11834.01,
          11121.47,
          15127.97,
          10763.49,
          10355,
          15577.22,
          13913.43,
          18485.97,
          17219.4,
          21608.76,
          23888.13,
          17751.31,
          18082.55,
          16270.25,
          19613.59,
          14148.46,
          21682.07,
          18400.52,
          15175.880000000001,
          17160.46,
          13123.63,
          22590.19,
          13586.42,
          24426.96,
          17256.65,
          14959.55,
          21917.65,
          12015.7
         ],
         "yaxis": "y"
        },
        {
         "customdata": [
          [
           "Emdogain"
          ],
          [
           "Emdogain"
          ],
          [
           "Emdogain"
          ],
          [
           "Emdogain"
          ],
          [
           "Emdogain"
          ],
          [
           "Emdogain"
          ],
          [
           "Emdogain"
          ],
          [
           "Emdogain"
          ],
          [
           "Emdogain"
          ],
          [
           "Emdogain"
          ],
          [
           "Emdogain"
          ],
          [
           "Emdogain"
          ],
          [
           "Emdogain"
          ],
          [
           "Emdogain"
          ],
          [
           "Emdogain"
          ],
          [
           "Emdogain"
          ],
          [
           "Emdogain"
          ],
          [
           "Emdogain"
          ],
          [
           "Emdogain"
          ],
          [
           "Emdogain"
          ],
          [
           "Emdogain"
          ],
          [
           "Emdogain"
          ],
          [
           "Emdogain"
          ],
          [
           "Emdogain"
          ],
          [
           "Emdogain"
          ],
          [
           "Emdogain"
          ],
          [
           "Emdogain"
          ],
          [
           "Emdogain"
          ]
         ],
         "hovertemplate": "Month: %{x}<br>Total Order Material Net Value: $%{y}<br>Product Hierarchy 1: %{customdata[0]}<br>Product Hierarchy 4: %{customdata[1]}<extra></extra>",
         "legendgroup": "Biomaterials",
         "line": {
          "color": "#636efa",
          "dash": "solid"
         },
         "marker": {
          "symbol": "circle"
         },
         "mode": "lines",
         "name": "Biomaterials",
         "showlegend": false,
         "type": "scattergl",
         "x": [
          "2022-01",
          "2022-02",
          "2022-03",
          "2022-04",
          "2022-05",
          "2022-06",
          "2022-07",
          "2022-08",
          "2022-09",
          "2022-10",
          "2022-11",
          "2022-12",
          "2023-01",
          "2023-02",
          "2023-03",
          "2023-04",
          "2023-05",
          "2023-06",
          "2023-07",
          "2023-08",
          "2023-09",
          "2023-10",
          "2023-11",
          "2023-12",
          "2024-01",
          "2024-02",
          "2024-03",
          "2024-04"
         ],
         "xaxis": "x",
         "y": [
          647895.54,
          618201.72,
          819525.79,
          631365.47,
          660723.4,
          808774.8,
          556756.31,
          737472.65,
          695574.29,
          693590,
          799824.14,
          853410.61,
          765799.4,
          699428.35,
          841380.12,
          711214.99,
          812503.92,
          819954.41,
          782404.18,
          835079.52,
          805026.05,
          841736.72,
          734716.1,
          783270.82,
          913870.17,
          857464.03,
          842341.73,
          915781.2
         ],
         "yaxis": "y"
        },
        {
         "customdata": [
          [
           "Instruments + Auxiliaries GBR"
          ],
          [
           "Instruments + Auxiliaries GBR"
          ],
          [
           "Instruments + Auxiliaries GBR"
          ],
          [
           "Instruments + Auxiliaries GBR"
          ],
          [
           "Instruments + Auxiliaries GBR"
          ],
          [
           "Instruments + Auxiliaries GBR"
          ],
          [
           "Instruments + Auxiliaries GBR"
          ],
          [
           "Instruments + Auxiliaries GBR"
          ],
          [
           "Instruments + Auxiliaries GBR"
          ],
          [
           "Instruments + Auxiliaries GBR"
          ],
          [
           "Instruments + Auxiliaries GBR"
          ],
          [
           "Instruments + Auxiliaries GBR"
          ],
          [
           "Instruments + Auxiliaries GBR"
          ],
          [
           "Instruments + Auxiliaries GBR"
          ],
          [
           "Instruments + Auxiliaries GBR"
          ],
          [
           "Instruments + Auxiliaries GBR"
          ],
          [
           "Instruments + Auxiliaries GBR"
          ],
          [
           "Instruments + Auxiliaries GBR"
          ],
          [
           "Instruments + Auxiliaries GBR"
          ],
          [
           "Instruments + Auxiliaries GBR"
          ],
          [
           "Instruments + Auxiliaries GBR"
          ],
          [
           "Instruments + Auxiliaries GBR"
          ],
          [
           "Instruments + Auxiliaries GBR"
          ],
          [
           "Instruments + Auxiliaries GBR"
          ],
          [
           "Instruments + Auxiliaries GBR"
          ],
          [
           "Instruments + Auxiliaries GBR"
          ],
          [
           "Instruments + Auxiliaries GBR"
          ],
          [
           "Instruments + Auxiliaries GBR"
          ]
         ],
         "hovertemplate": "Month: %{x}<br>Total Order Material Net Value: $%{y}<br>Product Hierarchy 1: %{customdata[0]}<br>Product Hierarchy 4: %{customdata[1]}<extra></extra>",
         "legendgroup": "Biomaterials",
         "line": {
          "color": "#636efa",
          "dash": "solid"
         },
         "marker": {
          "symbol": "circle"
         },
         "mode": "lines",
         "name": "Biomaterials",
         "showlegend": false,
         "type": "scattergl",
         "x": [
          "2022-01",
          "2022-02",
          "2022-03",
          "2022-04",
          "2022-05",
          "2022-06",
          "2022-07",
          "2022-08",
          "2022-09",
          "2022-10",
          "2022-11",
          "2022-12",
          "2023-01",
          "2023-02",
          "2023-03",
          "2023-04",
          "2023-05",
          "2023-06",
          "2023-07",
          "2023-08",
          "2023-09",
          "2023-10",
          "2023-11",
          "2023-12",
          "2024-01",
          "2024-02",
          "2024-03",
          "2024-04"
         ],
         "xaxis": "x",
         "y": [
          12065.61,
          12295.27,
          14201.630000000001,
          12702.2,
          19651.48,
          14666.93,
          12289.95,
          12981.75,
          15820.55,
          14224.82,
          15798.55,
          14534.52,
          16229.12,
          12947.96,
          14106.57,
          18000.18,
          14401.18,
          16241.42,
          14411.18,
          19639.82,
          16804.06,
          18158.82,
          19138.77,
          15850.42,
          21484.66,
          19762.25,
          21485.38,
          16641.83
         ],
         "yaxis": "y"
        },
        {
         "customdata": [
          [
           "Porcine Collagen Membranes"
          ],
          [
           "Porcine Collagen Membranes"
          ],
          [
           "Porcine Collagen Membranes"
          ],
          [
           "Porcine Collagen Membranes"
          ],
          [
           "Porcine Collagen Membranes"
          ],
          [
           "Porcine Collagen Membranes"
          ],
          [
           "Porcine Collagen Membranes"
          ],
          [
           "Porcine Collagen Membranes"
          ],
          [
           "Porcine Collagen Membranes"
          ],
          [
           "Porcine Collagen Membranes"
          ],
          [
           "Porcine Collagen Membranes"
          ],
          [
           "Porcine Collagen Membranes"
          ],
          [
           "Porcine Collagen Membranes"
          ],
          [
           "Porcine Collagen Membranes"
          ],
          [
           "Porcine Collagen Membranes"
          ],
          [
           "Porcine Collagen Membranes"
          ],
          [
           "Porcine Collagen Membranes"
          ],
          [
           "Porcine Collagen Membranes"
          ],
          [
           "Porcine Collagen Membranes"
          ],
          [
           "Porcine Collagen Membranes"
          ],
          [
           "Porcine Collagen Membranes"
          ],
          [
           "Porcine Collagen Membranes"
          ],
          [
           "Porcine Collagen Membranes"
          ],
          [
           "Porcine Collagen Membranes"
          ],
          [
           "Porcine Collagen Membranes"
          ],
          [
           "Porcine Collagen Membranes"
          ],
          [
           "Porcine Collagen Membranes"
          ],
          [
           "Porcine Collagen Membranes"
          ]
         ],
         "hovertemplate": "Month: %{x}<br>Total Order Material Net Value: $%{y}<br>Product Hierarchy 1: %{customdata[0]}<br>Product Hierarchy 4: %{customdata[1]}<extra></extra>",
         "legendgroup": "Biomaterials",
         "line": {
          "color": "#636efa",
          "dash": "solid"
         },
         "marker": {
          "symbol": "circle"
         },
         "mode": "lines",
         "name": "Biomaterials",
         "showlegend": false,
         "type": "scattergl",
         "x": [
          "2022-01",
          "2022-02",
          "2022-03",
          "2022-04",
          "2022-05",
          "2022-06",
          "2022-07",
          "2022-08",
          "2022-09",
          "2022-10",
          "2022-11",
          "2022-12",
          "2023-01",
          "2023-02",
          "2023-03",
          "2023-04",
          "2023-05",
          "2023-06",
          "2023-07",
          "2023-08",
          "2023-09",
          "2023-10",
          "2023-11",
          "2023-12",
          "2024-01",
          "2024-02",
          "2024-03",
          "2024-04"
         ],
         "xaxis": "x",
         "y": [
          297688.61,
          272216.53,
          348151.9,
          316383.34,
          334589.36,
          349720.76,
          297880.2,
          372550.63,
          348512.52,
          381210.29,
          345037.84,
          353066.71,
          406112.54,
          348486.27,
          469517.78,
          409303.19,
          363736.95,
          434402.45,
          327118.08,
          398542.24,
          401564.76,
          420938.1,
          382483.88,
          341814.51,
          382205.24,
          389400.89,
          397112.28,
          372760.48
         ],
         "yaxis": "y"
        },
        {
         "customdata": [
          [
           "Synthetic Bone Substitutes"
          ],
          [
           "Synthetic Bone Substitutes"
          ],
          [
           "Synthetic Bone Substitutes"
          ],
          [
           "Synthetic Bone Substitutes"
          ],
          [
           "Synthetic Bone Substitutes"
          ],
          [
           "Synthetic Bone Substitutes"
          ],
          [
           "Synthetic Bone Substitutes"
          ],
          [
           "Synthetic Bone Substitutes"
          ],
          [
           "Synthetic Bone Substitutes"
          ],
          [
           "Synthetic Bone Substitutes"
          ],
          [
           "Synthetic Bone Substitutes"
          ],
          [
           "Synthetic Bone Substitutes"
          ],
          [
           "Synthetic Bone Substitutes"
          ],
          [
           "Synthetic Bone Substitutes"
          ],
          [
           "Synthetic Bone Substitutes"
          ],
          [
           "Synthetic Bone Substitutes"
          ],
          [
           "Synthetic Bone Substitutes"
          ],
          [
           "Synthetic Bone Substitutes"
          ],
          [
           "Synthetic Bone Substitutes"
          ],
          [
           "Synthetic Bone Substitutes"
          ],
          [
           "Synthetic Bone Substitutes"
          ],
          [
           "Synthetic Bone Substitutes"
          ],
          [
           "Synthetic Bone Substitutes"
          ],
          [
           "Synthetic Bone Substitutes"
          ],
          [
           "Synthetic Bone Substitutes"
          ],
          [
           "Synthetic Bone Substitutes"
          ],
          [
           "Synthetic Bone Substitutes"
          ],
          [
           "Synthetic Bone Substitutes"
          ]
         ],
         "hovertemplate": "Month: %{x}<br>Total Order Material Net Value: $%{y}<br>Product Hierarchy 1: %{customdata[0]}<br>Product Hierarchy 4: %{customdata[1]}<extra></extra>",
         "legendgroup": "Biomaterials",
         "line": {
          "color": "#636efa",
          "dash": "solid"
         },
         "marker": {
          "symbol": "circle"
         },
         "mode": "lines",
         "name": "Biomaterials",
         "showlegend": false,
         "type": "scattergl",
         "x": [
          "2022-01",
          "2022-02",
          "2022-03",
          "2022-04",
          "2022-05",
          "2022-06",
          "2022-07",
          "2022-08",
          "2022-09",
          "2022-10",
          "2022-11",
          "2022-12",
          "2023-01",
          "2023-02",
          "2023-03",
          "2023-04",
          "2023-05",
          "2023-06",
          "2023-07",
          "2023-08",
          "2023-09",
          "2023-10",
          "2023-11",
          "2023-12",
          "2024-01",
          "2024-02",
          "2024-03",
          "2024-04"
         ],
         "xaxis": "x",
         "y": [
          7120.25,
          3276.21,
          5822.280000000001,
          2891.84,
          2152.0299999999997,
          4179.860000000001,
          4849.79,
          2919.21,
          5297.93,
          19945.3,
          28254.82,
          10978.25,
          14268.14,
          13489.69,
          22982.31,
          8812.29,
          26930.28,
          12469.52,
          20637.07,
          15083.5,
          20391.56,
          26795.35,
          26748.92,
          35327.57,
          26796.4,
          29315.7,
          29619.71,
          19795.96
         ],
         "yaxis": "y"
        },
        {
         "customdata": [
          [
           "Xenogenic Bone Substitutes"
          ],
          [
           "Xenogenic Bone Substitutes"
          ],
          [
           "Xenogenic Bone Substitutes"
          ],
          [
           "Xenogenic Bone Substitutes"
          ],
          [
           "Xenogenic Bone Substitutes"
          ],
          [
           "Xenogenic Bone Substitutes"
          ],
          [
           "Xenogenic Bone Substitutes"
          ],
          [
           "Xenogenic Bone Substitutes"
          ],
          [
           "Xenogenic Bone Substitutes"
          ],
          [
           "Xenogenic Bone Substitutes"
          ],
          [
           "Xenogenic Bone Substitutes"
          ],
          [
           "Xenogenic Bone Substitutes"
          ],
          [
           "Xenogenic Bone Substitutes"
          ],
          [
           "Xenogenic Bone Substitutes"
          ],
          [
           "Xenogenic Bone Substitutes"
          ],
          [
           "Xenogenic Bone Substitutes"
          ],
          [
           "Xenogenic Bone Substitutes"
          ],
          [
           "Xenogenic Bone Substitutes"
          ],
          [
           "Xenogenic Bone Substitutes"
          ],
          [
           "Xenogenic Bone Substitutes"
          ],
          [
           "Xenogenic Bone Substitutes"
          ],
          [
           "Xenogenic Bone Substitutes"
          ],
          [
           "Xenogenic Bone Substitutes"
          ],
          [
           "Xenogenic Bone Substitutes"
          ],
          [
           "Xenogenic Bone Substitutes"
          ],
          [
           "Xenogenic Bone Substitutes"
          ],
          [
           "Xenogenic Bone Substitutes"
          ],
          [
           "Xenogenic Bone Substitutes"
          ]
         ],
         "hovertemplate": "Month: %{x}<br>Total Order Material Net Value: $%{y}<br>Product Hierarchy 1: %{customdata[0]}<br>Product Hierarchy 4: %{customdata[1]}<extra></extra>",
         "legendgroup": "Biomaterials",
         "line": {
          "color": "#636efa",
          "dash": "solid"
         },
         "marker": {
          "symbol": "circle"
         },
         "mode": "lines",
         "name": "Biomaterials",
         "showlegend": false,
         "type": "scattergl",
         "x": [
          "2022-01",
          "2022-02",
          "2022-03",
          "2022-04",
          "2022-05",
          "2022-06",
          "2022-07",
          "2022-08",
          "2022-09",
          "2022-10",
          "2022-11",
          "2022-12",
          "2023-01",
          "2023-02",
          "2023-03",
          "2023-04",
          "2023-05",
          "2023-06",
          "2023-07",
          "2023-08",
          "2023-09",
          "2023-10",
          "2023-11",
          "2023-12",
          "2024-01",
          "2024-02",
          "2024-03",
          "2024-04"
         ],
         "xaxis": "x",
         "y": [
          109813.18,
          113910.23,
          140072.23,
          120477.79,
          141881.45,
          129618.05,
          100826.72,
          119185.58,
          155380.09,
          162361.72,
          139706.56,
          138164.92,
          136311.94,
          137379.54,
          164874.18,
          124354.11,
          137698.23,
          159995.94,
          151442.5,
          127781.35,
          145654.08,
          144107.67,
          172373.73,
          167498.19,
          160002.68,
          131003.87,
          148440.58,
          122090.98
         ],
         "yaxis": "y"
        },
        {
         "customdata": [
          [
           "Prevention"
          ],
          [
           "Prevention"
          ]
         ],
         "hovertemplate": "Month: %{x}<br>Total Order Material Net Value: $%{y}<br>Product Hierarchy 1: %{customdata[0]}<br>Product Hierarchy 4: %{customdata[1]}<extra></extra>",
         "legendgroup": "Biomaterials",
         "line": {
          "color": "#636efa",
          "dash": "solid"
         },
         "marker": {
          "symbol": "circle"
         },
         "mode": "lines",
         "name": "Biomaterials",
         "showlegend": false,
         "type": "scattergl",
         "x": [
          "2022-03",
          "2022-04"
         ],
         "xaxis": "x",
         "y": [
          1370.97,
          320.98
         ],
         "yaxis": "y"
        },
        {
         "customdata": [
          [
           "Digital Accessories + Others"
          ],
          [
           "Digital Accessories + Others"
          ],
          [
           "Digital Accessories + Others"
          ],
          [
           "Digital Accessories + Others"
          ],
          [
           "Digital Accessories + Others"
          ],
          [
           "Digital Accessories + Others"
          ],
          [
           "Digital Accessories + Others"
          ],
          [
           "Digital Accessories + Others"
          ],
          [
           "Digital Accessories + Others"
          ],
          [
           "Digital Accessories + Others"
          ],
          [
           "Digital Accessories + Others"
          ],
          [
           "Digital Accessories + Others"
          ],
          [
           "Digital Accessories + Others"
          ],
          [
           "Digital Accessories + Others"
          ],
          [
           "Digital Accessories + Others"
          ],
          [
           "Digital Accessories + Others"
          ],
          [
           "Digital Accessories + Others"
          ],
          [
           "Digital Accessories + Others"
          ],
          [
           "Digital Accessories + Others"
          ],
          [
           "Digital Accessories + Others"
          ],
          [
           "Digital Accessories + Others"
          ],
          [
           "Digital Accessories + Others"
          ],
          [
           "Digital Accessories + Others"
          ],
          [
           "Digital Accessories + Others"
          ],
          [
           "Digital Accessories + Others"
          ],
          [
           "Digital Accessories + Others"
          ],
          [
           "Digital Accessories + Others"
          ],
          [
           "Digital Accessories + Others"
          ]
         ],
         "hovertemplate": "Month: %{x}<br>Total Order Material Net Value: $%{y}<br>Product Hierarchy 1: %{customdata[0]}<br>Product Hierarchy 4: %{customdata[1]}<extra></extra>",
         "legendgroup": "Digital Enablers",
         "line": {
          "color": "#EF553B",
          "dash": "solid"
         },
         "marker": {
          "symbol": "circle"
         },
         "mode": "lines",
         "name": "Digital Enablers",
         "showlegend": true,
         "type": "scattergl",
         "x": [
          "2022-01",
          "2022-02",
          "2022-03",
          "2022-04",
          "2022-05",
          "2022-06",
          "2022-07",
          "2022-08",
          "2022-09",
          "2022-10",
          "2022-11",
          "2022-12",
          "2023-01",
          "2023-02",
          "2023-03",
          "2023-04",
          "2023-05",
          "2023-06",
          "2023-07",
          "2023-08",
          "2023-09",
          "2023-10",
          "2023-11",
          "2023-12",
          "2024-01",
          "2024-02",
          "2024-03",
          "2024-04"
         ],
         "xaxis": "x",
         "y": [
          275327.08,
          292036.01,
          508564.69,
          305357.25,
          397107.72000000003,
          422365.36,
          296256.91,
          458346.31,
          542549.46,
          638497.45,
          732447.44,
          723863.65,
          384552.97,
          598136.02,
          620691.65,
          482809.93,
          508111.23,
          638664.36,
          426381.38,
          588193.33,
          604143.02,
          707944.23,
          819801.87,
          1156145.57,
          415630.15,
          579216.1,
          667109.89,
          561401.57
         ],
         "yaxis": "y"
        },
        {
         "customdata": [
          [
           "In-lab 3D Printer Hardware"
          ],
          [
           "In-lab 3D Printer Hardware"
          ],
          [
           "In-lab 3D Printer Hardware"
          ],
          [
           "In-lab 3D Printer Hardware"
          ],
          [
           "In-lab 3D Printer Hardware"
          ],
          [
           "In-lab 3D Printer Hardware"
          ],
          [
           "In-lab 3D Printer Hardware"
          ],
          [
           "In-lab 3D Printer Hardware"
          ],
          [
           "In-lab 3D Printer Hardware"
          ],
          [
           "In-lab 3D Printer Hardware"
          ],
          [
           "In-lab 3D Printer Hardware"
          ],
          [
           "In-lab 3D Printer Hardware"
          ],
          [
           "In-lab 3D Printer Hardware"
          ],
          [
           "In-lab 3D Printer Hardware"
          ],
          [
           "In-lab 3D Printer Hardware"
          ],
          [
           "In-lab 3D Printer Hardware"
          ],
          [
           "In-lab 3D Printer Hardware"
          ],
          [
           "In-lab 3D Printer Hardware"
          ],
          [
           "In-lab 3D Printer Hardware"
          ],
          [
           "In-lab 3D Printer Hardware"
          ],
          [
           "In-lab 3D Printer Hardware"
          ],
          [
           "In-lab 3D Printer Hardware"
          ],
          [
           "In-lab 3D Printer Hardware"
          ],
          [
           "In-lab 3D Printer Hardware"
          ],
          [
           "In-lab 3D Printer Hardware"
          ],
          [
           "In-lab 3D Printer Hardware"
          ],
          [
           "In-lab 3D Printer Hardware"
          ],
          [
           "In-lab 3D Printer Hardware"
          ]
         ],
         "hovertemplate": "Month: %{x}<br>Total Order Material Net Value: $%{y}<br>Product Hierarchy 1: %{customdata[0]}<br>Product Hierarchy 4: %{customdata[1]}<extra></extra>",
         "legendgroup": "Digital Enablers",
         "line": {
          "color": "#EF553B",
          "dash": "solid"
         },
         "marker": {
          "symbol": "circle"
         },
         "mode": "lines",
         "name": "Digital Enablers",
         "showlegend": false,
         "type": "scattergl",
         "x": [
          "2022-01",
          "2022-02",
          "2022-03",
          "2022-04",
          "2022-05",
          "2022-06",
          "2022-07",
          "2022-08",
          "2022-09",
          "2022-10",
          "2022-11",
          "2022-12",
          "2023-01",
          "2023-02",
          "2023-03",
          "2023-04",
          "2023-05",
          "2023-06",
          "2023-07",
          "2023-08",
          "2023-09",
          "2023-10",
          "2023-11",
          "2023-12",
          "2024-01",
          "2024-02",
          "2024-03",
          "2024-04"
         ],
         "xaxis": "x",
         "y": [
          33482.06,
          22363.57,
          38808.53,
          208399.97999999998,
          222897.56,
          83827.48,
          21329,
          138282.03,
          185142.55,
          250022.03,
          163505.77,
          240894.7,
          63269.94,
          173496.5,
          215915.49,
          143485.43,
          240763.18,
          289884.23,
          149858.91999999998,
          76587.36,
          282567.03,
          182288.93,
          447623.23,
          384583.02,
          81204.07,
          323737.42,
          353383.67,
          179075.38
         ],
         "yaxis": "y"
        },
        {
         "customdata": [
          [
           "In-lab Milling Hardware"
          ],
          [
           "In-lab Milling Hardware"
          ],
          [
           "In-lab Milling Hardware"
          ],
          [
           "In-lab Milling Hardware"
          ],
          [
           "In-lab Milling Hardware"
          ],
          [
           "In-lab Milling Hardware"
          ],
          [
           "In-lab Milling Hardware"
          ],
          [
           "In-lab Milling Hardware"
          ],
          [
           "In-lab Milling Hardware"
          ],
          [
           "In-lab Milling Hardware"
          ],
          [
           "In-lab Milling Hardware"
          ],
          [
           "In-lab Milling Hardware"
          ],
          [
           "In-lab Milling Hardware"
          ],
          [
           "In-lab Milling Hardware"
          ],
          [
           "In-lab Milling Hardware"
          ],
          [
           "In-lab Milling Hardware"
          ],
          [
           "In-lab Milling Hardware"
          ],
          [
           "In-lab Milling Hardware"
          ],
          [
           "In-lab Milling Hardware"
          ],
          [
           "In-lab Milling Hardware"
          ],
          [
           "In-lab Milling Hardware"
          ],
          [
           "In-lab Milling Hardware"
          ]
         ],
         "hovertemplate": "Month: %{x}<br>Total Order Material Net Value: $%{y}<br>Product Hierarchy 1: %{customdata[0]}<br>Product Hierarchy 4: %{customdata[1]}<extra></extra>",
         "legendgroup": "Digital Enablers",
         "line": {
          "color": "#EF553B",
          "dash": "solid"
         },
         "marker": {
          "symbol": "circle"
         },
         "mode": "lines",
         "name": "Digital Enablers",
         "showlegend": false,
         "type": "scattergl",
         "x": [
          "2022-01",
          "2022-02",
          "2022-03",
          "2022-05",
          "2022-07",
          "2022-09",
          "2022-10",
          "2022-11",
          "2022-12",
          "2023-02",
          "2023-03",
          "2023-04",
          "2023-06",
          "2023-07",
          "2023-08",
          "2023-09",
          "2023-10",
          "2023-11",
          "2024-01",
          "2024-02",
          "2024-03",
          "2024-04"
         ],
         "xaxis": "x",
         "y": [
          129798.81,
          82584.78,
          257729.45,
          146677.73,
          108079.66,
          101129.97,
          83791.91,
          158562.17,
          78956.47,
          308963.23,
          79723.43000000001,
          41507.63,
          51335.11,
          96128.54000000001,
          163573.38999999998,
          164927.58,
          208018.81,
          126306.44,
          41789.32,
          114642.47,
          65905.64,
          111564.13
         ],
         "yaxis": "y"
        },
        {
         "customdata": [
          [
           "IntraOral Hardware"
          ],
          [
           "IntraOral Hardware"
          ],
          [
           "IntraOral Hardware"
          ],
          [
           "IntraOral Hardware"
          ],
          [
           "IntraOral Hardware"
          ],
          [
           "IntraOral Hardware"
          ],
          [
           "IntraOral Hardware"
          ],
          [
           "IntraOral Hardware"
          ],
          [
           "IntraOral Hardware"
          ],
          [
           "IntraOral Hardware"
          ],
          [
           "IntraOral Hardware"
          ],
          [
           "IntraOral Hardware"
          ],
          [
           "IntraOral Hardware"
          ],
          [
           "IntraOral Hardware"
          ],
          [
           "IntraOral Hardware"
          ],
          [
           "IntraOral Hardware"
          ],
          [
           "IntraOral Hardware"
          ],
          [
           "IntraOral Hardware"
          ],
          [
           "IntraOral Hardware"
          ],
          [
           "IntraOral Hardware"
          ],
          [
           "IntraOral Hardware"
          ],
          [
           "IntraOral Hardware"
          ],
          [
           "IntraOral Hardware"
          ],
          [
           "IntraOral Hardware"
          ],
          [
           "IntraOral Hardware"
          ],
          [
           "IntraOral Hardware"
          ],
          [
           "IntraOral Hardware"
          ],
          [
           "IntraOral Hardware"
          ]
         ],
         "hovertemplate": "Month: %{x}<br>Total Order Material Net Value: $%{y}<br>Product Hierarchy 1: %{customdata[0]}<br>Product Hierarchy 4: %{customdata[1]}<extra></extra>",
         "legendgroup": "Digital Enablers",
         "line": {
          "color": "#EF553B",
          "dash": "solid"
         },
         "marker": {
          "symbol": "circle"
         },
         "mode": "lines",
         "name": "Digital Enablers",
         "showlegend": false,
         "type": "scattergl",
         "x": [
          "2022-01",
          "2022-02",
          "2022-03",
          "2022-04",
          "2022-05",
          "2022-06",
          "2022-07",
          "2022-08",
          "2022-09",
          "2022-10",
          "2022-11",
          "2022-12",
          "2023-01",
          "2023-02",
          "2023-03",
          "2023-04",
          "2023-05",
          "2023-06",
          "2023-07",
          "2023-08",
          "2023-09",
          "2023-10",
          "2023-11",
          "2023-12",
          "2024-01",
          "2024-02",
          "2024-03",
          "2024-04"
         ],
         "xaxis": "x",
         "y": [
          750755.82,
          718912.33,
          2566093.45,
          1226328.75,
          1551437.07,
          1718734.3699999999,
          1435774.6099999999,
          1796326.9,
          1767693.73,
          2696469.94,
          2293875.7199999997,
          2641060.17,
          928342.45,
          1492975.05,
          1944788.15,
          1613297.43,
          1783748.03,
          1904131.91,
          1255409.79,
          1628171.8,
          2314688.77,
          1978730.35,
          2997795.63,
          4536453.5,
          939478.75,
          1398705.1,
          2701150.09,
          1759624.49
         ],
         "yaxis": "y"
        },
        {
         "customdata": [
          [
           "Lab Scan + Design Hardware"
          ],
          [
           "Lab Scan + Design Hardware"
          ],
          [
           "Lab Scan + Design Hardware"
          ],
          [
           "Lab Scan + Design Hardware"
          ],
          [
           "Lab Scan + Design Hardware"
          ],
          [
           "Lab Scan + Design Hardware"
          ],
          [
           "Lab Scan + Design Hardware"
          ],
          [
           "Lab Scan + Design Hardware"
          ],
          [
           "Lab Scan + Design Hardware"
          ],
          [
           "Lab Scan + Design Hardware"
          ],
          [
           "Lab Scan + Design Hardware"
          ],
          [
           "Lab Scan + Design Hardware"
          ],
          [
           "Lab Scan + Design Hardware"
          ],
          [
           "Lab Scan + Design Hardware"
          ],
          [
           "Lab Scan + Design Hardware"
          ],
          [
           "Lab Scan + Design Hardware"
          ]
         ],
         "hovertemplate": "Month: %{x}<br>Total Order Material Net Value: $%{y}<br>Product Hierarchy 1: %{customdata[0]}<br>Product Hierarchy 4: %{customdata[1]}<extra></extra>",
         "legendgroup": "Digital Enablers",
         "line": {
          "color": "#EF553B",
          "dash": "solid"
         },
         "marker": {
          "symbol": "circle"
         },
         "mode": "lines",
         "name": "Digital Enablers",
         "showlegend": false,
         "type": "scattergl",
         "x": [
          "2022-01",
          "2022-02",
          "2022-03",
          "2022-04",
          "2022-05",
          "2022-07",
          "2022-10",
          "2022-11",
          "2022-12",
          "2023-01",
          "2023-02",
          "2023-03",
          "2023-06",
          "2023-07",
          "2023-09",
          "2024-04"
         ],
         "xaxis": "x",
         "y": [
          15129.34,
          12008.83,
          15129.34,
          12166.05,
          26308.07,
          14755.61,
          11218.68,
          33441.01,
          11163.72,
          22396.73,
          11218.68,
          30602.16,
          8095.01,
          30125.53,
          11593.33,
          13899.06
         ],
         "yaxis": "y"
        },
        {
         "customdata": [
          [
           "Other Services"
          ],
          [
           "Other Services"
          ],
          [
           "Other Services"
          ],
          [
           "Other Services"
          ],
          [
           "Other Services"
          ],
          [
           "Other Services"
          ],
          [
           "Other Services"
          ],
          [
           "Other Services"
          ],
          [
           "Other Services"
          ],
          [
           "Other Services"
          ],
          [
           "Other Services"
          ],
          [
           "Other Services"
          ],
          [
           "Other Services"
          ],
          [
           "Other Services"
          ],
          [
           "Other Services"
          ],
          [
           "Other Services"
          ],
          [
           "Other Services"
          ],
          [
           "Other Services"
          ],
          [
           "Other Services"
          ],
          [
           "Other Services"
          ],
          [
           "Other Services"
          ],
          [
           "Other Services"
          ],
          [
           "Other Services"
          ],
          [
           "Other Services"
          ],
          [
           "Other Services"
          ],
          [
           "Other Services"
          ],
          [
           "Other Services"
          ],
          [
           "Other Services"
          ]
         ],
         "hovertemplate": "Month: %{x}<br>Total Order Material Net Value: $%{y}<br>Product Hierarchy 1: %{customdata[0]}<br>Product Hierarchy 4: %{customdata[1]}<extra></extra>",
         "legendgroup": "Digital Enablers",
         "line": {
          "color": "#EF553B",
          "dash": "solid"
         },
         "marker": {
          "symbol": "circle"
         },
         "mode": "lines",
         "name": "Digital Enablers",
         "showlegend": false,
         "type": "scattergl",
         "x": [
          "2022-01",
          "2022-02",
          "2022-03",
          "2022-04",
          "2022-05",
          "2022-06",
          "2022-07",
          "2022-08",
          "2022-09",
          "2022-10",
          "2022-11",
          "2022-12",
          "2023-01",
          "2023-02",
          "2023-03",
          "2023-04",
          "2023-05",
          "2023-06",
          "2023-07",
          "2023-08",
          "2023-09",
          "2023-10",
          "2023-11",
          "2023-12",
          "2024-01",
          "2024-02",
          "2024-03",
          "2024-04"
         ],
         "xaxis": "x",
         "y": [
          12526.46,
          4452.33,
          41056.630000000005,
          14695,
          11798.06,
          9300,
          5188.530000000001,
          28383.14,
          13234.95,
          6879.15,
          13269.17,
          18703.510000000002,
          15800,
          23949.99,
          26930.04,
          15560.880000000001,
          29251.87,
          17611.64,
          16618.37,
          24655.02,
          19751.14,
          17644.18,
          15712.71,
          12824.84,
          29915.7,
          7201.57,
          18178.96,
          16488.93
         ],
         "yaxis": "y"
        },
        {
         "customdata": [
          [
           "Other Software + License"
          ],
          [
           "Other Software + License"
          ],
          [
           "Other Software + License"
          ],
          [
           "Other Software + License"
          ],
          [
           "Other Software + License"
          ],
          [
           "Other Software + License"
          ],
          [
           "Other Software + License"
          ],
          [
           "Other Software + License"
          ],
          [
           "Other Software + License"
          ],
          [
           "Other Software + License"
          ],
          [
           "Other Software + License"
          ],
          [
           "Other Software + License"
          ],
          [
           "Other Software + License"
          ],
          [
           "Other Software + License"
          ],
          [
           "Other Software + License"
          ],
          [
           "Other Software + License"
          ],
          [
           "Other Software + License"
          ],
          [
           "Other Software + License"
          ],
          [
           "Other Software + License"
          ],
          [
           "Other Software + License"
          ],
          [
           "Other Software + License"
          ],
          [
           "Other Software + License"
          ],
          [
           "Other Software + License"
          ],
          [
           "Other Software + License"
          ],
          [
           "Other Software + License"
          ],
          [
           "Other Software + License"
          ],
          [
           "Other Software + License"
          ],
          [
           "Other Software + License"
          ]
         ],
         "hovertemplate": "Month: %{x}<br>Total Order Material Net Value: $%{y}<br>Product Hierarchy 1: %{customdata[0]}<br>Product Hierarchy 4: %{customdata[1]}<extra></extra>",
         "legendgroup": "Digital Enablers",
         "line": {
          "color": "#EF553B",
          "dash": "solid"
         },
         "marker": {
          "symbol": "circle"
         },
         "mode": "lines",
         "name": "Digital Enablers",
         "showlegend": false,
         "type": "scattergl",
         "x": [
          "2022-01",
          "2022-02",
          "2022-03",
          "2022-04",
          "2022-05",
          "2022-06",
          "2022-07",
          "2022-08",
          "2022-09",
          "2022-10",
          "2022-11",
          "2022-12",
          "2023-01",
          "2023-02",
          "2023-03",
          "2023-04",
          "2023-05",
          "2023-06",
          "2023-07",
          "2023-08",
          "2023-09",
          "2023-10",
          "2023-11",
          "2023-12",
          "2024-01",
          "2024-02",
          "2024-03",
          "2024-04"
         ],
         "xaxis": "x",
         "y": [
          46737.26,
          38544.13,
          63249.75,
          20030.05,
          32581.57,
          14411.48,
          22951.57,
          57352.61,
          51902.590000000004,
          36496.71,
          136361.95,
          59200.9,
          9927.24,
          93060.11,
          69617.41,
          43546.58,
          14241.49,
          31750.04,
          29059.93,
          140245.41,
          67245.55,
          82024.73,
          100564.81,
          41656.65,
          37597.26,
          23366.33,
          40947.57,
          49760.55
         ],
         "yaxis": "y"
        },
        {
         "customdata": [
          [
           "Surgical Planning Services"
          ],
          [
           "Surgical Planning Services"
          ],
          [
           "Surgical Planning Services"
          ],
          [
           "Surgical Planning Services"
          ],
          [
           "Surgical Planning Services"
          ],
          [
           "Surgical Planning Services"
          ],
          [
           "Surgical Planning Services"
          ],
          [
           "Surgical Planning Services"
          ],
          [
           "Surgical Planning Services"
          ],
          [
           "Surgical Planning Services"
          ],
          [
           "Surgical Planning Services"
          ],
          [
           "Surgical Planning Services"
          ],
          [
           "Surgical Planning Services"
          ],
          [
           "Surgical Planning Services"
          ],
          [
           "Surgical Planning Services"
          ],
          [
           "Surgical Planning Services"
          ],
          [
           "Surgical Planning Services"
          ],
          [
           "Surgical Planning Services"
          ],
          [
           "Surgical Planning Services"
          ],
          [
           "Surgical Planning Services"
          ],
          [
           "Surgical Planning Services"
          ],
          [
           "Surgical Planning Services"
          ],
          [
           "Surgical Planning Services"
          ],
          [
           "Surgical Planning Services"
          ],
          [
           "Surgical Planning Services"
          ],
          [
           "Surgical Planning Services"
          ],
          [
           "Surgical Planning Services"
          ],
          [
           "Surgical Planning Services"
          ]
         ],
         "hovertemplate": "Month: %{x}<br>Total Order Material Net Value: $%{y}<br>Product Hierarchy 1: %{customdata[0]}<br>Product Hierarchy 4: %{customdata[1]}<extra></extra>",
         "legendgroup": "Digital Enablers",
         "line": {
          "color": "#EF553B",
          "dash": "solid"
         },
         "marker": {
          "symbol": "circle"
         },
         "mode": "lines",
         "name": "Digital Enablers",
         "showlegend": false,
         "type": "scattergl",
         "x": [
          "2022-01",
          "2022-02",
          "2022-03",
          "2022-04",
          "2022-05",
          "2022-06",
          "2022-07",
          "2022-08",
          "2022-09",
          "2022-10",
          "2022-11",
          "2022-12",
          "2023-01",
          "2023-02",
          "2023-03",
          "2023-04",
          "2023-05",
          "2023-06",
          "2023-07",
          "2023-08",
          "2023-09",
          "2023-10",
          "2023-11",
          "2023-12",
          "2024-01",
          "2024-02",
          "2024-03",
          "2024-04"
         ],
         "xaxis": "x",
         "y": [
          99927,
          140399.5,
          128400,
          102145,
          128964.5,
          100900,
          95305,
          127548.5,
          105076,
          145158,
          147088.5,
          111625.5,
          118235,
          116735,
          140481.5,
          115956.5,
          152478,
          121880,
          155777,
          152695.5,
          126257.5,
          143663,
          135318.5,
          105912,
          119652.5,
          143330,
          147522.5,
          129047.5
         ],
         "yaxis": "y"
        },
        {
         "customdata": [
          [
           "Surgical Planning Software"
          ],
          [
           "Surgical Planning Software"
          ],
          [
           "Surgical Planning Software"
          ],
          [
           "Surgical Planning Software"
          ],
          [
           "Surgical Planning Software"
          ],
          [
           "Surgical Planning Software"
          ],
          [
           "Surgical Planning Software"
          ],
          [
           "Surgical Planning Software"
          ],
          [
           "Surgical Planning Software"
          ],
          [
           "Surgical Planning Software"
          ],
          [
           "Surgical Planning Software"
          ],
          [
           "Surgical Planning Software"
          ],
          [
           "Surgical Planning Software"
          ],
          [
           "Surgical Planning Software"
          ],
          [
           "Surgical Planning Software"
          ],
          [
           "Surgical Planning Software"
          ],
          [
           "Surgical Planning Software"
          ],
          [
           "Surgical Planning Software"
          ],
          [
           "Surgical Planning Software"
          ],
          [
           "Surgical Planning Software"
          ],
          [
           "Surgical Planning Software"
          ],
          [
           "Surgical Planning Software"
          ],
          [
           "Surgical Planning Software"
          ],
          [
           "Surgical Planning Software"
          ],
          [
           "Surgical Planning Software"
          ],
          [
           "Surgical Planning Software"
          ],
          [
           "Surgical Planning Software"
          ],
          [
           "Surgical Planning Software"
          ]
         ],
         "hovertemplate": "Month: %{x}<br>Total Order Material Net Value: $%{y}<br>Product Hierarchy 1: %{customdata[0]}<br>Product Hierarchy 4: %{customdata[1]}<extra></extra>",
         "legendgroup": "Digital Enablers",
         "line": {
          "color": "#EF553B",
          "dash": "solid"
         },
         "marker": {
          "symbol": "circle"
         },
         "mode": "lines",
         "name": "Digital Enablers",
         "showlegend": false,
         "type": "scattergl",
         "x": [
          "2022-01",
          "2022-02",
          "2022-03",
          "2022-04",
          "2022-05",
          "2022-06",
          "2022-07",
          "2022-08",
          "2022-09",
          "2022-10",
          "2022-11",
          "2022-12",
          "2023-01",
          "2023-02",
          "2023-03",
          "2023-04",
          "2023-05",
          "2023-06",
          "2023-07",
          "2023-08",
          "2023-09",
          "2023-10",
          "2023-11",
          "2023-12",
          "2024-01",
          "2024-02",
          "2024-03",
          "2024-04"
         ],
         "xaxis": "x",
         "y": [
          169047.88,
          155534.2,
          165889.58000000002,
          217041.08000000002,
          132967.79,
          135410.42,
          167634.53,
          152500.3,
          307584.79,
          122873.73999999999,
          239432.11,
          310221.21,
          134829.99,
          198834.58,
          207969.56,
          168580.42,
          237728.51,
          183653.68,
          153600.56,
          187999.93,
          234099.61,
          215711.08,
          145748.35,
          175246.7,
          198927.47,
          179656.51,
          201545.92,
          149678.99
         ],
         "yaxis": "y"
        },
        {
         "customdata": [
          [
           "BL Healing Surgical"
          ],
          [
           "BL Healing Surgical"
          ],
          [
           "BL Healing Surgical"
          ],
          [
           "BL Healing Surgical"
          ],
          [
           "BL Healing Surgical"
          ],
          [
           "BL Healing Surgical"
          ],
          [
           "BL Healing Surgical"
          ],
          [
           "BL Healing Surgical"
          ],
          [
           "BL Healing Surgical"
          ],
          [
           "BL Healing Surgical"
          ],
          [
           "BL Healing Surgical"
          ],
          [
           "BL Healing Surgical"
          ],
          [
           "BL Healing Surgical"
          ],
          [
           "BL Healing Surgical"
          ],
          [
           "BL Healing Surgical"
          ],
          [
           "BL Healing Surgical"
          ],
          [
           "BL Healing Surgical"
          ],
          [
           "BL Healing Surgical"
          ],
          [
           "BL Healing Surgical"
          ],
          [
           "BL Healing Surgical"
          ],
          [
           "BL Healing Surgical"
          ],
          [
           "BL Healing Surgical"
          ],
          [
           "BL Healing Surgical"
          ],
          [
           "BL Healing Surgical"
          ],
          [
           "BL Healing Surgical"
          ],
          [
           "BL Healing Surgical"
          ],
          [
           "BL Healing Surgical"
          ],
          [
           "BL Healing Surgical"
          ]
         ],
         "hovertemplate": "Month: %{x}<br>Total Order Material Net Value: $%{y}<br>Product Hierarchy 1: %{customdata[0]}<br>Product Hierarchy 4: %{customdata[1]}<extra></extra>",
         "legendgroup": "Implant Solutions",
         "line": {
          "color": "#00cc96",
          "dash": "solid"
         },
         "marker": {
          "symbol": "circle"
         },
         "mode": "lines",
         "name": "Implant Solutions",
         "showlegend": true,
         "type": "scattergl",
         "x": [
          "2022-01",
          "2022-02",
          "2022-03",
          "2022-04",
          "2022-05",
          "2022-06",
          "2022-07",
          "2022-08",
          "2022-09",
          "2022-10",
          "2022-11",
          "2022-12",
          "2023-01",
          "2023-02",
          "2023-03",
          "2023-04",
          "2023-05",
          "2023-06",
          "2023-07",
          "2023-08",
          "2023-09",
          "2023-10",
          "2023-11",
          "2023-12",
          "2024-01",
          "2024-02",
          "2024-03",
          "2024-04"
         ],
         "xaxis": "x",
         "y": [
          2149113.96,
          2055474.47,
          2424159.32,
          2242167.43,
          2289417.6,
          2378222.27,
          2002030.04,
          2446825.17,
          2379982.24,
          2243804.87,
          2266477.3,
          2291479.76,
          2598321.97,
          2422925.58,
          2823790.31,
          2469542.09,
          2622257.35,
          2537224.13,
          2277506.12,
          2671146.36,
          2438144.2,
          2509997.8,
          2417671.5,
          2349688.87,
          2878207.85,
          2712789.11,
          2728458.64,
          2566913.84
         ],
         "yaxis": "y"
        },
        {
         "customdata": [
          [
           "BLAT Ti Implants, hydrophilic"
          ],
          [
           "BLAT Ti Implants, hydrophilic"
          ],
          [
           "BLAT Ti Implants, hydrophilic"
          ],
          [
           "BLAT Ti Implants, hydrophilic"
          ],
          [
           "BLAT Ti Implants, hydrophilic"
          ],
          [
           "BLAT Ti Implants, hydrophilic"
          ],
          [
           "BLAT Ti Implants, hydrophilic"
          ],
          [
           "BLAT Ti Implants, hydrophilic"
          ],
          [
           "BLAT Ti Implants, hydrophilic"
          ],
          [
           "BLAT Ti Implants, hydrophilic"
          ],
          [
           "BLAT Ti Implants, hydrophilic"
          ],
          [
           "BLAT Ti Implants, hydrophilic"
          ],
          [
           "BLAT Ti Implants, hydrophilic"
          ],
          [
           "BLAT Ti Implants, hydrophilic"
          ],
          [
           "BLAT Ti Implants, hydrophilic"
          ],
          [
           "BLAT Ti Implants, hydrophilic"
          ],
          [
           "BLAT Ti Implants, hydrophilic"
          ],
          [
           "BLAT Ti Implants, hydrophilic"
          ],
          [
           "BLAT Ti Implants, hydrophilic"
          ],
          [
           "BLAT Ti Implants, hydrophilic"
          ],
          [
           "BLAT Ti Implants, hydrophilic"
          ],
          [
           "BLAT Ti Implants, hydrophilic"
          ],
          [
           "BLAT Ti Implants, hydrophilic"
          ],
          [
           "BLAT Ti Implants, hydrophilic"
          ],
          [
           "BLAT Ti Implants, hydrophilic"
          ],
          [
           "BLAT Ti Implants, hydrophilic"
          ],
          [
           "BLAT Ti Implants, hydrophilic"
          ],
          [
           "BLAT Ti Implants, hydrophilic"
          ]
         ],
         "hovertemplate": "Month: %{x}<br>Total Order Material Net Value: $%{y}<br>Product Hierarchy 1: %{customdata[0]}<br>Product Hierarchy 4: %{customdata[1]}<extra></extra>",
         "legendgroup": "Implant Solutions",
         "line": {
          "color": "#00cc96",
          "dash": "solid"
         },
         "marker": {
          "symbol": "circle"
         },
         "mode": "lines",
         "name": "Implant Solutions",
         "showlegend": false,
         "type": "scattergl",
         "x": [
          "2022-01",
          "2022-02",
          "2022-03",
          "2022-04",
          "2022-05",
          "2022-06",
          "2022-07",
          "2022-08",
          "2022-09",
          "2022-10",
          "2022-11",
          "2022-12",
          "2023-01",
          "2023-02",
          "2023-03",
          "2023-04",
          "2023-05",
          "2023-06",
          "2023-07",
          "2023-08",
          "2023-09",
          "2023-10",
          "2023-11",
          "2023-12",
          "2024-01",
          "2024-02",
          "2024-03",
          "2024-04"
         ],
         "xaxis": "x",
         "y": [
          1398873.59,
          1454523.51,
          1629141.72,
          1707498.86,
          1432606.84,
          1641406,
          1345786.14,
          2004422.99,
          1831438.75,
          1828286.25,
          1664413.74,
          1738862.02,
          2341851.25,
          2329292.95,
          2438674,
          2346544.04,
          2358795.7,
          2530360.59,
          2171640,
          2659570.57,
          2356637.08,
          2479692.79,
          2388087.34,
          2501200.42,
          2708824.11,
          2597575.51,
          2917271.81,
          2225208.61
         ],
         "yaxis": "y"
        },
        {
         "customdata": [
          [
           "BLAT Ti Implants, standard"
          ],
          [
           "BLAT Ti Implants, standard"
          ],
          [
           "BLAT Ti Implants, standard"
          ],
          [
           "BLAT Ti Implants, standard"
          ],
          [
           "BLAT Ti Implants, standard"
          ],
          [
           "BLAT Ti Implants, standard"
          ],
          [
           "BLAT Ti Implants, standard"
          ],
          [
           "BLAT Ti Implants, standard"
          ],
          [
           "BLAT Ti Implants, standard"
          ],
          [
           "BLAT Ti Implants, standard"
          ],
          [
           "BLAT Ti Implants, standard"
          ],
          [
           "BLAT Ti Implants, standard"
          ],
          [
           "BLAT Ti Implants, standard"
          ],
          [
           "BLAT Ti Implants, standard"
          ],
          [
           "BLAT Ti Implants, standard"
          ],
          [
           "BLAT Ti Implants, standard"
          ],
          [
           "BLAT Ti Implants, standard"
          ],
          [
           "BLAT Ti Implants, standard"
          ],
          [
           "BLAT Ti Implants, standard"
          ],
          [
           "BLAT Ti Implants, standard"
          ],
          [
           "BLAT Ti Implants, standard"
          ],
          [
           "BLAT Ti Implants, standard"
          ],
          [
           "BLAT Ti Implants, standard"
          ],
          [
           "BLAT Ti Implants, standard"
          ],
          [
           "BLAT Ti Implants, standard"
          ],
          [
           "BLAT Ti Implants, standard"
          ],
          [
           "BLAT Ti Implants, standard"
          ],
          [
           "BLAT Ti Implants, standard"
          ]
         ],
         "hovertemplate": "Month: %{x}<br>Total Order Material Net Value: $%{y}<br>Product Hierarchy 1: %{customdata[0]}<br>Product Hierarchy 4: %{customdata[1]}<extra></extra>",
         "legendgroup": "Implant Solutions",
         "line": {
          "color": "#00cc96",
          "dash": "solid"
         },
         "marker": {
          "symbol": "circle"
         },
         "mode": "lines",
         "name": "Implant Solutions",
         "showlegend": false,
         "type": "scattergl",
         "x": [
          "2022-01",
          "2022-02",
          "2022-03",
          "2022-04",
          "2022-05",
          "2022-06",
          "2022-07",
          "2022-08",
          "2022-09",
          "2022-10",
          "2022-11",
          "2022-12",
          "2023-01",
          "2023-02",
          "2023-03",
          "2023-04",
          "2023-05",
          "2023-06",
          "2023-07",
          "2023-08",
          "2023-09",
          "2023-10",
          "2023-11",
          "2023-12",
          "2024-01",
          "2024-02",
          "2024-03",
          "2024-04"
         ],
         "xaxis": "x",
         "y": [
          3055649.88,
          3042908.91,
          3534760.03,
          3050839.71,
          3337708.76,
          3495711.87,
          3143292.99,
          3579582.95,
          3609951.7,
          3386429.36,
          3326707.04,
          3609845.65,
          3393795.08,
          3410172.19,
          3877137.81,
          3456514.93,
          3662929.02,
          3726172.65,
          3418107.92,
          3731870.65,
          3385982.39,
          3719255.5,
          3356323.35,
          3335928,
          3651891.37,
          3859138.35,
          4155045.37,
          3251915.25
         ],
         "yaxis": "y"
        },
        {
         "customdata": [
          [
           "BLAT TiZr Implants, hydrophilic"
          ],
          [
           "BLAT TiZr Implants, hydrophilic"
          ],
          [
           "BLAT TiZr Implants, hydrophilic"
          ],
          [
           "BLAT TiZr Implants, hydrophilic"
          ],
          [
           "BLAT TiZr Implants, hydrophilic"
          ],
          [
           "BLAT TiZr Implants, hydrophilic"
          ],
          [
           "BLAT TiZr Implants, hydrophilic"
          ],
          [
           "BLAT TiZr Implants, hydrophilic"
          ],
          [
           "BLAT TiZr Implants, hydrophilic"
          ],
          [
           "BLAT TiZr Implants, hydrophilic"
          ],
          [
           "BLAT TiZr Implants, hydrophilic"
          ],
          [
           "BLAT TiZr Implants, hydrophilic"
          ],
          [
           "BLAT TiZr Implants, hydrophilic"
          ],
          [
           "BLAT TiZr Implants, hydrophilic"
          ],
          [
           "BLAT TiZr Implants, hydrophilic"
          ],
          [
           "BLAT TiZr Implants, hydrophilic"
          ],
          [
           "BLAT TiZr Implants, hydrophilic"
          ],
          [
           "BLAT TiZr Implants, hydrophilic"
          ],
          [
           "BLAT TiZr Implants, hydrophilic"
          ],
          [
           "BLAT TiZr Implants, hydrophilic"
          ],
          [
           "BLAT TiZr Implants, hydrophilic"
          ],
          [
           "BLAT TiZr Implants, hydrophilic"
          ],
          [
           "BLAT TiZr Implants, hydrophilic"
          ],
          [
           "BLAT TiZr Implants, hydrophilic"
          ],
          [
           "BLAT TiZr Implants, hydrophilic"
          ],
          [
           "BLAT TiZr Implants, hydrophilic"
          ],
          [
           "BLAT TiZr Implants, hydrophilic"
          ],
          [
           "BLAT TiZr Implants, hydrophilic"
          ]
         ],
         "hovertemplate": "Month: %{x}<br>Total Order Material Net Value: $%{y}<br>Product Hierarchy 1: %{customdata[0]}<br>Product Hierarchy 4: %{customdata[1]}<extra></extra>",
         "legendgroup": "Implant Solutions",
         "line": {
          "color": "#00cc96",
          "dash": "solid"
         },
         "marker": {
          "symbol": "circle"
         },
         "mode": "lines",
         "name": "Implant Solutions",
         "showlegend": false,
         "type": "scattergl",
         "x": [
          "2022-01",
          "2022-02",
          "2022-03",
          "2022-04",
          "2022-05",
          "2022-06",
          "2022-07",
          "2022-08",
          "2022-09",
          "2022-10",
          "2022-11",
          "2022-12",
          "2023-01",
          "2023-02",
          "2023-03",
          "2023-04",
          "2023-05",
          "2023-06",
          "2023-07",
          "2023-08",
          "2023-09",
          "2023-10",
          "2023-11",
          "2023-12",
          "2024-01",
          "2024-02",
          "2024-03",
          "2024-04"
         ],
         "xaxis": "x",
         "y": [
          7057480.76,
          5905058.37,
          7454450.7,
          6080370.9,
          6480574.33,
          6751773.34,
          5626507.48,
          6998910.68,
          6923689.83,
          6399550.76,
          6547494.95,
          7900567.65,
          6869800.11,
          7108312.79,
          7860730.99,
          6749229.61,
          6744908.35,
          7220300.8,
          6349665.36,
          7327994.92,
          6956215.77,
          7200694.4,
          7070119.84,
          6849919,
          7902235.31,
          6883598.94,
          6896482.92,
          6043628.43
         ],
         "yaxis": "y"
        },
        {
         "customdata": [
          [
           "BLAT TiZr Implants, standard"
          ],
          [
           "BLAT TiZr Implants, standard"
          ],
          [
           "BLAT TiZr Implants, standard"
          ],
          [
           "BLAT TiZr Implants, standard"
          ],
          [
           "BLAT TiZr Implants, standard"
          ],
          [
           "BLAT TiZr Implants, standard"
          ],
          [
           "BLAT TiZr Implants, standard"
          ],
          [
           "BLAT TiZr Implants, standard"
          ],
          [
           "BLAT TiZr Implants, standard"
          ],
          [
           "BLAT TiZr Implants, standard"
          ],
          [
           "BLAT TiZr Implants, standard"
          ],
          [
           "BLAT TiZr Implants, standard"
          ],
          [
           "BLAT TiZr Implants, standard"
          ],
          [
           "BLAT TiZr Implants, standard"
          ],
          [
           "BLAT TiZr Implants, standard"
          ],
          [
           "BLAT TiZr Implants, standard"
          ],
          [
           "BLAT TiZr Implants, standard"
          ],
          [
           "BLAT TiZr Implants, standard"
          ],
          [
           "BLAT TiZr Implants, standard"
          ],
          [
           "BLAT TiZr Implants, standard"
          ],
          [
           "BLAT TiZr Implants, standard"
          ],
          [
           "BLAT TiZr Implants, standard"
          ],
          [
           "BLAT TiZr Implants, standard"
          ],
          [
           "BLAT TiZr Implants, standard"
          ],
          [
           "BLAT TiZr Implants, standard"
          ],
          [
           "BLAT TiZr Implants, standard"
          ],
          [
           "BLAT TiZr Implants, standard"
          ],
          [
           "BLAT TiZr Implants, standard"
          ]
         ],
         "hovertemplate": "Month: %{x}<br>Total Order Material Net Value: $%{y}<br>Product Hierarchy 1: %{customdata[0]}<br>Product Hierarchy 4: %{customdata[1]}<extra></extra>",
         "legendgroup": "Implant Solutions",
         "line": {
          "color": "#00cc96",
          "dash": "solid"
         },
         "marker": {
          "symbol": "circle"
         },
         "mode": "lines",
         "name": "Implant Solutions",
         "showlegend": false,
         "type": "scattergl",
         "x": [
          "2022-01",
          "2022-02",
          "2022-03",
          "2022-04",
          "2022-05",
          "2022-06",
          "2022-07",
          "2022-08",
          "2022-09",
          "2022-10",
          "2022-11",
          "2022-12",
          "2023-01",
          "2023-02",
          "2023-03",
          "2023-04",
          "2023-05",
          "2023-06",
          "2023-07",
          "2023-08",
          "2023-09",
          "2023-10",
          "2023-11",
          "2023-12",
          "2024-01",
          "2024-02",
          "2024-03",
          "2024-04"
         ],
         "xaxis": "x",
         "y": [
          4734226.21,
          3979198.04,
          4579141.77,
          4172949.66,
          4274621.67,
          4335973.86,
          3749722.41,
          4153353.22,
          4567061.16,
          3974685.75,
          4095334.28,
          5925376.82,
          4392480.73,
          4008055.16,
          5141062.68,
          4113849.68,
          4256774.61,
          4552977.42,
          4119127.86,
          4402826.42,
          4591416.62,
          4447488.08,
          3913357.16,
          5308138.02,
          4560859.34,
          4021477.26,
          4414897.95,
          3912128.99
         ],
         "yaxis": "y"
        },
        {
         "customdata": [
          [
           "BLFT Ti Implants, hydrophilic"
          ],
          [
           "BLFT Ti Implants, hydrophilic"
          ],
          [
           "BLFT Ti Implants, hydrophilic"
          ],
          [
           "BLFT Ti Implants, hydrophilic"
          ],
          [
           "BLFT Ti Implants, hydrophilic"
          ],
          [
           "BLFT Ti Implants, hydrophilic"
          ],
          [
           "BLFT Ti Implants, hydrophilic"
          ],
          [
           "BLFT Ti Implants, hydrophilic"
          ],
          [
           "BLFT Ti Implants, hydrophilic"
          ],
          [
           "BLFT Ti Implants, hydrophilic"
          ],
          [
           "BLFT Ti Implants, hydrophilic"
          ],
          [
           "BLFT Ti Implants, hydrophilic"
          ],
          [
           "BLFT Ti Implants, hydrophilic"
          ],
          [
           "BLFT Ti Implants, hydrophilic"
          ],
          [
           "BLFT Ti Implants, hydrophilic"
          ],
          [
           "BLFT Ti Implants, hydrophilic"
          ],
          [
           "BLFT Ti Implants, hydrophilic"
          ],
          [
           "BLFT Ti Implants, hydrophilic"
          ],
          [
           "BLFT Ti Implants, hydrophilic"
          ],
          [
           "BLFT Ti Implants, hydrophilic"
          ],
          [
           "BLFT Ti Implants, hydrophilic"
          ],
          [
           "BLFT Ti Implants, hydrophilic"
          ],
          [
           "BLFT Ti Implants, hydrophilic"
          ],
          [
           "BLFT Ti Implants, hydrophilic"
          ],
          [
           "BLFT Ti Implants, hydrophilic"
          ],
          [
           "BLFT Ti Implants, hydrophilic"
          ],
          [
           "BLFT Ti Implants, hydrophilic"
          ],
          [
           "BLFT Ti Implants, hydrophilic"
          ]
         ],
         "hovertemplate": "Month: %{x}<br>Total Order Material Net Value: $%{y}<br>Product Hierarchy 1: %{customdata[0]}<br>Product Hierarchy 4: %{customdata[1]}<extra></extra>",
         "legendgroup": "Implant Solutions",
         "line": {
          "color": "#00cc96",
          "dash": "solid"
         },
         "marker": {
          "symbol": "circle"
         },
         "mode": "lines",
         "name": "Implant Solutions",
         "showlegend": false,
         "type": "scattergl",
         "x": [
          "2022-01",
          "2022-02",
          "2022-03",
          "2022-04",
          "2022-05",
          "2022-06",
          "2022-07",
          "2022-08",
          "2022-09",
          "2022-10",
          "2022-11",
          "2022-12",
          "2023-01",
          "2023-02",
          "2023-03",
          "2023-04",
          "2023-05",
          "2023-06",
          "2023-07",
          "2023-08",
          "2023-09",
          "2023-10",
          "2023-11",
          "2023-12",
          "2024-01",
          "2024-02",
          "2024-03",
          "2024-04"
         ],
         "xaxis": "x",
         "y": [
          86179.73,
          129591.41,
          146377.46,
          145653.74,
          115156.05,
          154068.98,
          135901.62,
          124885.22,
          133472.99,
          178704.75,
          100037.72,
          110307.23,
          107569.49,
          89487.97,
          159972.72,
          126014.05,
          108535.08,
          134704.17,
          105756.26,
          113158.82,
          138501.52,
          107380.78,
          93580.32,
          145917.94,
          162995.3,
          105359.76,
          104485.13,
          75638.76
         ],
         "yaxis": "y"
        },
        {
         "customdata": [
          [
           "BLFT Ti Implants, standard"
          ],
          [
           "BLFT Ti Implants, standard"
          ],
          [
           "BLFT Ti Implants, standard"
          ],
          [
           "BLFT Ti Implants, standard"
          ],
          [
           "BLFT Ti Implants, standard"
          ],
          [
           "BLFT Ti Implants, standard"
          ],
          [
           "BLFT Ti Implants, standard"
          ],
          [
           "BLFT Ti Implants, standard"
          ],
          [
           "BLFT Ti Implants, standard"
          ],
          [
           "BLFT Ti Implants, standard"
          ],
          [
           "BLFT Ti Implants, standard"
          ],
          [
           "BLFT Ti Implants, standard"
          ],
          [
           "BLFT Ti Implants, standard"
          ],
          [
           "BLFT Ti Implants, standard"
          ],
          [
           "BLFT Ti Implants, standard"
          ],
          [
           "BLFT Ti Implants, standard"
          ],
          [
           "BLFT Ti Implants, standard"
          ],
          [
           "BLFT Ti Implants, standard"
          ],
          [
           "BLFT Ti Implants, standard"
          ],
          [
           "BLFT Ti Implants, standard"
          ],
          [
           "BLFT Ti Implants, standard"
          ],
          [
           "BLFT Ti Implants, standard"
          ],
          [
           "BLFT Ti Implants, standard"
          ],
          [
           "BLFT Ti Implants, standard"
          ],
          [
           "BLFT Ti Implants, standard"
          ],
          [
           "BLFT Ti Implants, standard"
          ],
          [
           "BLFT Ti Implants, standard"
          ],
          [
           "BLFT Ti Implants, standard"
          ]
         ],
         "hovertemplate": "Month: %{x}<br>Total Order Material Net Value: $%{y}<br>Product Hierarchy 1: %{customdata[0]}<br>Product Hierarchy 4: %{customdata[1]}<extra></extra>",
         "legendgroup": "Implant Solutions",
         "line": {
          "color": "#00cc96",
          "dash": "solid"
         },
         "marker": {
          "symbol": "circle"
         },
         "mode": "lines",
         "name": "Implant Solutions",
         "showlegend": false,
         "type": "scattergl",
         "x": [
          "2022-01",
          "2022-02",
          "2022-03",
          "2022-04",
          "2022-05",
          "2022-06",
          "2022-07",
          "2022-08",
          "2022-09",
          "2022-10",
          "2022-11",
          "2022-12",
          "2023-01",
          "2023-02",
          "2023-03",
          "2023-04",
          "2023-05",
          "2023-06",
          "2023-07",
          "2023-08",
          "2023-09",
          "2023-10",
          "2023-11",
          "2023-12",
          "2024-01",
          "2024-02",
          "2024-03",
          "2024-04"
         ],
         "xaxis": "x",
         "y": [
          178480.45,
          152654.22,
          169254.09,
          184424.34,
          180429.44,
          220150.17,
          226729.55,
          203451.63,
          176822.78,
          119240.28,
          175856.31,
          190246.98,
          165116.75,
          154985.62,
          178017.58,
          175301.94,
          183290.91,
          259586.79,
          151081.74,
          146395.34,
          149652.06,
          209780.68,
          124446.53,
          140222.65,
          126776.38,
          128170.94,
          191625.05,
          135822.81
         ],
         "yaxis": "y"
        },
        {
         "customdata": [
          [
           "BLFT TiZr Implants, hydrophilic TF"
          ],
          [
           "BLFT TiZr Implants, hydrophilic TF"
          ],
          [
           "BLFT TiZr Implants, hydrophilic TF"
          ],
          [
           "BLFT TiZr Implants, hydrophilic TF"
          ],
          [
           "BLFT TiZr Implants, hydrophilic TF"
          ],
          [
           "BLFT TiZr Implants, hydrophilic TF"
          ],
          [
           "BLFT TiZr Implants, hydrophilic TF"
          ],
          [
           "BLFT TiZr Implants, hydrophilic TF"
          ],
          [
           "BLFT TiZr Implants, hydrophilic TF"
          ],
          [
           "BLFT TiZr Implants, hydrophilic TF"
          ],
          [
           "BLFT TiZr Implants, hydrophilic TF"
          ],
          [
           "BLFT TiZr Implants, hydrophilic TF"
          ],
          [
           "BLFT TiZr Implants, hydrophilic TF"
          ],
          [
           "BLFT TiZr Implants, hydrophilic TF"
          ],
          [
           "BLFT TiZr Implants, hydrophilic TF"
          ],
          [
           "BLFT TiZr Implants, hydrophilic TF"
          ],
          [
           "BLFT TiZr Implants, hydrophilic TF"
          ],
          [
           "BLFT TiZr Implants, hydrophilic TF"
          ],
          [
           "BLFT TiZr Implants, hydrophilic TF"
          ],
          [
           "BLFT TiZr Implants, hydrophilic TF"
          ],
          [
           "BLFT TiZr Implants, hydrophilic TF"
          ],
          [
           "BLFT TiZr Implants, hydrophilic TF"
          ],
          [
           "BLFT TiZr Implants, hydrophilic TF"
          ],
          [
           "BLFT TiZr Implants, hydrophilic TF"
          ],
          [
           "BLFT TiZr Implants, hydrophilic TF"
          ],
          [
           "BLFT TiZr Implants, hydrophilic TF"
          ],
          [
           "BLFT TiZr Implants, hydrophilic TF"
          ],
          [
           "BLFT TiZr Implants, hydrophilic TF"
          ]
         ],
         "hovertemplate": "Month: %{x}<br>Total Order Material Net Value: $%{y}<br>Product Hierarchy 1: %{customdata[0]}<br>Product Hierarchy 4: %{customdata[1]}<extra></extra>",
         "legendgroup": "Implant Solutions",
         "line": {
          "color": "#00cc96",
          "dash": "solid"
         },
         "marker": {
          "symbol": "circle"
         },
         "mode": "lines",
         "name": "Implant Solutions",
         "showlegend": false,
         "type": "scattergl",
         "x": [
          "2022-01",
          "2022-02",
          "2022-03",
          "2022-04",
          "2022-05",
          "2022-06",
          "2022-07",
          "2022-08",
          "2022-09",
          "2022-10",
          "2022-11",
          "2022-12",
          "2023-01",
          "2023-02",
          "2023-03",
          "2023-04",
          "2023-05",
          "2023-06",
          "2023-07",
          "2023-08",
          "2023-09",
          "2023-10",
          "2023-11",
          "2023-12",
          "2024-01",
          "2024-02",
          "2024-03",
          "2024-04"
         ],
         "xaxis": "x",
         "y": [
          2561641.59,
          2564420.03,
          2907160.04,
          2671270.27,
          3006780.17,
          2663051.84,
          2409831.33,
          2614631.5,
          2868383.83,
          3032807.06,
          3000421.11,
          3238864.8,
          2712195.71,
          2593365.9,
          3543375.7,
          3056463.37,
          2917386.76,
          3198050.63,
          2523954.21,
          3315124.33,
          3666089.75,
          3443055.11,
          3067964.54,
          3254943.29,
          3547127.88,
          2918195.85,
          3265444.92,
          2782722
         ],
         "yaxis": "y"
        },
        {
         "customdata": [
          [
           "BLFT TiZr Implants, standard TF"
          ],
          [
           "BLFT TiZr Implants, standard TF"
          ],
          [
           "BLFT TiZr Implants, standard TF"
          ],
          [
           "BLFT TiZr Implants, standard TF"
          ],
          [
           "BLFT TiZr Implants, standard TF"
          ],
          [
           "BLFT TiZr Implants, standard TF"
          ],
          [
           "BLFT TiZr Implants, standard TF"
          ],
          [
           "BLFT TiZr Implants, standard TF"
          ],
          [
           "BLFT TiZr Implants, standard TF"
          ],
          [
           "BLFT TiZr Implants, standard TF"
          ],
          [
           "BLFT TiZr Implants, standard TF"
          ],
          [
           "BLFT TiZr Implants, standard TF"
          ],
          [
           "BLFT TiZr Implants, standard TF"
          ],
          [
           "BLFT TiZr Implants, standard TF"
          ],
          [
           "BLFT TiZr Implants, standard TF"
          ],
          [
           "BLFT TiZr Implants, standard TF"
          ],
          [
           "BLFT TiZr Implants, standard TF"
          ],
          [
           "BLFT TiZr Implants, standard TF"
          ],
          [
           "BLFT TiZr Implants, standard TF"
          ],
          [
           "BLFT TiZr Implants, standard TF"
          ],
          [
           "BLFT TiZr Implants, standard TF"
          ],
          [
           "BLFT TiZr Implants, standard TF"
          ],
          [
           "BLFT TiZr Implants, standard TF"
          ],
          [
           "BLFT TiZr Implants, standard TF"
          ],
          [
           "BLFT TiZr Implants, standard TF"
          ],
          [
           "BLFT TiZr Implants, standard TF"
          ],
          [
           "BLFT TiZr Implants, standard TF"
          ],
          [
           "BLFT TiZr Implants, standard TF"
          ]
         ],
         "hovertemplate": "Month: %{x}<br>Total Order Material Net Value: $%{y}<br>Product Hierarchy 1: %{customdata[0]}<br>Product Hierarchy 4: %{customdata[1]}<extra></extra>",
         "legendgroup": "Implant Solutions",
         "line": {
          "color": "#00cc96",
          "dash": "solid"
         },
         "marker": {
          "symbol": "circle"
         },
         "mode": "lines",
         "name": "Implant Solutions",
         "showlegend": false,
         "type": "scattergl",
         "x": [
          "2022-01",
          "2022-02",
          "2022-03",
          "2022-04",
          "2022-05",
          "2022-06",
          "2022-07",
          "2022-08",
          "2022-09",
          "2022-10",
          "2022-11",
          "2022-12",
          "2023-01",
          "2023-02",
          "2023-03",
          "2023-04",
          "2023-05",
          "2023-06",
          "2023-07",
          "2023-08",
          "2023-09",
          "2023-10",
          "2023-11",
          "2023-12",
          "2024-01",
          "2024-02",
          "2024-03",
          "2024-04"
         ],
         "xaxis": "x",
         "y": [
          530772.63,
          495445.65,
          747563.31,
          680990.23,
          753312.03,
          818635.62,
          867739.94,
          1039293.91,
          969815.31,
          1012462.87,
          851309.34,
          1162248.03,
          1260761.22,
          1119042.55,
          1313508.07,
          1118942.02,
          1146309.8,
          1442870.02,
          1177224.03,
          1487113.82,
          1280643.4,
          1481683.44,
          1241701.8,
          1298336.66,
          1378244.81,
          1350862.21,
          1487682.14,
          1521631.81
         ],
         "yaxis": "y"
        },
        {
         "customdata": [
          [
           "BLPW Ti Implants, hydrophilic"
          ],
          [
           "BLPW Ti Implants, hydrophilic"
          ],
          [
           "BLPW Ti Implants, hydrophilic"
          ],
          [
           "BLPW Ti Implants, hydrophilic"
          ],
          [
           "BLPW Ti Implants, hydrophilic"
          ],
          [
           "BLPW Ti Implants, hydrophilic"
          ],
          [
           "BLPW Ti Implants, hydrophilic"
          ],
          [
           "BLPW Ti Implants, hydrophilic"
          ],
          [
           "BLPW Ti Implants, hydrophilic"
          ],
          [
           "BLPW Ti Implants, hydrophilic"
          ],
          [
           "BLPW Ti Implants, hydrophilic"
          ],
          [
           "BLPW Ti Implants, hydrophilic"
          ],
          [
           "BLPW Ti Implants, hydrophilic"
          ],
          [
           "BLPW Ti Implants, hydrophilic"
          ],
          [
           "BLPW Ti Implants, hydrophilic"
          ],
          [
           "BLPW Ti Implants, hydrophilic"
          ],
          [
           "BLPW Ti Implants, hydrophilic"
          ],
          [
           "BLPW Ti Implants, hydrophilic"
          ],
          [
           "BLPW Ti Implants, hydrophilic"
          ],
          [
           "BLPW Ti Implants, hydrophilic"
          ],
          [
           "BLPW Ti Implants, hydrophilic"
          ],
          [
           "BLPW Ti Implants, hydrophilic"
          ],
          [
           "BLPW Ti Implants, hydrophilic"
          ],
          [
           "BLPW Ti Implants, hydrophilic"
          ],
          [
           "BLPW Ti Implants, hydrophilic"
          ],
          [
           "BLPW Ti Implants, hydrophilic"
          ],
          [
           "BLPW Ti Implants, hydrophilic"
          ],
          [
           "BLPW Ti Implants, hydrophilic"
          ]
         ],
         "hovertemplate": "Month: %{x}<br>Total Order Material Net Value: $%{y}<br>Product Hierarchy 1: %{customdata[0]}<br>Product Hierarchy 4: %{customdata[1]}<extra></extra>",
         "legendgroup": "Implant Solutions",
         "line": {
          "color": "#00cc96",
          "dash": "solid"
         },
         "marker": {
          "symbol": "circle"
         },
         "mode": "lines",
         "name": "Implant Solutions",
         "showlegend": false,
         "type": "scattergl",
         "x": [
          "2022-01",
          "2022-02",
          "2022-03",
          "2022-04",
          "2022-05",
          "2022-06",
          "2022-07",
          "2022-08",
          "2022-09",
          "2022-10",
          "2022-11",
          "2022-12",
          "2023-01",
          "2023-02",
          "2023-03",
          "2023-04",
          "2023-05",
          "2023-06",
          "2023-07",
          "2023-08",
          "2023-09",
          "2023-10",
          "2023-11",
          "2023-12",
          "2024-01",
          "2024-02",
          "2024-03",
          "2024-04"
         ],
         "xaxis": "x",
         "y": [
          4022.8500000000004,
          5852.9800000000005,
          5828.14,
          7090.26,
          4792.33,
          2343.83,
          4075.12,
          5120.81,
          6267.02,
          7727.179999999999,
          1879.71,
          2527.15,
          4866.64,
          9475.59,
          8974.09,
          8788.31,
          9565.74,
          9744.18,
          7059.62,
          10252.08,
          6223.49,
          9460.1,
          10471.76,
          12087.22,
          19807.77,
          8446.03,
          14658.39,
          10413.6
         ],
         "yaxis": "y"
        },
        {
         "customdata": [
          [
           "BLPW Ti Implants, standard"
          ],
          [
           "BLPW Ti Implants, standard"
          ],
          [
           "BLPW Ti Implants, standard"
          ],
          [
           "BLPW Ti Implants, standard"
          ],
          [
           "BLPW Ti Implants, standard"
          ],
          [
           "BLPW Ti Implants, standard"
          ],
          [
           "BLPW Ti Implants, standard"
          ],
          [
           "BLPW Ti Implants, standard"
          ],
          [
           "BLPW Ti Implants, standard"
          ],
          [
           "BLPW Ti Implants, standard"
          ],
          [
           "BLPW Ti Implants, standard"
          ],
          [
           "BLPW Ti Implants, standard"
          ],
          [
           "BLPW Ti Implants, standard"
          ],
          [
           "BLPW Ti Implants, standard"
          ],
          [
           "BLPW Ti Implants, standard"
          ],
          [
           "BLPW Ti Implants, standard"
          ],
          [
           "BLPW Ti Implants, standard"
          ],
          [
           "BLPW Ti Implants, standard"
          ],
          [
           "BLPW Ti Implants, standard"
          ],
          [
           "BLPW Ti Implants, standard"
          ],
          [
           "BLPW Ti Implants, standard"
          ],
          [
           "BLPW Ti Implants, standard"
          ],
          [
           "BLPW Ti Implants, standard"
          ],
          [
           "BLPW Ti Implants, standard"
          ],
          [
           "BLPW Ti Implants, standard"
          ],
          [
           "BLPW Ti Implants, standard"
          ],
          [
           "BLPW Ti Implants, standard"
          ],
          [
           "BLPW Ti Implants, standard"
          ]
         ],
         "hovertemplate": "Month: %{x}<br>Total Order Material Net Value: $%{y}<br>Product Hierarchy 1: %{customdata[0]}<br>Product Hierarchy 4: %{customdata[1]}<extra></extra>",
         "legendgroup": "Implant Solutions",
         "line": {
          "color": "#00cc96",
          "dash": "solid"
         },
         "marker": {
          "symbol": "circle"
         },
         "mode": "lines",
         "name": "Implant Solutions",
         "showlegend": false,
         "type": "scattergl",
         "x": [
          "2022-01",
          "2022-02",
          "2022-03",
          "2022-04",
          "2022-05",
          "2022-06",
          "2022-07",
          "2022-08",
          "2022-09",
          "2022-10",
          "2022-11",
          "2022-12",
          "2023-01",
          "2023-02",
          "2023-03",
          "2023-04",
          "2023-05",
          "2023-06",
          "2023-07",
          "2023-08",
          "2023-09",
          "2023-10",
          "2023-11",
          "2023-12",
          "2024-01",
          "2024-02",
          "2024-03",
          "2024-04"
         ],
         "xaxis": "x",
         "y": [
          127044.74,
          117571.05,
          127818.83,
          143489.82,
          119198.88,
          128761.84,
          130371.72,
          215807.82,
          196501.31,
          130897.92,
          143903.06,
          177162.66999999998,
          151358.53,
          169706.44,
          172246.85,
          137281.62,
          183557.36,
          180277.7,
          115952.66,
          170392.63999999998,
          82227.47,
          139850.67,
          125051.66,
          124136.95,
          148565.25,
          125687.87,
          132106.28,
          108883.05
         ],
         "yaxis": "y"
        },
        {
         "customdata": [
          [
           "BLPW TiZr Implants, hydrophilic"
          ],
          [
           "BLPW TiZr Implants, hydrophilic"
          ],
          [
           "BLPW TiZr Implants, hydrophilic"
          ],
          [
           "BLPW TiZr Implants, hydrophilic"
          ],
          [
           "BLPW TiZr Implants, hydrophilic"
          ],
          [
           "BLPW TiZr Implants, hydrophilic"
          ],
          [
           "BLPW TiZr Implants, hydrophilic"
          ],
          [
           "BLPW TiZr Implants, hydrophilic"
          ],
          [
           "BLPW TiZr Implants, hydrophilic"
          ],
          [
           "BLPW TiZr Implants, hydrophilic"
          ],
          [
           "BLPW TiZr Implants, hydrophilic"
          ],
          [
           "BLPW TiZr Implants, hydrophilic"
          ],
          [
           "BLPW TiZr Implants, hydrophilic"
          ],
          [
           "BLPW TiZr Implants, hydrophilic"
          ],
          [
           "BLPW TiZr Implants, hydrophilic"
          ],
          [
           "BLPW TiZr Implants, hydrophilic"
          ],
          [
           "BLPW TiZr Implants, hydrophilic"
          ],
          [
           "BLPW TiZr Implants, hydrophilic"
          ],
          [
           "BLPW TiZr Implants, hydrophilic"
          ],
          [
           "BLPW TiZr Implants, hydrophilic"
          ],
          [
           "BLPW TiZr Implants, hydrophilic"
          ],
          [
           "BLPW TiZr Implants, hydrophilic"
          ],
          [
           "BLPW TiZr Implants, hydrophilic"
          ],
          [
           "BLPW TiZr Implants, hydrophilic"
          ],
          [
           "BLPW TiZr Implants, hydrophilic"
          ],
          [
           "BLPW TiZr Implants, hydrophilic"
          ],
          [
           "BLPW TiZr Implants, hydrophilic"
          ],
          [
           "BLPW TiZr Implants, hydrophilic"
          ]
         ],
         "hovertemplate": "Month: %{x}<br>Total Order Material Net Value: $%{y}<br>Product Hierarchy 1: %{customdata[0]}<br>Product Hierarchy 4: %{customdata[1]}<extra></extra>",
         "legendgroup": "Implant Solutions",
         "line": {
          "color": "#00cc96",
          "dash": "solid"
         },
         "marker": {
          "symbol": "circle"
         },
         "mode": "lines",
         "name": "Implant Solutions",
         "showlegend": false,
         "type": "scattergl",
         "x": [
          "2022-01",
          "2022-02",
          "2022-03",
          "2022-04",
          "2022-05",
          "2022-06",
          "2022-07",
          "2022-08",
          "2022-09",
          "2022-10",
          "2022-11",
          "2022-12",
          "2023-01",
          "2023-02",
          "2023-03",
          "2023-04",
          "2023-05",
          "2023-06",
          "2023-07",
          "2023-08",
          "2023-09",
          "2023-10",
          "2023-11",
          "2023-12",
          "2024-01",
          "2024-02",
          "2024-03",
          "2024-04"
         ],
         "xaxis": "x",
         "y": [
          1990148.17,
          1990185.91,
          2092605.96,
          1783866.88,
          1918042.05,
          1950348.9,
          1518187.15,
          1874769.95,
          2193997.18,
          1750028.11,
          1712976.37,
          1749417.75,
          1990744.46,
          1789157.05,
          1846639.31,
          1783332.99,
          1891163.64,
          1794005.77,
          1587488.47,
          1741825.06,
          1611399.94,
          1809466.28,
          1579593.96,
          1601444.97,
          1700413.7,
          1435188.01,
          1527630.68,
          1554208.86
         ],
         "yaxis": "y"
        },
        {
         "customdata": [
          [
           "BLPW TiZr Implants, standard"
          ],
          [
           "BLPW TiZr Implants, standard"
          ],
          [
           "BLPW TiZr Implants, standard"
          ],
          [
           "BLPW TiZr Implants, standard"
          ],
          [
           "BLPW TiZr Implants, standard"
          ],
          [
           "BLPW TiZr Implants, standard"
          ],
          [
           "BLPW TiZr Implants, standard"
          ],
          [
           "BLPW TiZr Implants, standard"
          ],
          [
           "BLPW TiZr Implants, standard"
          ],
          [
           "BLPW TiZr Implants, standard"
          ],
          [
           "BLPW TiZr Implants, standard"
          ],
          [
           "BLPW TiZr Implants, standard"
          ],
          [
           "BLPW TiZr Implants, standard"
          ],
          [
           "BLPW TiZr Implants, standard"
          ],
          [
           "BLPW TiZr Implants, standard"
          ],
          [
           "BLPW TiZr Implants, standard"
          ],
          [
           "BLPW TiZr Implants, standard"
          ],
          [
           "BLPW TiZr Implants, standard"
          ],
          [
           "BLPW TiZr Implants, standard"
          ],
          [
           "BLPW TiZr Implants, standard"
          ],
          [
           "BLPW TiZr Implants, standard"
          ],
          [
           "BLPW TiZr Implants, standard"
          ],
          [
           "BLPW TiZr Implants, standard"
          ],
          [
           "BLPW TiZr Implants, standard"
          ],
          [
           "BLPW TiZr Implants, standard"
          ],
          [
           "BLPW TiZr Implants, standard"
          ],
          [
           "BLPW TiZr Implants, standard"
          ],
          [
           "BLPW TiZr Implants, standard"
          ]
         ],
         "hovertemplate": "Month: %{x}<br>Total Order Material Net Value: $%{y}<br>Product Hierarchy 1: %{customdata[0]}<br>Product Hierarchy 4: %{customdata[1]}<extra></extra>",
         "legendgroup": "Implant Solutions",
         "line": {
          "color": "#00cc96",
          "dash": "solid"
         },
         "marker": {
          "symbol": "circle"
         },
         "mode": "lines",
         "name": "Implant Solutions",
         "showlegend": false,
         "type": "scattergl",
         "x": [
          "2022-01",
          "2022-02",
          "2022-03",
          "2022-04",
          "2022-05",
          "2022-06",
          "2022-07",
          "2022-08",
          "2022-09",
          "2022-10",
          "2022-11",
          "2022-12",
          "2023-01",
          "2023-02",
          "2023-03",
          "2023-04",
          "2023-05",
          "2023-06",
          "2023-07",
          "2023-08",
          "2023-09",
          "2023-10",
          "2023-11",
          "2023-12",
          "2024-01",
          "2024-02",
          "2024-03",
          "2024-04"
         ],
         "xaxis": "x",
         "y": [
          1541555.72,
          1458738.28,
          1606729.23,
          1456534.77,
          1351557.9,
          1580772.3,
          1079616.01,
          1451307.46,
          1405989.55,
          1138849.58,
          1297268.55,
          1495021.78,
          1485779.37,
          1117631.78,
          1717217.8,
          1038516.45,
          1209120.54,
          1426138.05,
          1141984.09,
          1060474.01,
          1512446.32,
          1213372.09,
          1084894.04,
          1300440.72,
          1184987.77,
          991528.19,
          1031406.4,
          1085716.85
         ],
         "yaxis": "y"
        },
        {
         "customdata": [
          [
           "Ceramic Implants, BL"
          ],
          [
           "Ceramic Implants, BL"
          ],
          [
           "Ceramic Implants, BL"
          ],
          [
           "Ceramic Implants, BL"
          ],
          [
           "Ceramic Implants, BL"
          ],
          [
           "Ceramic Implants, BL"
          ],
          [
           "Ceramic Implants, BL"
          ],
          [
           "Ceramic Implants, BL"
          ],
          [
           "Ceramic Implants, BL"
          ],
          [
           "Ceramic Implants, BL"
          ],
          [
           "Ceramic Implants, BL"
          ],
          [
           "Ceramic Implants, BL"
          ],
          [
           "Ceramic Implants, BL"
          ],
          [
           "Ceramic Implants, BL"
          ],
          [
           "Ceramic Implants, BL"
          ],
          [
           "Ceramic Implants, BL"
          ],
          [
           "Ceramic Implants, BL"
          ],
          [
           "Ceramic Implants, BL"
          ],
          [
           "Ceramic Implants, BL"
          ],
          [
           "Ceramic Implants, BL"
          ],
          [
           "Ceramic Implants, BL"
          ],
          [
           "Ceramic Implants, BL"
          ],
          [
           "Ceramic Implants, BL"
          ],
          [
           "Ceramic Implants, BL"
          ],
          [
           "Ceramic Implants, BL"
          ],
          [
           "Ceramic Implants, BL"
          ]
         ],
         "hovertemplate": "Month: %{x}<br>Total Order Material Net Value: $%{y}<br>Product Hierarchy 1: %{customdata[0]}<br>Product Hierarchy 4: %{customdata[1]}<extra></extra>",
         "legendgroup": "Implant Solutions",
         "line": {
          "color": "#00cc96",
          "dash": "solid"
         },
         "marker": {
          "symbol": "circle"
         },
         "mode": "lines",
         "name": "Implant Solutions",
         "showlegend": false,
         "type": "scattergl",
         "x": [
          "2022-01",
          "2022-04",
          "2022-05",
          "2022-06",
          "2022-07",
          "2022-08",
          "2022-09",
          "2022-10",
          "2022-11",
          "2022-12",
          "2023-01",
          "2023-02",
          "2023-03",
          "2023-04",
          "2023-05",
          "2023-06",
          "2023-07",
          "2023-08",
          "2023-09",
          "2023-10",
          "2023-11",
          "2023-12",
          "2024-01",
          "2024-02",
          "2024-03",
          "2024-04"
         ],
         "xaxis": "x",
         "y": [
          337.2,
          3882.86,
          27659.67,
          33267.49,
          12331.75,
          17443.67,
          15833.29,
          27594.39,
          15698.65,
          16006.22,
          10641.73,
          20699.21,
          19515.66,
          18738.71,
          16347.16,
          32051.329999999998,
          7005.02,
          11044.17,
          11555.83,
          4943.7300000000005,
          21299.91,
          22096.35,
          26427.94,
          20955.879999999997,
          8703.94,
          23249.41
         ],
         "yaxis": "y"
        },
        {
         "customdata": [
          [
           "Ceramic Implants, TL"
          ],
          [
           "Ceramic Implants, TL"
          ],
          [
           "Ceramic Implants, TL"
          ],
          [
           "Ceramic Implants, TL"
          ],
          [
           "Ceramic Implants, TL"
          ],
          [
           "Ceramic Implants, TL"
          ],
          [
           "Ceramic Implants, TL"
          ],
          [
           "Ceramic Implants, TL"
          ],
          [
           "Ceramic Implants, TL"
          ],
          [
           "Ceramic Implants, TL"
          ],
          [
           "Ceramic Implants, TL"
          ],
          [
           "Ceramic Implants, TL"
          ],
          [
           "Ceramic Implants, TL"
          ],
          [
           "Ceramic Implants, TL"
          ],
          [
           "Ceramic Implants, TL"
          ],
          [
           "Ceramic Implants, TL"
          ],
          [
           "Ceramic Implants, TL"
          ],
          [
           "Ceramic Implants, TL"
          ],
          [
           "Ceramic Implants, TL"
          ],
          [
           "Ceramic Implants, TL"
          ],
          [
           "Ceramic Implants, TL"
          ],
          [
           "Ceramic Implants, TL"
          ],
          [
           "Ceramic Implants, TL"
          ],
          [
           "Ceramic Implants, TL"
          ],
          [
           "Ceramic Implants, TL"
          ],
          [
           "Ceramic Implants, TL"
          ],
          [
           "Ceramic Implants, TL"
          ],
          [
           "Ceramic Implants, TL"
          ]
         ],
         "hovertemplate": "Month: %{x}<br>Total Order Material Net Value: $%{y}<br>Product Hierarchy 1: %{customdata[0]}<br>Product Hierarchy 4: %{customdata[1]}<extra></extra>",
         "legendgroup": "Implant Solutions",
         "line": {
          "color": "#00cc96",
          "dash": "solid"
         },
         "marker": {
          "symbol": "circle"
         },
         "mode": "lines",
         "name": "Implant Solutions",
         "showlegend": false,
         "type": "scattergl",
         "x": [
          "2022-01",
          "2022-02",
          "2022-03",
          "2022-04",
          "2022-05",
          "2022-06",
          "2022-07",
          "2022-08",
          "2022-09",
          "2022-10",
          "2022-11",
          "2022-12",
          "2023-01",
          "2023-02",
          "2023-03",
          "2023-04",
          "2023-05",
          "2023-06",
          "2023-07",
          "2023-08",
          "2023-09",
          "2023-10",
          "2023-11",
          "2023-12",
          "2024-01",
          "2024-02",
          "2024-03",
          "2024-04"
         ],
         "xaxis": "x",
         "y": [
          104593.7,
          61931.77,
          90764.9,
          96035.16,
          65200.17,
          82536.2,
          91454.14,
          68403.7,
          84344.97,
          92557.35,
          89396.24,
          76944.64,
          102916.53,
          75141.32,
          101247,
          78261.62,
          93309.96,
          99796.15,
          98198.22,
          78282.22,
          81505.85,
          121680.61,
          95869.14,
          68425.91,
          85031.49,
          78111.87,
          75984.07,
          75126.36
         ],
         "yaxis": "y"
        },
        {
         "customdata": [
          [
           "Instruments, Cases + Others"
          ],
          [
           "Instruments, Cases + Others"
          ],
          [
           "Instruments, Cases + Others"
          ],
          [
           "Instruments, Cases + Others"
          ],
          [
           "Instruments, Cases + Others"
          ],
          [
           "Instruments, Cases + Others"
          ],
          [
           "Instruments, Cases + Others"
          ],
          [
           "Instruments, Cases + Others"
          ],
          [
           "Instruments, Cases + Others"
          ],
          [
           "Instruments, Cases + Others"
          ],
          [
           "Instruments, Cases + Others"
          ],
          [
           "Instruments, Cases + Others"
          ],
          [
           "Instruments, Cases + Others"
          ],
          [
           "Instruments, Cases + Others"
          ],
          [
           "Instruments, Cases + Others"
          ],
          [
           "Instruments, Cases + Others"
          ],
          [
           "Instruments, Cases + Others"
          ],
          [
           "Instruments, Cases + Others"
          ],
          [
           "Instruments, Cases + Others"
          ],
          [
           "Instruments, Cases + Others"
          ],
          [
           "Instruments, Cases + Others"
          ],
          [
           "Instruments, Cases + Others"
          ],
          [
           "Instruments, Cases + Others"
          ],
          [
           "Instruments, Cases + Others"
          ],
          [
           "Instruments, Cases + Others"
          ],
          [
           "Instruments, Cases + Others"
          ],
          [
           "Instruments, Cases + Others"
          ],
          [
           "Instruments, Cases + Others"
          ]
         ],
         "hovertemplate": "Month: %{x}<br>Total Order Material Net Value: $%{y}<br>Product Hierarchy 1: %{customdata[0]}<br>Product Hierarchy 4: %{customdata[1]}<extra></extra>",
         "legendgroup": "Implant Solutions",
         "line": {
          "color": "#00cc96",
          "dash": "solid"
         },
         "marker": {
          "symbol": "circle"
         },
         "mode": "lines",
         "name": "Implant Solutions",
         "showlegend": false,
         "type": "scattergl",
         "x": [
          "2022-01",
          "2022-02",
          "2022-03",
          "2022-04",
          "2022-05",
          "2022-06",
          "2022-07",
          "2022-08",
          "2022-09",
          "2022-10",
          "2022-11",
          "2022-12",
          "2023-01",
          "2023-02",
          "2023-03",
          "2023-04",
          "2023-05",
          "2023-06",
          "2023-07",
          "2023-08",
          "2023-09",
          "2023-10",
          "2023-11",
          "2023-12",
          "2024-01",
          "2024-02",
          "2024-03",
          "2024-04"
         ],
         "xaxis": "x",
         "y": [
          449978.06,
          441702.71,
          590065.97,
          598062.9,
          537743.36,
          556045.72,
          426281.57,
          590408.38,
          612401.79,
          554970.49,
          545431.02,
          550180.52,
          586965.34,
          620928.09,
          778414.96,
          638660.4,
          725956.55,
          669710.76,
          613060.59,
          752707.01,
          716788.47,
          632868.83,
          609785.96,
          656509.92,
          710224.62,
          797243.25,
          822821.93,
          861379.23
         ],
         "yaxis": "y"
        },
        {
         "customdata": [
          [
           "Instruments, Drills + Taps"
          ],
          [
           "Instruments, Drills + Taps"
          ],
          [
           "Instruments, Drills + Taps"
          ],
          [
           "Instruments, Drills + Taps"
          ],
          [
           "Instruments, Drills + Taps"
          ],
          [
           "Instruments, Drills + Taps"
          ],
          [
           "Instruments, Drills + Taps"
          ],
          [
           "Instruments, Drills + Taps"
          ],
          [
           "Instruments, Drills + Taps"
          ],
          [
           "Instruments, Drills + Taps"
          ],
          [
           "Instruments, Drills + Taps"
          ],
          [
           "Instruments, Drills + Taps"
          ],
          [
           "Instruments, Drills + Taps"
          ],
          [
           "Instruments, Drills + Taps"
          ],
          [
           "Instruments, Drills + Taps"
          ],
          [
           "Instruments, Drills + Taps"
          ],
          [
           "Instruments, Drills + Taps"
          ],
          [
           "Instruments, Drills + Taps"
          ],
          [
           "Instruments, Drills + Taps"
          ],
          [
           "Instruments, Drills + Taps"
          ],
          [
           "Instruments, Drills + Taps"
          ],
          [
           "Instruments, Drills + Taps"
          ],
          [
           "Instruments, Drills + Taps"
          ],
          [
           "Instruments, Drills + Taps"
          ],
          [
           "Instruments, Drills + Taps"
          ],
          [
           "Instruments, Drills + Taps"
          ],
          [
           "Instruments, Drills + Taps"
          ],
          [
           "Instruments, Drills + Taps"
          ]
         ],
         "hovertemplate": "Month: %{x}<br>Total Order Material Net Value: $%{y}<br>Product Hierarchy 1: %{customdata[0]}<br>Product Hierarchy 4: %{customdata[1]}<extra></extra>",
         "legendgroup": "Implant Solutions",
         "line": {
          "color": "#00cc96",
          "dash": "solid"
         },
         "marker": {
          "symbol": "circle"
         },
         "mode": "lines",
         "name": "Implant Solutions",
         "showlegend": false,
         "type": "scattergl",
         "x": [
          "2022-01",
          "2022-02",
          "2022-03",
          "2022-04",
          "2022-05",
          "2022-06",
          "2022-07",
          "2022-08",
          "2022-09",
          "2022-10",
          "2022-11",
          "2022-12",
          "2023-01",
          "2023-02",
          "2023-03",
          "2023-04",
          "2023-05",
          "2023-06",
          "2023-07",
          "2023-08",
          "2023-09",
          "2023-10",
          "2023-11",
          "2023-12",
          "2024-01",
          "2024-02",
          "2024-03",
          "2024-04"
         ],
         "xaxis": "x",
         "y": [
          571126.24,
          653038.59,
          685251.21,
          668094.73,
          626302.46,
          676242.03,
          541390.61,
          758411.92,
          703851.1,
          601563.57,
          650871.85,
          780985.16,
          783229.12,
          722603.81,
          856482.07,
          797906.45,
          902081.5,
          785072.32,
          792893.21,
          795286.17,
          789673.92,
          732523.74,
          706543.73,
          790517.24,
          842822.45,
          784152.31,
          849715.33,
          752137.64
         ],
         "yaxis": "y"
        },
        {
         "customdata": [
          [
           "Other Implants"
          ],
          [
           "Other Implants"
          ],
          [
           "Other Implants"
          ],
          [
           "Other Implants"
          ],
          [
           "Other Implants"
          ],
          [
           "Other Implants"
          ],
          [
           "Other Implants"
          ],
          [
           "Other Implants"
          ],
          [
           "Other Implants"
          ],
          [
           "Other Implants"
          ],
          [
           "Other Implants"
          ],
          [
           "Other Implants"
          ],
          [
           "Other Implants"
          ],
          [
           "Other Implants"
          ],
          [
           "Other Implants"
          ],
          [
           "Other Implants"
          ],
          [
           "Other Implants"
          ],
          [
           "Other Implants"
          ],
          [
           "Other Implants"
          ],
          [
           "Other Implants"
          ],
          [
           "Other Implants"
          ],
          [
           "Other Implants"
          ],
          [
           "Other Implants"
          ],
          [
           "Other Implants"
          ],
          [
           "Other Implants"
          ],
          [
           "Other Implants"
          ],
          [
           "Other Implants"
          ],
          [
           "Other Implants"
          ]
         ],
         "hovertemplate": "Month: %{x}<br>Total Order Material Net Value: $%{y}<br>Product Hierarchy 1: %{customdata[0]}<br>Product Hierarchy 4: %{customdata[1]}<extra></extra>",
         "legendgroup": "Implant Solutions",
         "line": {
          "color": "#00cc96",
          "dash": "solid"
         },
         "marker": {
          "symbol": "circle"
         },
         "mode": "lines",
         "name": "Implant Solutions",
         "showlegend": false,
         "type": "scattergl",
         "x": [
          "2022-01",
          "2022-02",
          "2022-03",
          "2022-04",
          "2022-05",
          "2022-06",
          "2022-07",
          "2022-08",
          "2022-09",
          "2022-10",
          "2022-11",
          "2022-12",
          "2023-01",
          "2023-02",
          "2023-03",
          "2023-04",
          "2023-05",
          "2023-06",
          "2023-07",
          "2023-08",
          "2023-09",
          "2023-10",
          "2023-11",
          "2023-12",
          "2024-01",
          "2024-02",
          "2024-03",
          "2024-04"
         ],
         "xaxis": "x",
         "y": [
          25870,
          39026.55,
          21830.48,
          36010.32,
          32898.8,
          48907.4,
          24090.45,
          28485.68,
          25715.04,
          24168.2,
          18894.57,
          29626.86,
          23119.71,
          26491.15,
          18414.17,
          15432.99,
          27524.46,
          24210.36,
          23244.03,
          38305.32,
          33616.17,
          14880.01,
          24915.260000000002,
          21517.72,
          23303.27,
          12419.960000000001,
          23184.02,
          21494.93
         ],
         "yaxis": "y"
        },
        {
         "customdata": [
          [
           "Surgical Equipment + Others"
          ],
          [
           "Surgical Equipment + Others"
          ],
          [
           "Surgical Equipment + Others"
          ],
          [
           "Surgical Equipment + Others"
          ],
          [
           "Surgical Equipment + Others"
          ],
          [
           "Surgical Equipment + Others"
          ],
          [
           "Surgical Equipment + Others"
          ],
          [
           "Surgical Equipment + Others"
          ],
          [
           "Surgical Equipment + Others"
          ],
          [
           "Surgical Equipment + Others"
          ],
          [
           "Surgical Equipment + Others"
          ],
          [
           "Surgical Equipment + Others"
          ],
          [
           "Surgical Equipment + Others"
          ],
          [
           "Surgical Equipment + Others"
          ],
          [
           "Surgical Equipment + Others"
          ],
          [
           "Surgical Equipment + Others"
          ],
          [
           "Surgical Equipment + Others"
          ],
          [
           "Surgical Equipment + Others"
          ],
          [
           "Surgical Equipment + Others"
          ],
          [
           "Surgical Equipment + Others"
          ],
          [
           "Surgical Equipment + Others"
          ],
          [
           "Surgical Equipment + Others"
          ],
          [
           "Surgical Equipment + Others"
          ],
          [
           "Surgical Equipment + Others"
          ],
          [
           "Surgical Equipment + Others"
          ],
          [
           "Surgical Equipment + Others"
          ]
         ],
         "hovertemplate": "Month: %{x}<br>Total Order Material Net Value: $%{y}<br>Product Hierarchy 1: %{customdata[0]}<br>Product Hierarchy 4: %{customdata[1]}<extra></extra>",
         "legendgroup": "Implant Solutions",
         "line": {
          "color": "#00cc96",
          "dash": "solid"
         },
         "marker": {
          "symbol": "circle"
         },
         "mode": "lines",
         "name": "Implant Solutions",
         "showlegend": false,
         "type": "scattergl",
         "x": [
          "2022-01",
          "2022-03",
          "2022-04",
          "2022-06",
          "2022-07",
          "2022-08",
          "2022-09",
          "2022-10",
          "2022-11",
          "2022-12",
          "2023-01",
          "2023-02",
          "2023-03",
          "2023-04",
          "2023-05",
          "2023-06",
          "2023-07",
          "2023-08",
          "2023-09",
          "2023-10",
          "2023-11",
          "2023-12",
          "2024-01",
          "2024-02",
          "2024-03",
          "2024-04"
         ],
         "xaxis": "x",
         "y": [
          102,
          347.5,
          98,
          1358.79,
          46.79,
          760.28,
          807.96,
          272.25,
          692.64,
          616.7,
          794.28,
          1099.6,
          305.64,
          452.65,
          1392.33,
          452.22,
          303.33000000000004,
          45,
          89.24,
          815.7,
          53322.96,
          12182.29,
          19868.83,
          29449.45,
          32198.78,
          14172.5
         ],
         "yaxis": "y"
        },
        {
         "customdata": [
          [
           "TL Healing Surgical"
          ],
          [
           "TL Healing Surgical"
          ],
          [
           "TL Healing Surgical"
          ],
          [
           "TL Healing Surgical"
          ],
          [
           "TL Healing Surgical"
          ],
          [
           "TL Healing Surgical"
          ],
          [
           "TL Healing Surgical"
          ],
          [
           "TL Healing Surgical"
          ],
          [
           "TL Healing Surgical"
          ],
          [
           "TL Healing Surgical"
          ],
          [
           "TL Healing Surgical"
          ],
          [
           "TL Healing Surgical"
          ],
          [
           "TL Healing Surgical"
          ],
          [
           "TL Healing Surgical"
          ],
          [
           "TL Healing Surgical"
          ],
          [
           "TL Healing Surgical"
          ],
          [
           "TL Healing Surgical"
          ],
          [
           "TL Healing Surgical"
          ],
          [
           "TL Healing Surgical"
          ],
          [
           "TL Healing Surgical"
          ],
          [
           "TL Healing Surgical"
          ],
          [
           "TL Healing Surgical"
          ],
          [
           "TL Healing Surgical"
          ],
          [
           "TL Healing Surgical"
          ],
          [
           "TL Healing Surgical"
          ],
          [
           "TL Healing Surgical"
          ],
          [
           "TL Healing Surgical"
          ],
          [
           "TL Healing Surgical"
          ]
         ],
         "hovertemplate": "Month: %{x}<br>Total Order Material Net Value: $%{y}<br>Product Hierarchy 1: %{customdata[0]}<br>Product Hierarchy 4: %{customdata[1]}<extra></extra>",
         "legendgroup": "Implant Solutions",
         "line": {
          "color": "#00cc96",
          "dash": "solid"
         },
         "marker": {
          "symbol": "circle"
         },
         "mode": "lines",
         "name": "Implant Solutions",
         "showlegend": false,
         "type": "scattergl",
         "x": [
          "2022-01",
          "2022-02",
          "2022-03",
          "2022-04",
          "2022-05",
          "2022-06",
          "2022-07",
          "2022-08",
          "2022-09",
          "2022-10",
          "2022-11",
          "2022-12",
          "2023-01",
          "2023-02",
          "2023-03",
          "2023-04",
          "2023-05",
          "2023-06",
          "2023-07",
          "2023-08",
          "2023-09",
          "2023-10",
          "2023-11",
          "2023-12",
          "2024-01",
          "2024-02",
          "2024-03",
          "2024-04"
         ],
         "xaxis": "x",
         "y": [
          171137.2,
          162951.28,
          173195.58,
          169781.51,
          169865.18,
          160375.1,
          143643.81,
          158842.79,
          162559.59,
          159633.88,
          146792.72,
          158413.76,
          174577.72,
          150442.14,
          168878.76,
          162932.74,
          169445.61,
          159608.38,
          142442.91,
          157193.69,
          151297.64,
          151789.45,
          153954.49,
          140455.57,
          166382.79,
          153870.35,
          172015.25,
          155181.54
         ],
         "yaxis": "y"
        },
        {
         "customdata": [
          [
           "TLFT TiZr Implants, hydrophilic TF"
          ],
          [
           "TLFT TiZr Implants, hydrophilic TF"
          ],
          [
           "TLFT TiZr Implants, hydrophilic TF"
          ],
          [
           "TLFT TiZr Implants, hydrophilic TF"
          ],
          [
           "TLFT TiZr Implants, hydrophilic TF"
          ],
          [
           "TLFT TiZr Implants, hydrophilic TF"
          ],
          [
           "TLFT TiZr Implants, hydrophilic TF"
          ],
          [
           "TLFT TiZr Implants, hydrophilic TF"
          ],
          [
           "TLFT TiZr Implants, hydrophilic TF"
          ],
          [
           "TLFT TiZr Implants, hydrophilic TF"
          ],
          [
           "TLFT TiZr Implants, hydrophilic TF"
          ],
          [
           "TLFT TiZr Implants, hydrophilic TF"
          ],
          [
           "TLFT TiZr Implants, hydrophilic TF"
          ],
          [
           "TLFT TiZr Implants, hydrophilic TF"
          ],
          [
           "TLFT TiZr Implants, hydrophilic TF"
          ],
          [
           "TLFT TiZr Implants, hydrophilic TF"
          ],
          [
           "TLFT TiZr Implants, hydrophilic TF"
          ],
          [
           "TLFT TiZr Implants, hydrophilic TF"
          ],
          [
           "TLFT TiZr Implants, hydrophilic TF"
          ],
          [
           "TLFT TiZr Implants, hydrophilic TF"
          ],
          [
           "TLFT TiZr Implants, hydrophilic TF"
          ],
          [
           "TLFT TiZr Implants, hydrophilic TF"
          ],
          [
           "TLFT TiZr Implants, hydrophilic TF"
          ],
          [
           "TLFT TiZr Implants, hydrophilic TF"
          ],
          [
           "TLFT TiZr Implants, hydrophilic TF"
          ],
          [
           "TLFT TiZr Implants, hydrophilic TF"
          ],
          [
           "TLFT TiZr Implants, hydrophilic TF"
          ],
          [
           "TLFT TiZr Implants, hydrophilic TF"
          ]
         ],
         "hovertemplate": "Month: %{x}<br>Total Order Material Net Value: $%{y}<br>Product Hierarchy 1: %{customdata[0]}<br>Product Hierarchy 4: %{customdata[1]}<extra></extra>",
         "legendgroup": "Implant Solutions",
         "line": {
          "color": "#00cc96",
          "dash": "solid"
         },
         "marker": {
          "symbol": "circle"
         },
         "mode": "lines",
         "name": "Implant Solutions",
         "showlegend": false,
         "type": "scattergl",
         "x": [
          "2022-01",
          "2022-02",
          "2022-03",
          "2022-04",
          "2022-05",
          "2022-06",
          "2022-07",
          "2022-08",
          "2022-09",
          "2022-10",
          "2022-11",
          "2022-12",
          "2023-01",
          "2023-02",
          "2023-03",
          "2023-04",
          "2023-05",
          "2023-06",
          "2023-07",
          "2023-08",
          "2023-09",
          "2023-10",
          "2023-11",
          "2023-12",
          "2024-01",
          "2024-02",
          "2024-03",
          "2024-04"
         ],
         "xaxis": "x",
         "y": [
          143089.25,
          115167.09,
          155438.13,
          200921.42,
          186838,
          238686.53,
          198741.49,
          188538.98,
          178889.38999999998,
          170093.29,
          243891.39,
          218166.27,
          189548.85,
          281601.11,
          280836.14,
          384118.15,
          230527.69,
          250277.78,
          183191.21,
          208207.11000000002,
          157571.03,
          229400.58,
          296433.64,
          228976.62,
          280384.08,
          141454.28,
          178908,
          187780.42
         ],
         "yaxis": "y"
        },
        {
         "customdata": [
          [
           "TLPW Ti Implants, standard"
          ],
          [
           "TLPW Ti Implants, standard"
          ],
          [
           "TLPW Ti Implants, standard"
          ],
          [
           "TLPW Ti Implants, standard"
          ],
          [
           "TLPW Ti Implants, standard"
          ],
          [
           "TLPW Ti Implants, standard"
          ],
          [
           "TLPW Ti Implants, standard"
          ],
          [
           "TLPW Ti Implants, standard"
          ],
          [
           "TLPW Ti Implants, standard"
          ],
          [
           "TLPW Ti Implants, standard"
          ],
          [
           "TLPW Ti Implants, standard"
          ],
          [
           "TLPW Ti Implants, standard"
          ],
          [
           "TLPW Ti Implants, standard"
          ],
          [
           "TLPW Ti Implants, standard"
          ],
          [
           "TLPW Ti Implants, standard"
          ],
          [
           "TLPW Ti Implants, standard"
          ],
          [
           "TLPW Ti Implants, standard"
          ],
          [
           "TLPW Ti Implants, standard"
          ],
          [
           "TLPW Ti Implants, standard"
          ],
          [
           "TLPW Ti Implants, standard"
          ],
          [
           "TLPW Ti Implants, standard"
          ],
          [
           "TLPW Ti Implants, standard"
          ],
          [
           "TLPW Ti Implants, standard"
          ],
          [
           "TLPW Ti Implants, standard"
          ],
          [
           "TLPW Ti Implants, standard"
          ],
          [
           "TLPW Ti Implants, standard"
          ],
          [
           "TLPW Ti Implants, standard"
          ],
          [
           "TLPW Ti Implants, standard"
          ]
         ],
         "hovertemplate": "Month: %{x}<br>Total Order Material Net Value: $%{y}<br>Product Hierarchy 1: %{customdata[0]}<br>Product Hierarchy 4: %{customdata[1]}<extra></extra>",
         "legendgroup": "Implant Solutions",
         "line": {
          "color": "#00cc96",
          "dash": "solid"
         },
         "marker": {
          "symbol": "circle"
         },
         "mode": "lines",
         "name": "Implant Solutions",
         "showlegend": false,
         "type": "scattergl",
         "x": [
          "2022-01",
          "2022-02",
          "2022-03",
          "2022-04",
          "2022-05",
          "2022-06",
          "2022-07",
          "2022-08",
          "2022-09",
          "2022-10",
          "2022-11",
          "2022-12",
          "2023-01",
          "2023-02",
          "2023-03",
          "2023-04",
          "2023-05",
          "2023-06",
          "2023-07",
          "2023-08",
          "2023-09",
          "2023-10",
          "2023-11",
          "2023-12",
          "2024-01",
          "2024-02",
          "2024-03",
          "2024-04"
         ],
         "xaxis": "x",
         "y": [
          79219.42,
          97372.61,
          80876.56,
          65744.63,
          115550.88,
          83097.85,
          49169.15,
          87839.54,
          73970.4,
          75825.28,
          91878.09,
          50423.49,
          68399.28,
          57164.25,
          61547.24,
          75236.01,
          58624.37,
          66467.62,
          53474.76,
          67596.32,
          33360.39,
          44160.79,
          57352.95,
          57245.74,
          55090.57,
          53321.93,
          51627.86,
          32517.22
         ],
         "yaxis": "y"
        },
        {
         "customdata": [
          [
           "TLPW TiZr Implants, hydrophilic"
          ],
          [
           "TLPW TiZr Implants, hydrophilic"
          ],
          [
           "TLPW TiZr Implants, hydrophilic"
          ],
          [
           "TLPW TiZr Implants, hydrophilic"
          ],
          [
           "TLPW TiZr Implants, hydrophilic"
          ],
          [
           "TLPW TiZr Implants, hydrophilic"
          ],
          [
           "TLPW TiZr Implants, hydrophilic"
          ],
          [
           "TLPW TiZr Implants, hydrophilic"
          ],
          [
           "TLPW TiZr Implants, hydrophilic"
          ],
          [
           "TLPW TiZr Implants, hydrophilic"
          ],
          [
           "TLPW TiZr Implants, hydrophilic"
          ],
          [
           "TLPW TiZr Implants, hydrophilic"
          ],
          [
           "TLPW TiZr Implants, hydrophilic"
          ],
          [
           "TLPW TiZr Implants, hydrophilic"
          ],
          [
           "TLPW TiZr Implants, hydrophilic"
          ],
          [
           "TLPW TiZr Implants, hydrophilic"
          ],
          [
           "TLPW TiZr Implants, hydrophilic"
          ],
          [
           "TLPW TiZr Implants, hydrophilic"
          ],
          [
           "TLPW TiZr Implants, hydrophilic"
          ],
          [
           "TLPW TiZr Implants, hydrophilic"
          ],
          [
           "TLPW TiZr Implants, hydrophilic"
          ],
          [
           "TLPW TiZr Implants, hydrophilic"
          ],
          [
           "TLPW TiZr Implants, hydrophilic"
          ],
          [
           "TLPW TiZr Implants, hydrophilic"
          ],
          [
           "TLPW TiZr Implants, hydrophilic"
          ],
          [
           "TLPW TiZr Implants, hydrophilic"
          ],
          [
           "TLPW TiZr Implants, hydrophilic"
          ],
          [
           "TLPW TiZr Implants, hydrophilic"
          ]
         ],
         "hovertemplate": "Month: %{x}<br>Total Order Material Net Value: $%{y}<br>Product Hierarchy 1: %{customdata[0]}<br>Product Hierarchy 4: %{customdata[1]}<extra></extra>",
         "legendgroup": "Implant Solutions",
         "line": {
          "color": "#00cc96",
          "dash": "solid"
         },
         "marker": {
          "symbol": "circle"
         },
         "mode": "lines",
         "name": "Implant Solutions",
         "showlegend": false,
         "type": "scattergl",
         "x": [
          "2022-01",
          "2022-02",
          "2022-03",
          "2022-04",
          "2022-05",
          "2022-06",
          "2022-07",
          "2022-08",
          "2022-09",
          "2022-10",
          "2022-11",
          "2022-12",
          "2023-01",
          "2023-02",
          "2023-03",
          "2023-04",
          "2023-05",
          "2023-06",
          "2023-07",
          "2023-08",
          "2023-09",
          "2023-10",
          "2023-11",
          "2023-12",
          "2024-01",
          "2024-02",
          "2024-03",
          "2024-04"
         ],
         "xaxis": "x",
         "y": [
          580224.07,
          582070.28,
          685194.11,
          545280.03,
          625692.48,
          584773.74,
          546038.01,
          633382.42,
          554252.48,
          604413.53,
          462026.35,
          612622.29,
          626236.01,
          509102.76,
          564369.75,
          537800.51,
          530771.18,
          537158.63,
          450496.69,
          530455.19,
          482975.91,
          514691.39,
          546019.41,
          449327.49,
          548155.19,
          518455.61,
          502120.46,
          461834.46
         ],
         "yaxis": "y"
        },
        {
         "customdata": [
          [
           "TLPW TiZr Implants, standard"
          ],
          [
           "TLPW TiZr Implants, standard"
          ],
          [
           "TLPW TiZr Implants, standard"
          ],
          [
           "TLPW TiZr Implants, standard"
          ],
          [
           "TLPW TiZr Implants, standard"
          ],
          [
           "TLPW TiZr Implants, standard"
          ],
          [
           "TLPW TiZr Implants, standard"
          ],
          [
           "TLPW TiZr Implants, standard"
          ],
          [
           "TLPW TiZr Implants, standard"
          ],
          [
           "TLPW TiZr Implants, standard"
          ],
          [
           "TLPW TiZr Implants, standard"
          ],
          [
           "TLPW TiZr Implants, standard"
          ],
          [
           "TLPW TiZr Implants, standard"
          ],
          [
           "TLPW TiZr Implants, standard"
          ],
          [
           "TLPW TiZr Implants, standard"
          ],
          [
           "TLPW TiZr Implants, standard"
          ],
          [
           "TLPW TiZr Implants, standard"
          ],
          [
           "TLPW TiZr Implants, standard"
          ],
          [
           "TLPW TiZr Implants, standard"
          ],
          [
           "TLPW TiZr Implants, standard"
          ],
          [
           "TLPW TiZr Implants, standard"
          ],
          [
           "TLPW TiZr Implants, standard"
          ],
          [
           "TLPW TiZr Implants, standard"
          ],
          [
           "TLPW TiZr Implants, standard"
          ],
          [
           "TLPW TiZr Implants, standard"
          ],
          [
           "TLPW TiZr Implants, standard"
          ],
          [
           "TLPW TiZr Implants, standard"
          ],
          [
           "TLPW TiZr Implants, standard"
          ]
         ],
         "hovertemplate": "Month: %{x}<br>Total Order Material Net Value: $%{y}<br>Product Hierarchy 1: %{customdata[0]}<br>Product Hierarchy 4: %{customdata[1]}<extra></extra>",
         "legendgroup": "Implant Solutions",
         "line": {
          "color": "#00cc96",
          "dash": "solid"
         },
         "marker": {
          "symbol": "circle"
         },
         "mode": "lines",
         "name": "Implant Solutions",
         "showlegend": false,
         "type": "scattergl",
         "x": [
          "2022-01",
          "2022-02",
          "2022-03",
          "2022-04",
          "2022-05",
          "2022-06",
          "2022-07",
          "2022-08",
          "2022-09",
          "2022-10",
          "2022-11",
          "2022-12",
          "2023-01",
          "2023-02",
          "2023-03",
          "2023-04",
          "2023-05",
          "2023-06",
          "2023-07",
          "2023-08",
          "2023-09",
          "2023-10",
          "2023-11",
          "2023-12",
          "2024-01",
          "2024-02",
          "2024-03",
          "2024-04"
         ],
         "xaxis": "x",
         "y": [
          514850.62,
          648089.83,
          542497.02,
          627673.28,
          454026.6,
          476700.88,
          417110.94,
          533385.69,
          451276.75,
          587257.83,
          452694.14,
          607409.78,
          448551.5,
          416648.66,
          488687.87,
          430287.99,
          501363.88,
          525038.94,
          368554.45,
          431349.58999999997,
          456826.66,
          355946.76,
          391321.85,
          543658.91,
          398767.72,
          367243.08,
          499128.8,
          331020.11
         ],
         "yaxis": "y"
        },
        {
         "customdata": [
          [
           "Zygomatic Implants"
          ],
          [
           "Zygomatic Implants"
          ],
          [
           "Zygomatic Implants"
          ],
          [
           "Zygomatic Implants"
          ],
          [
           "Zygomatic Implants"
          ],
          [
           "Zygomatic Implants"
          ],
          [
           "Zygomatic Implants"
          ],
          [
           "Zygomatic Implants"
          ],
          [
           "Zygomatic Implants"
          ],
          [
           "Zygomatic Implants"
          ],
          [
           "Zygomatic Implants"
          ],
          [
           "Zygomatic Implants"
          ],
          [
           "Zygomatic Implants"
          ],
          [
           "Zygomatic Implants"
          ],
          [
           "Zygomatic Implants"
          ],
          [
           "Zygomatic Implants"
          ],
          [
           "Zygomatic Implants"
          ],
          [
           "Zygomatic Implants"
          ],
          [
           "Zygomatic Implants"
          ],
          [
           "Zygomatic Implants"
          ],
          [
           "Zygomatic Implants"
          ],
          [
           "Zygomatic Implants"
          ],
          [
           "Zygomatic Implants"
          ],
          [
           "Zygomatic Implants"
          ],
          [
           "Zygomatic Implants"
          ],
          [
           "Zygomatic Implants"
          ],
          [
           "Zygomatic Implants"
          ],
          [
           "Zygomatic Implants"
          ]
         ],
         "hovertemplate": "Month: %{x}<br>Total Order Material Net Value: $%{y}<br>Product Hierarchy 1: %{customdata[0]}<br>Product Hierarchy 4: %{customdata[1]}<extra></extra>",
         "legendgroup": "Implant Solutions",
         "line": {
          "color": "#00cc96",
          "dash": "solid"
         },
         "marker": {
          "symbol": "circle"
         },
         "mode": "lines",
         "name": "Implant Solutions",
         "showlegend": false,
         "type": "scattergl",
         "x": [
          "2022-01",
          "2022-02",
          "2022-03",
          "2022-04",
          "2022-05",
          "2022-06",
          "2022-07",
          "2022-08",
          "2022-09",
          "2022-10",
          "2022-11",
          "2022-12",
          "2023-01",
          "2023-02",
          "2023-03",
          "2023-04",
          "2023-05",
          "2023-06",
          "2023-07",
          "2023-08",
          "2023-09",
          "2023-10",
          "2023-11",
          "2023-12",
          "2024-01",
          "2024-02",
          "2024-03",
          "2024-04"
         ],
         "xaxis": "x",
         "y": [
          213701.67,
          102691.08,
          189634.75,
          181014.18,
          156437.43,
          141313.12,
          140618.51,
          162093.3,
          125243.79,
          224522.71,
          164131.5,
          158906.61,
          195613.62,
          124209.45,
          156667.93,
          150556.17,
          169792.95,
          132645.28,
          137072.8,
          191806.76,
          151289.63,
          148518.08,
          183288.51,
          110417.76,
          191625.58000000002,
          197414.67,
          355784.89,
          318511.1
         ],
         "yaxis": "y"
        },
        {
         "customdata": [
          [
           "BLAT Ti Implants, standard EXT"
          ],
          [
           "BLAT Ti Implants, standard EXT"
          ],
          [
           "BLAT Ti Implants, standard EXT"
          ],
          [
           "BLAT Ti Implants, standard EXT"
          ]
         ],
         "hovertemplate": "Month: %{x}<br>Total Order Material Net Value: $%{y}<br>Product Hierarchy 1: %{customdata[0]}<br>Product Hierarchy 4: %{customdata[1]}<extra></extra>",
         "legendgroup": "Implant Solutions",
         "line": {
          "color": "#00cc96",
          "dash": "solid"
         },
         "marker": {
          "symbol": "circle"
         },
         "mode": "lines",
         "name": "Implant Solutions",
         "showlegend": false,
         "type": "scattergl",
         "x": [
          "2022-04",
          "2022-05",
          "2022-09",
          "2023-01"
         ],
         "xaxis": "x",
         "y": [
          1411,
          1407.26,
          817.25,
          160.26
         ],
         "yaxis": "y"
        },
        {
         "customdata": [
          [
           "TLFT TiZr Implants, standard TF"
          ],
          [
           "TLFT TiZr Implants, standard TF"
          ],
          [
           "TLFT TiZr Implants, standard TF"
          ],
          [
           "TLFT TiZr Implants, standard TF"
          ],
          [
           "TLFT TiZr Implants, standard TF"
          ],
          [
           "TLFT TiZr Implants, standard TF"
          ],
          [
           "TLFT TiZr Implants, standard TF"
          ],
          [
           "TLFT TiZr Implants, standard TF"
          ],
          [
           "TLFT TiZr Implants, standard TF"
          ],
          [
           "TLFT TiZr Implants, standard TF"
          ],
          [
           "TLFT TiZr Implants, standard TF"
          ],
          [
           "TLFT TiZr Implants, standard TF"
          ],
          [
           "TLFT TiZr Implants, standard TF"
          ]
         ],
         "hovertemplate": "Month: %{x}<br>Total Order Material Net Value: $%{y}<br>Product Hierarchy 1: %{customdata[0]}<br>Product Hierarchy 4: %{customdata[1]}<extra></extra>",
         "legendgroup": "Implant Solutions",
         "line": {
          "color": "#00cc96",
          "dash": "solid"
         },
         "marker": {
          "symbol": "circle"
         },
         "mode": "lines",
         "name": "Implant Solutions",
         "showlegend": false,
         "type": "scattergl",
         "x": [
          "2023-02",
          "2023-05",
          "2023-06",
          "2023-07",
          "2023-08",
          "2023-09",
          "2023-10",
          "2023-11",
          "2023-12",
          "2024-01",
          "2024-02",
          "2024-03",
          "2024-04"
         ],
         "xaxis": "x",
         "y": [
          1135.23,
          479,
          32086.93,
          2511.8,
          30080.809999999998,
          17815.87,
          13302.03,
          13586.5,
          12491.06,
          6462.71,
          15040.1,
          49599.34,
          18994.03
         ],
         "yaxis": "y"
        },
        {
         "customdata": [
          [
           "TLAT Ti Implants, hydrophilic"
          ],
          [
           "TLAT Ti Implants, hydrophilic"
          ],
          [
           "TLAT Ti Implants, hydrophilic"
          ],
          [
           "TLAT Ti Implants, hydrophilic"
          ],
          [
           "TLAT Ti Implants, hydrophilic"
          ],
          [
           "TLAT Ti Implants, hydrophilic"
          ]
         ],
         "hovertemplate": "Month: %{x}<br>Total Order Material Net Value: $%{y}<br>Product Hierarchy 1: %{customdata[0]}<br>Product Hierarchy 4: %{customdata[1]}<extra></extra>",
         "legendgroup": "Implant Solutions",
         "line": {
          "color": "#00cc96",
          "dash": "solid"
         },
         "marker": {
          "symbol": "circle"
         },
         "mode": "lines",
         "name": "Implant Solutions",
         "showlegend": false,
         "type": "scattergl",
         "x": [
          "2023-11",
          "2023-12",
          "2024-01",
          "2024-02",
          "2024-03",
          "2024-04"
         ],
         "xaxis": "x",
         "y": [
          2995,
          55348.01,
          63234.86,
          62661.19,
          99378.59,
          61860.16
         ],
         "yaxis": "y"
        },
        {
         "customdata": [
          [
           "BLAT TiZr Implants, hydrophilic TF"
          ],
          [
           "BLAT TiZr Implants, hydrophilic TF"
          ],
          [
           "BLAT TiZr Implants, hydrophilic TF"
          ],
          [
           "BLAT TiZr Implants, hydrophilic TF"
          ],
          [
           "BLAT TiZr Implants, hydrophilic TF"
          ]
         ],
         "hovertemplate": "Month: %{x}<br>Total Order Material Net Value: $%{y}<br>Product Hierarchy 1: %{customdata[0]}<br>Product Hierarchy 4: %{customdata[1]}<extra></extra>",
         "legendgroup": "Implant Solutions",
         "line": {
          "color": "#00cc96",
          "dash": "solid"
         },
         "marker": {
          "symbol": "circle"
         },
         "mode": "lines",
         "name": "Implant Solutions",
         "showlegend": false,
         "type": "scattergl",
         "x": [
          "2023-12",
          "2024-01",
          "2024-02",
          "2024-03",
          "2024-04"
         ],
         "xaxis": "x",
         "y": [
          122537.43,
          181980.55,
          396712.99,
          916820.25,
          1002533.09
         ],
         "yaxis": "y"
        },
        {
         "customdata": [
          [
           "TLAT TiZr Implants, hydrophilic TF"
          ],
          [
           "TLAT TiZr Implants, hydrophilic TF"
          ],
          [
           "TLAT TiZr Implants, hydrophilic TF"
          ],
          [
           "TLAT TiZr Implants, hydrophilic TF"
          ],
          [
           "TLAT TiZr Implants, hydrophilic TF"
          ]
         ],
         "hovertemplate": "Month: %{x}<br>Total Order Material Net Value: $%{y}<br>Product Hierarchy 1: %{customdata[0]}<br>Product Hierarchy 4: %{customdata[1]}<extra></extra>",
         "legendgroup": "Implant Solutions",
         "line": {
          "color": "#00cc96",
          "dash": "solid"
         },
         "marker": {
          "symbol": "circle"
         },
         "mode": "lines",
         "name": "Implant Solutions",
         "showlegend": false,
         "type": "scattergl",
         "x": [
          "2023-12",
          "2024-01",
          "2024-02",
          "2024-03",
          "2024-04"
         ],
         "xaxis": "x",
         "y": [
          10432.5,
          31402.260000000002,
          30529.28,
          129493.42,
          115985.48
         ],
         "yaxis": "y"
        },
        {
         "customdata": [
          [
           "Other Orthodontics"
          ],
          [
           "Other Orthodontics"
          ],
          [
           "Other Orthodontics"
          ]
         ],
         "hovertemplate": "Month: %{x}<br>Total Order Material Net Value: $%{y}<br>Product Hierarchy 1: %{customdata[0]}<br>Product Hierarchy 4: %{customdata[1]}<extra></extra>",
         "legendgroup": "Orthodontics",
         "line": {
          "color": "#ab63fa",
          "dash": "solid"
         },
         "marker": {
          "symbol": "circle"
         },
         "mode": "lines",
         "name": "Orthodontics",
         "showlegend": true,
         "type": "scattergl",
         "x": [
          "2022-01",
          "2024-02",
          "2024-04"
         ],
         "xaxis": "x",
         "y": [
          1259.1,
          181.89,
          296.5
         ],
         "yaxis": "y"
        },
        {
         "customdata": [
          [
           "Customer Education"
          ],
          [
           "Customer Education"
          ],
          [
           "Customer Education"
          ],
          [
           "Customer Education"
          ],
          [
           "Customer Education"
          ],
          [
           "Customer Education"
          ],
          [
           "Customer Education"
          ],
          [
           "Customer Education"
          ],
          [
           "Customer Education"
          ],
          [
           "Customer Education"
          ],
          [
           "Customer Education"
          ],
          [
           "Customer Education"
          ],
          [
           "Customer Education"
          ],
          [
           "Customer Education"
          ],
          [
           "Customer Education"
          ],
          [
           "Customer Education"
          ],
          [
           "Customer Education"
          ],
          [
           "Customer Education"
          ],
          [
           "Customer Education"
          ],
          [
           "Customer Education"
          ],
          [
           "Customer Education"
          ],
          [
           "Customer Education"
          ],
          [
           "Customer Education"
          ],
          [
           "Customer Education"
          ],
          [
           "Customer Education"
          ],
          [
           "Customer Education"
          ],
          [
           "Customer Education"
          ],
          [
           "Customer Education"
          ]
         ],
         "hovertemplate": "Month: %{x}<br>Total Order Material Net Value: $%{y}<br>Product Hierarchy 1: %{customdata[0]}<br>Product Hierarchy 4: %{customdata[1]}<extra></extra>",
         "legendgroup": "Others (PRH 1)",
         "line": {
          "color": "#FFA15A",
          "dash": "solid"
         },
         "marker": {
          "symbol": "circle"
         },
         "mode": "lines",
         "name": "Others (PRH 1)",
         "showlegend": true,
         "type": "scattergl",
         "x": [
          "2022-01",
          "2022-02",
          "2022-03",
          "2022-04",
          "2022-05",
          "2022-06",
          "2022-07",
          "2022-08",
          "2022-09",
          "2022-10",
          "2022-11",
          "2022-12",
          "2023-01",
          "2023-02",
          "2023-03",
          "2023-04",
          "2023-05",
          "2023-06",
          "2023-07",
          "2023-08",
          "2023-09",
          "2023-10",
          "2023-11",
          "2023-12",
          "2024-01",
          "2024-02",
          "2024-03",
          "2024-04"
         ],
         "xaxis": "x",
         "y": [
          676.39,
          2803.7400000000002,
          3490.02,
          1959.75,
          3124.66,
          678.8000000000001,
          747.8100000000001,
          3648.4100000000003,
          758.29,
          1127.01,
          3224.98,
          3464.3700000000003,
          4426.37,
          6078.85,
          2260.6800000000003,
          1614.53,
          12589.449999999999,
          18451.45,
          1991.56,
          3710.7200000000003,
          9203.710000000001,
          5354.59,
          2448.03,
          2063.14,
          6861.61,
          11147.21,
          4167.86,
          3570.14
         ],
         "yaxis": "y"
        },
        {
         "customdata": [
          [
           "Local 3rd Party Products"
          ],
          [
           "Local 3rd Party Products"
          ],
          [
           "Local 3rd Party Products"
          ],
          [
           "Local 3rd Party Products"
          ],
          [
           "Local 3rd Party Products"
          ],
          [
           "Local 3rd Party Products"
          ],
          [
           "Local 3rd Party Products"
          ],
          [
           "Local 3rd Party Products"
          ],
          [
           "Local 3rd Party Products"
          ],
          [
           "Local 3rd Party Products"
          ],
          [
           "Local 3rd Party Products"
          ],
          [
           "Local 3rd Party Products"
          ],
          [
           "Local 3rd Party Products"
          ],
          [
           "Local 3rd Party Products"
          ],
          [
           "Local 3rd Party Products"
          ],
          [
           "Local 3rd Party Products"
          ],
          [
           "Local 3rd Party Products"
          ],
          [
           "Local 3rd Party Products"
          ],
          [
           "Local 3rd Party Products"
          ],
          [
           "Local 3rd Party Products"
          ],
          [
           "Local 3rd Party Products"
          ],
          [
           "Local 3rd Party Products"
          ],
          [
           "Local 3rd Party Products"
          ],
          [
           "Local 3rd Party Products"
          ],
          [
           "Local 3rd Party Products"
          ],
          [
           "Local 3rd Party Products"
          ],
          [
           "Local 3rd Party Products"
          ],
          [
           "Local 3rd Party Products"
          ]
         ],
         "hovertemplate": "Month: %{x}<br>Total Order Material Net Value: $%{y}<br>Product Hierarchy 1: %{customdata[0]}<br>Product Hierarchy 4: %{customdata[1]}<extra></extra>",
         "legendgroup": "Others (PRH 1)",
         "line": {
          "color": "#FFA15A",
          "dash": "solid"
         },
         "marker": {
          "symbol": "circle"
         },
         "mode": "lines",
         "name": "Others (PRH 1)",
         "showlegend": false,
         "type": "scattergl",
         "x": [
          "2022-01",
          "2022-02",
          "2022-03",
          "2022-04",
          "2022-05",
          "2022-06",
          "2022-07",
          "2022-08",
          "2022-09",
          "2022-10",
          "2022-11",
          "2022-12",
          "2023-01",
          "2023-02",
          "2023-03",
          "2023-04",
          "2023-05",
          "2023-06",
          "2023-07",
          "2023-08",
          "2023-09",
          "2023-10",
          "2023-11",
          "2023-12",
          "2024-01",
          "2024-02",
          "2024-03",
          "2024-04"
         ],
         "xaxis": "x",
         "y": [
          479343.9,
          333919.24,
          406540.71,
          299489.88,
          468464.75,
          353461.07,
          391158.3,
          394689.57,
          400123.62,
          466197.63,
          478999.16,
          599442.53,
          475320.02999999997,
          495871.55,
          617877.23,
          440866.58,
          510786.82,
          457637.27999999997,
          398844.68,
          621936.43,
          480464.74,
          527125.72,
          446581.06,
          685093.29,
          338375.03,
          535501.54,
          551272.8,
          481304.5
         ],
         "yaxis": "y"
        },
        {
         "customdata": [
          [
           "Miscellaneous + Others"
          ],
          [
           "Miscellaneous + Others"
          ],
          [
           "Miscellaneous + Others"
          ],
          [
           "Miscellaneous + Others"
          ],
          [
           "Miscellaneous + Others"
          ],
          [
           "Miscellaneous + Others"
          ],
          [
           "Miscellaneous + Others"
          ],
          [
           "Miscellaneous + Others"
          ],
          [
           "Miscellaneous + Others"
          ],
          [
           "Miscellaneous + Others"
          ],
          [
           "Miscellaneous + Others"
          ],
          [
           "Miscellaneous + Others"
          ],
          [
           "Miscellaneous + Others"
          ],
          [
           "Miscellaneous + Others"
          ],
          [
           "Miscellaneous + Others"
          ],
          [
           "Miscellaneous + Others"
          ],
          [
           "Miscellaneous + Others"
          ],
          [
           "Miscellaneous + Others"
          ],
          [
           "Miscellaneous + Others"
          ],
          [
           "Miscellaneous + Others"
          ],
          [
           "Miscellaneous + Others"
          ],
          [
           "Miscellaneous + Others"
          ],
          [
           "Miscellaneous + Others"
          ],
          [
           "Miscellaneous + Others"
          ],
          [
           "Miscellaneous + Others"
          ],
          [
           "Miscellaneous + Others"
          ],
          [
           "Miscellaneous + Others"
          ],
          [
           "Miscellaneous + Others"
          ]
         ],
         "hovertemplate": "Month: %{x}<br>Total Order Material Net Value: $%{y}<br>Product Hierarchy 1: %{customdata[0]}<br>Product Hierarchy 4: %{customdata[1]}<extra></extra>",
         "legendgroup": "Others (PRH 1)",
         "line": {
          "color": "#FFA15A",
          "dash": "solid"
         },
         "marker": {
          "symbol": "circle"
         },
         "mode": "lines",
         "name": "Others (PRH 1)",
         "showlegend": false,
         "type": "scattergl",
         "x": [
          "2022-01",
          "2022-02",
          "2022-03",
          "2022-04",
          "2022-05",
          "2022-06",
          "2022-07",
          "2022-08",
          "2022-09",
          "2022-10",
          "2022-11",
          "2022-12",
          "2023-01",
          "2023-02",
          "2023-03",
          "2023-04",
          "2023-05",
          "2023-06",
          "2023-07",
          "2023-08",
          "2023-09",
          "2023-10",
          "2023-11",
          "2023-12",
          "2024-01",
          "2024-02",
          "2024-03",
          "2024-04"
         ],
         "xaxis": "x",
         "y": [
          32986.39,
          39220.14,
          74847.56,
          40927.39,
          85050.49,
          64167.47,
          27027.07,
          53708.88,
          73262.1,
          79107.42,
          104099.54,
          122200.7,
          49652.13,
          88128.19,
          119415.26,
          63388.23,
          97079.75,
          110488.27,
          52409.78,
          72659.03,
          104031.35,
          68810.55,
          96405.78,
          95950.6,
          46265.75,
          105776.3,
          100610.3,
          107051.37
         ],
         "yaxis": "y"
        },
        {
         "customdata": [
          [
           "Rebilled Shipping"
          ],
          [
           "Rebilled Shipping"
          ]
         ],
         "hovertemplate": "Month: %{x}<br>Total Order Material Net Value: $%{y}<br>Product Hierarchy 1: %{customdata[0]}<br>Product Hierarchy 4: %{customdata[1]}<extra></extra>",
         "legendgroup": "Others (PRH 1)",
         "line": {
          "color": "#FFA15A",
          "dash": "solid"
         },
         "marker": {
          "symbol": "circle"
         },
         "mode": "lines",
         "name": "Others (PRH 1)",
         "showlegend": false,
         "type": "scattergl",
         "x": [
          "2022-03",
          "2023-04"
         ],
         "xaxis": "x",
         "y": [
          293,
          42
         ],
         "yaxis": "y"
        },
        {
         "customdata": [
          [
           "Abutments, Customizable"
          ],
          [
           "Abutments, Customizable"
          ],
          [
           "Abutments, Customizable"
          ],
          [
           "Abutments, Customizable"
          ],
          [
           "Abutments, Customizable"
          ],
          [
           "Abutments, Customizable"
          ],
          [
           "Abutments, Customizable"
          ],
          [
           "Abutments, Customizable"
          ],
          [
           "Abutments, Customizable"
          ],
          [
           "Abutments, Customizable"
          ],
          [
           "Abutments, Customizable"
          ],
          [
           "Abutments, Customizable"
          ],
          [
           "Abutments, Customizable"
          ],
          [
           "Abutments, Customizable"
          ],
          [
           "Abutments, Customizable"
          ],
          [
           "Abutments, Customizable"
          ],
          [
           "Abutments, Customizable"
          ],
          [
           "Abutments, Customizable"
          ],
          [
           "Abutments, Customizable"
          ],
          [
           "Abutments, Customizable"
          ],
          [
           "Abutments, Customizable"
          ],
          [
           "Abutments, Customizable"
          ],
          [
           "Abutments, Customizable"
          ],
          [
           "Abutments, Customizable"
          ],
          [
           "Abutments, Customizable"
          ],
          [
           "Abutments, Customizable"
          ],
          [
           "Abutments, Customizable"
          ],
          [
           "Abutments, Customizable"
          ]
         ],
         "hovertemplate": "Month: %{x}<br>Total Order Material Net Value: $%{y}<br>Product Hierarchy 1: %{customdata[0]}<br>Product Hierarchy 4: %{customdata[1]}<extra></extra>",
         "legendgroup": "Restorative Solutions",
         "line": {
          "color": "#19d3f3",
          "dash": "solid"
         },
         "marker": {
          "symbol": "circle"
         },
         "mode": "lines",
         "name": "Restorative Solutions",
         "showlegend": true,
         "type": "scattergl",
         "x": [
          "2022-01",
          "2022-02",
          "2022-03",
          "2022-04",
          "2022-05",
          "2022-06",
          "2022-07",
          "2022-08",
          "2022-09",
          "2022-10",
          "2022-11",
          "2022-12",
          "2023-01",
          "2023-02",
          "2023-03",
          "2023-04",
          "2023-05",
          "2023-06",
          "2023-07",
          "2023-08",
          "2023-09",
          "2023-10",
          "2023-11",
          "2023-12",
          "2024-01",
          "2024-02",
          "2024-03",
          "2024-04"
         ],
         "xaxis": "x",
         "y": [
          130240.67,
          127376.26,
          202732.59,
          253612.7,
          275898.35,
          232518.61000000002,
          188865.45,
          219607.12,
          186108.43,
          239719.12,
          301953.35,
          176140.76,
          291987.67,
          303715.11,
          303273.92,
          299485.22,
          461944.35,
          555768.46,
          346788.38,
          362289.9,
          314890.1,
          274369.27,
          288921.54,
          295748.22,
          317075.32,
          384364.88,
          375067.32,
          256060.02
         ],
         "yaxis": "y"
        },
        {
         "customdata": [
          [
           "Abutments, Edentulous"
          ],
          [
           "Abutments, Edentulous"
          ],
          [
           "Abutments, Edentulous"
          ],
          [
           "Abutments, Edentulous"
          ],
          [
           "Abutments, Edentulous"
          ],
          [
           "Abutments, Edentulous"
          ],
          [
           "Abutments, Edentulous"
          ],
          [
           "Abutments, Edentulous"
          ],
          [
           "Abutments, Edentulous"
          ],
          [
           "Abutments, Edentulous"
          ],
          [
           "Abutments, Edentulous"
          ],
          [
           "Abutments, Edentulous"
          ],
          [
           "Abutments, Edentulous"
          ],
          [
           "Abutments, Edentulous"
          ],
          [
           "Abutments, Edentulous"
          ],
          [
           "Abutments, Edentulous"
          ],
          [
           "Abutments, Edentulous"
          ],
          [
           "Abutments, Edentulous"
          ],
          [
           "Abutments, Edentulous"
          ],
          [
           "Abutments, Edentulous"
          ],
          [
           "Abutments, Edentulous"
          ],
          [
           "Abutments, Edentulous"
          ],
          [
           "Abutments, Edentulous"
          ],
          [
           "Abutments, Edentulous"
          ],
          [
           "Abutments, Edentulous"
          ],
          [
           "Abutments, Edentulous"
          ],
          [
           "Abutments, Edentulous"
          ],
          [
           "Abutments, Edentulous"
          ]
         ],
         "hovertemplate": "Month: %{x}<br>Total Order Material Net Value: $%{y}<br>Product Hierarchy 1: %{customdata[0]}<br>Product Hierarchy 4: %{customdata[1]}<extra></extra>",
         "legendgroup": "Restorative Solutions",
         "line": {
          "color": "#19d3f3",
          "dash": "solid"
         },
         "marker": {
          "symbol": "circle"
         },
         "mode": "lines",
         "name": "Restorative Solutions",
         "showlegend": false,
         "type": "scattergl",
         "x": [
          "2022-01",
          "2022-02",
          "2022-03",
          "2022-04",
          "2022-05",
          "2022-06",
          "2022-07",
          "2022-08",
          "2022-09",
          "2022-10",
          "2022-11",
          "2022-12",
          "2023-01",
          "2023-02",
          "2023-03",
          "2023-04",
          "2023-05",
          "2023-06",
          "2023-07",
          "2023-08",
          "2023-09",
          "2023-10",
          "2023-11",
          "2023-12",
          "2024-01",
          "2024-02",
          "2024-03",
          "2024-04"
         ],
         "xaxis": "x",
         "y": [
          752562.59,
          836588.07,
          958806.71,
          776818.52,
          817462.16,
          955209,
          789509.81,
          955482.73,
          870692.25,
          895648.42,
          874290.41,
          804692.14,
          963824.12,
          892441.34,
          994324.42,
          883488.25,
          936673.6,
          927661.5,
          753658.61,
          1030765.74,
          856204.32,
          885539.5,
          835811.21,
          703379.24,
          946127.52,
          932352.4,
          897708.73,
          812350.86
         ],
         "yaxis": "y"
        },
        {
         "customdata": [
          [
           "Abutments, SRA"
          ],
          [
           "Abutments, SRA"
          ],
          [
           "Abutments, SRA"
          ],
          [
           "Abutments, SRA"
          ],
          [
           "Abutments, SRA"
          ],
          [
           "Abutments, SRA"
          ],
          [
           "Abutments, SRA"
          ],
          [
           "Abutments, SRA"
          ],
          [
           "Abutments, SRA"
          ],
          [
           "Abutments, SRA"
          ],
          [
           "Abutments, SRA"
          ],
          [
           "Abutments, SRA"
          ],
          [
           "Abutments, SRA"
          ],
          [
           "Abutments, SRA"
          ],
          [
           "Abutments, SRA"
          ],
          [
           "Abutments, SRA"
          ],
          [
           "Abutments, SRA"
          ],
          [
           "Abutments, SRA"
          ],
          [
           "Abutments, SRA"
          ],
          [
           "Abutments, SRA"
          ],
          [
           "Abutments, SRA"
          ],
          [
           "Abutments, SRA"
          ],
          [
           "Abutments, SRA"
          ],
          [
           "Abutments, SRA"
          ],
          [
           "Abutments, SRA"
          ],
          [
           "Abutments, SRA"
          ],
          [
           "Abutments, SRA"
          ],
          [
           "Abutments, SRA"
          ]
         ],
         "hovertemplate": "Month: %{x}<br>Total Order Material Net Value: $%{y}<br>Product Hierarchy 1: %{customdata[0]}<br>Product Hierarchy 4: %{customdata[1]}<extra></extra>",
         "legendgroup": "Restorative Solutions",
         "line": {
          "color": "#19d3f3",
          "dash": "solid"
         },
         "marker": {
          "symbol": "circle"
         },
         "mode": "lines",
         "name": "Restorative Solutions",
         "showlegend": false,
         "type": "scattergl",
         "x": [
          "2022-01",
          "2022-02",
          "2022-03",
          "2022-04",
          "2022-05",
          "2022-06",
          "2022-07",
          "2022-08",
          "2022-09",
          "2022-10",
          "2022-11",
          "2022-12",
          "2023-01",
          "2023-02",
          "2023-03",
          "2023-04",
          "2023-05",
          "2023-06",
          "2023-07",
          "2023-08",
          "2023-09",
          "2023-10",
          "2023-11",
          "2023-12",
          "2024-01",
          "2024-02",
          "2024-03",
          "2024-04"
         ],
         "xaxis": "x",
         "y": [
          1921979.68,
          1788585.61,
          2358497.5,
          2141302.82,
          2141589.76,
          2271993.71,
          1946776.02,
          2278860.31,
          2314769.32,
          2281168.85,
          2270733.93,
          2070880.78,
          2223510.4,
          2222314.37,
          2546670.45,
          2289536.9,
          2583855.06,
          2504134.69,
          2182128.31,
          2695246.93,
          2358212.12,
          2574527.88,
          2413943.25,
          2154718.51,
          2599638.15,
          2506438.97,
          2763688.21,
          2454889.69
         ],
         "yaxis": "y"
        },
        {
         "customdata": [
          [
           "Abutments, Ti Base"
          ],
          [
           "Abutments, Ti Base"
          ],
          [
           "Abutments, Ti Base"
          ],
          [
           "Abutments, Ti Base"
          ],
          [
           "Abutments, Ti Base"
          ],
          [
           "Abutments, Ti Base"
          ],
          [
           "Abutments, Ti Base"
          ],
          [
           "Abutments, Ti Base"
          ],
          [
           "Abutments, Ti Base"
          ],
          [
           "Abutments, Ti Base"
          ],
          [
           "Abutments, Ti Base"
          ],
          [
           "Abutments, Ti Base"
          ],
          [
           "Abutments, Ti Base"
          ],
          [
           "Abutments, Ti Base"
          ],
          [
           "Abutments, Ti Base"
          ],
          [
           "Abutments, Ti Base"
          ],
          [
           "Abutments, Ti Base"
          ],
          [
           "Abutments, Ti Base"
          ],
          [
           "Abutments, Ti Base"
          ],
          [
           "Abutments, Ti Base"
          ],
          [
           "Abutments, Ti Base"
          ],
          [
           "Abutments, Ti Base"
          ],
          [
           "Abutments, Ti Base"
          ],
          [
           "Abutments, Ti Base"
          ],
          [
           "Abutments, Ti Base"
          ],
          [
           "Abutments, Ti Base"
          ],
          [
           "Abutments, Ti Base"
          ],
          [
           "Abutments, Ti Base"
          ]
         ],
         "hovertemplate": "Month: %{x}<br>Total Order Material Net Value: $%{y}<br>Product Hierarchy 1: %{customdata[0]}<br>Product Hierarchy 4: %{customdata[1]}<extra></extra>",
         "legendgroup": "Restorative Solutions",
         "line": {
          "color": "#19d3f3",
          "dash": "solid"
         },
         "marker": {
          "symbol": "circle"
         },
         "mode": "lines",
         "name": "Restorative Solutions",
         "showlegend": false,
         "type": "scattergl",
         "x": [
          "2022-01",
          "2022-02",
          "2022-03",
          "2022-04",
          "2022-05",
          "2022-06",
          "2022-07",
          "2022-08",
          "2022-09",
          "2022-10",
          "2022-11",
          "2022-12",
          "2023-01",
          "2023-02",
          "2023-03",
          "2023-04",
          "2023-05",
          "2023-06",
          "2023-07",
          "2023-08",
          "2023-09",
          "2023-10",
          "2023-11",
          "2023-12",
          "2024-01",
          "2024-02",
          "2024-03",
          "2024-04"
         ],
         "xaxis": "x",
         "y": [
          1489816.68,
          1479782.17,
          1708450.5,
          1590069.35,
          1584975.76,
          1740022.02,
          1363658.14,
          1658023.49,
          1504265.57,
          1485850.59,
          1489024.6300000001,
          1487069.9,
          1931681.9,
          1809460.06,
          1975010.31,
          1649594.12,
          1921966.81,
          1708982.71,
          1490577.29,
          1789641.27,
          1553315.9,
          1695149.61,
          1562584.79,
          1482363.14,
          1944244.51,
          2002352.15,
          2120761.68,
          1886277.39
         ],
         "yaxis": "y"
        },
        {
         "customdata": [
          [
           "Abutments, single tooth + bridge"
          ],
          [
           "Abutments, single tooth + bridge"
          ],
          [
           "Abutments, single tooth + bridge"
          ],
          [
           "Abutments, single tooth + bridge"
          ],
          [
           "Abutments, single tooth + bridge"
          ],
          [
           "Abutments, single tooth + bridge"
          ],
          [
           "Abutments, single tooth + bridge"
          ],
          [
           "Abutments, single tooth + bridge"
          ],
          [
           "Abutments, single tooth + bridge"
          ],
          [
           "Abutments, single tooth + bridge"
          ],
          [
           "Abutments, single tooth + bridge"
          ],
          [
           "Abutments, single tooth + bridge"
          ],
          [
           "Abutments, single tooth + bridge"
          ],
          [
           "Abutments, single tooth + bridge"
          ],
          [
           "Abutments, single tooth + bridge"
          ],
          [
           "Abutments, single tooth + bridge"
          ],
          [
           "Abutments, single tooth + bridge"
          ],
          [
           "Abutments, single tooth + bridge"
          ],
          [
           "Abutments, single tooth + bridge"
          ],
          [
           "Abutments, single tooth + bridge"
          ],
          [
           "Abutments, single tooth + bridge"
          ],
          [
           "Abutments, single tooth + bridge"
          ],
          [
           "Abutments, single tooth + bridge"
          ],
          [
           "Abutments, single tooth + bridge"
          ],
          [
           "Abutments, single tooth + bridge"
          ],
          [
           "Abutments, single tooth + bridge"
          ],
          [
           "Abutments, single tooth + bridge"
          ],
          [
           "Abutments, single tooth + bridge"
          ]
         ],
         "hovertemplate": "Month: %{x}<br>Total Order Material Net Value: $%{y}<br>Product Hierarchy 1: %{customdata[0]}<br>Product Hierarchy 4: %{customdata[1]}<extra></extra>",
         "legendgroup": "Restorative Solutions",
         "line": {
          "color": "#19d3f3",
          "dash": "solid"
         },
         "marker": {
          "symbol": "circle"
         },
         "mode": "lines",
         "name": "Restorative Solutions",
         "showlegend": false,
         "type": "scattergl",
         "x": [
          "2022-01",
          "2022-02",
          "2022-03",
          "2022-04",
          "2022-05",
          "2022-06",
          "2022-07",
          "2022-08",
          "2022-09",
          "2022-10",
          "2022-11",
          "2022-12",
          "2023-01",
          "2023-02",
          "2023-03",
          "2023-04",
          "2023-05",
          "2023-06",
          "2023-07",
          "2023-08",
          "2023-09",
          "2023-10",
          "2023-11",
          "2023-12",
          "2024-01",
          "2024-02",
          "2024-03",
          "2024-04"
         ],
         "xaxis": "x",
         "y": [
          936854.05,
          953983.23,
          1023373.4,
          954821.71,
          831595.82,
          864318.85,
          740913.14,
          909197.01,
          809307.16,
          734960.11,
          706714.22,
          711348.2,
          964502.99,
          857468.59,
          931935.51,
          750167.87,
          828330.81,
          718647.91,
          678769.76,
          731863.83,
          586717.76,
          666960.47,
          639115.62,
          501210.02,
          756576.55,
          699881.54,
          710386.46,
          597957.16
         ],
         "yaxis": "y"
        },
        {
         "customdata": [
          [
           "Blocks"
          ],
          [
           "Blocks"
          ],
          [
           "Blocks"
          ],
          [
           "Blocks"
          ],
          [
           "Blocks"
          ],
          [
           "Blocks"
          ],
          [
           "Blocks"
          ],
          [
           "Blocks"
          ],
          [
           "Blocks"
          ],
          [
           "Blocks"
          ],
          [
           "Blocks"
          ],
          [
           "Blocks"
          ],
          [
           "Blocks"
          ],
          [
           "Blocks"
          ],
          [
           "Blocks"
          ],
          [
           "Blocks"
          ],
          [
           "Blocks"
          ],
          [
           "Blocks"
          ],
          [
           "Blocks"
          ],
          [
           "Blocks"
          ],
          [
           "Blocks"
          ],
          [
           "Blocks"
          ],
          [
           "Blocks"
          ],
          [
           "Blocks"
          ],
          [
           "Blocks"
          ],
          [
           "Blocks"
          ],
          [
           "Blocks"
          ],
          [
           "Blocks"
          ]
         ],
         "hovertemplate": "Month: %{x}<br>Total Order Material Net Value: $%{y}<br>Product Hierarchy 1: %{customdata[0]}<br>Product Hierarchy 4: %{customdata[1]}<extra></extra>",
         "legendgroup": "Restorative Solutions",
         "line": {
          "color": "#19d3f3",
          "dash": "solid"
         },
         "marker": {
          "symbol": "circle"
         },
         "mode": "lines",
         "name": "Restorative Solutions",
         "showlegend": false,
         "type": "scattergl",
         "x": [
          "2022-01",
          "2022-02",
          "2022-03",
          "2022-04",
          "2022-05",
          "2022-06",
          "2022-07",
          "2022-08",
          "2022-09",
          "2022-10",
          "2022-11",
          "2022-12",
          "2023-01",
          "2023-02",
          "2023-03",
          "2023-04",
          "2023-05",
          "2023-06",
          "2023-07",
          "2023-08",
          "2023-09",
          "2023-10",
          "2023-11",
          "2023-12",
          "2024-01",
          "2024-02",
          "2024-03",
          "2024-04"
         ],
         "xaxis": "x",
         "y": [
          18281.62,
          29051.85,
          27971.64,
          26546.75,
          26165.29,
          39517.37,
          23070.18,
          29867.72,
          25372.99,
          20837.66,
          28777.03,
          24571.8,
          30736.77,
          26549.9,
          33633.29,
          33929.75,
          25831.66,
          26494.94,
          26215.67,
          35575.64,
          34880.27,
          27493.58,
          24103.81,
          22276.71,
          33434.72,
          30790.42,
          33662.73,
          26592.91
         ],
         "yaxis": "y"
        },
        {
         "customdata": [
          [
           "Consumables, Liquids"
          ],
          [
           "Consumables, Liquids"
          ],
          [
           "Consumables, Liquids"
          ],
          [
           "Consumables, Liquids"
          ],
          [
           "Consumables, Liquids"
          ],
          [
           "Consumables, Liquids"
          ],
          [
           "Consumables, Liquids"
          ],
          [
           "Consumables, Liquids"
          ],
          [
           "Consumables, Liquids"
          ],
          [
           "Consumables, Liquids"
          ],
          [
           "Consumables, Liquids"
          ],
          [
           "Consumables, Liquids"
          ],
          [
           "Consumables, Liquids"
          ],
          [
           "Consumables, Liquids"
          ],
          [
           "Consumables, Liquids"
          ],
          [
           "Consumables, Liquids"
          ],
          [
           "Consumables, Liquids"
          ],
          [
           "Consumables, Liquids"
          ],
          [
           "Consumables, Liquids"
          ],
          [
           "Consumables, Liquids"
          ],
          [
           "Consumables, Liquids"
          ],
          [
           "Consumables, Liquids"
          ],
          [
           "Consumables, Liquids"
          ],
          [
           "Consumables, Liquids"
          ],
          [
           "Consumables, Liquids"
          ],
          [
           "Consumables, Liquids"
          ],
          [
           "Consumables, Liquids"
          ],
          [
           "Consumables, Liquids"
          ]
         ],
         "hovertemplate": "Month: %{x}<br>Total Order Material Net Value: $%{y}<br>Product Hierarchy 1: %{customdata[0]}<br>Product Hierarchy 4: %{customdata[1]}<extra></extra>",
         "legendgroup": "Restorative Solutions",
         "line": {
          "color": "#19d3f3",
          "dash": "solid"
         },
         "marker": {
          "symbol": "circle"
         },
         "mode": "lines",
         "name": "Restorative Solutions",
         "showlegend": false,
         "type": "scattergl",
         "x": [
          "2022-01",
          "2022-02",
          "2022-03",
          "2022-04",
          "2022-05",
          "2022-06",
          "2022-07",
          "2022-08",
          "2022-09",
          "2022-10",
          "2022-11",
          "2022-12",
          "2023-01",
          "2023-02",
          "2023-03",
          "2023-04",
          "2023-05",
          "2023-06",
          "2023-07",
          "2023-08",
          "2023-09",
          "2023-10",
          "2023-11",
          "2023-12",
          "2024-01",
          "2024-02",
          "2024-03",
          "2024-04"
         ],
         "xaxis": "x",
         "y": [
          58829.14,
          65681.63,
          82096.83,
          83110.62,
          86800.55,
          85055.83,
          65914.3,
          83613.21,
          91739.17,
          103313.59,
          89201.5,
          102286.81999999999,
          94678.45,
          90059.21,
          115513.41,
          88935.95,
          86860.29,
          86323.85,
          74338.05,
          88808.38,
          105468.26,
          99310.33,
          108915.95,
          116387.31999999999,
          119157.32,
          159867.71,
          158725.21,
          175402.75
         ],
         "yaxis": "y"
        },
        {
         "customdata": [
          [
           "Copings"
          ],
          [
           "Copings"
          ],
          [
           "Copings"
          ],
          [
           "Copings"
          ],
          [
           "Copings"
          ],
          [
           "Copings"
          ],
          [
           "Copings"
          ],
          [
           "Copings"
          ],
          [
           "Copings"
          ],
          [
           "Copings"
          ],
          [
           "Copings"
          ],
          [
           "Copings"
          ],
          [
           "Copings"
          ],
          [
           "Copings"
          ],
          [
           "Copings"
          ],
          [
           "Copings"
          ],
          [
           "Copings"
          ],
          [
           "Copings"
          ],
          [
           "Copings"
          ],
          [
           "Copings"
          ],
          [
           "Copings"
          ],
          [
           "Copings"
          ],
          [
           "Copings"
          ],
          [
           "Copings"
          ],
          [
           "Copings"
          ],
          [
           "Copings"
          ],
          [
           "Copings"
          ],
          [
           "Copings"
          ]
         ],
         "hovertemplate": "Month: %{x}<br>Total Order Material Net Value: $%{y}<br>Product Hierarchy 1: %{customdata[0]}<br>Product Hierarchy 4: %{customdata[1]}<extra></extra>",
         "legendgroup": "Restorative Solutions",
         "line": {
          "color": "#19d3f3",
          "dash": "solid"
         },
         "marker": {
          "symbol": "circle"
         },
         "mode": "lines",
         "name": "Restorative Solutions",
         "showlegend": false,
         "type": "scattergl",
         "x": [
          "2022-01",
          "2022-02",
          "2022-03",
          "2022-04",
          "2022-05",
          "2022-06",
          "2022-07",
          "2022-08",
          "2022-09",
          "2022-10",
          "2022-11",
          "2022-12",
          "2023-01",
          "2023-02",
          "2023-03",
          "2023-04",
          "2023-05",
          "2023-06",
          "2023-07",
          "2023-08",
          "2023-09",
          "2023-10",
          "2023-11",
          "2023-12",
          "2024-01",
          "2024-02",
          "2024-03",
          "2024-04"
         ],
         "xaxis": "x",
         "y": [
          500656.43,
          459426.92,
          533638.89,
          538200.69,
          553139.67,
          586047.02,
          485742.54,
          538716.33,
          538083.76,
          519863.29,
          512391.47,
          489921.57,
          537009.58,
          530111.29,
          589123.88,
          481675.9,
          607054.5,
          491237.79,
          431623.58999999997,
          517604.8,
          461518.35,
          556759.89,
          488596.52999999997,
          430816.73,
          420267.2,
          362464.02999999997,
          432064.21,
          387911.29
         ],
         "yaxis": "y"
        },
        {
         "customdata": [
          [
           "Discs"
          ],
          [
           "Discs"
          ],
          [
           "Discs"
          ],
          [
           "Discs"
          ],
          [
           "Discs"
          ],
          [
           "Discs"
          ],
          [
           "Discs"
          ],
          [
           "Discs"
          ],
          [
           "Discs"
          ],
          [
           "Discs"
          ],
          [
           "Discs"
          ],
          [
           "Discs"
          ],
          [
           "Discs"
          ],
          [
           "Discs"
          ],
          [
           "Discs"
          ],
          [
           "Discs"
          ],
          [
           "Discs"
          ],
          [
           "Discs"
          ],
          [
           "Discs"
          ],
          [
           "Discs"
          ],
          [
           "Discs"
          ],
          [
           "Discs"
          ],
          [
           "Discs"
          ],
          [
           "Discs"
          ],
          [
           "Discs"
          ],
          [
           "Discs"
          ],
          [
           "Discs"
          ],
          [
           "Discs"
          ]
         ],
         "hovertemplate": "Month: %{x}<br>Total Order Material Net Value: $%{y}<br>Product Hierarchy 1: %{customdata[0]}<br>Product Hierarchy 4: %{customdata[1]}<extra></extra>",
         "legendgroup": "Restorative Solutions",
         "line": {
          "color": "#19d3f3",
          "dash": "solid"
         },
         "marker": {
          "symbol": "circle"
         },
         "mode": "lines",
         "name": "Restorative Solutions",
         "showlegend": false,
         "type": "scattergl",
         "x": [
          "2022-01",
          "2022-02",
          "2022-03",
          "2022-04",
          "2022-05",
          "2022-06",
          "2022-07",
          "2022-08",
          "2022-09",
          "2022-10",
          "2022-11",
          "2022-12",
          "2023-01",
          "2023-02",
          "2023-03",
          "2023-04",
          "2023-05",
          "2023-06",
          "2023-07",
          "2023-08",
          "2023-09",
          "2023-10",
          "2023-11",
          "2023-12",
          "2024-01",
          "2024-02",
          "2024-03",
          "2024-04"
         ],
         "xaxis": "x",
         "y": [
          191803.82,
          274784.88,
          302651.77,
          244367.72,
          220229.49,
          206450.61000000002,
          190589.04,
          210639.43,
          251509.92,
          205824.65,
          207573.01,
          207121.96,
          246736.89,
          194819.55,
          189359.46,
          172785.77,
          225366.41,
          218598.17,
          197778.63999999998,
          317827.45,
          213240.38999999998,
          209794.73,
          206159.36,
          189729.71,
          262674.11,
          282301.14,
          202283.16,
          245447.72
         ],
         "yaxis": "y"
        },
        {
         "customdata": [
          [
           "Other Prosthetics"
          ],
          [
           "Other Prosthetics"
          ],
          [
           "Other Prosthetics"
          ],
          [
           "Other Prosthetics"
          ],
          [
           "Other Prosthetics"
          ],
          [
           "Other Prosthetics"
          ],
          [
           "Other Prosthetics"
          ],
          [
           "Other Prosthetics"
          ],
          [
           "Other Prosthetics"
          ],
          [
           "Other Prosthetics"
          ],
          [
           "Other Prosthetics"
          ],
          [
           "Other Prosthetics"
          ],
          [
           "Other Prosthetics"
          ],
          [
           "Other Prosthetics"
          ],
          [
           "Other Prosthetics"
          ],
          [
           "Other Prosthetics"
          ],
          [
           "Other Prosthetics"
          ],
          [
           "Other Prosthetics"
          ],
          [
           "Other Prosthetics"
          ],
          [
           "Other Prosthetics"
          ],
          [
           "Other Prosthetics"
          ],
          [
           "Other Prosthetics"
          ],
          [
           "Other Prosthetics"
          ],
          [
           "Other Prosthetics"
          ],
          [
           "Other Prosthetics"
          ],
          [
           "Other Prosthetics"
          ],
          [
           "Other Prosthetics"
          ],
          [
           "Other Prosthetics"
          ]
         ],
         "hovertemplate": "Month: %{x}<br>Total Order Material Net Value: $%{y}<br>Product Hierarchy 1: %{customdata[0]}<br>Product Hierarchy 4: %{customdata[1]}<extra></extra>",
         "legendgroup": "Restorative Solutions",
         "line": {
          "color": "#19d3f3",
          "dash": "solid"
         },
         "marker": {
          "symbol": "circle"
         },
         "mode": "lines",
         "name": "Restorative Solutions",
         "showlegend": false,
         "type": "scattergl",
         "x": [
          "2022-01",
          "2022-02",
          "2022-03",
          "2022-04",
          "2022-05",
          "2022-06",
          "2022-07",
          "2022-08",
          "2022-09",
          "2022-10",
          "2022-11",
          "2022-12",
          "2023-01",
          "2023-02",
          "2023-03",
          "2023-04",
          "2023-05",
          "2023-06",
          "2023-07",
          "2023-08",
          "2023-09",
          "2023-10",
          "2023-11",
          "2023-12",
          "2024-01",
          "2024-02",
          "2024-03",
          "2024-04"
         ],
         "xaxis": "x",
         "y": [
          3336337.07,
          3112434.75,
          3757458.21,
          3318180.78,
          3528137.19,
          3528867.63,
          3137114.12,
          3551943.29,
          3340141.25,
          3317712.08,
          3243620.54,
          2953428.68,
          4085117.65,
          3528801.86,
          4089912.93,
          3515087.92,
          3769809.71,
          3699274.41,
          3297504.03,
          3718491.4,
          3268615,
          3459203.97,
          3221659.16,
          2849674.71,
          4351775.12,
          4022720.59,
          3937033.44,
          3539590.79
         ],
         "yaxis": "y"
        },
        {
         "customdata": [
          [
           "Other Restorative Solutions"
          ],
          [
           "Other Restorative Solutions"
          ],
          [
           "Other Restorative Solutions"
          ],
          [
           "Other Restorative Solutions"
          ],
          [
           "Other Restorative Solutions"
          ],
          [
           "Other Restorative Solutions"
          ],
          [
           "Other Restorative Solutions"
          ],
          [
           "Other Restorative Solutions"
          ],
          [
           "Other Restorative Solutions"
          ],
          [
           "Other Restorative Solutions"
          ],
          [
           "Other Restorative Solutions"
          ],
          [
           "Other Restorative Solutions"
          ],
          [
           "Other Restorative Solutions"
          ],
          [
           "Other Restorative Solutions"
          ],
          [
           "Other Restorative Solutions"
          ],
          [
           "Other Restorative Solutions"
          ],
          [
           "Other Restorative Solutions"
          ],
          [
           "Other Restorative Solutions"
          ],
          [
           "Other Restorative Solutions"
          ],
          [
           "Other Restorative Solutions"
          ],
          [
           "Other Restorative Solutions"
          ],
          [
           "Other Restorative Solutions"
          ],
          [
           "Other Restorative Solutions"
          ],
          [
           "Other Restorative Solutions"
          ],
          [
           "Other Restorative Solutions"
          ],
          [
           "Other Restorative Solutions"
          ],
          [
           "Other Restorative Solutions"
          ],
          [
           "Other Restorative Solutions"
          ]
         ],
         "hovertemplate": "Month: %{x}<br>Total Order Material Net Value: $%{y}<br>Product Hierarchy 1: %{customdata[0]}<br>Product Hierarchy 4: %{customdata[1]}<extra></extra>",
         "legendgroup": "Restorative Solutions",
         "line": {
          "color": "#19d3f3",
          "dash": "solid"
         },
         "marker": {
          "symbol": "circle"
         },
         "mode": "lines",
         "name": "Restorative Solutions",
         "showlegend": false,
         "type": "scattergl",
         "x": [
          "2022-01",
          "2022-02",
          "2022-03",
          "2022-04",
          "2022-05",
          "2022-06",
          "2022-07",
          "2022-08",
          "2022-09",
          "2022-10",
          "2022-11",
          "2022-12",
          "2023-01",
          "2023-02",
          "2023-03",
          "2023-04",
          "2023-05",
          "2023-06",
          "2023-07",
          "2023-08",
          "2023-09",
          "2023-10",
          "2023-11",
          "2023-12",
          "2024-01",
          "2024-02",
          "2024-03",
          "2024-04"
         ],
         "xaxis": "x",
         "y": [
          441531.39,
          412915.55,
          524611.33,
          463487.99,
          469577.29,
          493617.75,
          449820.55,
          499495.15,
          477088.79,
          507463.87,
          489100.92,
          389893.85,
          507533.6,
          504119.92,
          543966.03,
          484389.03,
          584316.13,
          541439.47,
          458694.21,
          531695.49,
          453688.34,
          522080.2,
          488910.12,
          415989.45,
          495609.51,
          481534.53,
          484034.75,
          443944.89
         ],
         "yaxis": "y"
        },
        {
         "customdata": [
          [
           "SRBB"
          ],
          [
           "SRBB"
          ],
          [
           "SRBB"
          ],
          [
           "SRBB"
          ],
          [
           "SRBB"
          ],
          [
           "SRBB"
          ],
          [
           "SRBB"
          ],
          [
           "SRBB"
          ],
          [
           "SRBB"
          ],
          [
           "SRBB"
          ],
          [
           "SRBB"
          ],
          [
           "SRBB"
          ],
          [
           "SRBB"
          ],
          [
           "SRBB"
          ],
          [
           "SRBB"
          ],
          [
           "SRBB"
          ],
          [
           "SRBB"
          ],
          [
           "SRBB"
          ],
          [
           "SRBB"
          ],
          [
           "SRBB"
          ],
          [
           "SRBB"
          ],
          [
           "SRBB"
          ],
          [
           "SRBB"
          ],
          [
           "SRBB"
          ],
          [
           "SRBB"
          ],
          [
           "SRBB"
          ],
          [
           "SRBB"
          ],
          [
           "SRBB"
          ]
         ],
         "hovertemplate": "Month: %{x}<br>Total Order Material Net Value: $%{y}<br>Product Hierarchy 1: %{customdata[0]}<br>Product Hierarchy 4: %{customdata[1]}<extra></extra>",
         "legendgroup": "Restorative Solutions",
         "line": {
          "color": "#19d3f3",
          "dash": "solid"
         },
         "marker": {
          "symbol": "circle"
         },
         "mode": "lines",
         "name": "Restorative Solutions",
         "showlegend": false,
         "type": "scattergl",
         "x": [
          "2022-01",
          "2022-02",
          "2022-03",
          "2022-04",
          "2022-05",
          "2022-06",
          "2022-07",
          "2022-08",
          "2022-09",
          "2022-10",
          "2022-11",
          "2022-12",
          "2023-01",
          "2023-02",
          "2023-03",
          "2023-04",
          "2023-05",
          "2023-06",
          "2023-07",
          "2023-08",
          "2023-09",
          "2023-10",
          "2023-11",
          "2023-12",
          "2024-01",
          "2024-02",
          "2024-03",
          "2024-04"
         ],
         "xaxis": "x",
         "y": [
          884.95,
          881.82,
          715.37,
          1558.66,
          572.0699999999999,
          837.3199999999999,
          1036.31,
          1585.3,
          1359,
          736.74,
          926.42,
          1767.92,
          1362.07,
          1052.1,
          3331.21,
          2569.55,
          2294.44,
          2641.52,
          373.81,
          1151.24,
          824.31,
          1428.98,
          2422.2599999999998,
          1414.45,
          1016.02,
          1451.4099999999999,
          1475.54,
          1164.27
         ],
         "yaxis": "y"
        },
        {
         "customdata": [
          [
           "Abutments, Customized"
          ],
          [
           "Abutments, Customized"
          ],
          [
           "Abutments, Customized"
          ]
         ],
         "hovertemplate": "Month: %{x}<br>Total Order Material Net Value: $%{y}<br>Product Hierarchy 1: %{customdata[0]}<br>Product Hierarchy 4: %{customdata[1]}<extra></extra>",
         "legendgroup": "Restorative Solutions",
         "line": {
          "color": "#19d3f3",
          "dash": "solid"
         },
         "marker": {
          "symbol": "circle"
         },
         "mode": "lines",
         "name": "Restorative Solutions",
         "showlegend": false,
         "type": "scattergl",
         "x": [
          "2023-08",
          "2024-02",
          "2024-03"
         ],
         "xaxis": "x",
         "y": [
          163.15,
          144,
          7272
         ],
         "yaxis": "y"
        }
       ],
       "layout": {
        "legend": {
         "title": {
          "text": "Product Hierarchy 1"
         },
         "tracegroupgap": 0
        },
        "template": {
         "data": {
          "bar": [
           {
            "error_x": {
             "color": "#2a3f5f"
            },
            "error_y": {
             "color": "#2a3f5f"
            },
            "marker": {
             "line": {
              "color": "#E5ECF6",
              "width": 0.5
             },
             "pattern": {
              "fillmode": "overlay",
              "size": 10,
              "solidity": 0.2
             }
            },
            "type": "bar"
           }
          ],
          "barpolar": [
           {
            "marker": {
             "line": {
              "color": "#E5ECF6",
              "width": 0.5
             },
             "pattern": {
              "fillmode": "overlay",
              "size": 10,
              "solidity": 0.2
             }
            },
            "type": "barpolar"
           }
          ],
          "carpet": [
           {
            "aaxis": {
             "endlinecolor": "#2a3f5f",
             "gridcolor": "white",
             "linecolor": "white",
             "minorgridcolor": "white",
             "startlinecolor": "#2a3f5f"
            },
            "baxis": {
             "endlinecolor": "#2a3f5f",
             "gridcolor": "white",
             "linecolor": "white",
             "minorgridcolor": "white",
             "startlinecolor": "#2a3f5f"
            },
            "type": "carpet"
           }
          ],
          "choropleth": [
           {
            "colorbar": {
             "outlinewidth": 0,
             "ticks": ""
            },
            "type": "choropleth"
           }
          ],
          "contour": [
           {
            "colorbar": {
             "outlinewidth": 0,
             "ticks": ""
            },
            "colorscale": [
             [
              0,
              "#0d0887"
             ],
             [
              0.1111111111111111,
              "#46039f"
             ],
             [
              0.2222222222222222,
              "#7201a8"
             ],
             [
              0.3333333333333333,
              "#9c179e"
             ],
             [
              0.4444444444444444,
              "#bd3786"
             ],
             [
              0.5555555555555556,
              "#d8576b"
             ],
             [
              0.6666666666666666,
              "#ed7953"
             ],
             [
              0.7777777777777778,
              "#fb9f3a"
             ],
             [
              0.8888888888888888,
              "#fdca26"
             ],
             [
              1,
              "#f0f921"
             ]
            ],
            "type": "contour"
           }
          ],
          "contourcarpet": [
           {
            "colorbar": {
             "outlinewidth": 0,
             "ticks": ""
            },
            "type": "contourcarpet"
           }
          ],
          "heatmap": [
           {
            "colorbar": {
             "outlinewidth": 0,
             "ticks": ""
            },
            "colorscale": [
             [
              0,
              "#0d0887"
             ],
             [
              0.1111111111111111,
              "#46039f"
             ],
             [
              0.2222222222222222,
              "#7201a8"
             ],
             [
              0.3333333333333333,
              "#9c179e"
             ],
             [
              0.4444444444444444,
              "#bd3786"
             ],
             [
              0.5555555555555556,
              "#d8576b"
             ],
             [
              0.6666666666666666,
              "#ed7953"
             ],
             [
              0.7777777777777778,
              "#fb9f3a"
             ],
             [
              0.8888888888888888,
              "#fdca26"
             ],
             [
              1,
              "#f0f921"
             ]
            ],
            "type": "heatmap"
           }
          ],
          "heatmapgl": [
           {
            "colorbar": {
             "outlinewidth": 0,
             "ticks": ""
            },
            "colorscale": [
             [
              0,
              "#0d0887"
             ],
             [
              0.1111111111111111,
              "#46039f"
             ],
             [
              0.2222222222222222,
              "#7201a8"
             ],
             [
              0.3333333333333333,
              "#9c179e"
             ],
             [
              0.4444444444444444,
              "#bd3786"
             ],
             [
              0.5555555555555556,
              "#d8576b"
             ],
             [
              0.6666666666666666,
              "#ed7953"
             ],
             [
              0.7777777777777778,
              "#fb9f3a"
             ],
             [
              0.8888888888888888,
              "#fdca26"
             ],
             [
              1,
              "#f0f921"
             ]
            ],
            "type": "heatmapgl"
           }
          ],
          "histogram": [
           {
            "marker": {
             "pattern": {
              "fillmode": "overlay",
              "size": 10,
              "solidity": 0.2
             }
            },
            "type": "histogram"
           }
          ],
          "histogram2d": [
           {
            "colorbar": {
             "outlinewidth": 0,
             "ticks": ""
            },
            "colorscale": [
             [
              0,
              "#0d0887"
             ],
             [
              0.1111111111111111,
              "#46039f"
             ],
             [
              0.2222222222222222,
              "#7201a8"
             ],
             [
              0.3333333333333333,
              "#9c179e"
             ],
             [
              0.4444444444444444,
              "#bd3786"
             ],
             [
              0.5555555555555556,
              "#d8576b"
             ],
             [
              0.6666666666666666,
              "#ed7953"
             ],
             [
              0.7777777777777778,
              "#fb9f3a"
             ],
             [
              0.8888888888888888,
              "#fdca26"
             ],
             [
              1,
              "#f0f921"
             ]
            ],
            "type": "histogram2d"
           }
          ],
          "histogram2dcontour": [
           {
            "colorbar": {
             "outlinewidth": 0,
             "ticks": ""
            },
            "colorscale": [
             [
              0,
              "#0d0887"
             ],
             [
              0.1111111111111111,
              "#46039f"
             ],
             [
              0.2222222222222222,
              "#7201a8"
             ],
             [
              0.3333333333333333,
              "#9c179e"
             ],
             [
              0.4444444444444444,
              "#bd3786"
             ],
             [
              0.5555555555555556,
              "#d8576b"
             ],
             [
              0.6666666666666666,
              "#ed7953"
             ],
             [
              0.7777777777777778,
              "#fb9f3a"
             ],
             [
              0.8888888888888888,
              "#fdca26"
             ],
             [
              1,
              "#f0f921"
             ]
            ],
            "type": "histogram2dcontour"
           }
          ],
          "mesh3d": [
           {
            "colorbar": {
             "outlinewidth": 0,
             "ticks": ""
            },
            "type": "mesh3d"
           }
          ],
          "parcoords": [
           {
            "line": {
             "colorbar": {
              "outlinewidth": 0,
              "ticks": ""
             }
            },
            "type": "parcoords"
           }
          ],
          "pie": [
           {
            "automargin": true,
            "type": "pie"
           }
          ],
          "scatter": [
           {
            "fillpattern": {
             "fillmode": "overlay",
             "size": 10,
             "solidity": 0.2
            },
            "type": "scatter"
           }
          ],
          "scatter3d": [
           {
            "line": {
             "colorbar": {
              "outlinewidth": 0,
              "ticks": ""
             }
            },
            "marker": {
             "colorbar": {
              "outlinewidth": 0,
              "ticks": ""
             }
            },
            "type": "scatter3d"
           }
          ],
          "scattercarpet": [
           {
            "marker": {
             "colorbar": {
              "outlinewidth": 0,
              "ticks": ""
             }
            },
            "type": "scattercarpet"
           }
          ],
          "scattergeo": [
           {
            "marker": {
             "colorbar": {
              "outlinewidth": 0,
              "ticks": ""
             }
            },
            "type": "scattergeo"
           }
          ],
          "scattergl": [
           {
            "marker": {
             "colorbar": {
              "outlinewidth": 0,
              "ticks": ""
             }
            },
            "type": "scattergl"
           }
          ],
          "scattermapbox": [
           {
            "marker": {
             "colorbar": {
              "outlinewidth": 0,
              "ticks": ""
             }
            },
            "type": "scattermapbox"
           }
          ],
          "scatterpolar": [
           {
            "marker": {
             "colorbar": {
              "outlinewidth": 0,
              "ticks": ""
             }
            },
            "type": "scatterpolar"
           }
          ],
          "scatterpolargl": [
           {
            "marker": {
             "colorbar": {
              "outlinewidth": 0,
              "ticks": ""
             }
            },
            "type": "scatterpolargl"
           }
          ],
          "scatterternary": [
           {
            "marker": {
             "colorbar": {
              "outlinewidth": 0,
              "ticks": ""
             }
            },
            "type": "scatterternary"
           }
          ],
          "surface": [
           {
            "colorbar": {
             "outlinewidth": 0,
             "ticks": ""
            },
            "colorscale": [
             [
              0,
              "#0d0887"
             ],
             [
              0.1111111111111111,
              "#46039f"
             ],
             [
              0.2222222222222222,
              "#7201a8"
             ],
             [
              0.3333333333333333,
              "#9c179e"
             ],
             [
              0.4444444444444444,
              "#bd3786"
             ],
             [
              0.5555555555555556,
              "#d8576b"
             ],
             [
              0.6666666666666666,
              "#ed7953"
             ],
             [
              0.7777777777777778,
              "#fb9f3a"
             ],
             [
              0.8888888888888888,
              "#fdca26"
             ],
             [
              1,
              "#f0f921"
             ]
            ],
            "type": "surface"
           }
          ],
          "table": [
           {
            "cells": {
             "fill": {
              "color": "#EBF0F8"
             },
             "line": {
              "color": "white"
             }
            },
            "header": {
             "fill": {
              "color": "#C8D4E3"
             },
             "line": {
              "color": "white"
             }
            },
            "type": "table"
           }
          ]
         },
         "layout": {
          "annotationdefaults": {
           "arrowcolor": "#2a3f5f",
           "arrowhead": 0,
           "arrowwidth": 1
          },
          "autotypenumbers": "strict",
          "coloraxis": {
           "colorbar": {
            "outlinewidth": 0,
            "ticks": ""
           }
          },
          "colorscale": {
           "diverging": [
            [
             0,
             "#8e0152"
            ],
            [
             0.1,
             "#c51b7d"
            ],
            [
             0.2,
             "#de77ae"
            ],
            [
             0.3,
             "#f1b6da"
            ],
            [
             0.4,
             "#fde0ef"
            ],
            [
             0.5,
             "#f7f7f7"
            ],
            [
             0.6,
             "#e6f5d0"
            ],
            [
             0.7,
             "#b8e186"
            ],
            [
             0.8,
             "#7fbc41"
            ],
            [
             0.9,
             "#4d9221"
            ],
            [
             1,
             "#276419"
            ]
           ],
           "sequential": [
            [
             0,
             "#0d0887"
            ],
            [
             0.1111111111111111,
             "#46039f"
            ],
            [
             0.2222222222222222,
             "#7201a8"
            ],
            [
             0.3333333333333333,
             "#9c179e"
            ],
            [
             0.4444444444444444,
             "#bd3786"
            ],
            [
             0.5555555555555556,
             "#d8576b"
            ],
            [
             0.6666666666666666,
             "#ed7953"
            ],
            [
             0.7777777777777778,
             "#fb9f3a"
            ],
            [
             0.8888888888888888,
             "#fdca26"
            ],
            [
             1,
             "#f0f921"
            ]
           ],
           "sequentialminus": [
            [
             0,
             "#0d0887"
            ],
            [
             0.1111111111111111,
             "#46039f"
            ],
            [
             0.2222222222222222,
             "#7201a8"
            ],
            [
             0.3333333333333333,
             "#9c179e"
            ],
            [
             0.4444444444444444,
             "#bd3786"
            ],
            [
             0.5555555555555556,
             "#d8576b"
            ],
            [
             0.6666666666666666,
             "#ed7953"
            ],
            [
             0.7777777777777778,
             "#fb9f3a"
            ],
            [
             0.8888888888888888,
             "#fdca26"
            ],
            [
             1,
             "#f0f921"
            ]
           ]
          },
          "colorway": [
           "#636efa",
           "#EF553B",
           "#00cc96",
           "#ab63fa",
           "#FFA15A",
           "#19d3f3",
           "#FF6692",
           "#B6E880",
           "#FF97FF",
           "#FECB52"
          ],
          "font": {
           "color": "#2a3f5f"
          },
          "geo": {
           "bgcolor": "white",
           "lakecolor": "white",
           "landcolor": "#E5ECF6",
           "showlakes": true,
           "showland": true,
           "subunitcolor": "white"
          },
          "hoverlabel": {
           "align": "left"
          },
          "hovermode": "closest",
          "mapbox": {
           "style": "light"
          },
          "paper_bgcolor": "white",
          "plot_bgcolor": "#E5ECF6",
          "polar": {
           "angularaxis": {
            "gridcolor": "white",
            "linecolor": "white",
            "ticks": ""
           },
           "bgcolor": "#E5ECF6",
           "radialaxis": {
            "gridcolor": "white",
            "linecolor": "white",
            "ticks": ""
           }
          },
          "scene": {
           "xaxis": {
            "backgroundcolor": "#E5ECF6",
            "gridcolor": "white",
            "gridwidth": 2,
            "linecolor": "white",
            "showbackground": true,
            "ticks": "",
            "zerolinecolor": "white"
           },
           "yaxis": {
            "backgroundcolor": "#E5ECF6",
            "gridcolor": "white",
            "gridwidth": 2,
            "linecolor": "white",
            "showbackground": true,
            "ticks": "",
            "zerolinecolor": "white"
           },
           "zaxis": {
            "backgroundcolor": "#E5ECF6",
            "gridcolor": "white",
            "gridwidth": 2,
            "linecolor": "white",
            "showbackground": true,
            "ticks": "",
            "zerolinecolor": "white"
           }
          },
          "shapedefaults": {
           "line": {
            "color": "#2a3f5f"
           }
          },
          "ternary": {
           "aaxis": {
            "gridcolor": "white",
            "linecolor": "white",
            "ticks": ""
           },
           "baxis": {
            "gridcolor": "white",
            "linecolor": "white",
            "ticks": ""
           },
           "bgcolor": "#E5ECF6",
           "caxis": {
            "gridcolor": "white",
            "linecolor": "white",
            "ticks": ""
           }
          },
          "title": {
           "x": 0.05
          },
          "xaxis": {
           "automargin": true,
           "gridcolor": "white",
           "linecolor": "white",
           "ticks": "",
           "title": {
            "standoff": 15
           },
           "zerolinecolor": "white",
           "zerolinewidth": 2
          },
          "yaxis": {
           "automargin": true,
           "gridcolor": "white",
           "linecolor": "white",
           "ticks": "",
           "title": {
            "standoff": 15
           },
           "zerolinecolor": "white",
           "zerolinewidth": 2
          }
         }
        },
        "title": {
         "text": "Monthly Sales Trends for Product Hierarchies"
        },
        "xaxis": {
         "anchor": "y",
         "domain": [
          0,
          1
         ],
         "title": {
          "text": "Month"
         }
        },
        "yaxis": {
         "anchor": "x",
         "domain": [
          0,
          1
         ],
         "title": {
          "text": "Total Order Material Net Value ($)"
         }
        }
       }
      }
     },
     "metadata": {},
     "output_type": "display_data"
    }
   ],
   "source": [
    "import plotly.express as px\n",
    "\n",
    "# Extract month and year from order_date\n",
    "combined_df['Month'] = combined_df['order_date'].dt.to_period('M').astype(str)\n",
    "\n",
    "# Calculate monthly sales for each product hierarchy (PRH1 and PRH4)\n",
    "monthly_sales = combined_df.groupby(['Month', 'PRH1', 'PRH4'])['order_material_net_value'].sum().reset_index()\n",
    "\n",
    "# Create an interactive line chart for sales trends\n",
    "fig = px.line(monthly_sales, x='Month', y='order_material_net_value', color='PRH1', line_group='PRH4', \n",
    "              title='Monthly Sales Trends for Product Hierarchies',\n",
    "              labels={'order_material_net_value': 'Total Order Material Net Value', 'Month': 'Month'},\n",
    "              hover_data={'PRH4': True})\n",
    "\n",
    "# Customize hover data\n",
    "fig.update_traces(hovertemplate='Month: %{x}<br>Total Order Material Net Value: $%{y}<br>Product Hierarchy 1: %{customdata[0]}<br>Product Hierarchy 4: %{customdata[1]}<extra></extra>')\n",
    "\n",
    "# Adjust layout for readability\n",
    "fig.update_layout(xaxis_title='Month',\n",
    "                  yaxis_title='Total Order Material Net Value ($)',\n",
    "                  legend_title='Product Hierarchy 1')\n",
    "\n",
    "fig.show()\n"
   ]
  },
  {
   "cell_type": "code",
   "execution_count": 38,
   "metadata": {},
   "outputs": [
    {
     "data": {
      "application/vnd.plotly.v1+json": {
       "config": {
        "plotlyServerURL": "https://plot.ly"
       },
       "data": [
        {
         "alignmentgroup": "True",
         "hovertemplate": "Product Hierarchy 1: %{x}<br>Customer Group: %{trace.name}<br>Total Order Material Net Value: $%{y}<extra></extra>",
         "legendgroup": "Employee",
         "marker": {
          "color": "#636efa",
          "pattern": {
           "shape": ""
          }
         },
         "name": "Employee",
         "offsetgroup": "Employee",
         "orientation": "v",
         "showlegend": true,
         "textposition": "auto",
         "type": "bar",
         "x": [
          "Biomaterials",
          "Digital Enablers",
          "Implant Solutions"
         ],
         "xaxis": "x",
         "y": [
          425,
          3050,
          456
         ],
         "yaxis": "y"
        },
        {
         "alignmentgroup": "True",
         "hovertemplate": "Product Hierarchy 1: %{x}<br>Customer Group: %{trace.name}<br>Total Order Material Net Value: $%{y}<extra></extra>",
         "legendgroup": "General dentist",
         "marker": {
          "color": "#EF553B",
          "pattern": {
           "shape": ""
          }
         },
         "name": "General dentist",
         "offsetgroup": "General dentist",
         "orientation": "v",
         "showlegend": true,
         "textposition": "auto",
         "type": "bar",
         "x": [
          "Biomaterials",
          "Digital Enablers",
          "Implant Solutions",
          "Not assigned",
          "Orthodontics",
          "Others (PRH 1)",
          "Restorative Solutions"
         ],
         "xaxis": "x",
         "y": [
          29309285.76,
          52647661.69,
          314828660.1,
          175653.02000000002,
          1555.6,
          10319999.57,
          138195751.99
         ],
         "yaxis": "y"
        },
        {
         "alignmentgroup": "True",
         "hovertemplate": "Product Hierarchy 1: %{x}<br>Customer Group: %{trace.name}<br>Total Order Material Net Value: $%{y}<extra></extra>",
         "legendgroup": "Government/Military",
         "marker": {
          "color": "#00cc96",
          "pattern": {
           "shape": ""
          }
         },
         "name": "Government/Military",
         "offsetgroup": "Government/Military",
         "orientation": "v",
         "showlegend": true,
         "textposition": "auto",
         "type": "bar",
         "x": [
          "Biomaterials",
          "Digital Enablers",
          "Implant Solutions",
          "Others (PRH 1)",
          "Restorative Solutions"
         ],
         "xaxis": "x",
         "y": [
          231068.58000000002,
          12522,
          201705.29,
          36201.89,
          53336.25
         ],
         "yaxis": "y"
        },
        {
         "alignmentgroup": "True",
         "hovertemplate": "Product Hierarchy 1: %{x}<br>Customer Group: %{trace.name}<br>Total Order Material Net Value: $%{y}<extra></extra>",
         "legendgroup": "Hospital/Clinic",
         "marker": {
          "color": "#ab63fa",
          "pattern": {
           "shape": ""
          }
         },
         "name": "Hospital/Clinic",
         "offsetgroup": "Hospital/Clinic",
         "orientation": "v",
         "showlegend": true,
         "textposition": "auto",
         "type": "bar",
         "x": [
          "Biomaterials",
          "Digital Enablers",
          "Implant Solutions",
          "Others (PRH 1)",
          "Restorative Solutions"
         ],
         "xaxis": "x",
         "y": [
          365216.61,
          301884.17,
          4502665.34,
          182304.48,
          982175.18
         ],
         "yaxis": "y"
        },
        {
         "alignmentgroup": "True",
         "hovertemplate": "Product Hierarchy 1: %{x}<br>Customer Group: %{trace.name}<br>Total Order Material Net Value: $%{y}<extra></extra>",
         "legendgroup": "In-house Laboratory",
         "marker": {
          "color": "#FFA15A",
          "pattern": {
           "shape": ""
          }
         },
         "name": "In-house Laboratory",
         "offsetgroup": "In-house Laboratory",
         "orientation": "v",
         "showlegend": true,
         "textposition": "auto",
         "type": "bar",
         "x": [
          "Biomaterials",
          "Digital Enablers",
          "Implant Solutions",
          "Not assigned",
          "Others (PRH 1)",
          "Restorative Solutions"
         ],
         "xaxis": "x",
         "y": [
          1100.62,
          1142438.68,
          272269.18,
          954,
          3954.9500000000003,
          2498666.69
         ],
         "yaxis": "y"
        },
        {
         "alignmentgroup": "True",
         "hovertemplate": "Product Hierarchy 1: %{x}<br>Customer Group: %{trace.name}<br>Total Order Material Net Value: $%{y}<extra></extra>",
         "legendgroup": "Institution",
         "marker": {
          "color": "#19d3f3",
          "pattern": {
           "shape": ""
          }
         },
         "name": "Institution",
         "offsetgroup": "Institution",
         "orientation": "v",
         "showlegend": true,
         "textposition": "auto",
         "type": "bar",
         "x": [
          "Biomaterials",
          "Implant Solutions",
          "Restorative Solutions"
         ],
         "xaxis": "x",
         "y": [
          12509,
          6463.93,
          849.29
         ],
         "yaxis": "y"
        },
        {
         "alignmentgroup": "True",
         "hovertemplate": "Product Hierarchy 1: %{x}<br>Customer Group: %{trace.name}<br>Total Order Material Net Value: $%{y}<extra></extra>",
         "legendgroup": "Laboratory",
         "marker": {
          "color": "#FF6692",
          "pattern": {
           "shape": ""
          }
         },
         "name": "Laboratory",
         "offsetgroup": "Laboratory",
         "orientation": "v",
         "showlegend": true,
         "textposition": "auto",
         "type": "bar",
         "x": [
          "Biomaterials",
          "Digital Enablers",
          "Implant Solutions",
          "Not assigned",
          "Others (PRH 1)",
          "Restorative Solutions"
         ],
         "xaxis": "x",
         "y": [
          203565.63,
          10163947.31,
          5747827.55,
          71732.73,
          237264.93,
          82082902.62
         ],
         "yaxis": "y"
        },
        {
         "alignmentgroup": "True",
         "hovertemplate": "Product Hierarchy 1: %{x}<br>Customer Group: %{trace.name}<br>Total Order Material Net Value: $%{y}<extra></extra>",
         "legendgroup": "Maxillofacial surg",
         "marker": {
          "color": "#B6E880",
          "pattern": {
           "shape": ""
          }
         },
         "name": "Maxillofacial surg",
         "offsetgroup": "Maxillofacial surg",
         "orientation": "v",
         "showlegend": true,
         "textposition": "auto",
         "type": "bar",
         "x": [
          "Biomaterials",
          "Digital Enablers",
          "Implant Solutions",
          "Not assigned",
          "Others (PRH 1)",
          "Restorative Solutions"
         ],
         "xaxis": "x",
         "y": [
          709343.99,
          525837.9,
          10123670.75,
          872.54,
          171431.67,
          978146.3
         ],
         "yaxis": "y"
        },
        {
         "alignmentgroup": "True",
         "hovertemplate": "Product Hierarchy 1: %{x}<br>Customer Group: %{trace.name}<br>Total Order Material Net Value: $%{y}<extra></extra>",
         "legendgroup": "NOT MAPPED",
         "marker": {
          "color": "#FF97FF",
          "pattern": {
           "shape": ""
          }
         },
         "name": "NOT MAPPED",
         "offsetgroup": "NOT MAPPED",
         "orientation": "v",
         "showlegend": true,
         "textposition": "auto",
         "type": "bar",
         "x": [
          "Biomaterials",
          "Digital Enablers",
          "Implant Solutions",
          "Not assigned",
          "Others (PRH 1)",
          "Restorative Solutions"
         ],
         "xaxis": "x",
         "y": [
          505822.58,
          61795.020000000004,
          5834467.67,
          352,
          66145.06,
          2432942.32
         ],
         "yaxis": "y"
        },
        {
         "alignmentgroup": "True",
         "hovertemplate": "Product Hierarchy 1: %{x}<br>Customer Group: %{trace.name}<br>Total Order Material Net Value: $%{y}<extra></extra>",
         "legendgroup": "Orthodontist",
         "marker": {
          "color": "#FECB52",
          "pattern": {
           "shape": ""
          }
         },
         "name": "Orthodontist",
         "offsetgroup": "Orthodontist",
         "orientation": "v",
         "showlegend": true,
         "textposition": "auto",
         "type": "bar",
         "x": [
          "Biomaterials",
          "Digital Enablers",
          "Implant Solutions",
          "Not assigned",
          "Others (PRH 1)",
          "Restorative Solutions"
         ],
         "xaxis": "x",
         "y": [
          684479.29,
          2067085.33,
          3156384.13,
          773.96,
          112341.47,
          1287674.9
         ],
         "yaxis": "y"
        },
        {
         "alignmentgroup": "True",
         "hovertemplate": "Product Hierarchy 1: %{x}<br>Customer Group: %{trace.name}<br>Total Order Material Net Value: $%{y}<extra></extra>",
         "legendgroup": "Others",
         "marker": {
          "color": "#636efa",
          "pattern": {
           "shape": ""
          }
         },
         "name": "Others",
         "offsetgroup": "Others",
         "orientation": "v",
         "showlegend": true,
         "textposition": "auto",
         "type": "bar",
         "x": [
          "Biomaterials",
          "Digital Enablers",
          "Implant Solutions",
          "Others (PRH 1)",
          "Restorative Solutions"
         ],
         "xaxis": "x",
         "y": [
          204190.27,
          203684.48,
          2154039.4,
          48915.19,
          881397.67
         ],
         "yaxis": "y"
        },
        {
         "alignmentgroup": "True",
         "hovertemplate": "Product Hierarchy 1: %{x}<br>Customer Group: %{trace.name}<br>Total Order Material Net Value: $%{y}<extra></extra>",
         "legendgroup": "Periodontist",
         "marker": {
          "color": "#EF553B",
          "pattern": {
           "shape": ""
          }
         },
         "name": "Periodontist",
         "offsetgroup": "Periodontist",
         "orientation": "v",
         "showlegend": true,
         "textposition": "auto",
         "type": "bar",
         "x": [
          "Biomaterials",
          "Digital Enablers",
          "Implant Solutions",
          "Not assigned",
          "Orthodontics",
          "Others (PRH 1)",
          "Restorative Solutions"
         ],
         "xaxis": "x",
         "y": [
          23257331.49,
          5654308.5,
          185006985.47,
          2365.62,
          181.89,
          1804193.01,
          19962473.86
         ],
         "yaxis": "y"
        },
        {
         "alignmentgroup": "True",
         "hovertemplate": "Product Hierarchy 1: %{x}<br>Customer Group: %{trace.name}<br>Total Order Material Net Value: $%{y}<extra></extra>",
         "legendgroup": "Prosthodontist",
         "marker": {
          "color": "#00cc96",
          "pattern": {
           "shape": ""
          }
         },
         "name": "Prosthodontist",
         "offsetgroup": "Prosthodontist",
         "orientation": "v",
         "showlegend": true,
         "textposition": "auto",
         "type": "bar",
         "x": [
          "Biomaterials",
          "Digital Enablers",
          "Implant Solutions",
          "Not assigned",
          "Others (PRH 1)",
          "Restorative Solutions"
         ],
         "xaxis": "x",
         "y": [
          820193.91,
          3056826.77,
          10340474.11,
          12059.65,
          191770.61000000002,
          9439558.22
         ],
         "yaxis": "y"
        },
        {
         "alignmentgroup": "True",
         "hovertemplate": "Product Hierarchy 1: %{x}<br>Customer Group: %{trace.name}<br>Total Order Material Net Value: $%{y}<extra></extra>",
         "legendgroup": "Surgeon (gen./oral)",
         "marker": {
          "color": "#ab63fa",
          "pattern": {
           "shape": ""
          }
         },
         "name": "Surgeon (gen./oral)",
         "offsetgroup": "Surgeon (gen./oral)",
         "orientation": "v",
         "showlegend": true,
         "textposition": "auto",
         "type": "bar",
         "x": [
          "Biomaterials",
          "Digital Enablers",
          "Implant Solutions",
          "Not assigned",
          "Others (PRH 1)",
          "Restorative Solutions"
         ],
         "xaxis": "x",
         "y": [
          18698445.82,
          8220678.22,
          269640707.05,
          4099.04,
          1830765.89,
          29783220.72
         ],
         "yaxis": "y"
        },
        {
         "alignmentgroup": "True",
         "hovertemplate": "Product Hierarchy 1: %{x}<br>Customer Group: %{trace.name}<br>Total Order Material Net Value: $%{y}<extra></extra>",
         "legendgroup": "University",
         "marker": {
          "color": "#FFA15A",
          "pattern": {
           "shape": ""
          }
         },
         "name": "University",
         "offsetgroup": "University",
         "orientation": "v",
         "showlegend": true,
         "textposition": "auto",
         "type": "bar",
         "x": [
          "Biomaterials",
          "Digital Enablers",
          "Implant Solutions",
          "Not assigned",
          "Others (PRH 1)",
          "Restorative Solutions"
         ],
         "xaxis": "x",
         "y": [
          2731529.5,
          1986583.4,
          27172506.54,
          1720.62,
          323280.95,
          11583931.89
         ],
         "yaxis": "y"
        },
        {
         "alignmentgroup": "True",
         "hovertemplate": "Product Hierarchy 1: %{x}<br>Customer Group: %{trace.name}<br>Total Order Material Net Value: $%{y}<extra></extra>",
         "legendgroup": "Distributor/Reseller",
         "marker": {
          "color": "#19d3f3",
          "pattern": {
           "shape": ""
          }
         },
         "name": "Distributor/Reseller",
         "offsetgroup": "Distributor/Reseller",
         "orientation": "v",
         "showlegend": true,
         "textposition": "auto",
         "type": "bar",
         "x": [
          "Digital Enablers",
          "Restorative Solutions"
         ],
         "xaxis": "x",
         "y": [
          236408.12,
          348318.63
         ],
         "yaxis": "y"
        },
        {
         "alignmentgroup": "True",
         "hovertemplate": "Product Hierarchy 1: %{x}<br>Customer Group: %{trace.name}<br>Total Order Material Net Value: $%{y}<extra></extra>",
         "legendgroup": "Staff",
         "marker": {
          "color": "#FF6692",
          "pattern": {
           "shape": ""
          }
         },
         "name": "Staff",
         "offsetgroup": "Staff",
         "orientation": "v",
         "showlegend": true,
         "textposition": "auto",
         "type": "bar",
         "x": [
          "Digital Enablers",
          "Implant Solutions",
          "Not assigned",
          "Others (PRH 1)",
          "Restorative Solutions"
         ],
         "xaxis": "x",
         "y": [
          31082.2,
          82969.25,
          4540.19,
          4094.3300000000004,
          11145.32
         ],
         "yaxis": "y"
        },
        {
         "alignmentgroup": "True",
         "hovertemplate": "Product Hierarchy 1: %{x}<br>Customer Group: %{trace.name}<br>Total Order Material Net Value: $%{y}<extra></extra>",
         "legendgroup": "Central services",
         "marker": {
          "color": "#B6E880",
          "pattern": {
           "shape": ""
          }
         },
         "name": "Central services",
         "offsetgroup": "Central services",
         "orientation": "v",
         "showlegend": true,
         "textposition": "auto",
         "type": "bar",
         "x": [
          "Implant Solutions",
          "Restorative Solutions"
         ],
         "xaxis": "x",
         "y": [
          9698.4,
          1224.5
         ],
         "yaxis": "y"
        },
        {
         "alignmentgroup": "True",
         "hovertemplate": "Product Hierarchy 1: %{x}<br>Customer Group: %{trace.name}<br>Total Order Material Net Value: $%{y}<extra></extra>",
         "legendgroup": "Denturist",
         "marker": {
          "color": "#FF97FF",
          "pattern": {
           "shape": ""
          }
         },
         "name": "Denturist",
         "offsetgroup": "Denturist",
         "orientation": "v",
         "showlegend": true,
         "textposition": "auto",
         "type": "bar",
         "x": [
          "Implant Solutions",
          "Restorative Solutions"
         ],
         "xaxis": "x",
         "y": [
          298.93,
          17454.66
         ],
         "yaxis": "y"
        }
       ],
       "layout": {
        "barmode": "group",
        "legend": {
         "title": {
          "text": "Customer Group"
         },
         "tracegroupgap": 0
        },
        "template": {
         "data": {
          "bar": [
           {
            "error_x": {
             "color": "#2a3f5f"
            },
            "error_y": {
             "color": "#2a3f5f"
            },
            "marker": {
             "line": {
              "color": "#E5ECF6",
              "width": 0.5
             },
             "pattern": {
              "fillmode": "overlay",
              "size": 10,
              "solidity": 0.2
             }
            },
            "type": "bar"
           }
          ],
          "barpolar": [
           {
            "marker": {
             "line": {
              "color": "#E5ECF6",
              "width": 0.5
             },
             "pattern": {
              "fillmode": "overlay",
              "size": 10,
              "solidity": 0.2
             }
            },
            "type": "barpolar"
           }
          ],
          "carpet": [
           {
            "aaxis": {
             "endlinecolor": "#2a3f5f",
             "gridcolor": "white",
             "linecolor": "white",
             "minorgridcolor": "white",
             "startlinecolor": "#2a3f5f"
            },
            "baxis": {
             "endlinecolor": "#2a3f5f",
             "gridcolor": "white",
             "linecolor": "white",
             "minorgridcolor": "white",
             "startlinecolor": "#2a3f5f"
            },
            "type": "carpet"
           }
          ],
          "choropleth": [
           {
            "colorbar": {
             "outlinewidth": 0,
             "ticks": ""
            },
            "type": "choropleth"
           }
          ],
          "contour": [
           {
            "colorbar": {
             "outlinewidth": 0,
             "ticks": ""
            },
            "colorscale": [
             [
              0,
              "#0d0887"
             ],
             [
              0.1111111111111111,
              "#46039f"
             ],
             [
              0.2222222222222222,
              "#7201a8"
             ],
             [
              0.3333333333333333,
              "#9c179e"
             ],
             [
              0.4444444444444444,
              "#bd3786"
             ],
             [
              0.5555555555555556,
              "#d8576b"
             ],
             [
              0.6666666666666666,
              "#ed7953"
             ],
             [
              0.7777777777777778,
              "#fb9f3a"
             ],
             [
              0.8888888888888888,
              "#fdca26"
             ],
             [
              1,
              "#f0f921"
             ]
            ],
            "type": "contour"
           }
          ],
          "contourcarpet": [
           {
            "colorbar": {
             "outlinewidth": 0,
             "ticks": ""
            },
            "type": "contourcarpet"
           }
          ],
          "heatmap": [
           {
            "colorbar": {
             "outlinewidth": 0,
             "ticks": ""
            },
            "colorscale": [
             [
              0,
              "#0d0887"
             ],
             [
              0.1111111111111111,
              "#46039f"
             ],
             [
              0.2222222222222222,
              "#7201a8"
             ],
             [
              0.3333333333333333,
              "#9c179e"
             ],
             [
              0.4444444444444444,
              "#bd3786"
             ],
             [
              0.5555555555555556,
              "#d8576b"
             ],
             [
              0.6666666666666666,
              "#ed7953"
             ],
             [
              0.7777777777777778,
              "#fb9f3a"
             ],
             [
              0.8888888888888888,
              "#fdca26"
             ],
             [
              1,
              "#f0f921"
             ]
            ],
            "type": "heatmap"
           }
          ],
          "heatmapgl": [
           {
            "colorbar": {
             "outlinewidth": 0,
             "ticks": ""
            },
            "colorscale": [
             [
              0,
              "#0d0887"
             ],
             [
              0.1111111111111111,
              "#46039f"
             ],
             [
              0.2222222222222222,
              "#7201a8"
             ],
             [
              0.3333333333333333,
              "#9c179e"
             ],
             [
              0.4444444444444444,
              "#bd3786"
             ],
             [
              0.5555555555555556,
              "#d8576b"
             ],
             [
              0.6666666666666666,
              "#ed7953"
             ],
             [
              0.7777777777777778,
              "#fb9f3a"
             ],
             [
              0.8888888888888888,
              "#fdca26"
             ],
             [
              1,
              "#f0f921"
             ]
            ],
            "type": "heatmapgl"
           }
          ],
          "histogram": [
           {
            "marker": {
             "pattern": {
              "fillmode": "overlay",
              "size": 10,
              "solidity": 0.2
             }
            },
            "type": "histogram"
           }
          ],
          "histogram2d": [
           {
            "colorbar": {
             "outlinewidth": 0,
             "ticks": ""
            },
            "colorscale": [
             [
              0,
              "#0d0887"
             ],
             [
              0.1111111111111111,
              "#46039f"
             ],
             [
              0.2222222222222222,
              "#7201a8"
             ],
             [
              0.3333333333333333,
              "#9c179e"
             ],
             [
              0.4444444444444444,
              "#bd3786"
             ],
             [
              0.5555555555555556,
              "#d8576b"
             ],
             [
              0.6666666666666666,
              "#ed7953"
             ],
             [
              0.7777777777777778,
              "#fb9f3a"
             ],
             [
              0.8888888888888888,
              "#fdca26"
             ],
             [
              1,
              "#f0f921"
             ]
            ],
            "type": "histogram2d"
           }
          ],
          "histogram2dcontour": [
           {
            "colorbar": {
             "outlinewidth": 0,
             "ticks": ""
            },
            "colorscale": [
             [
              0,
              "#0d0887"
             ],
             [
              0.1111111111111111,
              "#46039f"
             ],
             [
              0.2222222222222222,
              "#7201a8"
             ],
             [
              0.3333333333333333,
              "#9c179e"
             ],
             [
              0.4444444444444444,
              "#bd3786"
             ],
             [
              0.5555555555555556,
              "#d8576b"
             ],
             [
              0.6666666666666666,
              "#ed7953"
             ],
             [
              0.7777777777777778,
              "#fb9f3a"
             ],
             [
              0.8888888888888888,
              "#fdca26"
             ],
             [
              1,
              "#f0f921"
             ]
            ],
            "type": "histogram2dcontour"
           }
          ],
          "mesh3d": [
           {
            "colorbar": {
             "outlinewidth": 0,
             "ticks": ""
            },
            "type": "mesh3d"
           }
          ],
          "parcoords": [
           {
            "line": {
             "colorbar": {
              "outlinewidth": 0,
              "ticks": ""
             }
            },
            "type": "parcoords"
           }
          ],
          "pie": [
           {
            "automargin": true,
            "type": "pie"
           }
          ],
          "scatter": [
           {
            "fillpattern": {
             "fillmode": "overlay",
             "size": 10,
             "solidity": 0.2
            },
            "type": "scatter"
           }
          ],
          "scatter3d": [
           {
            "line": {
             "colorbar": {
              "outlinewidth": 0,
              "ticks": ""
             }
            },
            "marker": {
             "colorbar": {
              "outlinewidth": 0,
              "ticks": ""
             }
            },
            "type": "scatter3d"
           }
          ],
          "scattercarpet": [
           {
            "marker": {
             "colorbar": {
              "outlinewidth": 0,
              "ticks": ""
             }
            },
            "type": "scattercarpet"
           }
          ],
          "scattergeo": [
           {
            "marker": {
             "colorbar": {
              "outlinewidth": 0,
              "ticks": ""
             }
            },
            "type": "scattergeo"
           }
          ],
          "scattergl": [
           {
            "marker": {
             "colorbar": {
              "outlinewidth": 0,
              "ticks": ""
             }
            },
            "type": "scattergl"
           }
          ],
          "scattermapbox": [
           {
            "marker": {
             "colorbar": {
              "outlinewidth": 0,
              "ticks": ""
             }
            },
            "type": "scattermapbox"
           }
          ],
          "scatterpolar": [
           {
            "marker": {
             "colorbar": {
              "outlinewidth": 0,
              "ticks": ""
             }
            },
            "type": "scatterpolar"
           }
          ],
          "scatterpolargl": [
           {
            "marker": {
             "colorbar": {
              "outlinewidth": 0,
              "ticks": ""
             }
            },
            "type": "scatterpolargl"
           }
          ],
          "scatterternary": [
           {
            "marker": {
             "colorbar": {
              "outlinewidth": 0,
              "ticks": ""
             }
            },
            "type": "scatterternary"
           }
          ],
          "surface": [
           {
            "colorbar": {
             "outlinewidth": 0,
             "ticks": ""
            },
            "colorscale": [
             [
              0,
              "#0d0887"
             ],
             [
              0.1111111111111111,
              "#46039f"
             ],
             [
              0.2222222222222222,
              "#7201a8"
             ],
             [
              0.3333333333333333,
              "#9c179e"
             ],
             [
              0.4444444444444444,
              "#bd3786"
             ],
             [
              0.5555555555555556,
              "#d8576b"
             ],
             [
              0.6666666666666666,
              "#ed7953"
             ],
             [
              0.7777777777777778,
              "#fb9f3a"
             ],
             [
              0.8888888888888888,
              "#fdca26"
             ],
             [
              1,
              "#f0f921"
             ]
            ],
            "type": "surface"
           }
          ],
          "table": [
           {
            "cells": {
             "fill": {
              "color": "#EBF0F8"
             },
             "line": {
              "color": "white"
             }
            },
            "header": {
             "fill": {
              "color": "#C8D4E3"
             },
             "line": {
              "color": "white"
             }
            },
            "type": "table"
           }
          ]
         },
         "layout": {
          "annotationdefaults": {
           "arrowcolor": "#2a3f5f",
           "arrowhead": 0,
           "arrowwidth": 1
          },
          "autotypenumbers": "strict",
          "coloraxis": {
           "colorbar": {
            "outlinewidth": 0,
            "ticks": ""
           }
          },
          "colorscale": {
           "diverging": [
            [
             0,
             "#8e0152"
            ],
            [
             0.1,
             "#c51b7d"
            ],
            [
             0.2,
             "#de77ae"
            ],
            [
             0.3,
             "#f1b6da"
            ],
            [
             0.4,
             "#fde0ef"
            ],
            [
             0.5,
             "#f7f7f7"
            ],
            [
             0.6,
             "#e6f5d0"
            ],
            [
             0.7,
             "#b8e186"
            ],
            [
             0.8,
             "#7fbc41"
            ],
            [
             0.9,
             "#4d9221"
            ],
            [
             1,
             "#276419"
            ]
           ],
           "sequential": [
            [
             0,
             "#0d0887"
            ],
            [
             0.1111111111111111,
             "#46039f"
            ],
            [
             0.2222222222222222,
             "#7201a8"
            ],
            [
             0.3333333333333333,
             "#9c179e"
            ],
            [
             0.4444444444444444,
             "#bd3786"
            ],
            [
             0.5555555555555556,
             "#d8576b"
            ],
            [
             0.6666666666666666,
             "#ed7953"
            ],
            [
             0.7777777777777778,
             "#fb9f3a"
            ],
            [
             0.8888888888888888,
             "#fdca26"
            ],
            [
             1,
             "#f0f921"
            ]
           ],
           "sequentialminus": [
            [
             0,
             "#0d0887"
            ],
            [
             0.1111111111111111,
             "#46039f"
            ],
            [
             0.2222222222222222,
             "#7201a8"
            ],
            [
             0.3333333333333333,
             "#9c179e"
            ],
            [
             0.4444444444444444,
             "#bd3786"
            ],
            [
             0.5555555555555556,
             "#d8576b"
            ],
            [
             0.6666666666666666,
             "#ed7953"
            ],
            [
             0.7777777777777778,
             "#fb9f3a"
            ],
            [
             0.8888888888888888,
             "#fdca26"
            ],
            [
             1,
             "#f0f921"
            ]
           ]
          },
          "colorway": [
           "#636efa",
           "#EF553B",
           "#00cc96",
           "#ab63fa",
           "#FFA15A",
           "#19d3f3",
           "#FF6692",
           "#B6E880",
           "#FF97FF",
           "#FECB52"
          ],
          "font": {
           "color": "#2a3f5f"
          },
          "geo": {
           "bgcolor": "white",
           "lakecolor": "white",
           "landcolor": "#E5ECF6",
           "showlakes": true,
           "showland": true,
           "subunitcolor": "white"
          },
          "hoverlabel": {
           "align": "left"
          },
          "hovermode": "closest",
          "mapbox": {
           "style": "light"
          },
          "paper_bgcolor": "white",
          "plot_bgcolor": "#E5ECF6",
          "polar": {
           "angularaxis": {
            "gridcolor": "white",
            "linecolor": "white",
            "ticks": ""
           },
           "bgcolor": "#E5ECF6",
           "radialaxis": {
            "gridcolor": "white",
            "linecolor": "white",
            "ticks": ""
           }
          },
          "scene": {
           "xaxis": {
            "backgroundcolor": "#E5ECF6",
            "gridcolor": "white",
            "gridwidth": 2,
            "linecolor": "white",
            "showbackground": true,
            "ticks": "",
            "zerolinecolor": "white"
           },
           "yaxis": {
            "backgroundcolor": "#E5ECF6",
            "gridcolor": "white",
            "gridwidth": 2,
            "linecolor": "white",
            "showbackground": true,
            "ticks": "",
            "zerolinecolor": "white"
           },
           "zaxis": {
            "backgroundcolor": "#E5ECF6",
            "gridcolor": "white",
            "gridwidth": 2,
            "linecolor": "white",
            "showbackground": true,
            "ticks": "",
            "zerolinecolor": "white"
           }
          },
          "shapedefaults": {
           "line": {
            "color": "#2a3f5f"
           }
          },
          "ternary": {
           "aaxis": {
            "gridcolor": "white",
            "linecolor": "white",
            "ticks": ""
           },
           "baxis": {
            "gridcolor": "white",
            "linecolor": "white",
            "ticks": ""
           },
           "bgcolor": "#E5ECF6",
           "caxis": {
            "gridcolor": "white",
            "linecolor": "white",
            "ticks": ""
           }
          },
          "title": {
           "x": 0.05
          },
          "xaxis": {
           "automargin": true,
           "gridcolor": "white",
           "linecolor": "white",
           "ticks": "",
           "title": {
            "standoff": 15
           },
           "zerolinecolor": "white",
           "zerolinewidth": 2
          },
          "yaxis": {
           "automargin": true,
           "gridcolor": "white",
           "linecolor": "white",
           "ticks": "",
           "title": {
            "standoff": 15
           },
           "zerolinecolor": "white",
           "zerolinewidth": 2
          }
         }
        },
        "title": {
         "text": "Total Sales Distribution for Product Hierarchies and Customer Groups"
        },
        "xaxis": {
         "anchor": "y",
         "domain": [
          0,
          1
         ],
         "title": {
          "text": "Product Hierarchy 1"
         }
        },
        "yaxis": {
         "anchor": "x",
         "domain": [
          0,
          1
         ],
         "title": {
          "text": "Total Order Material Net Value ($)"
         }
        }
       }
      }
     },
     "metadata": {},
     "output_type": "display_data"
    }
   ],
   "source": [
    "import plotly.express as px\n",
    "\n",
    "# Calculate total 'order_material_net_value' for each combination of PRH1 and customer_group\n",
    "sales_distribution = combined_df.groupby(['PRH1', 'customer_group'])['order_material_net_value'].sum().reset_index()\n",
    "\n",
    "# Create an interactive bar chart for sales distribution\n",
    "fig = px.bar(sales_distribution, x='PRH1', y='order_material_net_value', color='customer_group',\n",
    "             title='Total Sales Distribution for Product Hierarchies and Customer Groups',\n",
    "             labels={'order_material_net_value': 'Total Order Material Net Value', 'PRH1': 'Product Hierarchy 1'})\n",
    "\n",
    "# Customize hover data\n",
    "fig.update_traces(hovertemplate='Product Hierarchy 1: %{x}<br>Customer Group: %{trace.name}<br>Total Order Material Net Value: $%{y}<extra></extra>')\n",
    "\n",
    "# Adjust layout for readability\n",
    "fig.update_layout(xaxis_title='Product Hierarchy 1',\n",
    "                  yaxis_title='Total Order Material Net Value ($)',\n",
    "                  legend_title='Customer Group',\n",
    "                  barmode='group')\n",
    "\n",
    "fig.show()\n"
   ]
  },
  {
   "cell_type": "markdown",
   "metadata": {},
   "source": [
    "Feature Engineering...."
   ]
  },
  {
   "cell_type": "code",
   "execution_count": 39,
   "metadata": {},
   "outputs": [
    {
     "name": "stdout",
     "output_type": "stream",
     "text": [
      "     customer_group                   PRH1                             PRH4  \\\n",
      "0  Central services      Implant Solutions              BL Healing Surgical   \n",
      "1  Central services      Implant Solutions  BLAT TiZr Implants, hydrophilic   \n",
      "2  Central services      Implant Solutions      Instruments, Cases + Others   \n",
      "3  Central services      Implant Solutions       Instruments, Drills + Taps   \n",
      "4  Central services  Restorative Solutions                   Abutments, SRA   \n",
      "\n",
      "   total_value    avg_value  order_count  \n",
      "0       653.92   326.960000            2  \n",
      "1      6176.08  1235.216000            5  \n",
      "2       548.09    54.809000           10  \n",
      "3      2320.31   128.906111           18  \n",
      "4       405.84   202.920000            2  \n"
     ]
    }
   ],
   "source": [
    "# Aggregate data by customer group and product category (PRH4)\n",
    "customer_product_data = combined_df.groupby(['customer_group', 'PRH1', 'PRH4']).agg({\n",
    "    'order_material_net_value': ['sum', 'mean', 'count']\n",
    "}).reset_index()\n",
    "\n",
    "# Flatten the MultiIndex columns\n",
    "customer_product_data.columns = ['customer_group', 'PRH1', 'PRH4', 'total_value', 'avg_value', 'order_count']\n",
    "\n",
    "# Display the aggregated data\n",
    "print(customer_product_data.head())\n"
   ]
  },
  {
   "cell_type": "markdown",
   "metadata": {},
   "source": [
    "clustering...."
   ]
  },
  {
   "cell_type": "code",
   "execution_count": 40,
   "metadata": {},
   "outputs": [
    {
     "data": {
      "image/png": "[encoded data removed]",
      "text/plain": [
       "<Figure size 640x480 with 1 Axes>"
      ]
     },
     "metadata": {},
     "output_type": "display_data"
    },
    {
     "name": "stdout",
     "output_type": "stream",
     "text": [
      "     customer_group                   PRH1                             PRH4  \\\n",
      "0  Central services      Implant Solutions              BL Healing Surgical   \n",
      "1  Central services      Implant Solutions  BLAT TiZr Implants, hydrophilic   \n",
      "2  Central services      Implant Solutions      Instruments, Cases + Others   \n",
      "3  Central services      Implant Solutions       Instruments, Drills + Taps   \n",
      "4  Central services  Restorative Solutions                   Abutments, SRA   \n",
      "\n",
      "   total_value    avg_value  order_count  cluster  \n",
      "0       653.92   326.960000            2        0  \n",
      "1      6176.08  1235.216000            5        0  \n",
      "2       548.09    54.809000           10        0  \n",
      "3      2320.31   128.906111           18        0  \n",
      "4       405.84   202.920000            2        0  \n"
     ]
    }
   ],
   "source": [
    "from sklearn.cluster import KMeans\n",
    "import matplotlib.pyplot as plt\n",
    "\n",
    "# Select features for clustering\n",
    "clustering_features = customer_product_data[['total_value', 'avg_value', 'order_count']]\n",
    "\n",
    "# Apply K-Means clustering\n",
    "kmeans = KMeans(n_clusters=5, random_state=42)\n",
    "customer_product_data['cluster'] = kmeans.fit_predict(clustering_features)\n",
    "\n",
    "# Visualize the clusters\n",
    "plt.scatter(customer_product_data['total_value'], customer_product_data['order_count'], c=customer_product_data['cluster'], cmap='viridis')\n",
    "plt.xlabel('Total Order Value')\n",
    "plt.ylabel('Order Count')\n",
    "plt.title('Customer Segments')\n",
    "plt.show()\n",
    "\n",
    "# Display the first few rows with cluster labels\n",
    "print(customer_product_data.head())\n"
   ]
  },
  {
   "cell_type": "markdown",
   "metadata": {},
   "source": [
    "Association Rule Mining (Market-Basket Analysis)....."
   ]
  },
  {
   "cell_type": "code",
   "execution_count": 41,
   "metadata": {},
   "outputs": [
    {
     "name": "stdout",
     "output_type": "stream",
     "text": [
      "PRH4                  Abutments, Customizable  Abutments, Customized  \\\n",
      "customer_group                                                         \n",
      "Central services                            0                      0   \n",
      "Denturist                                   0                      0   \n",
      "Distributor/Reseller                        0                      0   \n",
      "Employee                                    0                      0   \n",
      "General dentist                             1                      1   \n",
      "\n",
      "PRH4                  Abutments, Edentulous  Abutments, SRA  \\\n",
      "customer_group                                                \n",
      "Central services                          0               1   \n",
      "Denturist                                 1               1   \n",
      "Distributor/Reseller                      0               0   \n",
      "Employee                                  0               0   \n",
      "General dentist                           1               1   \n",
      "\n",
      "PRH4                  Abutments, Ti Base  Abutments, single tooth + bridge  \\\n",
      "customer_group                                                               \n",
      "Central services                       0                                 0   \n",
      "Denturist                              1                                 0   \n",
      "Distributor/Reseller                   1                                 0   \n",
      "Employee                               0                                 0   \n",
      "General dentist                        1                                 1   \n",
      "\n",
      "PRH4                  Allogenic Bone Substitutes  \\\n",
      "customer_group                                     \n",
      "Central services                               0   \n",
      "Denturist                                      0   \n",
      "Distributor/Reseller                           0   \n",
      "Employee                                       0   \n",
      "General dentist                                1   \n",
      "\n",
      "PRH4                  Allogenic Soft Tissue Grafts  BL Healing Surgical  \\\n",
      "customer_group                                                            \n",
      "Central services                                 0                    1   \n",
      "Denturist                                        0                    0   \n",
      "Distributor/Reseller                             0                    0   \n",
      "Employee                                         1                    0   \n",
      "General dentist                                  1                    1   \n",
      "\n",
      "PRH4                  BLAT Ti Implants, hydrophilic  ...  TL Healing Surgical  \\\n",
      "customer_group                                       ...                        \n",
      "Central services                                  0  ...                    0   \n",
      "Denturist                                         0  ...                    0   \n",
      "Distributor/Reseller                              0  ...                    0   \n",
      "Employee                                          0  ...                    0   \n",
      "General dentist                                   1  ...                    1   \n",
      "\n",
      "PRH4                  TLAT Ti Implants, hydrophilic  \\\n",
      "customer_group                                        \n",
      "Central services                                  0   \n",
      "Denturist                                         0   \n",
      "Distributor/Reseller                              0   \n",
      "Employee                                          0   \n",
      "General dentist                                   1   \n",
      "\n",
      "PRH4                  TLAT TiZr Implants, hydrophilic TF  \\\n",
      "customer_group                                             \n",
      "Central services                                       0   \n",
      "Denturist                                              0   \n",
      "Distributor/Reseller                                   0   \n",
      "Employee                                               0   \n",
      "General dentist                                        1   \n",
      "\n",
      "PRH4                  TLFT TiZr Implants, hydrophilic TF  \\\n",
      "customer_group                                             \n",
      "Central services                                       0   \n",
      "Denturist                                              0   \n",
      "Distributor/Reseller                                   0   \n",
      "Employee                                               0   \n",
      "General dentist                                        1   \n",
      "\n",
      "PRH4                  TLFT TiZr Implants, standard TF  \\\n",
      "customer_group                                          \n",
      "Central services                                    0   \n",
      "Denturist                                           0   \n",
      "Distributor/Reseller                                0   \n",
      "Employee                                            0   \n",
      "General dentist                                     1   \n",
      "\n",
      "PRH4                  TLPW Ti Implants, standard  \\\n",
      "customer_group                                     \n",
      "Central services                               0   \n",
      "Denturist                                      0   \n",
      "Distributor/Reseller                           0   \n",
      "Employee                                       0   \n",
      "General dentist                                1   \n",
      "\n",
      "PRH4                  TLPW TiZr Implants, hydrophilic  \\\n",
      "customer_group                                          \n",
      "Central services                                    0   \n",
      "Denturist                                           0   \n",
      "Distributor/Reseller                                0   \n",
      "Employee                                            0   \n",
      "General dentist                                     1   \n",
      "\n",
      "PRH4                  TLPW TiZr Implants, standard  \\\n",
      "customer_group                                       \n",
      "Central services                                 0   \n",
      "Denturist                                        0   \n",
      "Distributor/Reseller                             0   \n",
      "Employee                                         0   \n",
      "General dentist                                  1   \n",
      "\n",
      "PRH4                  Xenogenic Bone Substitutes  Zygomatic Implants  \n",
      "customer_group                                                        \n",
      "Central services                               0                   0  \n",
      "Denturist                                      0                   0  \n",
      "Distributor/Reseller                           0                   0  \n",
      "Employee                                       0                   0  \n",
      "General dentist                                1                   1  \n",
      "\n",
      "[5 rows x 67 columns]\n"
     ]
    },
    {
     "name": "stderr",
     "output_type": "stream",
     "text": [
      "/var/folders/ml/1sknl6qj14l1s_km288t5qr00000gp/T/ipykernel_33346/181955100.py:8: FutureWarning:\n",
      "\n",
      "DataFrame.applymap has been deprecated. Use DataFrame.map instead.\n",
      "\n"
     ]
    }
   ],
   "source": [
    "# Prepare data for market-basket analysis\n",
    "basket = (combined_df\n",
    "          .groupby(['customer_group', 'PRH4'])['order_number']\n",
    "          .count().unstack().reset_index().fillna(0)\n",
    "          .set_index('customer_group'))\n",
    "\n",
    "# Convert values to binary (0 or 1)\n",
    "basket = basket.applymap(lambda x: 1 if x > 0 else 0)\n",
    "\n",
    "# Display the prepared basket data\n",
    "print(basket.head())\n"
   ]
  },
  {
   "cell_type": "markdown",
   "metadata": {},
   "source": [
    "Apriori algo...."
   ]
  },
  {
   "cell_type": "code",
   "execution_count": 42,
   "metadata": {},
   "outputs": [
    {
     "name": "stdout",
     "output_type": "stream",
     "text": [
      "Frequent Itemsets:\n",
      " {frozenset({'Abutments, SRA'}): 0.8947368421052632, frozenset({'BL Healing Surgical'}): 0.8421052631578947, frozenset({'BLAT TiZr Implants, hydrophilic'}): 0.7894736842105263, frozenset({'Copings'}): 0.7894736842105263, frozenset({'Instruments, Cases + Others'}): 0.9473684210526315, frozenset({'Instruments, Drills + Taps'}): 0.8421052631578947, frozenset({'Other Prosthetics'}): 0.8947368421052632, frozenset({'Abutments, SRA', 'BL Healing Surgical'}): 0.8421052631578947, frozenset({'Abutments, SRA', 'BLAT TiZr Implants, hydrophilic'}): 0.7894736842105263, frozenset({'Abutments, SRA', 'Copings'}): 0.7894736842105263, frozenset({'Abutments, SRA', 'Instruments, Cases + Others'}): 0.8947368421052632, frozenset({'Abutments, SRA', 'Instruments, Drills + Taps'}): 0.8421052631578947, frozenset({'Abutments, SRA', 'Other Prosthetics'}): 0.8947368421052632, frozenset({'BL Healing Surgical', 'BLAT TiZr Implants, hydrophilic'}): 0.7894736842105263, frozenset({'BL Healing Surgical', 'Copings'}): 0.7894736842105263, frozenset({'BL Healing Surgical', 'Instruments, Cases + Others'}): 0.8421052631578947, frozenset({'BL Healing Surgical', 'Instruments, Drills + Taps'}): 0.8421052631578947, frozenset({'Other Prosthetics', 'BL Healing Surgical'}): 0.8421052631578947, frozenset({'Copings', 'BLAT TiZr Implants, hydrophilic'}): 0.7894736842105263, frozenset({'Instruments, Cases + Others', 'BLAT TiZr Implants, hydrophilic'}): 0.7894736842105263, frozenset({'Instruments, Drills + Taps', 'BLAT TiZr Implants, hydrophilic'}): 0.7894736842105263, frozenset({'Other Prosthetics', 'BLAT TiZr Implants, hydrophilic'}): 0.7894736842105263, frozenset({'Instruments, Cases + Others', 'Copings'}): 0.7894736842105263, frozenset({'Instruments, Drills + Taps', 'Copings'}): 0.7894736842105263, frozenset({'Other Prosthetics', 'Copings'}): 0.7894736842105263, frozenset({'Instruments, Drills + Taps', 'Instruments, Cases + Others'}): 0.8421052631578947, frozenset({'Other Prosthetics', 'Instruments, Cases + Others'}): 0.8947368421052632, frozenset({'Other Prosthetics', 'Instruments, Drills + Taps'}): 0.8421052631578947, frozenset({'Abutments, SRA', 'BL Healing Surgical', 'BLAT TiZr Implants, hydrophilic'}): 0.7894736842105263, frozenset({'Abutments, SRA', 'BL Healing Surgical', 'Copings'}): 0.7894736842105263, frozenset({'Abutments, SRA', 'BL Healing Surgical', 'Instruments, Cases + Others'}): 0.8421052631578947, frozenset({'Abutments, SRA', 'BL Healing Surgical', 'Instruments, Drills + Taps'}): 0.8421052631578947, frozenset({'Abutments, SRA', 'Other Prosthetics', 'BL Healing Surgical'}): 0.8421052631578947, frozenset({'Abutments, SRA', 'Copings', 'BLAT TiZr Implants, hydrophilic'}): 0.7894736842105263, frozenset({'Abutments, SRA', 'Instruments, Cases + Others', 'BLAT TiZr Implants, hydrophilic'}): 0.7894736842105263, frozenset({'Abutments, SRA', 'Instruments, Drills + Taps', 'BLAT TiZr Implants, hydrophilic'}): 0.7894736842105263, frozenset({'Abutments, SRA', 'Other Prosthetics', 'BLAT TiZr Implants, hydrophilic'}): 0.7894736842105263, frozenset({'Abutments, SRA', 'Instruments, Cases + Others', 'Copings'}): 0.7894736842105263, frozenset({'Abutments, SRA', 'Instruments, Drills + Taps', 'Copings'}): 0.7894736842105263, frozenset({'Abutments, SRA', 'Other Prosthetics', 'Copings'}): 0.7894736842105263, frozenset({'Instruments, Drills + Taps', 'Abutments, SRA', 'Instruments, Cases + Others'}): 0.8421052631578947, frozenset({'Abutments, SRA', 'Other Prosthetics', 'Instruments, Cases + Others'}): 0.8947368421052632, frozenset({'Abutments, SRA', 'Other Prosthetics', 'Instruments, Drills + Taps'}): 0.8421052631578947, frozenset({'Copings', 'BL Healing Surgical', 'BLAT TiZr Implants, hydrophilic'}): 0.7894736842105263, frozenset({'BL Healing Surgical', 'Instruments, Cases + Others', 'BLAT TiZr Implants, hydrophilic'}): 0.7894736842105263, frozenset({'BL Healing Surgical', 'Instruments, Drills + Taps', 'BLAT TiZr Implants, hydrophilic'}): 0.7894736842105263, frozenset({'Other Prosthetics', 'BL Healing Surgical', 'BLAT TiZr Implants, hydrophilic'}): 0.7894736842105263, frozenset({'BL Healing Surgical', 'Instruments, Cases + Others', 'Copings'}): 0.7894736842105263, frozenset({'BL Healing Surgical', 'Instruments, Drills + Taps', 'Copings'}): 0.7894736842105263, frozenset({'Other Prosthetics', 'BL Healing Surgical', 'Copings'}): 0.7894736842105263, frozenset({'Instruments, Drills + Taps', 'BL Healing Surgical', 'Instruments, Cases + Others'}): 0.8421052631578947, frozenset({'Other Prosthetics', 'BL Healing Surgical', 'Instruments, Cases + Others'}): 0.8421052631578947, frozenset({'Other Prosthetics', 'BL Healing Surgical', 'Instruments, Drills + Taps'}): 0.8421052631578947, frozenset({'Copings', 'Instruments, Cases + Others', 'BLAT TiZr Implants, hydrophilic'}): 0.7894736842105263, frozenset({'Copings', 'Instruments, Drills + Taps', 'BLAT TiZr Implants, hydrophilic'}): 0.7894736842105263, frozenset({'Other Prosthetics', 'Copings', 'BLAT TiZr Implants, hydrophilic'}): 0.7894736842105263, frozenset({'Instruments, Drills + Taps', 'Instruments, Cases + Others', 'BLAT TiZr Implants, hydrophilic'}): 0.7894736842105263, frozenset({'Other Prosthetics', 'Instruments, Cases + Others', 'BLAT TiZr Implants, hydrophilic'}): 0.7894736842105263, frozenset({'Other Prosthetics', 'Instruments, Drills + Taps', 'BLAT TiZr Implants, hydrophilic'}): 0.7894736842105263, frozenset({'Instruments, Drills + Taps', 'Instruments, Cases + Others', 'Copings'}): 0.7894736842105263, frozenset({'Other Prosthetics', 'Instruments, Cases + Others', 'Copings'}): 0.7894736842105263, frozenset({'Other Prosthetics', 'Instruments, Drills + Taps', 'Copings'}): 0.7894736842105263, frozenset({'Instruments, Drills + Taps', 'Other Prosthetics', 'Instruments, Cases + Others'}): 0.8421052631578947, frozenset({'Abutments, SRA', 'Copings', 'BL Healing Surgical', 'BLAT TiZr Implants, hydrophilic'}): 0.7894736842105263, frozenset({'Abutments, SRA', 'BL Healing Surgical', 'Instruments, Cases + Others', 'BLAT TiZr Implants, hydrophilic'}): 0.7894736842105263, frozenset({'Abutments, SRA', 'BL Healing Surgical', 'Instruments, Drills + Taps', 'BLAT TiZr Implants, hydrophilic'}): 0.7894736842105263, frozenset({'Abutments, SRA', 'Other Prosthetics', 'BL Healing Surgical', 'BLAT TiZr Implants, hydrophilic'}): 0.7894736842105263, frozenset({'Abutments, SRA', 'BL Healing Surgical', 'Instruments, Cases + Others', 'Copings'}): 0.7894736842105263, frozenset({'Abutments, SRA', 'BL Healing Surgical', 'Instruments, Drills + Taps', 'Copings'}): 0.7894736842105263, frozenset({'Abutments, SRA', 'Other Prosthetics', 'BL Healing Surgical', 'Copings'}): 0.7894736842105263, frozenset({'Instruments, Drills + Taps', 'Abutments, SRA', 'BL Healing Surgical', 'Instruments, Cases + Others'}): 0.8421052631578947, frozenset({'Abutments, SRA', 'Other Prosthetics', 'BL Healing Surgical', 'Instruments, Cases + Others'}): 0.8421052631578947, frozenset({'Abutments, SRA', 'Other Prosthetics', 'BL Healing Surgical', 'Instruments, Drills + Taps'}): 0.8421052631578947, frozenset({'Abutments, SRA', 'Copings', 'Instruments, Cases + Others', 'BLAT TiZr Implants, hydrophilic'}): 0.7894736842105263, frozenset({'Abutments, SRA', 'Copings', 'Instruments, Drills + Taps', 'BLAT TiZr Implants, hydrophilic'}): 0.7894736842105263, frozenset({'Other Prosthetics', 'Abutments, SRA', 'Copings', 'BLAT TiZr Implants, hydrophilic'}): 0.7894736842105263, frozenset({'Instruments, Drills + Taps', 'Abutments, SRA', 'Instruments, Cases + Others', 'BLAT TiZr Implants, hydrophilic'}): 0.7894736842105263, frozenset({'Abutments, SRA', 'Other Prosthetics', 'Instruments, Cases + Others', 'BLAT TiZr Implants, hydrophilic'}): 0.7894736842105263, frozenset({'Abutments, SRA', 'Other Prosthetics', 'Instruments, Drills + Taps', 'BLAT TiZr Implants, hydrophilic'}): 0.7894736842105263, frozenset({'Instruments, Drills + Taps', 'Abutments, SRA', 'Instruments, Cases + Others', 'Copings'}): 0.7894736842105263, frozenset({'Abutments, SRA', 'Other Prosthetics', 'Instruments, Cases + Others', 'Copings'}): 0.7894736842105263, frozenset({'Abutments, SRA', 'Other Prosthetics', 'Instruments, Drills + Taps', 'Copings'}): 0.7894736842105263, frozenset({'Instruments, Drills + Taps', 'Abutments, SRA', 'Other Prosthetics', 'Instruments, Cases + Others'}): 0.8421052631578947, frozenset({'Copings', 'BL Healing Surgical', 'Instruments, Cases + Others', 'BLAT TiZr Implants, hydrophilic'}): 0.7894736842105263, frozenset({'Copings', 'BL Healing Surgical', 'Instruments, Drills + Taps', 'BLAT TiZr Implants, hydrophilic'}): 0.7894736842105263, frozenset({'Other Prosthetics', 'Copings', 'BL Healing Surgical', 'BLAT TiZr Implants, hydrophilic'}): 0.7894736842105263, frozenset({'Instruments, Drills + Taps', 'BL Healing Surgical', 'Instruments, Cases + Others', 'BLAT TiZr Implants, hydrophilic'}): 0.7894736842105263, frozenset({'Other Prosthetics', 'BL Healing Surgical', 'Instruments, Cases + Others', 'BLAT TiZr Implants, hydrophilic'}): 0.7894736842105263, frozenset({'Other Prosthetics', 'BL Healing Surgical', 'Instruments, Drills + Taps', 'BLAT TiZr Implants, hydrophilic'}): 0.7894736842105263, frozenset({'Instruments, Drills + Taps', 'BL Healing Surgical', 'Instruments, Cases + Others', 'Copings'}): 0.7894736842105263, frozenset({'Other Prosthetics', 'BL Healing Surgical', 'Instruments, Cases + Others', 'Copings'}): 0.7894736842105263, frozenset({'Other Prosthetics', 'BL Healing Surgical', 'Instruments, Drills + Taps', 'Copings'}): 0.7894736842105263, frozenset({'Instruments, Drills + Taps', 'Other Prosthetics', 'BL Healing Surgical', 'Instruments, Cases + Others'}): 0.8421052631578947, frozenset({'Instruments, Drills + Taps', 'Copings', 'Instruments, Cases + Others', 'BLAT TiZr Implants, hydrophilic'}): 0.7894736842105263, frozenset({'Other Prosthetics', 'Copings', 'Instruments, Cases + Others', 'BLAT TiZr Implants, hydrophilic'}): 0.7894736842105263, frozenset({'Other Prosthetics', 'Copings', 'Instruments, Drills + Taps', 'BLAT TiZr Implants, hydrophilic'}): 0.7894736842105263, frozenset({'Instruments, Drills + Taps', 'Other Prosthetics', 'Instruments, Cases + Others', 'BLAT TiZr Implants, hydrophilic'}): 0.7894736842105263, frozenset({'Instruments, Drills + Taps', 'Other Prosthetics', 'Instruments, Cases + Others', 'Copings'}): 0.7894736842105263, frozenset({'Abutments, SRA', 'BLAT TiZr Implants, hydrophilic', 'BL Healing Surgical', 'Instruments, Cases + Others', 'Copings'}): 0.7894736842105263, frozenset({'Instruments, Drills + Taps', 'Abutments, SRA', 'BLAT TiZr Implants, hydrophilic', 'BL Healing Surgical', 'Copings'}): 0.7894736842105263, frozenset({'Abutments, SRA', 'BLAT TiZr Implants, hydrophilic', 'Other Prosthetics', 'BL Healing Surgical', 'Copings'}): 0.7894736842105263, frozenset({'Instruments, Drills + Taps', 'Abutments, SRA', 'BLAT TiZr Implants, hydrophilic', 'BL Healing Surgical', 'Instruments, Cases + Others'}): 0.7894736842105263, frozenset({'Abutments, SRA', 'BLAT TiZr Implants, hydrophilic', 'Other Prosthetics', 'BL Healing Surgical', 'Instruments, Cases + Others'}): 0.7894736842105263, frozenset({'Instruments, Drills + Taps', 'Abutments, SRA', 'BLAT TiZr Implants, hydrophilic', 'Other Prosthetics', 'BL Healing Surgical'}): 0.7894736842105263, frozenset({'Instruments, Drills + Taps', 'Abutments, SRA', 'BL Healing Surgical', 'Instruments, Cases + Others', 'Copings'}): 0.7894736842105263, frozenset({'Abutments, SRA', 'Other Prosthetics', 'BL Healing Surgical', 'Instruments, Cases + Others', 'Copings'}): 0.7894736842105263, frozenset({'Instruments, Drills + Taps', 'Abutments, SRA', 'Other Prosthetics', 'BL Healing Surgical', 'Copings'}): 0.7894736842105263, frozenset({'Instruments, Drills + Taps', 'Abutments, SRA', 'Other Prosthetics', 'BL Healing Surgical', 'Instruments, Cases + Others'}): 0.8421052631578947, frozenset({'Instruments, Drills + Taps', 'Abutments, SRA', 'BLAT TiZr Implants, hydrophilic', 'Instruments, Cases + Others', 'Copings'}): 0.7894736842105263, frozenset({'Abutments, SRA', 'BLAT TiZr Implants, hydrophilic', 'Other Prosthetics', 'Instruments, Cases + Others', 'Copings'}): 0.7894736842105263, frozenset({'Instruments, Drills + Taps', 'Abutments, SRA', 'BLAT TiZr Implants, hydrophilic', 'Other Prosthetics', 'Copings'}): 0.7894736842105263, frozenset({'Instruments, Drills + Taps', 'Abutments, SRA', 'BLAT TiZr Implants, hydrophilic', 'Other Prosthetics', 'Instruments, Cases + Others'}): 0.7894736842105263, frozenset({'Instruments, Drills + Taps', 'Abutments, SRA', 'Other Prosthetics', 'Instruments, Cases + Others', 'Copings'}): 0.7894736842105263, frozenset({'Instruments, Drills + Taps', 'BLAT TiZr Implants, hydrophilic', 'BL Healing Surgical', 'Instruments, Cases + Others', 'Copings'}): 0.7894736842105263, frozenset({'BLAT TiZr Implants, hydrophilic', 'Other Prosthetics', 'BL Healing Surgical', 'Instruments, Cases + Others', 'Copings'}): 0.7894736842105263, frozenset({'Instruments, Drills + Taps', 'BLAT TiZr Implants, hydrophilic', 'Other Prosthetics', 'BL Healing Surgical', 'Copings'}): 0.7894736842105263, frozenset({'Instruments, Drills + Taps', 'BLAT TiZr Implants, hydrophilic', 'Other Prosthetics', 'BL Healing Surgical', 'Instruments, Cases + Others'}): 0.7894736842105263, frozenset({'Instruments, Drills + Taps', 'Other Prosthetics', 'BL Healing Surgical', 'Instruments, Cases + Others', 'Copings'}): 0.7894736842105263, frozenset({'Instruments, Drills + Taps', 'BLAT TiZr Implants, hydrophilic', 'Other Prosthetics', 'Instruments, Cases + Others', 'Copings'}): 0.7894736842105263}\n"
     ]
    }
   ],
   "source": [
    "from itertools import combinations\n",
    "\n",
    "def apriori(basket, min_support, max_length=5):\n",
    "    # Convert basket to a list of transactions\n",
    "    transactions = basket.apply(lambda x: x.index[x > 0].tolist(), axis=1).tolist()\n",
    "\n",
    "    # Create a dictionary to store the frequency of itemsets\n",
    "    itemsets = {}\n",
    "\n",
    "    def get_itemsets(transactions, length):\n",
    "        # Generate itemsets of a specific length\n",
    "        return (frozenset(comb) for transaction in transactions for comb in combinations(transaction, length))\n",
    "\n",
    "    def get_frequent_itemsets(transactions, itemsets, min_support):\n",
    "        # Calculate the support for each itemset\n",
    "        itemset_counts = {}\n",
    "        for transaction in transactions:\n",
    "            for itemset in itemsets:\n",
    "                if itemset.issubset(transaction):\n",
    "                    if itemset in itemset_counts:\n",
    "                        itemset_counts[itemset] += 1\n",
    "                    else:\n",
    "                        itemset_counts[itemset] = 1\n",
    "        \n",
    "        # Filter itemsets by min_support\n",
    "        num_transactions = len(transactions)\n",
    "        return {itemset: count / num_transactions for itemset, count in itemset_counts.items() if count / num_transactions >= min_support}\n",
    "\n",
    "    # Generate 1-itemsets\n",
    "    length = 1\n",
    "    frequent_itemsets = get_frequent_itemsets(transactions, get_itemsets(transactions, length), min_support)\n",
    "    all_frequent_itemsets = frequent_itemsets.copy()\n",
    "\n",
    "    # Generate k-itemsets\n",
    "    while frequent_itemsets and length < max_length:\n",
    "        length += 1\n",
    "        candidate_itemsets = get_itemsets(transactions, length)\n",
    "        frequent_itemsets = get_frequent_itemsets(transactions, candidate_itemsets, min_support)\n",
    "        all_frequent_itemsets.update(frequent_itemsets)\n",
    "\n",
    "    return all_frequent_itemsets\n",
    "\n",
    "# Run Apriori algorithm with a maximum itemset length of 5 to prevent excessive memory usage\n",
    "min_support = 0.01\n",
    "frequent_itemsets = apriori(basket, min_support, max_length=5)\n",
    "\n",
    "# Display the frequent itemsets\n",
    "print(\"Frequent Itemsets:\\n\", frequent_itemsets)\n"
   ]
  },
  {
   "cell_type": "markdown",
   "metadata": {},
   "source": [
    "general association rules...."
   ]
  },
  {
   "cell_type": "code",
   "execution_count": 43,
   "metadata": {},
   "outputs": [
    {
     "name": "stdout",
     "output_type": "stream",
     "text": [
      "Association Rules:\n",
      "Rule: {'BL Healing Surgical'} -> Abutments, SRA, Support: 0.8421052631578947, Confidence: 1.0\n",
      "Rule: {'Abutments, SRA'} -> BL Healing Surgical, Support: 0.8421052631578947, Confidence: 0.9411764705882353\n",
      "Rule: {'BLAT TiZr Implants, hydrophilic'} -> Abutments, SRA, Support: 0.7894736842105263, Confidence: 1.0\n",
      "Rule: {'Abutments, SRA'} -> BLAT TiZr Implants, hydrophilic, Support: 0.7894736842105263, Confidence: 0.8823529411764706\n",
      "Rule: {'Copings'} -> Abutments, SRA, Support: 0.7894736842105263, Confidence: 1.0\n",
      "Rule: {'Abutments, SRA'} -> Copings, Support: 0.7894736842105263, Confidence: 0.8823529411764706\n",
      "Rule: {'Instruments, Cases + Others'} -> Abutments, SRA, Support: 0.8947368421052632, Confidence: 0.9444444444444445\n",
      "Rule: {'Abutments, SRA'} -> Instruments, Cases + Others, Support: 0.8947368421052632, Confidence: 1.0\n",
      "Rule: {'Instruments, Drills + Taps'} -> Abutments, SRA, Support: 0.8421052631578947, Confidence: 1.0\n",
      "Rule: {'Abutments, SRA'} -> Instruments, Drills + Taps, Support: 0.8421052631578947, Confidence: 0.9411764705882353\n",
      "Rule: {'Other Prosthetics'} -> Abutments, SRA, Support: 0.8947368421052632, Confidence: 1.0\n",
      "Rule: {'Abutments, SRA'} -> Other Prosthetics, Support: 0.8947368421052632, Confidence: 1.0\n",
      "Rule: {'BLAT TiZr Implants, hydrophilic'} -> BL Healing Surgical, Support: 0.7894736842105263, Confidence: 1.0\n",
      "Rule: {'BL Healing Surgical'} -> BLAT TiZr Implants, hydrophilic, Support: 0.7894736842105263, Confidence: 0.9375000000000001\n",
      "Rule: {'Copings'} -> BL Healing Surgical, Support: 0.7894736842105263, Confidence: 1.0\n",
      "Rule: {'BL Healing Surgical'} -> Copings, Support: 0.7894736842105263, Confidence: 0.9375000000000001\n",
      "Rule: {'Instruments, Cases + Others'} -> BL Healing Surgical, Support: 0.8421052631578947, Confidence: 0.8888888888888888\n",
      "Rule: {'BL Healing Surgical'} -> Instruments, Cases + Others, Support: 0.8421052631578947, Confidence: 1.0\n",
      "Rule: {'Instruments, Drills + Taps'} -> BL Healing Surgical, Support: 0.8421052631578947, Confidence: 1.0\n",
      "Rule: {'BL Healing Surgical'} -> Instruments, Drills + Taps, Support: 0.8421052631578947, Confidence: 1.0\n",
      "Rule: {'BL Healing Surgical'} -> Other Prosthetics, Support: 0.8421052631578947, Confidence: 1.0\n",
      "Rule: {'Other Prosthetics'} -> BL Healing Surgical, Support: 0.8421052631578947, Confidence: 0.9411764705882353\n",
      "Rule: {'BLAT TiZr Implants, hydrophilic'} -> Copings, Support: 0.7894736842105263, Confidence: 1.0\n",
      "Rule: {'Copings'} -> BLAT TiZr Implants, hydrophilic, Support: 0.7894736842105263, Confidence: 1.0\n",
      "Rule: {'BLAT TiZr Implants, hydrophilic'} -> Instruments, Cases + Others, Support: 0.7894736842105263, Confidence: 1.0\n",
      "Rule: {'Instruments, Cases + Others'} -> BLAT TiZr Implants, hydrophilic, Support: 0.7894736842105263, Confidence: 0.8333333333333334\n",
      "Rule: {'BLAT TiZr Implants, hydrophilic'} -> Instruments, Drills + Taps, Support: 0.7894736842105263, Confidence: 1.0\n",
      "Rule: {'Instruments, Drills + Taps'} -> BLAT TiZr Implants, hydrophilic, Support: 0.7894736842105263, Confidence: 0.9375000000000001\n",
      "Rule: {'BLAT TiZr Implants, hydrophilic'} -> Other Prosthetics, Support: 0.7894736842105263, Confidence: 1.0\n",
      "Rule: {'Other Prosthetics'} -> BLAT TiZr Implants, hydrophilic, Support: 0.7894736842105263, Confidence: 0.8823529411764706\n",
      "Rule: {'Copings'} -> Instruments, Cases + Others, Support: 0.7894736842105263, Confidence: 1.0\n",
      "Rule: {'Instruments, Cases + Others'} -> Copings, Support: 0.7894736842105263, Confidence: 0.8333333333333334\n",
      "Rule: {'Copings'} -> Instruments, Drills + Taps, Support: 0.7894736842105263, Confidence: 1.0\n",
      "Rule: {'Instruments, Drills + Taps'} -> Copings, Support: 0.7894736842105263, Confidence: 0.9375000000000001\n",
      "Rule: {'Copings'} -> Other Prosthetics, Support: 0.7894736842105263, Confidence: 1.0\n",
      "Rule: {'Other Prosthetics'} -> Copings, Support: 0.7894736842105263, Confidence: 0.8823529411764706\n",
      "Rule: {'Instruments, Cases + Others'} -> Instruments, Drills + Taps, Support: 0.8421052631578947, Confidence: 0.8888888888888888\n",
      "Rule: {'Instruments, Drills + Taps'} -> Instruments, Cases + Others, Support: 0.8421052631578947, Confidence: 1.0\n",
      "Rule: {'Instruments, Cases + Others'} -> Other Prosthetics, Support: 0.8947368421052632, Confidence: 0.9444444444444445\n",
      "Rule: {'Other Prosthetics'} -> Instruments, Cases + Others, Support: 0.8947368421052632, Confidence: 1.0\n",
      "Rule: {'Instruments, Drills + Taps'} -> Other Prosthetics, Support: 0.8421052631578947, Confidence: 1.0\n",
      "Rule: {'Other Prosthetics'} -> Instruments, Drills + Taps, Support: 0.8421052631578947, Confidence: 0.9411764705882353\n",
      "Rule: {'BL Healing Surgical', 'BLAT TiZr Implants, hydrophilic'} -> Abutments, SRA, Support: 0.7894736842105263, Confidence: 1.0\n",
      "Rule: {'Abutments, SRA', 'BLAT TiZr Implants, hydrophilic'} -> BL Healing Surgical, Support: 0.7894736842105263, Confidence: 1.0\n",
      "Rule: {'Abutments, SRA', 'BL Healing Surgical'} -> BLAT TiZr Implants, hydrophilic, Support: 0.7894736842105263, Confidence: 0.9375000000000001\n",
      "Rule: {'BL Healing Surgical', 'Copings'} -> Abutments, SRA, Support: 0.7894736842105263, Confidence: 1.0\n",
      "Rule: {'Abutments, SRA', 'Copings'} -> BL Healing Surgical, Support: 0.7894736842105263, Confidence: 1.0\n",
      "Rule: {'Abutments, SRA', 'BL Healing Surgical'} -> Copings, Support: 0.7894736842105263, Confidence: 0.9375000000000001\n",
      "Rule: {'BL Healing Surgical', 'Instruments, Cases + Others'} -> Abutments, SRA, Support: 0.8421052631578947, Confidence: 1.0\n",
      "Rule: {'Abutments, SRA', 'Instruments, Cases + Others'} -> BL Healing Surgical, Support: 0.8421052631578947, Confidence: 0.9411764705882353\n",
      "Rule: {'Abutments, SRA', 'BL Healing Surgical'} -> Instruments, Cases + Others, Support: 0.8421052631578947, Confidence: 1.0\n",
      "Rule: {'BL Healing Surgical', 'Instruments, Drills + Taps'} -> Abutments, SRA, Support: 0.8421052631578947, Confidence: 1.0\n",
      "Rule: {'Abutments, SRA', 'Instruments, Drills + Taps'} -> BL Healing Surgical, Support: 0.8421052631578947, Confidence: 1.0\n",
      "Rule: {'Abutments, SRA', 'BL Healing Surgical'} -> Instruments, Drills + Taps, Support: 0.8421052631578947, Confidence: 1.0\n",
      "Rule: {'Other Prosthetics', 'BL Healing Surgical'} -> Abutments, SRA, Support: 0.8421052631578947, Confidence: 1.0\n",
      "Rule: {'Abutments, SRA', 'BL Healing Surgical'} -> Other Prosthetics, Support: 0.8421052631578947, Confidence: 1.0\n",
      "Rule: {'Abutments, SRA', 'Other Prosthetics'} -> BL Healing Surgical, Support: 0.8421052631578947, Confidence: 0.9411764705882353\n",
      "Rule: {'BLAT TiZr Implants, hydrophilic', 'Copings'} -> Abutments, SRA, Support: 0.7894736842105263, Confidence: 1.0\n",
      "Rule: {'Abutments, SRA', 'BLAT TiZr Implants, hydrophilic'} -> Copings, Support: 0.7894736842105263, Confidence: 1.0\n",
      "Rule: {'Abutments, SRA', 'Copings'} -> BLAT TiZr Implants, hydrophilic, Support: 0.7894736842105263, Confidence: 1.0\n",
      "Rule: {'Instruments, Cases + Others', 'BLAT TiZr Implants, hydrophilic'} -> Abutments, SRA, Support: 0.7894736842105263, Confidence: 1.0\n",
      "Rule: {'Abutments, SRA', 'BLAT TiZr Implants, hydrophilic'} -> Instruments, Cases + Others, Support: 0.7894736842105263, Confidence: 1.0\n",
      "Rule: {'Abutments, SRA', 'Instruments, Cases + Others'} -> BLAT TiZr Implants, hydrophilic, Support: 0.7894736842105263, Confidence: 0.8823529411764706\n",
      "Rule: {'Instruments, Drills + Taps', 'BLAT TiZr Implants, hydrophilic'} -> Abutments, SRA, Support: 0.7894736842105263, Confidence: 1.0\n",
      "Rule: {'Abutments, SRA', 'BLAT TiZr Implants, hydrophilic'} -> Instruments, Drills + Taps, Support: 0.7894736842105263, Confidence: 1.0\n",
      "Rule: {'Abutments, SRA', 'Instruments, Drills + Taps'} -> BLAT TiZr Implants, hydrophilic, Support: 0.7894736842105263, Confidence: 0.9375000000000001\n",
      "Rule: {'Other Prosthetics', 'BLAT TiZr Implants, hydrophilic'} -> Abutments, SRA, Support: 0.7894736842105263, Confidence: 1.0\n",
      "Rule: {'Abutments, SRA', 'BLAT TiZr Implants, hydrophilic'} -> Other Prosthetics, Support: 0.7894736842105263, Confidence: 1.0\n",
      "Rule: {'Abutments, SRA', 'Other Prosthetics'} -> BLAT TiZr Implants, hydrophilic, Support: 0.7894736842105263, Confidence: 0.8823529411764706\n",
      "Rule: {'Instruments, Cases + Others', 'Copings'} -> Abutments, SRA, Support: 0.7894736842105263, Confidence: 1.0\n",
      "Rule: {'Abutments, SRA', 'Copings'} -> Instruments, Cases + Others, Support: 0.7894736842105263, Confidence: 1.0\n",
      "Rule: {'Abutments, SRA', 'Instruments, Cases + Others'} -> Copings, Support: 0.7894736842105263, Confidence: 0.8823529411764706\n",
      "Rule: {'Instruments, Drills + Taps', 'Copings'} -> Abutments, SRA, Support: 0.7894736842105263, Confidence: 1.0\n",
      "Rule: {'Abutments, SRA', 'Copings'} -> Instruments, Drills + Taps, Support: 0.7894736842105263, Confidence: 1.0\n",
      "Rule: {'Abutments, SRA', 'Instruments, Drills + Taps'} -> Copings, Support: 0.7894736842105263, Confidence: 0.9375000000000001\n",
      "Rule: {'Other Prosthetics', 'Copings'} -> Abutments, SRA, Support: 0.7894736842105263, Confidence: 1.0\n",
      "Rule: {'Abutments, SRA', 'Copings'} -> Other Prosthetics, Support: 0.7894736842105263, Confidence: 1.0\n",
      "Rule: {'Abutments, SRA', 'Other Prosthetics'} -> Copings, Support: 0.7894736842105263, Confidence: 0.8823529411764706\n",
      "Rule: {'Abutments, SRA', 'Instruments, Cases + Others'} -> Instruments, Drills + Taps, Support: 0.8421052631578947, Confidence: 0.9411764705882353\n",
      "Rule: {'Instruments, Drills + Taps', 'Instruments, Cases + Others'} -> Abutments, SRA, Support: 0.8421052631578947, Confidence: 1.0\n",
      "Rule: {'Abutments, SRA', 'Instruments, Drills + Taps'} -> Instruments, Cases + Others, Support: 0.8421052631578947, Confidence: 1.0\n",
      "Rule: {'Other Prosthetics', 'Instruments, Cases + Others'} -> Abutments, SRA, Support: 0.8947368421052632, Confidence: 1.0\n",
      "Rule: {'Abutments, SRA', 'Instruments, Cases + Others'} -> Other Prosthetics, Support: 0.8947368421052632, Confidence: 1.0\n",
      "Rule: {'Abutments, SRA', 'Other Prosthetics'} -> Instruments, Cases + Others, Support: 0.8947368421052632, Confidence: 1.0\n",
      "Rule: {'Other Prosthetics', 'Instruments, Drills + Taps'} -> Abutments, SRA, Support: 0.8421052631578947, Confidence: 1.0\n",
      "Rule: {'Abutments, SRA', 'Instruments, Drills + Taps'} -> Other Prosthetics, Support: 0.8421052631578947, Confidence: 1.0\n",
      "Rule: {'Abutments, SRA', 'Other Prosthetics'} -> Instruments, Drills + Taps, Support: 0.8421052631578947, Confidence: 0.9411764705882353\n",
      "Rule: {'BL Healing Surgical', 'BLAT TiZr Implants, hydrophilic'} -> Copings, Support: 0.7894736842105263, Confidence: 1.0\n",
      "Rule: {'BLAT TiZr Implants, hydrophilic', 'Copings'} -> BL Healing Surgical, Support: 0.7894736842105263, Confidence: 1.0\n",
      "Rule: {'BL Healing Surgical', 'Copings'} -> BLAT TiZr Implants, hydrophilic, Support: 0.7894736842105263, Confidence: 1.0\n",
      "Rule: {'Instruments, Cases + Others', 'BLAT TiZr Implants, hydrophilic'} -> BL Healing Surgical, Support: 0.7894736842105263, Confidence: 1.0\n",
      "Rule: {'BL Healing Surgical', 'BLAT TiZr Implants, hydrophilic'} -> Instruments, Cases + Others, Support: 0.7894736842105263, Confidence: 1.0\n",
      "Rule: {'BL Healing Surgical', 'Instruments, Cases + Others'} -> BLAT TiZr Implants, hydrophilic, Support: 0.7894736842105263, Confidence: 0.9375000000000001\n",
      "Rule: {'Instruments, Drills + Taps', 'BLAT TiZr Implants, hydrophilic'} -> BL Healing Surgical, Support: 0.7894736842105263, Confidence: 1.0\n",
      "Rule: {'BL Healing Surgical', 'BLAT TiZr Implants, hydrophilic'} -> Instruments, Drills + Taps, Support: 0.7894736842105263, Confidence: 1.0\n",
      "Rule: {'BL Healing Surgical', 'Instruments, Drills + Taps'} -> BLAT TiZr Implants, hydrophilic, Support: 0.7894736842105263, Confidence: 0.9375000000000001\n",
      "Rule: {'BL Healing Surgical', 'BLAT TiZr Implants, hydrophilic'} -> Other Prosthetics, Support: 0.7894736842105263, Confidence: 1.0\n",
      "Rule: {'Other Prosthetics', 'BLAT TiZr Implants, hydrophilic'} -> BL Healing Surgical, Support: 0.7894736842105263, Confidence: 1.0\n",
      "Rule: {'Other Prosthetics', 'BL Healing Surgical'} -> BLAT TiZr Implants, hydrophilic, Support: 0.7894736842105263, Confidence: 0.9375000000000001\n",
      "Rule: {'Instruments, Cases + Others', 'Copings'} -> BL Healing Surgical, Support: 0.7894736842105263, Confidence: 1.0\n",
      "Rule: {'BL Healing Surgical', 'Copings'} -> Instruments, Cases + Others, Support: 0.7894736842105263, Confidence: 1.0\n",
      "Rule: {'BL Healing Surgical', 'Instruments, Cases + Others'} -> Copings, Support: 0.7894736842105263, Confidence: 0.9375000000000001\n",
      "Rule: {'Instruments, Drills + Taps', 'Copings'} -> BL Healing Surgical, Support: 0.7894736842105263, Confidence: 1.0\n",
      "Rule: {'BL Healing Surgical', 'Copings'} -> Instruments, Drills + Taps, Support: 0.7894736842105263, Confidence: 1.0\n",
      "Rule: {'BL Healing Surgical', 'Instruments, Drills + Taps'} -> Copings, Support: 0.7894736842105263, Confidence: 0.9375000000000001\n",
      "Rule: {'BL Healing Surgical', 'Copings'} -> Other Prosthetics, Support: 0.7894736842105263, Confidence: 1.0\n",
      "Rule: {'Other Prosthetics', 'Copings'} -> BL Healing Surgical, Support: 0.7894736842105263, Confidence: 1.0\n",
      "Rule: {'Other Prosthetics', 'BL Healing Surgical'} -> Copings, Support: 0.7894736842105263, Confidence: 0.9375000000000001\n",
      "Rule: {'BL Healing Surgical', 'Instruments, Cases + Others'} -> Instruments, Drills + Taps, Support: 0.8421052631578947, Confidence: 1.0\n",
      "Rule: {'Instruments, Drills + Taps', 'Instruments, Cases + Others'} -> BL Healing Surgical, Support: 0.8421052631578947, Confidence: 1.0\n",
      "Rule: {'BL Healing Surgical', 'Instruments, Drills + Taps'} -> Instruments, Cases + Others, Support: 0.8421052631578947, Confidence: 1.0\n",
      "Rule: {'BL Healing Surgical', 'Instruments, Cases + Others'} -> Other Prosthetics, Support: 0.8421052631578947, Confidence: 1.0\n",
      "Rule: {'Other Prosthetics', 'Instruments, Cases + Others'} -> BL Healing Surgical, Support: 0.8421052631578947, Confidence: 0.9411764705882353\n",
      "Rule: {'Other Prosthetics', 'BL Healing Surgical'} -> Instruments, Cases + Others, Support: 0.8421052631578947, Confidence: 1.0\n",
      "Rule: {'BL Healing Surgical', 'Instruments, Drills + Taps'} -> Other Prosthetics, Support: 0.8421052631578947, Confidence: 1.0\n",
      "Rule: {'Other Prosthetics', 'Instruments, Drills + Taps'} -> BL Healing Surgical, Support: 0.8421052631578947, Confidence: 1.0\n",
      "Rule: {'Other Prosthetics', 'BL Healing Surgical'} -> Instruments, Drills + Taps, Support: 0.8421052631578947, Confidence: 1.0\n",
      "Rule: {'Instruments, Cases + Others', 'BLAT TiZr Implants, hydrophilic'} -> Copings, Support: 0.7894736842105263, Confidence: 1.0\n",
      "Rule: {'BLAT TiZr Implants, hydrophilic', 'Copings'} -> Instruments, Cases + Others, Support: 0.7894736842105263, Confidence: 1.0\n",
      "Rule: {'Instruments, Cases + Others', 'Copings'} -> BLAT TiZr Implants, hydrophilic, Support: 0.7894736842105263, Confidence: 1.0\n",
      "Rule: {'Instruments, Drills + Taps', 'BLAT TiZr Implants, hydrophilic'} -> Copings, Support: 0.7894736842105263, Confidence: 1.0\n",
      "Rule: {'BLAT TiZr Implants, hydrophilic', 'Copings'} -> Instruments, Drills + Taps, Support: 0.7894736842105263, Confidence: 1.0\n",
      "Rule: {'Instruments, Drills + Taps', 'Copings'} -> BLAT TiZr Implants, hydrophilic, Support: 0.7894736842105263, Confidence: 1.0\n",
      "Rule: {'BLAT TiZr Implants, hydrophilic', 'Copings'} -> Other Prosthetics, Support: 0.7894736842105263, Confidence: 1.0\n",
      "Rule: {'Other Prosthetics', 'BLAT TiZr Implants, hydrophilic'} -> Copings, Support: 0.7894736842105263, Confidence: 1.0\n",
      "Rule: {'Other Prosthetics', 'Copings'} -> BLAT TiZr Implants, hydrophilic, Support: 0.7894736842105263, Confidence: 1.0\n",
      "Rule: {'Instruments, Cases + Others', 'BLAT TiZr Implants, hydrophilic'} -> Instruments, Drills + Taps, Support: 0.7894736842105263, Confidence: 1.0\n",
      "Rule: {'Instruments, Drills + Taps', 'BLAT TiZr Implants, hydrophilic'} -> Instruments, Cases + Others, Support: 0.7894736842105263, Confidence: 1.0\n",
      "Rule: {'Instruments, Drills + Taps', 'Instruments, Cases + Others'} -> BLAT TiZr Implants, hydrophilic, Support: 0.7894736842105263, Confidence: 0.9375000000000001\n",
      "Rule: {'Instruments, Cases + Others', 'BLAT TiZr Implants, hydrophilic'} -> Other Prosthetics, Support: 0.7894736842105263, Confidence: 1.0\n",
      "Rule: {'Other Prosthetics', 'BLAT TiZr Implants, hydrophilic'} -> Instruments, Cases + Others, Support: 0.7894736842105263, Confidence: 1.0\n",
      "Rule: {'Other Prosthetics', 'Instruments, Cases + Others'} -> BLAT TiZr Implants, hydrophilic, Support: 0.7894736842105263, Confidence: 0.8823529411764706\n",
      "Rule: {'Instruments, Drills + Taps', 'BLAT TiZr Implants, hydrophilic'} -> Other Prosthetics, Support: 0.7894736842105263, Confidence: 1.0\n",
      "Rule: {'Other Prosthetics', 'BLAT TiZr Implants, hydrophilic'} -> Instruments, Drills + Taps, Support: 0.7894736842105263, Confidence: 1.0\n",
      "Rule: {'Other Prosthetics', 'Instruments, Drills + Taps'} -> BLAT TiZr Implants, hydrophilic, Support: 0.7894736842105263, Confidence: 0.9375000000000001\n",
      "Rule: {'Instruments, Cases + Others', 'Copings'} -> Instruments, Drills + Taps, Support: 0.7894736842105263, Confidence: 1.0\n",
      "Rule: {'Instruments, Drills + Taps', 'Copings'} -> Instruments, Cases + Others, Support: 0.7894736842105263, Confidence: 1.0\n",
      "Rule: {'Instruments, Drills + Taps', 'Instruments, Cases + Others'} -> Copings, Support: 0.7894736842105263, Confidence: 0.9375000000000001\n",
      "Rule: {'Instruments, Cases + Others', 'Copings'} -> Other Prosthetics, Support: 0.7894736842105263, Confidence: 1.0\n",
      "Rule: {'Other Prosthetics', 'Copings'} -> Instruments, Cases + Others, Support: 0.7894736842105263, Confidence: 1.0\n",
      "Rule: {'Other Prosthetics', 'Instruments, Cases + Others'} -> Copings, Support: 0.7894736842105263, Confidence: 0.8823529411764706\n",
      "Rule: {'Instruments, Drills + Taps', 'Copings'} -> Other Prosthetics, Support: 0.7894736842105263, Confidence: 1.0\n",
      "Rule: {'Other Prosthetics', 'Copings'} -> Instruments, Drills + Taps, Support: 0.7894736842105263, Confidence: 1.0\n",
      "Rule: {'Other Prosthetics', 'Instruments, Drills + Taps'} -> Copings, Support: 0.7894736842105263, Confidence: 0.9375000000000001\n",
      "Rule: {'Other Prosthetics', 'Instruments, Cases + Others'} -> Instruments, Drills + Taps, Support: 0.8421052631578947, Confidence: 0.9411764705882353\n",
      "Rule: {'Instruments, Drills + Taps', 'Instruments, Cases + Others'} -> Other Prosthetics, Support: 0.8421052631578947, Confidence: 1.0\n",
      "Rule: {'Other Prosthetics', 'Instruments, Drills + Taps'} -> Instruments, Cases + Others, Support: 0.8421052631578947, Confidence: 1.0\n",
      "Rule: {'BLAT TiZr Implants, hydrophilic', 'BL Healing Surgical', 'Copings'} -> Abutments, SRA, Support: 0.7894736842105263, Confidence: 1.0\n",
      "Rule: {'Abutments, SRA', 'BL Healing Surgical', 'BLAT TiZr Implants, hydrophilic'} -> Copings, Support: 0.7894736842105263, Confidence: 1.0\n",
      "Rule: {'BLAT TiZr Implants, hydrophilic', 'Abutments, SRA', 'Copings'} -> BL Healing Surgical, Support: 0.7894736842105263, Confidence: 1.0\n",
      "Rule: {'Abutments, SRA', 'BL Healing Surgical', 'Copings'} -> BLAT TiZr Implants, hydrophilic, Support: 0.7894736842105263, Confidence: 1.0\n",
      "Rule: {'BL Healing Surgical', 'Instruments, Cases + Others', 'BLAT TiZr Implants, hydrophilic'} -> Abutments, SRA, Support: 0.7894736842105263, Confidence: 1.0\n",
      "Rule: {'Abutments, SRA', 'Instruments, Cases + Others', 'BLAT TiZr Implants, hydrophilic'} -> BL Healing Surgical, Support: 0.7894736842105263, Confidence: 1.0\n",
      "Rule: {'Abutments, SRA', 'BL Healing Surgical', 'BLAT TiZr Implants, hydrophilic'} -> Instruments, Cases + Others, Support: 0.7894736842105263, Confidence: 1.0\n",
      "Rule: {'Abutments, SRA', 'BL Healing Surgical', 'Instruments, Cases + Others'} -> BLAT TiZr Implants, hydrophilic, Support: 0.7894736842105263, Confidence: 0.9375000000000001\n",
      "Rule: {'BL Healing Surgical', 'Instruments, Drills + Taps', 'BLAT TiZr Implants, hydrophilic'} -> Abutments, SRA, Support: 0.7894736842105263, Confidence: 1.0\n",
      "Rule: {'Abutments, SRA', 'Instruments, Drills + Taps', 'BLAT TiZr Implants, hydrophilic'} -> BL Healing Surgical, Support: 0.7894736842105263, Confidence: 1.0\n",
      "Rule: {'Abutments, SRA', 'BL Healing Surgical', 'BLAT TiZr Implants, hydrophilic'} -> Instruments, Drills + Taps, Support: 0.7894736842105263, Confidence: 1.0\n",
      "Rule: {'Abutments, SRA', 'BL Healing Surgical', 'Instruments, Drills + Taps'} -> BLAT TiZr Implants, hydrophilic, Support: 0.7894736842105263, Confidence: 0.9375000000000001\n",
      "Rule: {'Other Prosthetics', 'BL Healing Surgical', 'BLAT TiZr Implants, hydrophilic'} -> Abutments, SRA, Support: 0.7894736842105263, Confidence: 1.0\n",
      "Rule: {'Abutments, SRA', 'BL Healing Surgical', 'BLAT TiZr Implants, hydrophilic'} -> Other Prosthetics, Support: 0.7894736842105263, Confidence: 1.0\n",
      "Rule: {'Abutments, SRA', 'Other Prosthetics', 'BLAT TiZr Implants, hydrophilic'} -> BL Healing Surgical, Support: 0.7894736842105263, Confidence: 1.0\n",
      "Rule: {'Abutments, SRA', 'Other Prosthetics', 'BL Healing Surgical'} -> BLAT TiZr Implants, hydrophilic, Support: 0.7894736842105263, Confidence: 0.9375000000000001\n",
      "Rule: {'BL Healing Surgical', 'Instruments, Cases + Others', 'Copings'} -> Abutments, SRA, Support: 0.7894736842105263, Confidence: 1.0\n",
      "Rule: {'Abutments, SRA', 'Instruments, Cases + Others', 'Copings'} -> BL Healing Surgical, Support: 0.7894736842105263, Confidence: 1.0\n",
      "Rule: {'Abutments, SRA', 'BL Healing Surgical', 'Copings'} -> Instruments, Cases + Others, Support: 0.7894736842105263, Confidence: 1.0\n",
      "Rule: {'Abutments, SRA', 'BL Healing Surgical', 'Instruments, Cases + Others'} -> Copings, Support: 0.7894736842105263, Confidence: 0.9375000000000001\n",
      "Rule: {'BL Healing Surgical', 'Instruments, Drills + Taps', 'Copings'} -> Abutments, SRA, Support: 0.7894736842105263, Confidence: 1.0\n",
      "Rule: {'Abutments, SRA', 'Instruments, Drills + Taps', 'Copings'} -> BL Healing Surgical, Support: 0.7894736842105263, Confidence: 1.0\n",
      "Rule: {'Abutments, SRA', 'BL Healing Surgical', 'Copings'} -> Instruments, Drills + Taps, Support: 0.7894736842105263, Confidence: 1.0\n",
      "Rule: {'Abutments, SRA', 'BL Healing Surgical', 'Instruments, Drills + Taps'} -> Copings, Support: 0.7894736842105263, Confidence: 0.9375000000000001\n",
      "Rule: {'Other Prosthetics', 'BL Healing Surgical', 'Copings'} -> Abutments, SRA, Support: 0.7894736842105263, Confidence: 1.0\n",
      "Rule: {'Abutments, SRA', 'BL Healing Surgical', 'Copings'} -> Other Prosthetics, Support: 0.7894736842105263, Confidence: 1.0\n",
      "Rule: {'Abutments, SRA', 'Other Prosthetics', 'Copings'} -> BL Healing Surgical, Support: 0.7894736842105263, Confidence: 1.0\n",
      "Rule: {'Abutments, SRA', 'Other Prosthetics', 'BL Healing Surgical'} -> Copings, Support: 0.7894736842105263, Confidence: 0.9375000000000001\n",
      "Rule: {'Abutments, SRA', 'BL Healing Surgical', 'Instruments, Cases + Others'} -> Instruments, Drills + Taps, Support: 0.8421052631578947, Confidence: 1.0\n",
      "Rule: {'BL Healing Surgical', 'Instruments, Drills + Taps', 'Instruments, Cases + Others'} -> Abutments, SRA, Support: 0.8421052631578947, Confidence: 1.0\n",
      "Rule: {'Abutments, SRA', 'Instruments, Drills + Taps', 'Instruments, Cases + Others'} -> BL Healing Surgical, Support: 0.8421052631578947, Confidence: 1.0\n",
      "Rule: {'Abutments, SRA', 'BL Healing Surgical', 'Instruments, Drills + Taps'} -> Instruments, Cases + Others, Support: 0.8421052631578947, Confidence: 1.0\n",
      "Rule: {'Other Prosthetics', 'BL Healing Surgical', 'Instruments, Cases + Others'} -> Abutments, SRA, Support: 0.8421052631578947, Confidence: 1.0\n",
      "Rule: {'Abutments, SRA', 'BL Healing Surgical', 'Instruments, Cases + Others'} -> Other Prosthetics, Support: 0.8421052631578947, Confidence: 1.0\n",
      "Rule: {'Abutments, SRA', 'Other Prosthetics', 'Instruments, Cases + Others'} -> BL Healing Surgical, Support: 0.8421052631578947, Confidence: 0.9411764705882353\n",
      "Rule: {'Abutments, SRA', 'Other Prosthetics', 'BL Healing Surgical'} -> Instruments, Cases + Others, Support: 0.8421052631578947, Confidence: 1.0\n",
      "Rule: {'Other Prosthetics', 'BL Healing Surgical', 'Instruments, Drills + Taps'} -> Abutments, SRA, Support: 0.8421052631578947, Confidence: 1.0\n",
      "Rule: {'Abutments, SRA', 'BL Healing Surgical', 'Instruments, Drills + Taps'} -> Other Prosthetics, Support: 0.8421052631578947, Confidence: 1.0\n",
      "Rule: {'Abutments, SRA', 'Other Prosthetics', 'Instruments, Drills + Taps'} -> BL Healing Surgical, Support: 0.8421052631578947, Confidence: 1.0\n",
      "Rule: {'Abutments, SRA', 'Other Prosthetics', 'BL Healing Surgical'} -> Instruments, Drills + Taps, Support: 0.8421052631578947, Confidence: 1.0\n",
      "Rule: {'BLAT TiZr Implants, hydrophilic', 'Instruments, Cases + Others', 'Copings'} -> Abutments, SRA, Support: 0.7894736842105263, Confidence: 1.0\n",
      "Rule: {'Abutments, SRA', 'Instruments, Cases + Others', 'BLAT TiZr Implants, hydrophilic'} -> Copings, Support: 0.7894736842105263, Confidence: 1.0\n",
      "Rule: {'BLAT TiZr Implants, hydrophilic', 'Abutments, SRA', 'Copings'} -> Instruments, Cases + Others, Support: 0.7894736842105263, Confidence: 1.0\n",
      "Rule: {'Abutments, SRA', 'Instruments, Cases + Others', 'Copings'} -> BLAT TiZr Implants, hydrophilic, Support: 0.7894736842105263, Confidence: 1.0\n",
      "Rule: {'BLAT TiZr Implants, hydrophilic', 'Instruments, Drills + Taps', 'Copings'} -> Abutments, SRA, Support: 0.7894736842105263, Confidence: 1.0\n",
      "Rule: {'Abutments, SRA', 'Instruments, Drills + Taps', 'BLAT TiZr Implants, hydrophilic'} -> Copings, Support: 0.7894736842105263, Confidence: 1.0\n",
      "Rule: {'BLAT TiZr Implants, hydrophilic', 'Abutments, SRA', 'Copings'} -> Instruments, Drills + Taps, Support: 0.7894736842105263, Confidence: 1.0\n",
      "Rule: {'Abutments, SRA', 'Instruments, Drills + Taps', 'Copings'} -> BLAT TiZr Implants, hydrophilic, Support: 0.7894736842105263, Confidence: 1.0\n",
      "Rule: {'BLAT TiZr Implants, hydrophilic', 'Abutments, SRA', 'Copings'} -> Other Prosthetics, Support: 0.7894736842105263, Confidence: 1.0\n",
      "Rule: {'BLAT TiZr Implants, hydrophilic', 'Other Prosthetics', 'Copings'} -> Abutments, SRA, Support: 0.7894736842105263, Confidence: 1.0\n",
      "Rule: {'Abutments, SRA', 'Other Prosthetics', 'BLAT TiZr Implants, hydrophilic'} -> Copings, Support: 0.7894736842105263, Confidence: 1.0\n",
      "Rule: {'Abutments, SRA', 'Other Prosthetics', 'Copings'} -> BLAT TiZr Implants, hydrophilic, Support: 0.7894736842105263, Confidence: 1.0\n",
      "Rule: {'Abutments, SRA', 'Instruments, Cases + Others', 'BLAT TiZr Implants, hydrophilic'} -> Instruments, Drills + Taps, Support: 0.7894736842105263, Confidence: 1.0\n",
      "Rule: {'Instruments, Drills + Taps', 'BLAT TiZr Implants, hydrophilic', 'Instruments, Cases + Others'} -> Abutments, SRA, Support: 0.7894736842105263, Confidence: 1.0\n",
      "Rule: {'Abutments, SRA', 'Instruments, Drills + Taps', 'BLAT TiZr Implants, hydrophilic'} -> Instruments, Cases + Others, Support: 0.7894736842105263, Confidence: 1.0\n",
      "Rule: {'Abutments, SRA', 'Instruments, Drills + Taps', 'Instruments, Cases + Others'} -> BLAT TiZr Implants, hydrophilic, Support: 0.7894736842105263, Confidence: 0.9375000000000001\n",
      "Rule: {'Other Prosthetics', 'Instruments, Cases + Others', 'BLAT TiZr Implants, hydrophilic'} -> Abutments, SRA, Support: 0.7894736842105263, Confidence: 1.0\n",
      "Rule: {'Abutments, SRA', 'Instruments, Cases + Others', 'BLAT TiZr Implants, hydrophilic'} -> Other Prosthetics, Support: 0.7894736842105263, Confidence: 1.0\n",
      "Rule: {'Abutments, SRA', 'Other Prosthetics', 'BLAT TiZr Implants, hydrophilic'} -> Instruments, Cases + Others, Support: 0.7894736842105263, Confidence: 1.0\n",
      "Rule: {'Abutments, SRA', 'Other Prosthetics', 'Instruments, Cases + Others'} -> BLAT TiZr Implants, hydrophilic, Support: 0.7894736842105263, Confidence: 0.8823529411764706\n",
      "Rule: {'Other Prosthetics', 'Instruments, Drills + Taps', 'BLAT TiZr Implants, hydrophilic'} -> Abutments, SRA, Support: 0.7894736842105263, Confidence: 1.0\n",
      "Rule: {'Abutments, SRA', 'Instruments, Drills + Taps', 'BLAT TiZr Implants, hydrophilic'} -> Other Prosthetics, Support: 0.7894736842105263, Confidence: 1.0\n",
      "Rule: {'Abutments, SRA', 'Other Prosthetics', 'BLAT TiZr Implants, hydrophilic'} -> Instruments, Drills + Taps, Support: 0.7894736842105263, Confidence: 1.0\n",
      "Rule: {'Abutments, SRA', 'Other Prosthetics', 'Instruments, Drills + Taps'} -> BLAT TiZr Implants, hydrophilic, Support: 0.7894736842105263, Confidence: 0.9375000000000001\n",
      "Rule: {'Abutments, SRA', 'Instruments, Cases + Others', 'Copings'} -> Instruments, Drills + Taps, Support: 0.7894736842105263, Confidence: 1.0\n",
      "Rule: {'Instruments, Drills + Taps', 'Copings', 'Instruments, Cases + Others'} -> Abutments, SRA, Support: 0.7894736842105263, Confidence: 1.0\n",
      "Rule: {'Abutments, SRA', 'Instruments, Drills + Taps', 'Copings'} -> Instruments, Cases + Others, Support: 0.7894736842105263, Confidence: 1.0\n",
      "Rule: {'Abutments, SRA', 'Instruments, Drills + Taps', 'Instruments, Cases + Others'} -> Copings, Support: 0.7894736842105263, Confidence: 0.9375000000000001\n",
      "Rule: {'Other Prosthetics', 'Instruments, Cases + Others', 'Copings'} -> Abutments, SRA, Support: 0.7894736842105263, Confidence: 1.0\n",
      "Rule: {'Abutments, SRA', 'Instruments, Cases + Others', 'Copings'} -> Other Prosthetics, Support: 0.7894736842105263, Confidence: 1.0\n",
      "Rule: {'Abutments, SRA', 'Other Prosthetics', 'Copings'} -> Instruments, Cases + Others, Support: 0.7894736842105263, Confidence: 1.0\n",
      "Rule: {'Abutments, SRA', 'Other Prosthetics', 'Instruments, Cases + Others'} -> Copings, Support: 0.7894736842105263, Confidence: 0.8823529411764706\n",
      "Rule: {'Other Prosthetics', 'Instruments, Drills + Taps', 'Copings'} -> Abutments, SRA, Support: 0.7894736842105263, Confidence: 1.0\n",
      "Rule: {'Abutments, SRA', 'Instruments, Drills + Taps', 'Copings'} -> Other Prosthetics, Support: 0.7894736842105263, Confidence: 1.0\n",
      "Rule: {'Abutments, SRA', 'Other Prosthetics', 'Copings'} -> Instruments, Drills + Taps, Support: 0.7894736842105263, Confidence: 1.0\n",
      "Rule: {'Abutments, SRA', 'Other Prosthetics', 'Instruments, Drills + Taps'} -> Copings, Support: 0.7894736842105263, Confidence: 0.9375000000000001\n",
      "Rule: {'Abutments, SRA', 'Other Prosthetics', 'Instruments, Cases + Others'} -> Instruments, Drills + Taps, Support: 0.8421052631578947, Confidence: 0.9411764705882353\n",
      "Rule: {'Other Prosthetics', 'Instruments, Drills + Taps', 'Instruments, Cases + Others'} -> Abutments, SRA, Support: 0.8421052631578947, Confidence: 1.0\n",
      "Rule: {'Abutments, SRA', 'Instruments, Drills + Taps', 'Instruments, Cases + Others'} -> Other Prosthetics, Support: 0.8421052631578947, Confidence: 1.0\n",
      "Rule: {'Abutments, SRA', 'Other Prosthetics', 'Instruments, Drills + Taps'} -> Instruments, Cases + Others, Support: 0.8421052631578947, Confidence: 1.0\n",
      "Rule: {'BL Healing Surgical', 'Instruments, Cases + Others', 'BLAT TiZr Implants, hydrophilic'} -> Copings, Support: 0.7894736842105263, Confidence: 1.0\n",
      "Rule: {'BLAT TiZr Implants, hydrophilic', 'Instruments, Cases + Others', 'Copings'} -> BL Healing Surgical, Support: 0.7894736842105263, Confidence: 1.0\n",
      "Rule: {'BLAT TiZr Implants, hydrophilic', 'BL Healing Surgical', 'Copings'} -> Instruments, Cases + Others, Support: 0.7894736842105263, Confidence: 1.0\n",
      "Rule: {'BL Healing Surgical', 'Instruments, Cases + Others', 'Copings'} -> BLAT TiZr Implants, hydrophilic, Support: 0.7894736842105263, Confidence: 1.0\n",
      "Rule: {'BL Healing Surgical', 'Instruments, Drills + Taps', 'BLAT TiZr Implants, hydrophilic'} -> Copings, Support: 0.7894736842105263, Confidence: 1.0\n",
      "Rule: {'BLAT TiZr Implants, hydrophilic', 'Instruments, Drills + Taps', 'Copings'} -> BL Healing Surgical, Support: 0.7894736842105263, Confidence: 1.0\n",
      "Rule: {'BLAT TiZr Implants, hydrophilic', 'BL Healing Surgical', 'Copings'} -> Instruments, Drills + Taps, Support: 0.7894736842105263, Confidence: 1.0\n",
      "Rule: {'BL Healing Surgical', 'Instruments, Drills + Taps', 'Copings'} -> BLAT TiZr Implants, hydrophilic, Support: 0.7894736842105263, Confidence: 1.0\n",
      "Rule: {'BLAT TiZr Implants, hydrophilic', 'BL Healing Surgical', 'Copings'} -> Other Prosthetics, Support: 0.7894736842105263, Confidence: 1.0\n",
      "Rule: {'Other Prosthetics', 'BL Healing Surgical', 'BLAT TiZr Implants, hydrophilic'} -> Copings, Support: 0.7894736842105263, Confidence: 1.0\n",
      "Rule: {'BLAT TiZr Implants, hydrophilic', 'Other Prosthetics', 'Copings'} -> BL Healing Surgical, Support: 0.7894736842105263, Confidence: 1.0\n",
      "Rule: {'Other Prosthetics', 'BL Healing Surgical', 'Copings'} -> BLAT TiZr Implants, hydrophilic, Support: 0.7894736842105263, Confidence: 1.0\n",
      "Rule: {'BL Healing Surgical', 'Instruments, Cases + Others', 'BLAT TiZr Implants, hydrophilic'} -> Instruments, Drills + Taps, Support: 0.7894736842105263, Confidence: 1.0\n",
      "Rule: {'Instruments, Drills + Taps', 'BLAT TiZr Implants, hydrophilic', 'Instruments, Cases + Others'} -> BL Healing Surgical, Support: 0.7894736842105263, Confidence: 1.0\n",
      "Rule: {'BL Healing Surgical', 'Instruments, Drills + Taps', 'BLAT TiZr Implants, hydrophilic'} -> Instruments, Cases + Others, Support: 0.7894736842105263, Confidence: 1.0\n",
      "Rule: {'BL Healing Surgical', 'Instruments, Drills + Taps', 'Instruments, Cases + Others'} -> BLAT TiZr Implants, hydrophilic, Support: 0.7894736842105263, Confidence: 0.9375000000000001\n",
      "Rule: {'BL Healing Surgical', 'Instruments, Cases + Others', 'BLAT TiZr Implants, hydrophilic'} -> Other Prosthetics, Support: 0.7894736842105263, Confidence: 1.0\n",
      "Rule: {'Other Prosthetics', 'Instruments, Cases + Others', 'BLAT TiZr Implants, hydrophilic'} -> BL Healing Surgical, Support: 0.7894736842105263, Confidence: 1.0\n",
      "Rule: {'Other Prosthetics', 'BL Healing Surgical', 'BLAT TiZr Implants, hydrophilic'} -> Instruments, Cases + Others, Support: 0.7894736842105263, Confidence: 1.0\n",
      "Rule: {'Other Prosthetics', 'BL Healing Surgical', 'Instruments, Cases + Others'} -> BLAT TiZr Implants, hydrophilic, Support: 0.7894736842105263, Confidence: 0.9375000000000001\n",
      "Rule: {'BL Healing Surgical', 'Instruments, Drills + Taps', 'BLAT TiZr Implants, hydrophilic'} -> Other Prosthetics, Support: 0.7894736842105263, Confidence: 1.0\n",
      "Rule: {'Other Prosthetics', 'Instruments, Drills + Taps', 'BLAT TiZr Implants, hydrophilic'} -> BL Healing Surgical, Support: 0.7894736842105263, Confidence: 1.0\n",
      "Rule: {'Other Prosthetics', 'BL Healing Surgical', 'BLAT TiZr Implants, hydrophilic'} -> Instruments, Drills + Taps, Support: 0.7894736842105263, Confidence: 1.0\n",
      "Rule: {'Other Prosthetics', 'BL Healing Surgical', 'Instruments, Drills + Taps'} -> BLAT TiZr Implants, hydrophilic, Support: 0.7894736842105263, Confidence: 0.9375000000000001\n",
      "Rule: {'BL Healing Surgical', 'Instruments, Cases + Others', 'Copings'} -> Instruments, Drills + Taps, Support: 0.7894736842105263, Confidence: 1.0\n",
      "Rule: {'Instruments, Drills + Taps', 'Copings', 'Instruments, Cases + Others'} -> BL Healing Surgical, Support: 0.7894736842105263, Confidence: 1.0\n",
      "Rule: {'BL Healing Surgical', 'Instruments, Drills + Taps', 'Copings'} -> Instruments, Cases + Others, Support: 0.7894736842105263, Confidence: 1.0\n",
      "Rule: {'BL Healing Surgical', 'Instruments, Drills + Taps', 'Instruments, Cases + Others'} -> Copings, Support: 0.7894736842105263, Confidence: 0.9375000000000001\n",
      "Rule: {'BL Healing Surgical', 'Instruments, Cases + Others', 'Copings'} -> Other Prosthetics, Support: 0.7894736842105263, Confidence: 1.0\n",
      "Rule: {'Other Prosthetics', 'Instruments, Cases + Others', 'Copings'} -> BL Healing Surgical, Support: 0.7894736842105263, Confidence: 1.0\n",
      "Rule: {'Other Prosthetics', 'BL Healing Surgical', 'Copings'} -> Instruments, Cases + Others, Support: 0.7894736842105263, Confidence: 1.0\n",
      "Rule: {'Other Prosthetics', 'BL Healing Surgical', 'Instruments, Cases + Others'} -> Copings, Support: 0.7894736842105263, Confidence: 0.9375000000000001\n",
      "Rule: {'BL Healing Surgical', 'Instruments, Drills + Taps', 'Copings'} -> Other Prosthetics, Support: 0.7894736842105263, Confidence: 1.0\n",
      "Rule: {'Other Prosthetics', 'Instruments, Drills + Taps', 'Copings'} -> BL Healing Surgical, Support: 0.7894736842105263, Confidence: 1.0\n",
      "Rule: {'Other Prosthetics', 'BL Healing Surgical', 'Copings'} -> Instruments, Drills + Taps, Support: 0.7894736842105263, Confidence: 1.0\n",
      "Rule: {'Other Prosthetics', 'BL Healing Surgical', 'Instruments, Drills + Taps'} -> Copings, Support: 0.7894736842105263, Confidence: 0.9375000000000001\n",
      "Rule: {'Other Prosthetics', 'BL Healing Surgical', 'Instruments, Cases + Others'} -> Instruments, Drills + Taps, Support: 0.8421052631578947, Confidence: 1.0\n",
      "Rule: {'BL Healing Surgical', 'Instruments, Drills + Taps', 'Instruments, Cases + Others'} -> Other Prosthetics, Support: 0.8421052631578947, Confidence: 1.0\n",
      "Rule: {'Other Prosthetics', 'Instruments, Drills + Taps', 'Instruments, Cases + Others'} -> BL Healing Surgical, Support: 0.8421052631578947, Confidence: 1.0\n",
      "Rule: {'Other Prosthetics', 'BL Healing Surgical', 'Instruments, Drills + Taps'} -> Instruments, Cases + Others, Support: 0.8421052631578947, Confidence: 1.0\n",
      "Rule: {'BLAT TiZr Implants, hydrophilic', 'Instruments, Cases + Others', 'Copings'} -> Instruments, Drills + Taps, Support: 0.7894736842105263, Confidence: 1.0\n",
      "Rule: {'Instruments, Drills + Taps', 'BLAT TiZr Implants, hydrophilic', 'Instruments, Cases + Others'} -> Copings, Support: 0.7894736842105263, Confidence: 1.0\n",
      "Rule: {'BLAT TiZr Implants, hydrophilic', 'Instruments, Drills + Taps', 'Copings'} -> Instruments, Cases + Others, Support: 0.7894736842105263, Confidence: 1.0\n",
      "Rule: {'Instruments, Drills + Taps', 'Copings', 'Instruments, Cases + Others'} -> BLAT TiZr Implants, hydrophilic, Support: 0.7894736842105263, Confidence: 1.0\n",
      "Rule: {'BLAT TiZr Implants, hydrophilic', 'Instruments, Cases + Others', 'Copings'} -> Other Prosthetics, Support: 0.7894736842105263, Confidence: 1.0\n",
      "Rule: {'Other Prosthetics', 'Instruments, Cases + Others', 'BLAT TiZr Implants, hydrophilic'} -> Copings, Support: 0.7894736842105263, Confidence: 1.0\n",
      "Rule: {'BLAT TiZr Implants, hydrophilic', 'Other Prosthetics', 'Copings'} -> Instruments, Cases + Others, Support: 0.7894736842105263, Confidence: 1.0\n",
      "Rule: {'Other Prosthetics', 'Instruments, Cases + Others', 'Copings'} -> BLAT TiZr Implants, hydrophilic, Support: 0.7894736842105263, Confidence: 1.0\n",
      "Rule: {'BLAT TiZr Implants, hydrophilic', 'Instruments, Drills + Taps', 'Copings'} -> Other Prosthetics, Support: 0.7894736842105263, Confidence: 1.0\n",
      "Rule: {'Other Prosthetics', 'Instruments, Drills + Taps', 'BLAT TiZr Implants, hydrophilic'} -> Copings, Support: 0.7894736842105263, Confidence: 1.0\n",
      "Rule: {'BLAT TiZr Implants, hydrophilic', 'Other Prosthetics', 'Copings'} -> Instruments, Drills + Taps, Support: 0.7894736842105263, Confidence: 1.0\n",
      "Rule: {'Other Prosthetics', 'Instruments, Drills + Taps', 'Copings'} -> BLAT TiZr Implants, hydrophilic, Support: 0.7894736842105263, Confidence: 1.0\n",
      "Rule: {'Other Prosthetics', 'Instruments, Cases + Others', 'BLAT TiZr Implants, hydrophilic'} -> Instruments, Drills + Taps, Support: 0.7894736842105263, Confidence: 1.0\n",
      "Rule: {'Instruments, Drills + Taps', 'BLAT TiZr Implants, hydrophilic', 'Instruments, Cases + Others'} -> Other Prosthetics, Support: 0.7894736842105263, Confidence: 1.0\n",
      "Rule: {'Other Prosthetics', 'Instruments, Drills + Taps', 'BLAT TiZr Implants, hydrophilic'} -> Instruments, Cases + Others, Support: 0.7894736842105263, Confidence: 1.0\n",
      "Rule: {'Other Prosthetics', 'Instruments, Drills + Taps', 'Instruments, Cases + Others'} -> BLAT TiZr Implants, hydrophilic, Support: 0.7894736842105263, Confidence: 0.9375000000000001\n",
      "Rule: {'Other Prosthetics', 'Instruments, Cases + Others', 'Copings'} -> Instruments, Drills + Taps, Support: 0.7894736842105263, Confidence: 1.0\n",
      "Rule: {'Instruments, Drills + Taps', 'Copings', 'Instruments, Cases + Others'} -> Other Prosthetics, Support: 0.7894736842105263, Confidence: 1.0\n",
      "Rule: {'Other Prosthetics', 'Instruments, Drills + Taps', 'Copings'} -> Instruments, Cases + Others, Support: 0.7894736842105263, Confidence: 1.0\n",
      "Rule: {'Other Prosthetics', 'Instruments, Drills + Taps', 'Instruments, Cases + Others'} -> Copings, Support: 0.7894736842105263, Confidence: 0.9375000000000001\n",
      "Rule: {'Copings', 'BL Healing Surgical', 'Instruments, Cases + Others', 'BLAT TiZr Implants, hydrophilic'} -> Abutments, SRA, Support: 0.7894736842105263, Confidence: 1.0\n",
      "Rule: {'Abutments, SRA', 'BL Healing Surgical', 'Instruments, Cases + Others', 'Copings'} -> BLAT TiZr Implants, hydrophilic, Support: 0.7894736842105263, Confidence: 1.0\n",
      "Rule: {'Abutments, SRA', 'Copings', 'Instruments, Cases + Others', 'BLAT TiZr Implants, hydrophilic'} -> BL Healing Surgical, Support: 0.7894736842105263, Confidence: 1.0\n",
      "Rule: {'Abutments, SRA', 'Copings', 'BL Healing Surgical', 'BLAT TiZr Implants, hydrophilic'} -> Instruments, Cases + Others, Support: 0.7894736842105263, Confidence: 1.0\n",
      "Rule: {'Abutments, SRA', 'BL Healing Surgical', 'Instruments, Cases + Others', 'BLAT TiZr Implants, hydrophilic'} -> Copings, Support: 0.7894736842105263, Confidence: 1.0\n",
      "Rule: {'Abutments, SRA', 'Copings', 'BL Healing Surgical', 'BLAT TiZr Implants, hydrophilic'} -> Instruments, Drills + Taps, Support: 0.7894736842105263, Confidence: 1.0\n",
      "Rule: {'Copings', 'BL Healing Surgical', 'Instruments, Drills + Taps', 'BLAT TiZr Implants, hydrophilic'} -> Abutments, SRA, Support: 0.7894736842105263, Confidence: 1.0\n",
      "Rule: {'Abutments, SRA', 'BL Healing Surgical', 'Instruments, Drills + Taps', 'Copings'} -> BLAT TiZr Implants, hydrophilic, Support: 0.7894736842105263, Confidence: 1.0\n",
      "Rule: {'Abutments, SRA', 'Copings', 'Instruments, Drills + Taps', 'BLAT TiZr Implants, hydrophilic'} -> BL Healing Surgical, Support: 0.7894736842105263, Confidence: 1.0\n",
      "Rule: {'Abutments, SRA', 'BL Healing Surgical', 'Instruments, Drills + Taps', 'BLAT TiZr Implants, hydrophilic'} -> Copings, Support: 0.7894736842105263, Confidence: 1.0\n",
      "Rule: {'Copings', 'Other Prosthetics', 'BL Healing Surgical', 'BLAT TiZr Implants, hydrophilic'} -> Abutments, SRA, Support: 0.7894736842105263, Confidence: 1.0\n",
      "Rule: {'Abutments, SRA', 'Other Prosthetics', 'BL Healing Surgical', 'Copings'} -> BLAT TiZr Implants, hydrophilic, Support: 0.7894736842105263, Confidence: 1.0\n",
      "Rule: {'Abutments, SRA', 'Copings', 'BL Healing Surgical', 'BLAT TiZr Implants, hydrophilic'} -> Other Prosthetics, Support: 0.7894736842105263, Confidence: 1.0\n",
      "Rule: {'Abutments, SRA', 'Other Prosthetics', 'Copings', 'BLAT TiZr Implants, hydrophilic'} -> BL Healing Surgical, Support: 0.7894736842105263, Confidence: 1.0\n",
      "Rule: {'Abutments, SRA', 'Other Prosthetics', 'BL Healing Surgical', 'BLAT TiZr Implants, hydrophilic'} -> Copings, Support: 0.7894736842105263, Confidence: 1.0\n",
      "Rule: {'Abutments, SRA', 'BL Healing Surgical', 'Instruments, Cases + Others', 'BLAT TiZr Implants, hydrophilic'} -> Instruments, Drills + Taps, Support: 0.7894736842105263, Confidence: 1.0\n",
      "Rule: {'BL Healing Surgical', 'Instruments, Drills + Taps', 'BLAT TiZr Implants, hydrophilic', 'Instruments, Cases + Others'} -> Abutments, SRA, Support: 0.7894736842105263, Confidence: 1.0\n",
      "Rule: {'Abutments, SRA', 'BL Healing Surgical', 'Instruments, Drills + Taps', 'Instruments, Cases + Others'} -> BLAT TiZr Implants, hydrophilic, Support: 0.7894736842105263, Confidence: 0.9375000000000001\n",
      "Rule: {'Abutments, SRA', 'Instruments, Drills + Taps', 'BLAT TiZr Implants, hydrophilic', 'Instruments, Cases + Others'} -> BL Healing Surgical, Support: 0.7894736842105263, Confidence: 1.0\n",
      "Rule: {'Abutments, SRA', 'BL Healing Surgical', 'Instruments, Drills + Taps', 'BLAT TiZr Implants, hydrophilic'} -> Instruments, Cases + Others, Support: 0.7894736842105263, Confidence: 1.0\n",
      "Rule: {'Other Prosthetics', 'BL Healing Surgical', 'Instruments, Cases + Others', 'BLAT TiZr Implants, hydrophilic'} -> Abutments, SRA, Support: 0.7894736842105263, Confidence: 1.0\n",
      "Rule: {'Abutments, SRA', 'Other Prosthetics', 'BL Healing Surgical', 'Instruments, Cases + Others'} -> BLAT TiZr Implants, hydrophilic, Support: 0.7894736842105263, Confidence: 0.9375000000000001\n",
      "Rule: {'Abutments, SRA', 'BL Healing Surgical', 'Instruments, Cases + Others', 'BLAT TiZr Implants, hydrophilic'} -> Other Prosthetics, Support: 0.7894736842105263, Confidence: 1.0\n",
      "Rule: {'Abutments, SRA', 'Other Prosthetics', 'Instruments, Cases + Others', 'BLAT TiZr Implants, hydrophilic'} -> BL Healing Surgical, Support: 0.7894736842105263, Confidence: 1.0\n",
      "Rule: {'Abutments, SRA', 'Other Prosthetics', 'BL Healing Surgical', 'BLAT TiZr Implants, hydrophilic'} -> Instruments, Cases + Others, Support: 0.7894736842105263, Confidence: 1.0\n",
      "Rule: {'Abutments, SRA', 'Other Prosthetics', 'BL Healing Surgical', 'BLAT TiZr Implants, hydrophilic'} -> Instruments, Drills + Taps, Support: 0.7894736842105263, Confidence: 1.0\n",
      "Rule: {'Other Prosthetics', 'BL Healing Surgical', 'Instruments, Drills + Taps', 'BLAT TiZr Implants, hydrophilic'} -> Abutments, SRA, Support: 0.7894736842105263, Confidence: 1.0\n",
      "Rule: {'Abutments, SRA', 'Other Prosthetics', 'BL Healing Surgical', 'Instruments, Drills + Taps'} -> BLAT TiZr Implants, hydrophilic, Support: 0.7894736842105263, Confidence: 0.9375000000000001\n",
      "Rule: {'Abutments, SRA', 'BL Healing Surgical', 'Instruments, Drills + Taps', 'BLAT TiZr Implants, hydrophilic'} -> Other Prosthetics, Support: 0.7894736842105263, Confidence: 1.0\n",
      "Rule: {'Abutments, SRA', 'Other Prosthetics', 'Instruments, Drills + Taps', 'BLAT TiZr Implants, hydrophilic'} -> BL Healing Surgical, Support: 0.7894736842105263, Confidence: 1.0\n",
      "Rule: {'Abutments, SRA', 'BL Healing Surgical', 'Instruments, Cases + Others', 'Copings'} -> Instruments, Drills + Taps, Support: 0.7894736842105263, Confidence: 1.0\n",
      "Rule: {'BL Healing Surgical', 'Instruments, Drills + Taps', 'Copings', 'Instruments, Cases + Others'} -> Abutments, SRA, Support: 0.7894736842105263, Confidence: 1.0\n",
      "Rule: {'Abutments, SRA', 'Instruments, Drills + Taps', 'Copings', 'Instruments, Cases + Others'} -> BL Healing Surgical, Support: 0.7894736842105263, Confidence: 1.0\n",
      "Rule: {'Abutments, SRA', 'BL Healing Surgical', 'Instruments, Drills + Taps', 'Copings'} -> Instruments, Cases + Others, Support: 0.7894736842105263, Confidence: 1.0\n",
      "Rule: {'Abutments, SRA', 'BL Healing Surgical', 'Instruments, Drills + Taps', 'Instruments, Cases + Others'} -> Copings, Support: 0.7894736842105263, Confidence: 0.9375000000000001\n",
      "Rule: {'Other Prosthetics', 'BL Healing Surgical', 'Instruments, Cases + Others', 'Copings'} -> Abutments, SRA, Support: 0.7894736842105263, Confidence: 1.0\n",
      "Rule: {'Abutments, SRA', 'BL Healing Surgical', 'Instruments, Cases + Others', 'Copings'} -> Other Prosthetics, Support: 0.7894736842105263, Confidence: 1.0\n",
      "Rule: {'Abutments, SRA', 'Other Prosthetics', 'Instruments, Cases + Others', 'Copings'} -> BL Healing Surgical, Support: 0.7894736842105263, Confidence: 1.0\n",
      "Rule: {'Abutments, SRA', 'Other Prosthetics', 'BL Healing Surgical', 'Copings'} -> Instruments, Cases + Others, Support: 0.7894736842105263, Confidence: 1.0\n",
      "Rule: {'Abutments, SRA', 'Other Prosthetics', 'BL Healing Surgical', 'Instruments, Cases + Others'} -> Copings, Support: 0.7894736842105263, Confidence: 0.9375000000000001\n",
      "Rule: {'Abutments, SRA', 'Other Prosthetics', 'BL Healing Surgical', 'Copings'} -> Instruments, Drills + Taps, Support: 0.7894736842105263, Confidence: 1.0\n",
      "Rule: {'Other Prosthetics', 'BL Healing Surgical', 'Instruments, Drills + Taps', 'Copings'} -> Abutments, SRA, Support: 0.7894736842105263, Confidence: 1.0\n",
      "Rule: {'Abutments, SRA', 'BL Healing Surgical', 'Instruments, Drills + Taps', 'Copings'} -> Other Prosthetics, Support: 0.7894736842105263, Confidence: 1.0\n",
      "Rule: {'Abutments, SRA', 'Other Prosthetics', 'Instruments, Drills + Taps', 'Copings'} -> BL Healing Surgical, Support: 0.7894736842105263, Confidence: 1.0\n",
      "Rule: {'Abutments, SRA', 'Other Prosthetics', 'BL Healing Surgical', 'Instruments, Drills + Taps'} -> Copings, Support: 0.7894736842105263, Confidence: 0.9375000000000001\n",
      "Rule: {'Abutments, SRA', 'Other Prosthetics', 'BL Healing Surgical', 'Instruments, Cases + Others'} -> Instruments, Drills + Taps, Support: 0.8421052631578947, Confidence: 1.0\n",
      "Rule: {'Other Prosthetics', 'BL Healing Surgical', 'Instruments, Drills + Taps', 'Instruments, Cases + Others'} -> Abutments, SRA, Support: 0.8421052631578947, Confidence: 1.0\n",
      "Rule: {'Abutments, SRA', 'BL Healing Surgical', 'Instruments, Drills + Taps', 'Instruments, Cases + Others'} -> Other Prosthetics, Support: 0.8421052631578947, Confidence: 1.0\n",
      "Rule: {'Abutments, SRA', 'Other Prosthetics', 'Instruments, Drills + Taps', 'Instruments, Cases + Others'} -> BL Healing Surgical, Support: 0.8421052631578947, Confidence: 1.0\n",
      "Rule: {'Abutments, SRA', 'Other Prosthetics', 'BL Healing Surgical', 'Instruments, Drills + Taps'} -> Instruments, Cases + Others, Support: 0.8421052631578947, Confidence: 1.0\n",
      "Rule: {'Abutments, SRA', 'Copings', 'Instruments, Cases + Others', 'BLAT TiZr Implants, hydrophilic'} -> Instruments, Drills + Taps, Support: 0.7894736842105263, Confidence: 1.0\n",
      "Rule: {'Copings', 'Instruments, Drills + Taps', 'BLAT TiZr Implants, hydrophilic', 'Instruments, Cases + Others'} -> Abutments, SRA, Support: 0.7894736842105263, Confidence: 1.0\n",
      "Rule: {'Abutments, SRA', 'Instruments, Drills + Taps', 'Copings', 'Instruments, Cases + Others'} -> BLAT TiZr Implants, hydrophilic, Support: 0.7894736842105263, Confidence: 1.0\n",
      "Rule: {'Abutments, SRA', 'Copings', 'Instruments, Drills + Taps', 'BLAT TiZr Implants, hydrophilic'} -> Instruments, Cases + Others, Support: 0.7894736842105263, Confidence: 1.0\n",
      "Rule: {'Abutments, SRA', 'Instruments, Drills + Taps', 'BLAT TiZr Implants, hydrophilic', 'Instruments, Cases + Others'} -> Copings, Support: 0.7894736842105263, Confidence: 1.0\n",
      "Rule: {'Other Prosthetics', 'Copings', 'Instruments, Cases + Others', 'BLAT TiZr Implants, hydrophilic'} -> Abutments, SRA, Support: 0.7894736842105263, Confidence: 1.0\n",
      "Rule: {'Abutments, SRA', 'Other Prosthetics', 'Instruments, Cases + Others', 'Copings'} -> BLAT TiZr Implants, hydrophilic, Support: 0.7894736842105263, Confidence: 1.0\n",
      "Rule: {'Abutments, SRA', 'Copings', 'Instruments, Cases + Others', 'BLAT TiZr Implants, hydrophilic'} -> Other Prosthetics, Support: 0.7894736842105263, Confidence: 1.0\n",
      "Rule: {'Abutments, SRA', 'Other Prosthetics', 'Copings', 'BLAT TiZr Implants, hydrophilic'} -> Instruments, Cases + Others, Support: 0.7894736842105263, Confidence: 1.0\n",
      "Rule: {'Abutments, SRA', 'Other Prosthetics', 'Instruments, Cases + Others', 'BLAT TiZr Implants, hydrophilic'} -> Copings, Support: 0.7894736842105263, Confidence: 1.0\n",
      "Rule: {'Abutments, SRA', 'Other Prosthetics', 'Copings', 'BLAT TiZr Implants, hydrophilic'} -> Instruments, Drills + Taps, Support: 0.7894736842105263, Confidence: 1.0\n",
      "Rule: {'Other Prosthetics', 'Copings', 'Instruments, Drills + Taps', 'BLAT TiZr Implants, hydrophilic'} -> Abutments, SRA, Support: 0.7894736842105263, Confidence: 1.0\n",
      "Rule: {'Abutments, SRA', 'Other Prosthetics', 'Instruments, Drills + Taps', 'Copings'} -> BLAT TiZr Implants, hydrophilic, Support: 0.7894736842105263, Confidence: 1.0\n",
      "Rule: {'Abutments, SRA', 'Copings', 'Instruments, Drills + Taps', 'BLAT TiZr Implants, hydrophilic'} -> Other Prosthetics, Support: 0.7894736842105263, Confidence: 1.0\n",
      "Rule: {'Abutments, SRA', 'Other Prosthetics', 'Instruments, Drills + Taps', 'BLAT TiZr Implants, hydrophilic'} -> Copings, Support: 0.7894736842105263, Confidence: 1.0\n",
      "Rule: {'Abutments, SRA', 'Other Prosthetics', 'Instruments, Cases + Others', 'BLAT TiZr Implants, hydrophilic'} -> Instruments, Drills + Taps, Support: 0.7894736842105263, Confidence: 1.0\n",
      "Rule: {'Other Prosthetics', 'Instruments, Drills + Taps', 'BLAT TiZr Implants, hydrophilic', 'Instruments, Cases + Others'} -> Abutments, SRA, Support: 0.7894736842105263, Confidence: 1.0\n",
      "Rule: {'Abutments, SRA', 'Other Prosthetics', 'Instruments, Drills + Taps', 'Instruments, Cases + Others'} -> BLAT TiZr Implants, hydrophilic, Support: 0.7894736842105263, Confidence: 0.9375000000000001\n",
      "Rule: {'Abutments, SRA', 'Instruments, Drills + Taps', 'BLAT TiZr Implants, hydrophilic', 'Instruments, Cases + Others'} -> Other Prosthetics, Support: 0.7894736842105263, Confidence: 1.0\n",
      "Rule: {'Abutments, SRA', 'Other Prosthetics', 'Instruments, Drills + Taps', 'BLAT TiZr Implants, hydrophilic'} -> Instruments, Cases + Others, Support: 0.7894736842105263, Confidence: 1.0\n",
      "Rule: {'Abutments, SRA', 'Other Prosthetics', 'Instruments, Cases + Others', 'Copings'} -> Instruments, Drills + Taps, Support: 0.7894736842105263, Confidence: 1.0\n",
      "Rule: {'Other Prosthetics', 'Instruments, Drills + Taps', 'Copings', 'Instruments, Cases + Others'} -> Abutments, SRA, Support: 0.7894736842105263, Confidence: 1.0\n",
      "Rule: {'Abutments, SRA', 'Instruments, Drills + Taps', 'Copings', 'Instruments, Cases + Others'} -> Other Prosthetics, Support: 0.7894736842105263, Confidence: 1.0\n",
      "Rule: {'Abutments, SRA', 'Other Prosthetics', 'Instruments, Drills + Taps', 'Copings'} -> Instruments, Cases + Others, Support: 0.7894736842105263, Confidence: 1.0\n",
      "Rule: {'Abutments, SRA', 'Other Prosthetics', 'Instruments, Drills + Taps', 'Instruments, Cases + Others'} -> Copings, Support: 0.7894736842105263, Confidence: 0.9375000000000001\n",
      "Rule: {'Copings', 'BL Healing Surgical', 'Instruments, Cases + Others', 'BLAT TiZr Implants, hydrophilic'} -> Instruments, Drills + Taps, Support: 0.7894736842105263, Confidence: 1.0\n",
      "Rule: {'BL Healing Surgical', 'Instruments, Drills + Taps', 'Copings', 'Instruments, Cases + Others'} -> BLAT TiZr Implants, hydrophilic, Support: 0.7894736842105263, Confidence: 1.0\n",
      "Rule: {'Copings', 'Instruments, Drills + Taps', 'BLAT TiZr Implants, hydrophilic', 'Instruments, Cases + Others'} -> BL Healing Surgical, Support: 0.7894736842105263, Confidence: 1.0\n",
      "Rule: {'Copings', 'BL Healing Surgical', 'Instruments, Drills + Taps', 'BLAT TiZr Implants, hydrophilic'} -> Instruments, Cases + Others, Support: 0.7894736842105263, Confidence: 1.0\n",
      "Rule: {'BL Healing Surgical', 'Instruments, Drills + Taps', 'BLAT TiZr Implants, hydrophilic', 'Instruments, Cases + Others'} -> Copings, Support: 0.7894736842105263, Confidence: 1.0\n",
      "Rule: {'Other Prosthetics', 'BL Healing Surgical', 'Instruments, Cases + Others', 'Copings'} -> BLAT TiZr Implants, hydrophilic, Support: 0.7894736842105263, Confidence: 1.0\n",
      "Rule: {'Copings', 'BL Healing Surgical', 'Instruments, Cases + Others', 'BLAT TiZr Implants, hydrophilic'} -> Other Prosthetics, Support: 0.7894736842105263, Confidence: 1.0\n",
      "Rule: {'Other Prosthetics', 'Copings', 'Instruments, Cases + Others', 'BLAT TiZr Implants, hydrophilic'} -> BL Healing Surgical, Support: 0.7894736842105263, Confidence: 1.0\n",
      "Rule: {'Copings', 'Other Prosthetics', 'BL Healing Surgical', 'BLAT TiZr Implants, hydrophilic'} -> Instruments, Cases + Others, Support: 0.7894736842105263, Confidence: 1.0\n",
      "Rule: {'Other Prosthetics', 'BL Healing Surgical', 'Instruments, Cases + Others', 'BLAT TiZr Implants, hydrophilic'} -> Copings, Support: 0.7894736842105263, Confidence: 1.0\n",
      "Rule: {'Copings', 'Other Prosthetics', 'BL Healing Surgical', 'BLAT TiZr Implants, hydrophilic'} -> Instruments, Drills + Taps, Support: 0.7894736842105263, Confidence: 1.0\n",
      "Rule: {'Other Prosthetics', 'BL Healing Surgical', 'Instruments, Drills + Taps', 'Copings'} -> BLAT TiZr Implants, hydrophilic, Support: 0.7894736842105263, Confidence: 1.0\n",
      "Rule: {'Copings', 'BL Healing Surgical', 'Instruments, Drills + Taps', 'BLAT TiZr Implants, hydrophilic'} -> Other Prosthetics, Support: 0.7894736842105263, Confidence: 1.0\n",
      "Rule: {'Other Prosthetics', 'Copings', 'Instruments, Drills + Taps', 'BLAT TiZr Implants, hydrophilic'} -> BL Healing Surgical, Support: 0.7894736842105263, Confidence: 1.0\n",
      "Rule: {'Other Prosthetics', 'BL Healing Surgical', 'Instruments, Drills + Taps', 'BLAT TiZr Implants, hydrophilic'} -> Copings, Support: 0.7894736842105263, Confidence: 1.0\n",
      "Rule: {'Other Prosthetics', 'BL Healing Surgical', 'Instruments, Cases + Others', 'BLAT TiZr Implants, hydrophilic'} -> Instruments, Drills + Taps, Support: 0.7894736842105263, Confidence: 1.0\n",
      "Rule: {'Other Prosthetics', 'BL Healing Surgical', 'Instruments, Drills + Taps', 'Instruments, Cases + Others'} -> BLAT TiZr Implants, hydrophilic, Support: 0.7894736842105263, Confidence: 0.9375000000000001\n",
      "Rule: {'BL Healing Surgical', 'Instruments, Drills + Taps', 'BLAT TiZr Implants, hydrophilic', 'Instruments, Cases + Others'} -> Other Prosthetics, Support: 0.7894736842105263, Confidence: 1.0\n",
      "Rule: {'Other Prosthetics', 'Instruments, Drills + Taps', 'BLAT TiZr Implants, hydrophilic', 'Instruments, Cases + Others'} -> BL Healing Surgical, Support: 0.7894736842105263, Confidence: 1.0\n",
      "Rule: {'Other Prosthetics', 'BL Healing Surgical', 'Instruments, Drills + Taps', 'BLAT TiZr Implants, hydrophilic'} -> Instruments, Cases + Others, Support: 0.7894736842105263, Confidence: 1.0\n",
      "Rule: {'Other Prosthetics', 'BL Healing Surgical', 'Instruments, Cases + Others', 'Copings'} -> Instruments, Drills + Taps, Support: 0.7894736842105263, Confidence: 1.0\n",
      "Rule: {'BL Healing Surgical', 'Instruments, Drills + Taps', 'Copings', 'Instruments, Cases + Others'} -> Other Prosthetics, Support: 0.7894736842105263, Confidence: 1.0\n",
      "Rule: {'Other Prosthetics', 'Instruments, Drills + Taps', 'Copings', 'Instruments, Cases + Others'} -> BL Healing Surgical, Support: 0.7894736842105263, Confidence: 1.0\n",
      "Rule: {'Other Prosthetics', 'BL Healing Surgical', 'Instruments, Drills + Taps', 'Copings'} -> Instruments, Cases + Others, Support: 0.7894736842105263, Confidence: 1.0\n",
      "Rule: {'Other Prosthetics', 'BL Healing Surgical', 'Instruments, Drills + Taps', 'Instruments, Cases + Others'} -> Copings, Support: 0.7894736842105263, Confidence: 0.9375000000000001\n",
      "Rule: {'Other Prosthetics', 'Copings', 'Instruments, Cases + Others', 'BLAT TiZr Implants, hydrophilic'} -> Instruments, Drills + Taps, Support: 0.7894736842105263, Confidence: 1.0\n",
      "Rule: {'Other Prosthetics', 'Instruments, Drills + Taps', 'Copings', 'Instruments, Cases + Others'} -> BLAT TiZr Implants, hydrophilic, Support: 0.7894736842105263, Confidence: 1.0\n",
      "Rule: {'Copings', 'Instruments, Drills + Taps', 'BLAT TiZr Implants, hydrophilic', 'Instruments, Cases + Others'} -> Other Prosthetics, Support: 0.7894736842105263, Confidence: 1.0\n",
      "Rule: {'Other Prosthetics', 'Copings', 'Instruments, Drills + Taps', 'BLAT TiZr Implants, hydrophilic'} -> Instruments, Cases + Others, Support: 0.7894736842105263, Confidence: 1.0\n",
      "Rule: {'Other Prosthetics', 'Instruments, Drills + Taps', 'BLAT TiZr Implants, hydrophilic', 'Instruments, Cases + Others'} -> Copings, Support: 0.7894736842105263, Confidence: 1.0\n"
     ]
    }
   ],
   "source": [
    "def generate_rules(frequent_itemsets, min_confidence):\n",
    "    rules = []\n",
    "    for itemset in frequent_itemsets:\n",
    "        if len(itemset) > 1:\n",
    "            for consequence in itemset:\n",
    "                antecedent = itemset - frozenset([consequence])\n",
    "                support = frequent_itemsets[itemset]\n",
    "                confidence = support / frequent_itemsets[antecedent]\n",
    "                if confidence >= min_confidence:\n",
    "                    rules.append((antecedent, consequence, support, confidence))\n",
    "    return rules\n",
    "\n",
    "# Generate association rules\n",
    "min_confidence = 0.6\n",
    "association_rules = generate_rules(frequent_itemsets, min_confidence)\n",
    "\n",
    "# Display the association rules\n",
    "print(\"Association Rules:\")\n",
    "for rule in association_rules:\n",
    "    print(f\"Rule: {set(rule[0])} -> {rule[1]}, Support: {rule[2]}, Confidence: {rule[3]}\")\n"
   ]
  },
  {
   "cell_type": "markdown",
   "metadata": {},
   "source": [
    "predictive modeling...."
   ]
  },
  {
   "cell_type": "code",
   "execution_count": 44,
   "metadata": {},
   "outputs": [
    {
     "name": "stdout",
     "output_type": "stream",
     "text": [
      "Shape of X_train_prepared: (2533755, 29)\n",
      "Shape of X_test_prepared: (633439, 29)\n",
      "Shape of y_train: (2533755,)\n",
      "Shape of y_test: (633439,)\n"
     ]
    }
   ],
   "source": [
    "from sklearn.model_selection import train_test_split\n",
    "from sklearn.preprocessing import OneHotEncoder\n",
    "from sklearn.compose import ColumnTransformer\n",
    "from sklearn.pipeline import Pipeline\n",
    "\n",
    "# Selecting features and target variable\n",
    "X = combined_df[['customer_group', 'Sales_Channel', 'PRH1']]\n",
    "y = combined_df['PRH4']\n",
    "\n",
    "# Identifying categorical columns\n",
    "categorical_cols = X.select_dtypes(include=['object']).columns\n",
    "\n",
    "# Preprocessing pipeline for categorical data\n",
    "categorical_transformer = Pipeline(steps=[\n",
    "    ('onehot', OneHotEncoder(handle_unknown='ignore'))\n",
    "])\n",
    "\n",
    "# Bundle preprocessing for categorical data\n",
    "preprocessor = ColumnTransformer(\n",
    "    transformers=[\n",
    "        ('cat', categorical_transformer, categorical_cols)\n",
    "    ])\n",
    "\n",
    "# Splitting the data\n",
    "X_train, X_test, y_train, y_test = train_test_split(X, y, test_size=0.2, random_state=42)\n",
    "\n",
    "# Apply the preprocessing pipeline to the training data\n",
    "X_train_prepared = preprocessor.fit_transform(X_train)\n",
    "X_test_prepared = preprocessor.transform(X_test)\n",
    "\n",
    "# Display the shapes to ensure everything is in order\n",
    "print(\"Shape of X_train_prepared:\", X_train_prepared.shape)\n",
    "print(\"Shape of X_test_prepared:\", X_test_prepared.shape)\n",
    "print(\"Shape of y_train:\", y_train.shape)\n",
    "print(\"Shape of y_test:\", y_test.shape)\n"
   ]
  },
  {
   "cell_type": "markdown",
   "metadata": {},
   "source": [
    "classification models..."
   ]
  },
  {
   "cell_type": "code",
   "execution_count": 45,
   "metadata": {},
   "outputs": [
    {
     "name": "stderr",
     "output_type": "stream",
     "text": [
      "/var/folders/ml/1sknl6qj14l1s_km288t5qr00000gp/T/ipykernel_33346/3816127905.py:9: FutureWarning:\n",
      "\n",
      "A value is trying to be set on a copy of a DataFrame or Series through chained assignment using an inplace method.\n",
      "The behavior will change in pandas 3.0. This inplace method will never work because the intermediate object on which we are setting values always behaves as a copy.\n",
      "\n",
      "For example, when doing 'df[col].method(value, inplace=True)', try using 'df.method({col: value}, inplace=True)' or df[col] = df[col].method(value) instead, to perform the operation inplace on the original object.\n",
      "\n",
      "\n",
      "\n"
     ]
    },
    {
     "name": "stdout",
     "output_type": "stream",
     "text": [
      "NaN values in X_train_prepared after imputation and encoding:\n",
      " 0\n",
      "NaN values in X_test_prepared after imputation and encoding:\n",
      " 0\n"
     ]
    }
   ],
   "source": [
    "from sklearn.impute import SimpleImputer\n",
    "from sklearn.preprocessing import OneHotEncoder\n",
    "from sklearn.compose import ColumnTransformer\n",
    "from sklearn.pipeline import Pipeline\n",
    "from sklearn.model_selection import train_test_split\n",
    "\n",
    "# Fill NaN values in 'PRH4' and 'customer_group'\n",
    "combined_df['PRH4'].fillna('missing', inplace=True)\n",
    "combined_df['customer_group'].fillna('missing', inplace=True)\n",
    "\n",
    "# Selecting features and target variable\n",
    "X = combined_df[['customer_group', 'Sales_Channel', 'PRH1']]\n",
    "y = combined_df['PRH4']\n",
    "\n",
    "# Identifying categorical columns\n",
    "categorical_cols = X.select_dtypes(include=['object']).columns\n",
    "\n",
    "# Preprocessing pipeline for categorical data with imputation and one-hot encoding\n",
    "categorical_transformer = Pipeline(steps=[\n",
    "    ('onehot', OneHotEncoder(handle_unknown='ignore'))    # One-hot encode categorical variables\n",
    "])\n",
    "\n",
    "# Bundle preprocessing for categorical data\n",
    "preprocessor = ColumnTransformer(\n",
    "    transformers=[\n",
    "        ('cat', categorical_transformer, categorical_cols)\n",
    "    ])\n",
    "\n",
    "# Splitting the data\n",
    "X_train, X_test, y_train, y_test = train_test_split(X, y, test_size=0.2, random_state=42)\n",
    "\n",
    "# Apply the preprocessing pipeline to the training data\n",
    "X_train_prepared = preprocessor.fit_transform(X_train)\n",
    "X_test_prepared = preprocessor.transform(X_test)\n",
    "\n",
    "# Convert the preprocessed data to DataFrames to check for NaN values\n",
    "X_train_prepared_df = pd.DataFrame(X_train_prepared.toarray() if hasattr(X_train_prepared, 'toarray') else X_train_prepared)\n",
    "X_test_prepared_df = pd.DataFrame(X_test_prepared.toarray() if hasattr(X_test_prepared, 'toarray') else X_test_prepared)\n",
    "\n",
    "# Verify that there are no NaN values\n",
    "print(\"NaN values in X_train_prepared after imputation and encoding:\\n\", X_train_prepared_df.isnull().sum().sum())\n",
    "print(\"NaN values in X_test_prepared after imputation and encoding:\\n\", X_test_prepared_df.isnull().sum().sum())\n"
   ]
  },
  {
   "cell_type": "markdown",
   "metadata": {},
   "source": [
    "sgdc...."
   ]
  },
  {
   "cell_type": "code",
   "execution_count": 46,
   "metadata": {},
   "outputs": [
    {
     "name": "stderr",
     "output_type": "stream",
     "text": [
      "/Users/SASANKYADAV1/Library/Python/3.12/lib/python/site-packages/sklearn/metrics/_classification.py:1509: UndefinedMetricWarning:\n",
      "\n",
      "Precision is ill-defined and being set to 0.0 in labels with no predicted samples. Use `zero_division` parameter to control this behavior.\n",
      "\n",
      "/Users/SASANKYADAV1/Library/Python/3.12/lib/python/site-packages/sklearn/metrics/_classification.py:1509: UndefinedMetricWarning:\n",
      "\n",
      "Precision is ill-defined and being set to 0.0 in labels with no predicted samples. Use `zero_division` parameter to control this behavior.\n",
      "\n"
     ]
    },
    {
     "name": "stdout",
     "output_type": "stream",
     "text": [
      "SGDClassifier Accuracy: 0.3481219186062115\n",
      "Classification Report:\n",
      "                                     precision    recall  f1-score   support\n",
      "\n",
      "           Abutments, Customizable       0.00      0.00      0.00      1705\n",
      "             Abutments, Customized       0.00      0.00      0.00         1\n",
      "             Abutments, Edentulous       0.00      0.00      0.00     16894\n",
      "                    Abutments, SRA       0.00      0.00      0.00     23866\n",
      "                Abutments, Ti Base       0.00      0.00      0.00     29364\n",
      "  Abutments, single tooth + bridge       0.00      0.00      0.00     12409\n",
      "        Allogenic Bone Substitutes       0.53      0.82      0.64     12749\n",
      "      Allogenic Soft Tissue Grafts       0.04      0.28      0.07       486\n",
      "               BL Healing Surgical       0.30      0.38      0.33     78878\n",
      "     BLAT Ti Implants, hydrophilic       0.11      0.89      0.20     20639\n",
      "        BLAT Ti Implants, standard       0.00      0.00      0.00     35202\n",
      "    BLAT Ti Implants, standard EXT       0.00      0.00      0.00         2\n",
      "   BLAT TiZr Implants, hydrophilic       0.22      0.02      0.04     38320\n",
      "BLAT TiZr Implants, hydrophilic TF       0.00      0.00      0.00       541\n",
      "      BLAT TiZr Implants, standard       0.05      0.00      0.01     24817\n",
      "     BLFT Ti Implants, hydrophilic       0.00      0.00      0.00      1164\n",
      "        BLFT Ti Implants, standard       0.00      0.00      0.00      1655\n",
      "BLFT TiZr Implants, hydrophilic TF       0.00      0.00      0.00     20211\n",
      "   BLFT TiZr Implants, standard TF       0.00      0.00      0.00     13976\n",
      "     BLPW Ti Implants, hydrophilic       0.00      0.00      0.00       125\n",
      "        BLPW Ti Implants, standard       0.00      0.00      0.00      1082\n",
      "   BLPW TiZr Implants, hydrophilic       0.00      0.00      0.00      9012\n",
      "      BLPW TiZr Implants, standard       0.00      0.00      0.00      7810\n",
      "                            Blocks       0.97      0.26      0.41       498\n",
      "         Bovine Collagen Membranes       0.00      0.00      0.00       860\n",
      "              Ceramic Implants, BL       0.00      0.00      0.00       112\n",
      "              Ceramic Implants, TL       0.00      0.16      0.01       705\n",
      "                    Collagen Plugs       0.00      0.00      0.00       676\n",
      "              Consumables, Liquids       0.00      0.00      0.00       837\n",
      "                           Copings       0.00      0.00      0.00      9052\n",
      "                Customer Education       0.00      0.00      0.00       200\n",
      "      Digital Accessories + Others       0.59      0.92      0.72      3517\n",
      "                             Discs       0.47      0.23      0.31      1528\n",
      "                          Emdogain       0.00      0.00      0.00      4597\n",
      "        In-lab 3D Printer Hardware       0.00      0.00      0.00        61\n",
      "           In-lab Milling Hardware       0.00      0.00      0.00        15\n",
      "     Instruments + Auxiliaries GBR       0.00      0.00      0.00      1009\n",
      "       Instruments, Cases + Others       0.68      0.08      0.15     32017\n",
      "        Instruments, Drills + Taps       0.16      0.01      0.02     31355\n",
      "                IntraOral Hardware       0.00      0.00      0.00       464\n",
      "        Lab Scan + Design Hardware       0.00      0.00      0.00         6\n",
      "          Local 3rd Party Products       0.77      1.00      0.87      2143\n",
      "            Miscellaneous + Others       0.00      0.00      0.00       432\n",
      "                    Other Implants       0.00      0.00      0.00       245\n",
      "                Other Orthodontics       0.00      0.00      0.00         1\n",
      "                 Other Prosthetics       0.57      1.00      0.73    150944\n",
      "       Other Restorative Solutions       0.00      0.00      0.00     17263\n",
      "                    Other Services       0.00      0.00      0.00        35\n",
      "          Other Software + License       0.00      0.00      0.00       213\n",
      "        Porcine Collagen Membranes       0.00      0.00      0.00      3642\n",
      "                        Prevention       0.00      0.00      0.00         1\n",
      "                              SRBB       0.00      0.00      0.00        91\n",
      "       Surgical Equipment + Others       0.00      0.00      0.00        81\n",
      "        Surgical Planning Services       0.66      0.42      0.51      1877\n",
      "        Surgical Planning Software       0.00      0.00      0.00       484\n",
      "        Synthetic Bone Substitutes       0.00      0.00      0.00       193\n",
      "               TL Healing Surgical       0.00      0.00      0.00      5590\n",
      "     TLAT Ti Implants, hydrophilic       0.00      0.00      0.00       176\n",
      "TLAT TiZr Implants, hydrophilic TF       0.00      0.00      0.00        62\n",
      "TLFT TiZr Implants, hydrophilic TF       0.00      0.09      0.01      1281\n",
      "   TLFT TiZr Implants, standard TF       0.00      0.00      0.00        61\n",
      "        TLPW Ti Implants, standard       0.00      0.00      0.00       455\n",
      "   TLPW TiZr Implants, hydrophilic       0.00      0.00      0.00      3817\n",
      "      TLPW TiZr Implants, standard       0.00      0.00      0.00      3081\n",
      "        Xenogenic Bone Substitutes       0.00      0.00      0.00      1511\n",
      "                Zygomatic Implants       0.00      0.00      0.00      1299\n",
      "                           missing       1.00      1.00      1.00        44\n",
      "\n",
      "                          accuracy                           0.35    633439\n",
      "                         macro avg       0.11      0.11      0.09    633439\n",
      "                      weighted avg       0.26      0.35      0.26    633439\n",
      "\n"
     ]
    },
    {
     "name": "stderr",
     "output_type": "stream",
     "text": [
      "/Users/SASANKYADAV1/Library/Python/3.12/lib/python/site-packages/sklearn/metrics/_classification.py:1509: UndefinedMetricWarning:\n",
      "\n",
      "Precision is ill-defined and being set to 0.0 in labels with no predicted samples. Use `zero_division` parameter to control this behavior.\n",
      "\n"
     ]
    }
   ],
   "source": [
    "from sklearn.linear_model import SGDClassifier\n",
    "from sklearn.metrics import accuracy_score, classification_report\n",
    "\n",
    "# Train SGDClassifier model\n",
    "sgd_clf = SGDClassifier(random_state=42, max_iter=1000, tol=1e-3)\n",
    "sgd_clf.fit(X_train_prepared, y_train)\n",
    "\n",
    "# Make predictions\n",
    "y_pred_sgd = sgd_clf.predict(X_test_prepared)\n",
    "\n",
    "# Evaluate the model\n",
    "accuracy_sgd = accuracy_score(y_test, y_pred_sgd)\n",
    "class_report_sgd = classification_report(y_test, y_pred_sgd)\n",
    "print(\"SGDClassifier Accuracy:\", accuracy_sgd)\n",
    "print(\"Classification Report:\\n\", class_report_sgd)\n"
   ]
  },
  {
   "cell_type": "code",
   "execution_count": 47,
   "metadata": {},
   "outputs": [
    {
     "name": "stderr",
     "output_type": "stream",
     "text": [
      "/var/folders/ml/1sknl6qj14l1s_km288t5qr00000gp/T/ipykernel_33346/269995741.py:5: FutureWarning:\n",
      "\n",
      "A value is trying to be set on a copy of a DataFrame or Series through chained assignment using an inplace method.\n",
      "The behavior will change in pandas 3.0. This inplace method will never work because the intermediate object on which we are setting values always behaves as a copy.\n",
      "\n",
      "For example, when doing 'df[col].method(value, inplace=True)', try using 'df.method({col: value}, inplace=True)' or df[col] = df[col].method(value) instead, to perform the operation inplace on the original object.\n",
      "\n",
      "\n",
      "\n",
      "/var/folders/ml/1sknl6qj14l1s_km288t5qr00000gp/T/ipykernel_33346/269995741.py:6: FutureWarning:\n",
      "\n",
      "A value is trying to be set on a copy of a DataFrame or Series through chained assignment using an inplace method.\n",
      "The behavior will change in pandas 3.0. This inplace method will never work because the intermediate object on which we are setting values always behaves as a copy.\n",
      "\n",
      "For example, when doing 'df[col].method(value, inplace=True)', try using 'df.method({col: value}, inplace=True)' or df[col] = df[col].method(value) instead, to perform the operation inplace on the original object.\n",
      "\n",
      "\n",
      "\n",
      "/Users/SASANKYADAV1/Library/Python/3.12/lib/python/site-packages/sklearn/metrics/_classification.py:1509: UndefinedMetricWarning:\n",
      "\n",
      "Precision is ill-defined and being set to 0.0 in labels with no predicted samples. Use `zero_division` parameter to control this behavior.\n",
      "\n",
      "/Users/SASANKYADAV1/Library/Python/3.12/lib/python/site-packages/sklearn/metrics/_classification.py:1509: UndefinedMetricWarning:\n",
      "\n",
      "Precision is ill-defined and being set to 0.0 in labels with no predicted samples. Use `zero_division` parameter to control this behavior.\n",
      "\n"
     ]
    },
    {
     "name": "stdout",
     "output_type": "stream",
     "text": [
      "SGDClassifier Accuracy: 0.341942409699419\n",
      "Classification Report:\n",
      "                                     precision    recall  f1-score   support\n",
      "\n",
      "           Abutments, Customizable       0.00      0.00      0.00       503\n",
      "             Abutments, Edentulous       0.00      0.00      0.00      4991\n",
      "                    Abutments, SRA       0.00      0.00      0.00      7261\n",
      "                Abutments, Ti Base       0.45      0.01      0.01      8837\n",
      "  Abutments, single tooth + bridge       0.00      0.00      0.00      3685\n",
      "        Allogenic Bone Substitutes       0.49      1.00      0.66      3795\n",
      "      Allogenic Soft Tissue Grafts       0.00      0.00      0.00       151\n",
      "               BL Healing Surgical       0.30      0.11      0.16     23418\n",
      "     BLAT Ti Implants, hydrophilic       0.12      0.88      0.20      6312\n",
      "        BLAT Ti Implants, standard       0.30      0.00      0.00     10590\n",
      "    BLAT Ti Implants, standard EXT       0.00      0.00      0.00         1\n",
      "   BLAT TiZr Implants, hydrophilic       0.17      0.40      0.23     11442\n",
      "BLAT TiZr Implants, hydrophilic TF       0.00      0.00      0.00       161\n",
      "      BLAT TiZr Implants, standard       0.00      0.00      0.00      7426\n",
      "     BLFT Ti Implants, hydrophilic       0.00      0.00      0.00       327\n",
      "        BLFT Ti Implants, standard       0.00      0.00      0.00       455\n",
      "BLFT TiZr Implants, hydrophilic TF       0.00      0.00      0.00      6177\n",
      "   BLFT TiZr Implants, standard TF       0.00      0.00      0.00      4176\n",
      "     BLPW Ti Implants, hydrophilic       0.00      0.00      0.00        29\n",
      "        BLPW Ti Implants, standard       0.00      0.00      0.00       333\n",
      "   BLPW TiZr Implants, hydrophilic       0.00      0.00      0.00      2648\n",
      "      BLPW TiZr Implants, standard       0.00      0.00      0.00      2379\n",
      "                            Blocks       1.00      0.26      0.41       143\n",
      "         Bovine Collagen Membranes       0.00      0.00      0.00       283\n",
      "              Ceramic Implants, BL       0.00      0.00      0.00        29\n",
      "              Ceramic Implants, TL       0.00      0.00      0.00       199\n",
      "                    Collagen Plugs       0.00      0.00      0.00       194\n",
      "              Consumables, Liquids       0.00      0.00      0.00       273\n",
      "                           Copings       0.00      0.00      0.00      2684\n",
      "                Customer Education       0.00      0.00      0.00        49\n",
      "      Digital Accessories + Others       0.59      0.93      0.72      1051\n",
      "                             Discs       0.00      0.00      0.00       484\n",
      "                          Emdogain       0.00      0.00      0.00      1379\n",
      "        In-lab 3D Printer Hardware       0.00      0.00      0.00        19\n",
      "           In-lab Milling Hardware       0.00      0.00      0.00         5\n",
      "     Instruments + Auxiliaries GBR       0.00      0.00      0.00       295\n",
      "       Instruments, Cases + Others       0.41      0.09      0.14      9645\n",
      "        Instruments, Drills + Taps       0.00      0.00      0.00      9385\n",
      "                IntraOral Hardware       0.00      0.00      0.00       136\n",
      "        Lab Scan + Design Hardware       0.00      0.00      0.00         2\n",
      "          Local 3rd Party Products       0.77      1.00      0.87       641\n",
      "            Miscellaneous + Others       0.00      0.00      0.00       140\n",
      "                    Other Implants       0.00      0.00      0.00        65\n",
      "                 Other Prosthetics       0.57      1.00      0.73     45394\n",
      "       Other Restorative Solutions       0.00      0.00      0.00      5265\n",
      "                    Other Services       0.00      0.00      0.00         9\n",
      "          Other Software + License       0.00      0.00      0.00        57\n",
      "        Porcine Collagen Membranes       0.00      0.00      0.00      1109\n",
      "                              SRBB       0.00      0.00      0.00        20\n",
      "       Surgical Equipment + Others       0.00      0.00      0.00        25\n",
      "        Surgical Planning Services       0.69      0.42      0.52       591\n",
      "        Surgical Planning Software       0.00      0.00      0.00       159\n",
      "        Synthetic Bone Substitutes       0.00      0.00      0.00        50\n",
      "               TL Healing Surgical       0.03      0.24      0.05      1719\n",
      "     TLAT Ti Implants, hydrophilic       0.00      0.00      0.00        56\n",
      "TLAT TiZr Implants, hydrophilic TF       0.00      0.00      0.00        17\n",
      "TLFT TiZr Implants, hydrophilic TF       0.00      0.00      0.00       386\n",
      "   TLFT TiZr Implants, standard TF       0.00      0.00      0.00        15\n",
      "        TLPW Ti Implants, standard       0.00      0.00      0.00       127\n",
      "   TLPW TiZr Implants, hydrophilic       0.00      0.00      0.00      1126\n",
      "      TLPW TiZr Implants, standard       0.00      0.00      0.00       878\n",
      "        Xenogenic Bone Substitutes       0.00      0.00      0.00       448\n",
      "                Zygomatic Implants       0.00      0.00      0.00       376\n",
      "                           missing       1.00      1.00      1.00         7\n",
      "\n",
      "                          accuracy                           0.34    190032\n",
      "                         macro avg       0.11      0.11      0.09    190032\n",
      "                      weighted avg       0.26      0.34      0.24    190032\n",
      "\n"
     ]
    },
    {
     "name": "stderr",
     "output_type": "stream",
     "text": [
      "/Users/SASANKYADAV1/Library/Python/3.12/lib/python/site-packages/sklearn/metrics/_classification.py:1509: UndefinedMetricWarning:\n",
      "\n",
      "Precision is ill-defined and being set to 0.0 in labels with no predicted samples. Use `zero_division` parameter to control this behavior.\n",
      "\n"
     ]
    }
   ],
   "source": [
    "# Use a larger subset of the data for training\n",
    "subset_df = combined_df.sample(frac=0.3, random_state=42)  # Adjust the fraction as needed\n",
    "\n",
    "# Fill NaN values in 'PRH4' and 'customer_group'\n",
    "subset_df['PRH4'].fillna('missing', inplace=True)\n",
    "subset_df['customer_group'].fillna('missing', inplace=True)\n",
    "\n",
    "# Selecting features and target variable\n",
    "X = subset_df[['customer_group', 'Sales_Channel', 'PRH1']]\n",
    "y = subset_df['PRH4']\n",
    "\n",
    "# Identifying categorical columns\n",
    "categorical_cols = X.select_dtypes(include=['object']).columns\n",
    "\n",
    "# Preprocessing pipeline for categorical data with imputation and one-hot encoding\n",
    "categorical_transformer = Pipeline(steps=[\n",
    "    ('onehot', OneHotEncoder(handle_unknown='ignore'))    # One-hot encode categorical variables\n",
    "])\n",
    "\n",
    "# Bundle preprocessing for categorical data\n",
    "preprocessor = ColumnTransformer(\n",
    "    transformers=[\n",
    "        ('cat', categorical_transformer, categorical_cols)\n",
    "    ])\n",
    "\n",
    "# Splitting the data\n",
    "X_train, X_test, y_train, y_test = train_test_split(X, y, test_size=0.2, random_state=42)\n",
    "\n",
    "# Apply the preprocessing pipeline to the training data\n",
    "X_train_prepared = preprocessor.fit_transform(X_train)\n",
    "X_test_prepared = preprocessor.transform(X_test)\n",
    "\n",
    "# Train SGDClassifier model\n",
    "sgd_clf = SGDClassifier(random_state=42, max_iter=1000, tol=1e-3)\n",
    "sgd_clf.fit(X_train_prepared, y_train)\n",
    "\n",
    "# Make predictions\n",
    "y_pred_sgd = sgd_clf.predict(X_test_prepared)\n",
    "\n",
    "# Evaluate the model\n",
    "accuracy_sgd = accuracy_score(y_test, y_pred_sgd)\n",
    "class_report_sgd = classification_report(y_test, y_pred_sgd)\n",
    "\n",
    "print(\"SGDClassifier Accuracy:\", accuracy_sgd)\n",
    "print(\"Classification Report:\\n\", class_report_sgd)\n"
   ]
  },
  {
   "cell_type": "code",
   "execution_count": null,
   "metadata": {},
   "outputs": [],
   "source": []
  },
  {
   "cell_type": "code",
   "execution_count": 48,
   "metadata": {},
   "outputs": [
    {
     "name": "stdout",
     "output_type": "stream",
     "text": [
      "NaN values in X_train_prepared after imputation and encoding:\n",
      " 0\n",
      "NaN values in X_test_prepared after imputation and encoding:\n",
      " 0\n"
     ]
    }
   ],
   "source": [
    "from sklearn.utils import resample\n",
    "import numpy as np\n",
    "\n",
    "# Fill NaN values in 'PRH4' and 'customer_group'\n",
    "combined_df['PRH4'].fillna('missing', inplace=True)\n",
    "combined_df['customer_group'].fillna('missing', inplace=True)\n",
    "\n",
    "# Selecting features and target variable\n",
    "X = combined_df[['customer_group', 'Sales_Channel', 'PRH1']]\n",
    "y = combined_df['PRH4']\n",
    "\n",
    "# Combine X and y into a single dataframe for resampling\n",
    "df = pd.concat([X, y], axis=1)\n",
    "\n",
    "# Find the majority class\n",
    "majority_class = df['PRH4'].value_counts().idxmax()\n",
    "\n",
    "# Separate majority and minority classes\n",
    "df_majority = df[df['PRH4'] == majority_class]\n",
    "df_minority = df[df['PRH4'] != majority_class]\n",
    "\n",
    "# Upsample minority classes\n",
    "df_minority_upsampled = resample(\n",
    "    df_minority,\n",
    "    replace=True,      # sample with replacement\n",
    "    n_samples=len(df_majority),  # match number in majority class\n",
    "    random_state=42   # reproducible results\n",
    ")\n",
    "\n",
    "# Combine majority class with upsampled minority class\n",
    "df_upsampled = pd.concat([df_majority, df_minority_upsampled])\n",
    "\n",
    "# Separate back into X and y\n",
    "X_upsampled = df_upsampled.drop('PRH4', axis=1)\n",
    "y_upsampled = df_upsampled['PRH4']\n",
    "\n",
    "# Identifying categorical columns\n",
    "categorical_cols = X_upsampled.select_dtypes(include=['object']).columns\n",
    "\n",
    "# Preprocessing pipeline for categorical data with one-hot encoding\n",
    "categorical_transformer = Pipeline(steps=[\n",
    "    ('onehot', OneHotEncoder(handle_unknown='ignore'))\n",
    "])\n",
    "\n",
    "# Bundle preprocessing for categorical data\n",
    "preprocessor = ColumnTransformer(\n",
    "    transformers=[\n",
    "        ('cat', categorical_transformer, categorical_cols)\n",
    "    ])\n",
    "\n",
    "# Splitting the data into training and testing sets\n",
    "X_train, X_test, y_train, y_test = train_test_split(X_upsampled, y_upsampled, test_size=0.2, random_state=42)\n",
    "\n",
    "# Apply the preprocessing pipeline to the training data\n",
    "X_train_prepared = preprocessor.fit_transform(X_train)\n",
    "X_test_prepared = preprocessor.transform(X_test)\n",
    "\n",
    "# Convert the preprocessed data to DataFrames to check for NaN values\n",
    "X_train_prepared_df = pd.DataFrame(X_train_prepared.toarray() if hasattr(X_train_prepared, 'toarray') else X_train_prepared)\n",
    "X_test_prepared_df = pd.DataFrame(X_test_prepared.toarray() if hasattr(X_test_prepared, 'toarray') else X_test_prepared)\n",
    "\n",
    "# Verify that there are no NaN values\n",
    "print(\"NaN values in X_train_prepared after imputation and encoding:\\n\", X_train_prepared_df.isnull().sum().sum())\n",
    "print(\"NaN values in X_test_prepared after imputation and encoding:\\n\", X_test_prepared_df.isnull().sum().sum())\n"
   ]
  },
  {
   "cell_type": "markdown",
   "metadata": {},
   "source": [
    "Random forest..........."
   ]
  },
  {
   "cell_type": "code",
   "execution_count": 49,
   "metadata": {},
   "outputs": [
    {
     "name": "stderr",
     "output_type": "stream",
     "text": [
      "/Users/SASANKYADAV1/Library/Python/3.12/lib/python/site-packages/sklearn/metrics/_classification.py:1509: UndefinedMetricWarning:\n",
      "\n",
      "Precision is ill-defined and being set to 0.0 in labels with no predicted samples. Use `zero_division` parameter to control this behavior.\n",
      "\n",
      "/Users/SASANKYADAV1/Library/Python/3.12/lib/python/site-packages/sklearn/metrics/_classification.py:1509: UndefinedMetricWarning:\n",
      "\n",
      "Precision is ill-defined and being set to 0.0 in labels with no predicted samples. Use `zero_division` parameter to control this behavior.\n",
      "\n"
     ]
    },
    {
     "name": "stdout",
     "output_type": "stream",
     "text": [
      "Random Forest Accuracy: 0.6038964909724338\n",
      "Classification Report:\n",
      "                                     precision    recall  f1-score   support\n",
      "\n",
      "           Abutments, Customizable       0.00      0.00      0.00       524\n",
      "             Abutments, Edentulous       0.00      0.00      0.00      5301\n",
      "                    Abutments, SRA       0.00      0.00      0.00      7308\n",
      "                Abutments, Ti Base       0.00      0.00      0.00      9083\n",
      "  Abutments, single tooth + bridge       0.00      0.00      0.00      3951\n",
      "        Allogenic Bone Substitutes       0.49      0.99      0.66      3894\n",
      "      Allogenic Soft Tissue Grafts       0.00      0.00      0.00       156\n",
      "               BL Healing Surgical       0.24      0.99      0.39     24894\n",
      "     BLAT Ti Implants, hydrophilic       0.00      0.00      0.00      6517\n",
      "        BLAT Ti Implants, standard       0.26      0.02      0.03     10938\n",
      "    BLAT Ti Implants, standard EXT       0.00      0.00      0.00         2\n",
      "   BLAT TiZr Implants, hydrophilic       0.00      0.00      0.00     11923\n",
      "BLAT TiZr Implants, hydrophilic TF       0.00      0.00      0.00       164\n",
      "      BLAT TiZr Implants, standard       0.00      0.00      0.00      7884\n",
      "     BLFT Ti Implants, hydrophilic       0.00      0.00      0.00       357\n",
      "        BLFT Ti Implants, standard       0.00      0.00      0.00       524\n",
      "BLFT TiZr Implants, hydrophilic TF       0.00      0.00      0.00      6435\n",
      "   BLFT TiZr Implants, standard TF       0.00      0.00      0.00      4387\n",
      "     BLPW Ti Implants, hydrophilic       0.00      0.00      0.00        44\n",
      "        BLPW Ti Implants, standard       0.00      0.00      0.00       361\n",
      "   BLPW TiZr Implants, hydrophilic       0.00      0.00      0.00      2813\n",
      "      BLPW TiZr Implants, standard       0.00      0.00      0.00      2383\n",
      "                            Blocks       1.00      0.34      0.50       146\n",
      "         Bovine Collagen Membranes       0.18      0.01      0.01       285\n",
      "              Ceramic Implants, BL       0.00      0.00      0.00        42\n",
      "              Ceramic Implants, TL       0.00      0.00      0.00       218\n",
      "                    Collagen Plugs       0.00      0.00      0.00       196\n",
      "              Consumables, Liquids       0.00      0.00      0.00       266\n",
      "                           Copings       0.00      0.00      0.00      2860\n",
      "                Customer Education       1.00      0.02      0.04        52\n",
      "      Digital Accessories + Others       0.63      0.86      0.73      1165\n",
      "                             Discs       0.00      0.00      0.00       516\n",
      "                          Emdogain       0.43      0.03      0.05      1461\n",
      "        In-lab 3D Printer Hardware       0.00      0.00      0.00        23\n",
      "           In-lab Milling Hardware       0.00      0.00      0.00         2\n",
      "     Instruments + Auxiliaries GBR       0.25      0.01      0.02       327\n",
      "       Instruments, Cases + Others       0.47      0.09      0.16     10023\n",
      "        Instruments, Drills + Taps       1.00      0.00      0.00      9783\n",
      "                IntraOral Hardware       0.00      0.00      0.00       158\n",
      "          Local 3rd Party Products       0.79      1.00      0.88       705\n",
      "            Miscellaneous + Others       0.38      0.03      0.06       148\n",
      "                    Other Implants       0.00      0.00      0.00        88\n",
      "                Other Orthodontics       1.00      1.00      1.00         1\n",
      "                 Other Prosthetics       0.81      1.00      0.89    150627\n",
      "       Other Restorative Solutions       0.00      0.00      0.00      5585\n",
      "                    Other Services       0.00      0.00      0.00         6\n",
      "          Other Software + License       0.00      0.00      0.00        78\n",
      "        Porcine Collagen Membranes       0.00      0.00      0.00      1113\n",
      "                        Prevention       0.00      0.00      0.00         2\n",
      "                              SRBB       0.00      0.00      0.00        27\n",
      "       Surgical Equipment + Others       0.00      0.00      0.00        31\n",
      "        Surgical Planning Services       0.57      0.56      0.56       601\n",
      "        Surgical Planning Software       0.00      0.00      0.00       146\n",
      "        Synthetic Bone Substitutes       0.00      0.00      0.00        55\n",
      "               TL Healing Surgical       0.00      0.00      0.00      1689\n",
      "     TLAT Ti Implants, hydrophilic       0.00      0.00      0.00        54\n",
      "TLAT TiZr Implants, hydrophilic TF       0.00      0.00      0.00        25\n",
      "TLFT TiZr Implants, hydrophilic TF       0.00      0.00      0.00       427\n",
      "   TLFT TiZr Implants, standard TF       0.00      0.00      0.00        21\n",
      "        TLPW Ti Implants, standard       0.00      0.00      0.00       172\n",
      "   TLPW TiZr Implants, hydrophilic       0.00      0.00      0.00      1200\n",
      "      TLPW TiZr Implants, standard       0.00      0.00      0.00       930\n",
      "        Xenogenic Bone Substitutes       0.00      0.00      0.00       465\n",
      "                Zygomatic Implants       0.00      0.00      0.00       387\n",
      "                           missing       1.00      1.00      1.00        15\n",
      "\n",
      "                          accuracy                           0.60    301964\n",
      "                         macro avg       0.16      0.12      0.11    301964\n",
      "                      weighted avg       0.50      0.60      0.50    301964\n",
      "\n"
     ]
    },
    {
     "name": "stderr",
     "output_type": "stream",
     "text": [
      "/Users/SASANKYADAV1/Library/Python/3.12/lib/python/site-packages/sklearn/metrics/_classification.py:1509: UndefinedMetricWarning:\n",
      "\n",
      "Precision is ill-defined and being set to 0.0 in labels with no predicted samples. Use `zero_division` parameter to control this behavior.\n",
      "\n"
     ]
    }
   ],
   "source": [
    "from sklearn.ensemble import RandomForestClassifier\n",
    "\n",
    "# Train Random Forest model\n",
    "rf = RandomForestClassifier(n_estimators=100, random_state=42)\n",
    "rf.fit(X_train_prepared, y_train)\n",
    "\n",
    "# Make predictions\n",
    "y_pred_rf = rf.predict(X_test_prepared)\n",
    "\n",
    "# Evaluate the model\n",
    "accuracy_rf = accuracy_score(y_test, y_pred_rf)\n",
    "class_report_rf = classification_report(y_test, y_pred_rf)\n",
    "\n",
    "print(\"Random Forest Accuracy:\", accuracy_rf)\n",
    "print(\"Classification Report:\\n\", class_report_rf)\n"
   ]
  },
  {
   "cell_type": "code",
   "execution_count": 1,
   "metadata": {},
   "outputs": [
    {
     "ename": "NameError",
     "evalue": "name 'combined_df' is not defined",
     "output_type": "error",
     "traceback": [
      "\u001b[0;31m---------------------------------------------------------------------------\u001b[0m",
      "\u001b[0;31mNameError\u001b[0m                                 Traceback (most recent call last)",
      "Cell \u001b[0;32mIn[1], line 8\u001b[0m\n\u001b[1;32m      3\u001b[0m \u001b[38;5;28;01mfrom\u001b[39;00m \u001b[38;5;21;01mitertools\u001b[39;00m \u001b[38;5;28;01mimport\u001b[39;00m combinations\n\u001b[1;32m      5\u001b[0m \u001b[38;5;66;03m#\u001b[39;00m\n\u001b[1;32m      6\u001b[0m \n\u001b[1;32m      7\u001b[0m \u001b[38;5;66;03m# Fill NaN values\u001b[39;00m\n\u001b[0;32m----> 8\u001b[0m \u001b[43mcombined_df\u001b[49m[\u001b[38;5;124m'\u001b[39m\u001b[38;5;124mPRH4\u001b[39m\u001b[38;5;124m'\u001b[39m]\u001b[38;5;241m.\u001b[39mfillna(\u001b[38;5;124m'\u001b[39m\u001b[38;5;124mmissing\u001b[39m\u001b[38;5;124m'\u001b[39m, inplace\u001b[38;5;241m=\u001b[39m\u001b[38;5;28;01mTrue\u001b[39;00m)\n\u001b[1;32m      9\u001b[0m combined_df[\u001b[38;5;124m'\u001b[39m\u001b[38;5;124mcustomer_group\u001b[39m\u001b[38;5;124m'\u001b[39m]\u001b[38;5;241m.\u001b[39mfillna(\u001b[38;5;124m'\u001b[39m\u001b[38;5;124mmissing\u001b[39m\u001b[38;5;124m'\u001b[39m, inplace\u001b[38;5;241m=\u001b[39m\u001b[38;5;28;01mTrue\u001b[39;00m)\n\u001b[1;32m     11\u001b[0m \u001b[38;5;66;03m# Prepare data for market-basket analysis\u001b[39;00m\n",
      "\u001b[0;31mNameError\u001b[0m: name 'combined_df' is not defined"
     ]
    }
   ],
   "source": [
    "import pandas as pd\n",
    "import matplotlib.pyplot as plt\n",
    "from itertools import combinations\n",
    "\n",
    "#\n",
    "\n",
    "# Fill NaN values\n",
    "combined_df['PRH4'].fillna('missing', inplace=True)\n",
    "combined_df['customer_group'].fillna('missing', inplace=True)\n",
    "\n",
    "# Prepare data for market-basket analysis\n",
    "basket = (combined_df\n",
    "          .groupby(['customer_group', 'PRH4'])['order_number']\n",
    "          .count().unstack().reset_index().fillna(0)\n",
    "          .set_index('customer_group'))\n",
    "\n",
    "# Convert values to binary (0 or 1)\n",
    "basket = basket.applymap(lambda x: 1 if x > 0 else 0)\n",
    "\n",
    "# Apriori Algorithm\n",
    "def apriori(basket, min_support, max_length=5):\n",
    "    transactions = basket.apply(lambda x: x.index[x > 0].tolist(), axis=1).tolist()\n",
    "    itemsets = {}\n",
    "    \n",
    "    def get_itemsets(transactions, length):\n",
    "        return (frozenset(comb) for transaction in transactions for comb in combinations(transaction, length))\n",
    "\n",
    "    def get_frequent_itemsets(transactions, itemsets, min_support):\n",
    "        itemset_counts = {}\n",
    "        for transaction in transactions:\n",
    "            for itemset in itemsets:\n",
    "                if itemset.issubset(transaction):\n",
    "                    if itemset in itemset_counts:\n",
    "                        itemset_counts[itemset] += 1\n",
    "                    else:\n",
    "                        itemset_counts[itemset] = 1\n",
    "        num_transactions = len(transactions)\n",
    "        return {itemset: count / num_transactions for itemset, count in itemset_counts.items() if count / num_transactions >= min_support}\n",
    "\n",
    "    length = 1\n",
    "    frequent_itemsets = get_frequent_itemsets(transactions, get_itemsets(transactions, length), min_support)\n",
    "    all_frequent_itemsets = frequent_itemsets.copy()\n",
    "\n",
    "    while frequent_itemsets and length < max_length:\n",
    "        length += 1\n",
    "        candidate_itemsets = get_itemsets(transactions, length)\n",
    "        frequent_itemsets = get_frequent_itemsets(transactions, candidate_itemsets, min_support)\n",
    "        all_frequent_itemsets.update(frequent_itemsets)\n",
    "\n",
    "    return all_frequent_itemsets\n",
    "\n",
    "# Run Apriori algorithm\n",
    "min_support = 0.01\n",
    "frequent_itemsets = apriori(basket, min_support, max_length=5)\n",
    "\n",
    "# Generate Association Rules\n",
    "def generate_rules(frequent_itemsets, min_confidence):\n",
    "    rules = []\n",
    "    for itemset in frequent_itemsets:\n",
    "        if len(itemset) > 1:\n",
    "            for consequence in itemset:\n",
    "                antecedent = itemset - frozenset([consequence])\n",
    "                support = frequent_itemsets[itemset]\n",
    "                confidence = support / frequent_itemsets[antecedent]\n",
    "                if confidence >= min_confidence:\n",
    "                    rules.append((antecedent, consequence, support, confidence))\n",
    "    return rules\n",
    "\n",
    "# Generate association rules\n",
    "min_confidence = 0.6\n",
    "association_rules = generate_rules(frequent_itemsets, min_confidence)\n",
    "\n",
    "# Display the association rules\n",
    "for rule in association_rules:\n",
    "    print(f\"Rule: {set(rule[0])} -> {rule[1]}, Support: {rule[2]}, Confidence: {rule[3]}\")\n",
    "\n",
    "# Create Dropdowns\n",
    "customer_groups = combined_df['customer_group'].unique()\n",
    "prh1_categories = combined_df['PRH1'].unique()\n",
    "\n",
    "# Create Dropdown Widgets\n",
    "from IPython.display import display\n",
    "import ipywidgets as widgets\n",
    "\n",
    "customer_group_dropdown = widgets.Dropdown(\n",
    "    options=customer_groups,\n",
    "    description='Customer Group:'\n",
    ")\n",
    "prh1_dropdown = widgets.Dropdown(\n",
    "    options=prh1_categories,\n",
    "    description='PRH1:'\n",
    ")\n",
    "\n",
    "def update_prh4(*args):\n",
    "    selected_customer_group = customer_group_dropdown.value\n",
    "    selected_prh1 = prh1_dropdown.value\n",
    "\n",
    "    # Filter based on selected customer group and PRH1\n",
    "    filtered_data = combined_df[(combined_df['customer_group'] == selected_customer_group) & (combined_df['PRH1'] == selected_prh1)]\n",
    "    prh4_combinations = filtered_data['PRH4'].unique()\n",
    "\n",
    "    print(f\"Possible PRH4 Combinations for {selected_customer_group} and {selected_prh1}:\")\n",
    "    for prh4 in prh4_combinations:\n",
    "        print(prh4)\n",
    "\n",
    "customer_group_dropdown.observe(update_prh4, names='value')\n",
    "prh1_dropdown.observe(update_prh4, names='value')\n",
    "\n",
    "display(customer_group_dropdown)\n",
    "display(prh1_dropdown)\n"
   ]
  }
 ],
 "metadata": {
  "kernelspec": {
   "display_name": "Python 3",
   "language": "python",
   "name": "python3"
  },
  "language_info": {
   "codemirror_mode": {
    "name": "ipython",
    "version": 3
   },
   "file_extension": ".py",
   "mimetype": "text/x-python",
   "name": "python",
   "nbconvert_exporter": "python",
   "pygments_lexer": "ipython3",
   "version": "3.12.4"
  }
 },
 "nbformat": 4,
 "nbformat_minor": 2
}
